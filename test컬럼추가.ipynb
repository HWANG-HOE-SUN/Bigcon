{
  "nbformat": 4,
  "nbformat_minor": 0,
  "metadata": {
    "colab": {
      "name": "test컬럼추가.ipynb",
      "provenance": [],
      "collapsed_sections": [],
      "mount_file_id": "1pmeBxDEkPyW0IJvCLQJ5yFXlwHZNFB-k",
      "authorship_tag": "ABX9TyMMsQuNtbUp2cZMCeoX3w1K",
      "include_colab_link": true
    },
    "kernelspec": {
      "name": "python3",
      "display_name": "Python 3"
    }
  },
  "cells": [
    {
      "cell_type": "markdown",
      "metadata": {
        "id": "view-in-github",
        "colab_type": "text"
      },
      "source": [
        "<a href=\"https://colab.research.google.com/github/HWANG-HOE-SUN/bigcon/blob/master/test%EC%BB%AC%EB%9F%BC%EC%B6%94%EA%B0%80.ipynb\" target=\"_parent\"><img src=\"https://colab.research.google.com/assets/colab-badge.svg\" alt=\"Open In Colab\"/></a>"
      ]
    },
    {
      "cell_type": "code",
      "metadata": {
        "id": "rr5kyL7_ocQf",
        "outputId": "6e6ebc0a-1246-467f-9c82-ea1b77c8ff93",
        "colab": {
          "base_uri": "https://localhost:8080/",
          "height": 72
        }
      },
      "source": [
        "\n",
        "import matplotlib.pyplot as plt\n",
        "import numpy as np\n",
        "import pandas as pd\n",
        "import datetime as dt\n",
        "import seaborn as sns\n",
        "from scipy import stats\n",
        "import math"
      ],
      "execution_count": 1,
      "outputs": [
        {
          "output_type": "stream",
          "text": [
            "/usr/local/lib/python3.6/dist-packages/statsmodels/tools/_testing.py:19: FutureWarning: pandas.util.testing is deprecated. Use the functions in the public API at pandas.testing instead.\n",
            "  import pandas.util.testing as tm\n"
          ],
          "name": "stderr"
        }
      ]
    },
    {
      "cell_type": "code",
      "metadata": {
        "id": "fqSFPuqpofFu"
      },
      "source": [
        "train = pd.read_csv('/content/drive/My Drive/빅콘폴더/최종 데이터셋 후보/train_0926.csv')\n",
        "test = pd.read_excel('/content/drive/My Drive/빅콘폴더/최종 데이터셋 후보/test.xlsx', header=1)"
      ],
      "execution_count": 9,
      "outputs": []
    },
    {
      "cell_type": "code",
      "metadata": {
        "id": "mFtq8ddDxGzL"
      },
      "source": [
        "origin_train = pd.read_excel('/content/drive/My Drive/빅콘폴더/최종 데이터셋 후보/train.xlsx') "
      ],
      "execution_count": 27,
      "outputs": []
    },
    {
      "cell_type": "code",
      "metadata": {
        "id": "31Zhch9HpqcU",
        "outputId": "bb202478-14f0-4604-c698-36f1c97a34cc",
        "colab": {
          "base_uri": "https://localhost:8080/",
          "height": 52
        }
      },
      "source": [
        "train['prime_time'].unique()"
      ],
      "execution_count": 12,
      "outputs": [
        {
          "output_type": "execute_result",
          "data": {
            "text/plain": [
              "array([ 7,  6, 14, 17,  9, 12,  5, 10, 11, 16, 15, 13, 18, 20, 19,  8,  4,\n",
              "        1,  2,  3])"
            ]
          },
          "metadata": {
            "tags": []
          },
          "execution_count": 12
        }
      ]
    },
    {
      "cell_type": "code",
      "metadata": {
        "id": "hSYR0fpuucaz"
      },
      "source": [
        "test['hour']=test['방송일시'].dt.weekday"
      ],
      "execution_count": 19,
      "outputs": []
    },
    {
      "cell_type": "code",
      "metadata": {
        "id": "v9yXHYVNuj9u"
      },
      "source": [
        "test.to_excel('newtest.xlsx')"
      ],
      "execution_count": 25,
      "outputs": []
    },
    {
      "cell_type": "code",
      "metadata": {
        "id": "cQDHDdEDpUvK"
      },
      "source": [
        "test[\"HOUR\"] = test[\"방송일시\"].dt.hour"
      ],
      "execution_count": 7,
      "outputs": []
    },
    {
      "cell_type": "code",
      "metadata": {
        "id": "XMR5dP88ofbx"
      },
      "source": [
        "time = test.groupby('HOUR').aggregate(np.mean)\n",
        "\n",
        "time_rank = {}\n",
        "rank = 1 \n",
        "for idx, row in time.sort_values(by='주문량').iterrows():\n",
        "    time_rank[idx] = rank\n",
        "    rank += 1"
      ],
      "execution_count": null,
      "outputs": []
    },
    {
      "cell_type": "code",
      "metadata": {
        "id": "mKR1usCKofik"
      },
      "source": [
        "intercode = set(test['마더코드'].unique()).intersection(set(origin_train['마더코드'].unique()))\n",
        "interitem = origin_train[origin_train['마더코드'].isin(intercode)]"
      ],
      "execution_count": 32,
      "outputs": []
    },
    {
      "cell_type": "code",
      "metadata": {
        "id": "oyGrpeYWxsqO"
      },
      "source": [
        "def to_cat(df):\n",
        "    Item = []\n",
        "\n",
        "    for i in range(len(df)):\n",
        "        item = df.iloc[i].상품명\n",
        "        if '침대' in item:\n",
        "            Item.append('a1')\n",
        "        elif '소파' in item:\n",
        "            Item.append('a2')\n",
        "        elif '로젠카우치' in item:\n",
        "            Item.append('a2')\n",
        "        elif '테이블' in item:\n",
        "            Item.append('a3')\n",
        "        elif '스튤' in item:\n",
        "            Item.append('a4')\n",
        "        elif '의자' in item:\n",
        "            Item.append('a4')\n",
        "        elif '세탁기' in item:\n",
        "            Item.append('b1')\n",
        "        elif '냉장고' in item:\n",
        "            Item.append('b2')\n",
        "        elif '벽걸이에어컨' in item:\n",
        "            Item.append('b3')\n",
        "        elif '청소기' in item:\n",
        "            Item.append('b4')\n",
        "        elif '형' in item:\n",
        "            Item.append('b5')\n",
        "        elif '비데' in item:\n",
        "            Item.append('e1')\n",
        "        elif '샤워기' in item:\n",
        "            Item.append('e2')\n",
        "        elif '세제' in item:\n",
        "            Item.append('e3')\n",
        "        elif '원큘레이터' in item:\n",
        "            Item.append('e4')\n",
        "        elif '선풍기' in item:\n",
        "            Item.append('e4')\n",
        "        elif '선반' in item:\n",
        "            Item.append('e5')\n",
        "        elif '섬유유연제' in item:\n",
        "            Item.append('e6')\n",
        "        elif '안마매트' in item:\n",
        "            Item.append('e7')\n",
        "        elif '금고' in item:\n",
        "            Item.append('e8')\n",
        "        elif '안마기' in item:\n",
        "            Item.append('e9')\n",
        "        elif '창문형 에어컨' in item:\n",
        "            Item.append('b3')\n",
        "        elif '이동식에어컨' in item:\n",
        "            Item.append('b3')\n",
        "        elif '건조대' in item:\n",
        "            Item.append('e10')\n",
        "        elif '에어쿨러' in item:\n",
        "            Item.append('e11')\n",
        "        elif '냉풍기' in item:\n",
        "            Item.append('e11')\n",
        "        elif '베개' in item:\n",
        "            Item.append('e12')\n",
        "        elif '패치' in item:\n",
        "            Item.append('e13')\n",
        "        elif '건조대' in item:\n",
        "            Item.append('e14')\n",
        "        elif '패드' in item:\n",
        "            Item.append('e15')\n",
        "        elif '밸런스파워' in item:\n",
        "            Item.append('e16')\n",
        "        elif '거치대' in item:\n",
        "            Item.append('e17')    \n",
        "        elif '스타일러' in item:\n",
        "            Item.append('h1')\n",
        "        elif '선스틱' in item:\n",
        "            Item.append('h2')\n",
        "        elif '썬스틱' in item:\n",
        "            Item.append('h2')    \n",
        "        elif '샴푸' in item:\n",
        "            Item.append('h3')\n",
        "        elif '에센스' in item:\n",
        "            Item.append('h4')\n",
        "        elif '로션' in item:\n",
        "            Item.append('h5')\n",
        "        elif '샤워' in item:\n",
        "            Item.append('h6')\n",
        "        elif '바디로션' in item:\n",
        "            Item.append('h6')    \n",
        "        elif '헤어컬러' in item:\n",
        "            Item.append('h7')\n",
        "        elif '염색' in item:\n",
        "            Item.append('h7')    \n",
        "        elif '속눈썹' in item:\n",
        "            Item.append('h8')\n",
        "        elif '틴트' in item:\n",
        "            Item.append('h9')\n",
        "        elif '모공기기' in item:\n",
        "            Item.append('h10')\n",
        "        elif '네일' in item:\n",
        "            Item.append('h11')\n",
        "        elif '클렌져' in item:\n",
        "            Item.append('h12')\n",
        "        elif '지이링클' in item:\n",
        "            Item.append('h13')\n",
        "        elif '남성기초세트' in item:\n",
        "            Item.append('h14')\n",
        "        elif '마스크' in item:\n",
        "            Item.append('h15')\n",
        "        elif '다이어트' in item:\n",
        "            Item.append('c1')\n",
        "        elif '유산균' in item:\n",
        "            Item.append('c2')\n",
        "        elif '김치' in item:\n",
        "            Item.append('d1')\n",
        "        elif '돔' in item:\n",
        "            Item.append('d2')\n",
        "        elif '떡' in item:\n",
        "            Item.append('d3')\n",
        "        elif '냉면' in item:\n",
        "            Item.append('d4')\n",
        "        elif '오징어' in item:\n",
        "            Item.append('d5')\n",
        "        elif '닭발' in item:\n",
        "            Item.append('d6')\n",
        "        elif '국수' in item:\n",
        "            Item.append('d7')\n",
        "        elif '키위' in item:\n",
        "            Item.append('d8')\n",
        "        elif '쥐포' in item:\n",
        "            Item.append('d9')\n",
        "        elif '쥐치포' in item:\n",
        "            Item.append('d9')    \n",
        "        elif '우럭' in item:\n",
        "            Item.append('d10')\n",
        "        elif '만두' in item:\n",
        "            Item.append('d11')\n",
        "        elif '커피' in item:\n",
        "            Item.append('d12')\n",
        "        elif '가자미' in item:\n",
        "            Item.append('d13')\n",
        "        elif '전복' in item:\n",
        "            Item.append('d14')\n",
        "        elif '고등어' in item:\n",
        "            Item.append('d15')\n",
        "        elif '굴비' in item:\n",
        "            Item.append('d16')\n",
        "        elif '회' in item:\n",
        "            Item.append('d17')\n",
        "        elif '메로' in item:\n",
        "            Item.append('d18')\n",
        "        elif '고기' in item:\n",
        "            Item.append('d19')\n",
        "        elif '마시는한끼' in item:\n",
        "            Item.append('d20')\n",
        "        elif '두유' in item:\n",
        "            Item.append('d21')\n",
        "        elif '오리' in item:\n",
        "            Item.append('d22')\n",
        "        elif '옥수수' in item:\n",
        "            Item.append('d23')\n",
        "        elif '꽃게' in item:\n",
        "            Item.append('d24')\n",
        "        elif '감귤' in item:\n",
        "            Item.append('d25')\n",
        "        elif '쌀' in item:\n",
        "            Item.append('d26')\n",
        "        elif '갈치' in item:\n",
        "            Item.append('d27')\n",
        "        elif '삼계탕' in item:\n",
        "            Item.append('d28')\n",
        "        elif '장어' in item:\n",
        "            Item.append('d29')\n",
        "        elif '김' in item:\n",
        "            Item.append('d30')\n",
        "        elif '육포' in item:\n",
        "            Item.append('d31')\n",
        "        elif '더덕' in item:\n",
        "            Item.append('d32')\n",
        "        elif '대자리' in item:\n",
        "            Item.append('k1')\n",
        "        elif '침구' in item:\n",
        "            Item.append('k2')\n",
        "        elif '반팔셔츠' in item:\n",
        "            Item.append(\"g1\")\n",
        "        elif '티셔츠' in item:\n",
        "            Item.append(\"g2\")\n",
        "        elif '린넨' in item:\n",
        "            Item.append(\"g3\")\n",
        "        elif '재킷' in item:\n",
        "            Item.append(\"g4\")\n",
        "        elif '원피스' in item:\n",
        "            Item.append(\"g5\")\n",
        "        elif '시스루' in item:\n",
        "            Item.append(\"g6\")\n",
        "        elif '썸머셔츠' in item:\n",
        "            Item.append(\"g7\")\n",
        "        elif '라인핏' in item:\n",
        "            Item.append(\"g8\")\n",
        "        elif '팬츠' in item:\n",
        "            Item.append(\"g9\")\n",
        "        elif '반바지' in item:\n",
        "            Item.append(\"g10\")\n",
        "        elif '팬티' in item:\n",
        "            Item.append(\"f1\")\n",
        "        elif '원피스' in item:\n",
        "            Item.append(\"f2\")\n",
        "        elif '브라' in item:\n",
        "            Item.append(\"f3\")\n",
        "        elif '란쥬' in item:\n",
        "            Item.append(\"f4\")\n",
        "        elif '드로즈' in item:\n",
        "            Item.append(\"f5\")\n",
        "        elif '언더셔츠' in item:\n",
        "            Item.append(\"f6\")\n",
        "        elif '트렁크' in item:\n",
        "            Item.append(\"f7\")\n",
        "        elif '런닝' in item:\n",
        "            Item.append(\"f8\")\n",
        "        elif '언더탑' in item:\n",
        "            Item.append(\"f9\")\n",
        "        elif '용기' in item:\n",
        "            Item.append('j1')\n",
        "        elif '프라이팬' in item:\n",
        "            Item.append('j2')\n",
        "        elif '후라이팬' in item:\n",
        "            Item.append('j2')\n",
        "        elif '밥솥' in item:\n",
        "            Item.append('j3')\n",
        "        elif '도마' in item:\n",
        "            Item.append('j4')\n",
        "        elif '칼' in item:\n",
        "            Item.append('j5')\n",
        "        elif '그릴' in item:\n",
        "            Item.append('j6')\n",
        "        elif '수세미' in item:\n",
        "            Item.append('j7')\n",
        "        elif '건조기' in item:\n",
        "            Item.append('j8')\n",
        "        elif '식기건조대' in item:\n",
        "            Item.append('j9')\n",
        "        elif '글라스' in item:\n",
        "            Item.append('j10')\n",
        "        elif '지퍼백' in item:\n",
        "            Item.append('j11')\n",
        "        elif '가스레인지' in item:\n",
        "            Item.append('j12')\n",
        "        elif '냄비' in item:\n",
        "            Item.append('j13')\n",
        "        elif '믹서기' in item:\n",
        "            Item.append('j14')\n",
        "        elif '에어프라이어' in item:\n",
        "            Item.append('j15')\n",
        "        elif '블렌더' in item:\n",
        "            Item.append('j16')\n",
        "        elif '텀블러' in item:\n",
        "            Item.append('j17')\n",
        "        elif '젤' in item:\n",
        "            Item.append('j18')\n",
        "        elif '블럭' in item:\n",
        "            Item.append('j19')\n",
        "        elif '가방' in item:\n",
        "            Item.append('i1')\n",
        "        elif '백' in item:\n",
        "            Item.append('i1')    \n",
        "        elif '모자' in item:\n",
        "            Item.append('i2')   \n",
        "        elif '선글라스' in item:\n",
        "            Item.append('i3')   \n",
        "        elif '화' in item:\n",
        "            Item.append('i4')   \n",
        "        elif '로퍼' in item:\n",
        "            Item.append('i4')   \n",
        "        elif '샌들' in item:\n",
        "            Item.append('i4')   \n",
        "        elif '슬립온' in item:\n",
        "            Item.append('i4')   \n",
        "        elif '지갑' in item:\n",
        "            Item.append('i5')   \n",
        "        elif '스카프' in item:\n",
        "            Item.append('i6')   \n",
        "        elif '양산' in item:\n",
        "            Item.append('i7')   \n",
        "        elif '모자' in item:\n",
        "            Item.append('i8')   \n",
        "        elif '카메라' in item:\n",
        "            Item.append('i9')   \n",
        "        elif '귀걸이' in item:\n",
        "            Item.append('i10')   \n",
        "        elif '목걸이' in item:\n",
        "            Item.append('i10')   \n",
        "        elif '주얼리' in item:\n",
        "            Item.append('i10')   \n",
        "        elif '팔찌' in item:\n",
        "            Item.append('i10') \n",
        "        elif '용기' in item:\n",
        "            Item.append('i11')   \n",
        "        elif '프라이팬' in item:\n",
        "            Item.append('i12')   \n",
        "        elif '후라이팬' in item:\n",
        "            Item.append('i12')  \n",
        "        elif '밥솥' in item:\n",
        "            Item.append('i13')\n",
        "        elif '도마' in item:\n",
        "            Item.append('i14')\n",
        "        elif '칼' in item:\n",
        "            Item.append('i15')\n",
        "        elif '그릴' in item:\n",
        "            Item.append('i16')\n",
        "        elif '수세미' in item:\n",
        "            Item.append('i17')\n",
        "        elif '건조기' in item:\n",
        "            Item.append('i18')\n",
        "        elif '식기건조대' in item:\n",
        "            Item.append('i18')\n",
        "        elif '글라스' in item:\n",
        "            Item.append('i19')\n",
        "        elif '지퍼백' in item:\n",
        "            Item.append('i20')\n",
        "        elif '가스레인지' in item:\n",
        "            Item.append('i21')\n",
        "        elif '냄비' in item:\n",
        "            Item.append('i22')\n",
        "        elif '믹서기' in item:\n",
        "            Item.append('i23')\n",
        "        elif '에어프라이어' in item:\n",
        "            Item.append('i24')    \n",
        "        elif '블렌더' in item:\n",
        "            Item.append('i25') \n",
        "        elif '텀블러' in item:\n",
        "            Item.append('i26')\n",
        "        elif '젤' in item:\n",
        "            Item.append('i27') \n",
        "        elif '블럭' in item:\n",
        "            Item.append('i28')     \n",
        "        else:\n",
        "            Item.append('etc')\n",
        "        \n",
        "    return Item"
      ],
      "execution_count": 53,
      "outputs": []
    },
    {
      "cell_type": "code",
      "metadata": {
        "id": "wqVnmomi14xj"
      },
      "source": [
        "test_item = to_cat(test)\n",
        "test_item"
      ],
      "execution_count": null,
      "outputs": []
    },
    {
      "cell_type": "code",
      "metadata": {
        "id": "wFl_uXZm2BKK"
      },
      "source": [
        "hallo3 = test_item\n",
        "len(hallo3)\n",
        "pd.DataFrame(hallo3).to_excel('hallo3.xlsx')"
      ],
      "execution_count": 58,
      "outputs": []
    },
    {
      "cell_type": "code",
      "metadata": {
        "id": "drZNdF4ooflR"
      },
      "source": [
        "code = interitem.groupby('마더코드').aggregate(np.mean)\n",
        "\n",
        "code_rank = {}\n",
        "rank = 1\n",
        "for idx, row in code.sort_values(by='주문량').iterrows():\n",
        "    code_rank[idx] = rank\n",
        "    rank += 1\n",
        "\n",
        "top_code = []\n",
        "\n",
        "for idx, row in origin_train.iterrows():\n",
        "    if row.마더코드 in code_rank.keys():\n",
        "        top_code.append(code_rank[row.마더코드])\n",
        "    else:\n",
        "        top_code.append(0)\n",
        "        \n",
        "origin_train['top_code'] = top_code"
      ],
      "execution_count": 35,
      "outputs": []
    },
    {
      "cell_type": "code",
      "metadata": {
        "id": "D-F3iiz1xwpH"
      },
      "source": [
        "hallo = origin_train[['마더코드','top_code']]"
      ],
      "execution_count": 40,
      "outputs": []
    },
    {
      "cell_type": "code",
      "metadata": {
        "id": "9nouLeMqyk_U"
      },
      "source": [
        "hallo = hallo.groupby('마더코드').median()\n",
        "hallo.to_excel('hallo.xlsx')"
      ],
      "execution_count": 44,
      "outputs": []
    },
    {
      "cell_type": "code",
      "metadata": {
        "id": "lHMag27Jofnx"
      },
      "source": [
        "cat = origin_train.groupby('분류').aggregate(np.mean)\n",
        "\n",
        "cat_rank = {}\n",
        "rank = 1\n",
        "for idx, row in cat.sort_values(by='주문량').iterrows():\n",
        "    cat_rank[idx] = rank\n",
        "    rank += 1\n",
        "\n",
        "top_cat = []\n",
        "\n",
        "for idx, row in origin_train.iterrows():\n",
        "    top_cat.append(cat_rank[row.분류])\n",
        "    \n",
        "origin_train['top_cat'] = top_cat"
      ],
      "execution_count": 45,
      "outputs": []
    },
    {
      "cell_type": "code",
      "metadata": {
        "id": "oE_BKAObzn7A"
      },
      "source": [
        "hallo2 = origin_train[['분류','top_cat']].groupby('분류').median()\n",
        "hallo2.to_excel('hallo2.xlsx')"
      ],
      "execution_count": 52,
      "outputs": []
    },
    {
      "cell_type": "code",
      "metadata": {
        "id": "myEerCItou4a"
      },
      "source": [
        "from sklearn.preprocessing import OneHotEncoder\n",
        "from sklearn.decomposition import PCA"
      ],
      "execution_count": null,
      "outputs": []
    },
    {
      "cell_type": "code",
      "metadata": {
        "id": "jjRWorgPou6J"
      },
      "source": [
        "enc1 = OneHotEncoder()\n",
        "category = np.array(train['분류'])\n",
        "category = category.reshape(-1, 1)\n",
        "\n",
        "enc1.fit(category)\n",
        "category_ = enc1.transform(category).toarray()\n",
        "\n",
        "pca = PCA(n_components=2)\n",
        "res = pca.fit_transform(category_)\n",
        "res = pd.DataFrame(res, columns=['x1_cat','x2_cat'])\n",
        "\n",
        "train['x1_cat'] = res['x1_cat']\n",
        "train['x2_cat'] = res['x2_cat']"
      ],
      "execution_count": null,
      "outputs": []
    },
    {
      "cell_type": "code",
      "metadata": {
        "id": "zBydYLM4ou2O"
      },
      "source": [
        "# 빈도수인코딩(위의 원핫+pca와 비교해보기)\n",
        "def add_frequency_encoding(data,column): #데이터프레임,열을 받아서 빈도수인코딩열을 추가해줌\n",
        "  enc_nom = (data.groupby(column).size())/len(data)\n",
        "  data['freq_encode_{}'.format(column)] = data[column].apply(lambda x:enc_nom[x])\n",
        "  print(\"freq_encode column was added\")"
      ],
      "execution_count": 6,
      "outputs": []
    }
  ]
}