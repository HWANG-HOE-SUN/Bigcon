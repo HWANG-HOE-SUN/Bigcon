{
  "nbformat": 4,
  "nbformat_minor": 0,
  "metadata": {
    "colab": {
      "name": "모델링통합및비교.ipynb",
      "provenance": [],
      "collapsed_sections": [],
      "mount_file_id": "1txX1QSH5lDSKdf0FzoA3DFtKHr8E3JpN",
      "authorship_tag": "ABX9TyNe7/6HB+seZ0CUwB4KAezH",
      "include_colab_link": true
    },
    "kernelspec": {
      "name": "python3",
      "display_name": "Python 3"
    }
  },
  "cells": [
    {
      "cell_type": "markdown",
      "metadata": {
        "id": "view-in-github",
        "colab_type": "text"
      },
      "source": [
        "<a href=\"https://colab.research.google.com/github/HWANG-HOE-SUN/bigcon/blob/master/%EB%AA%A8%EB%8D%B8%EB%A7%81%ED%86%B5%ED%95%A9%EB%B0%8F%EB%B9%84%EA%B5%90.ipynb\" target=\"_parent\"><img src=\"https://colab.research.google.com/assets/colab-badge.svg\" alt=\"Open In Colab\"/></a>"
      ]
    },
    {
      "cell_type": "code",
      "metadata": {
        "id": "j-_kGvx0j4K9",
        "colab_type": "code",
        "colab": {
          "base_uri": "https://localhost:8080/",
          "height": 72
        },
        "outputId": "715f27ff-41d2-427a-f22a-b67b2c4a30b3"
      },
      "source": [
        "import matplotlib.pyplot as plt\n",
        "import numpy as np\n",
        "import pandas as pd\n",
        "import datetime as dt\n",
        "import seaborn as sns\n",
        "from scipy import stats\n",
        "import math"
      ],
      "execution_count": null,
      "outputs": [
        {
          "output_type": "stream",
          "text": [
            "/usr/local/lib/python3.6/dist-packages/statsmodels/tools/_testing.py:19: FutureWarning: pandas.util.testing is deprecated. Use the functions in the public API at pandas.testing instead.\n",
            "  import pandas.util.testing as tm\n"
          ],
          "name": "stderr"
        }
      ]
    },
    {
      "cell_type": "markdown",
      "metadata": {
        "id": "oShzC-wQkadP",
        "colab_type": "text"
      },
      "source": [
        "# 데이터 생성"
      ]
    },
    {
      "cell_type": "code",
      "metadata": {
        "id": "c4OnO7TLhk2O",
        "colab_type": "code",
        "colab": {}
      },
      "source": [
        "train = pd.read_excel('/content/drive/My Drive/빅콘폴더/최종 데이터셋 후보/train.xlsx')\n",
        "train = train[train['판매단가'] < train['취급액']]"
      ],
      "execution_count": null,
      "outputs": []
    },
    {
      "cell_type": "code",
      "metadata": {
        "id": "y6FN_5X3hk0F",
        "colab_type": "code",
        "colab": {}
      },
      "source": [
        "train['노출(분)'] = train['노출(분)'].replace(0, math.nan)\n",
        "train['노출(분)'] = train['노출(분)'].fillna(method='ffill')"
      ],
      "execution_count": null,
      "outputs": []
    },
    {
      "cell_type": "code",
      "metadata": {
        "id": "W2bcgHANdlab",
        "colab_type": "code",
        "colab": {}
      },
      "source": [
        "train.index = np.arange(7513)"
      ],
      "execution_count": null,
      "outputs": []
    },
    {
      "cell_type": "code",
      "metadata": {
        "id": "07gxL6uSiGSm",
        "colab_type": "code",
        "colab": {}
      },
      "source": [
        "test = pd.read_excel('/content/drive/My Drive/빅콘폴더/test.xlsx', header=1)"
      ],
      "execution_count": null,
      "outputs": []
    },
    {
      "cell_type": "code",
      "metadata": {
        "id": "d13P5mDvh7k-",
        "colab_type": "code",
        "colab": {}
      },
      "source": [
        "data = pd.read_excel('/content/drive/My Drive/빅콘폴더/2020_bigcontest_champion_performance.xlsx', header=1)\n",
        "data = data[data['상품군']!='무형'] \n",
        "data = data[data['판매단가'] < data['취급액']]\n",
        "data['날짜'] = pd.to_datetime(data['방송일시']).dt.date\n",
        "data['날짜'] = pd.to_datetime(data['날짜'])\n",
        "data['주문량'] = data['취급액']/data['판매단가']\n",
        "data[\"요일\"]=data[\"방송일시\"].dt.dayofweek # 요일\n",
        "data[\"시\"]=data[\"방송일시\"].dt.hour # 시\n",
        "data['월'] = data['방송일시'].dt.month # 월\n",
        "weekday = {\"월\":0,\"화\":1,\"수\":2,\"목\":3,\"금\":4,\"토\":5,\"일\":6}"
      ],
      "execution_count": null,
      "outputs": []
    },
    {
      "cell_type": "code",
      "metadata": {
        "id": "TzRT8jKLh7iv",
        "colab_type": "code",
        "colab": {}
      },
      "source": [
        "data = data.fillna(method='ffill')"
      ],
      "execution_count": null,
      "outputs": []
    },
    {
      "cell_type": "code",
      "metadata": {
        "id": "pk_XPqX5iD9K",
        "colab_type": "code",
        "colab": {}
      },
      "source": [
        "data = data.iloc[17604:25792]"
      ],
      "execution_count": null,
      "outputs": []
    },
    {
      "cell_type": "markdown",
      "metadata": {
        "id": "A3QPyARfkcuO",
        "colab_type": "text"
      },
      "source": [
        "# 날씨 처리"
      ]
    },
    {
      "cell_type": "code",
      "metadata": {
        "id": "4IYt17QfiD7d",
        "colab_type": "code",
        "colab": {}
      },
      "source": [
        "# 대표 지역들\n",
        "places = [\"강릉\",\"광주\",\"부산\",\"수원\",\"울산\",\"대구\",\"대전\",\"서울\",\"파주\"] \n",
        "weather = pd.read_excel(\"/content/drive/My Drive/빅콘폴더/날씨_실제/강릉날씨.xlsx\")\n",
        "row_num = weather.shape[0]\n",
        "weather[\"지역\"]=[\"강릉\"]*row_num"
      ],
      "execution_count": null,
      "outputs": []
    },
    {
      "cell_type": "code",
      "metadata": {
        "id": "2T3GSzNYiD5L",
        "colab_type": "code",
        "colab": {}
      },
      "source": [
        "# 모든 지역 날씨 데이터 세로로 합치기\n",
        "for p in places[1:]:\n",
        "    a=pd.read_excel(f\"/content/drive/My Drive/빅콘폴더/날씨_실제/{p}날씨.xlsx\")\n",
        "    a[\"지역\"]=[p]*row_num\n",
        "    weather = pd.concat([weather, a], axis=0)"
      ],
      "execution_count": null,
      "outputs": []
    },
    {
      "cell_type": "code",
      "metadata": {
        "id": "-PQmp4AriD3J",
        "colab_type": "code",
        "colab": {}
      },
      "source": [
        "# \"-\" -> 0값으로 변경\n",
        "weather[\"강수량(mm)\"]=weather[\"강수량(mm)\"].replace(\"-\",0)\n",
        "weather[\"신적설(cm)\"]=weather[\"신적설(cm)\"].replace(\"-\",0)\n",
        "weather[\"운량(1/10)\"]=weather[\"운량(1/10)\"].replace(\"-\",0)\n",
        "\n",
        "# object 형 float 형으로 변경\n",
        "weather[\"강수량(mm)\"]=weather[\"강수량(mm)\"].astype(float)\n",
        "weather[\"신적설(cm)\"]=weather[\"신적설(cm)\"].astype(float)\n",
        "weather[\"운량(1/10)\"]=weather[\"운량(1/10)\"].astype(float)"
      ],
      "execution_count": null,
      "outputs": []
    },
    {
      "cell_type": "code",
      "metadata": {
        "id": "smLfAW8RiNG-",
        "colab_type": "code",
        "colab": {}
      },
      "source": [
        "weather = weather.reset_index()"
      ],
      "execution_count": null,
      "outputs": []
    },
    {
      "cell_type": "code",
      "metadata": {
        "id": "SHN4TcWZiNIz",
        "colab_type": "code",
        "colab": {}
      },
      "source": [
        "# 날짜 set 맞추기\n",
        "new_weather = pd.DataFrame()\n",
        "new_weather = weather.iloc[165:243]\n",
        "new_weather = pd.concat([new_weather, weather.iloc[753:831]])\n",
        "new_weather = pd.concat([new_weather, weather.iloc[1341:1419]])\n",
        "new_weather = pd.concat([new_weather, weather.iloc[1929:2007]])\n",
        "new_weather = pd.concat([new_weather, weather.iloc[2517:2595]])\n",
        "new_weather = pd.concat([new_weather, weather.iloc[3105:3183]])\n",
        "new_weather = pd.concat([new_weather, weather.iloc[3693:3771]])\n",
        "new_weather = pd.concat([new_weather, weather.iloc[4281:4359]])\n",
        "new_weather = pd.concat([new_weather, weather.iloc[4869:4947]])"
      ],
      "execution_count": null,
      "outputs": []
    },
    {
      "cell_type": "code",
      "metadata": {
        "id": "-dV2Bi2TiNEt",
        "colab_type": "code",
        "colab": {}
      },
      "source": [
        "# 서울 날씨와 강릉, 부산 날씨로 칼럼별 주문량 상관성 확인 및 지역별 날씨의 영향도 확인\n",
        "gang_weather = new_weather.loc[new_weather[\"지역\"]==\"강릉\",:]\n",
        "seoul_weather = new_weather.loc[new_weather[\"지역\"]==\"서울\",:]\n",
        "busan_weather = new_weather.loc[new_weather[\"지역\"]==\"부산\",:]\n",
        "suwon_weather = new_weather.loc[new_weather[\"지역\"]==\"수원\",:]\n",
        "sudogwon_weather = new_weather.loc[(new_weather[\"지역\"]==\"서울\")|(weather[\"지역\"]==\"수원\"),:]"
      ],
      "execution_count": null,
      "outputs": []
    },
    {
      "cell_type": "code",
      "metadata": {
        "id": "MjAfIXaxuUaS",
        "colab_type": "code",
        "colab": {}
      },
      "source": [
        "day_data = data.copy()"
      ],
      "execution_count": null,
      "outputs": []
    },
    {
      "cell_type": "code",
      "metadata": {
        "id": "H1Qmt8kauUdA",
        "colab_type": "code",
        "colab": {}
      },
      "source": [
        "day_data['날짜'] = pd.to_datetime(day_data['날짜'])\n",
        "new_weather['날짜'] = pd.to_datetime(new_weather['날짜'])"
      ],
      "execution_count": null,
      "outputs": []
    },
    {
      "cell_type": "code",
      "metadata": {
        "id": "--c5h6_9uUfm",
        "colab_type": "code",
        "colab": {}
      },
      "source": [
        "all_data = day_data.merge(new_weather, on='날짜')\n",
        "all_data = all_data.groupby(['날짜']).mean()"
      ],
      "execution_count": null,
      "outputs": []
    },
    {
      "cell_type": "code",
      "metadata": {
        "id": "ndGRCTAAuUic",
        "colab_type": "code",
        "colab": {
          "base_uri": "https://localhost:8080/",
          "height": 570
        },
        "outputId": "bc9fdd60-3972-410e-ff04-48b099f20467"
      },
      "source": [
        "sudogwon_weather['날짜'] = pd.to_datetime(sudogwon_weather['날짜'] )\n",
        "seoul_weather['날짜'] = pd.to_datetime(seoul_weather['날짜'] )\n",
        "busan_weather['날짜'] =pd.to_datetime(busan_weather['날짜'] )\n",
        "suwon_weather['날짜'] = pd.to_datetime(suwon_weather['날짜'] )\n",
        "gang_weather['날짜'] = pd.to_datetime(gang_weather['날짜'])"
      ],
      "execution_count": null,
      "outputs": [
        {
          "output_type": "stream",
          "text": [
            "/usr/local/lib/python3.6/dist-packages/ipykernel_launcher.py:1: SettingWithCopyWarning: \n",
            "A value is trying to be set on a copy of a slice from a DataFrame.\n",
            "Try using .loc[row_indexer,col_indexer] = value instead\n",
            "\n",
            "See the caveats in the documentation: https://pandas.pydata.org/pandas-docs/stable/user_guide/indexing.html#returning-a-view-versus-a-copy\n",
            "  \"\"\"Entry point for launching an IPython kernel.\n",
            "/usr/local/lib/python3.6/dist-packages/ipykernel_launcher.py:2: SettingWithCopyWarning: \n",
            "A value is trying to be set on a copy of a slice from a DataFrame.\n",
            "Try using .loc[row_indexer,col_indexer] = value instead\n",
            "\n",
            "See the caveats in the documentation: https://pandas.pydata.org/pandas-docs/stable/user_guide/indexing.html#returning-a-view-versus-a-copy\n",
            "  \n",
            "/usr/local/lib/python3.6/dist-packages/ipykernel_launcher.py:3: SettingWithCopyWarning: \n",
            "A value is trying to be set on a copy of a slice from a DataFrame.\n",
            "Try using .loc[row_indexer,col_indexer] = value instead\n",
            "\n",
            "See the caveats in the documentation: https://pandas.pydata.org/pandas-docs/stable/user_guide/indexing.html#returning-a-view-versus-a-copy\n",
            "  This is separate from the ipykernel package so we can avoid doing imports until\n",
            "/usr/local/lib/python3.6/dist-packages/ipykernel_launcher.py:4: SettingWithCopyWarning: \n",
            "A value is trying to be set on a copy of a slice from a DataFrame.\n",
            "Try using .loc[row_indexer,col_indexer] = value instead\n",
            "\n",
            "See the caveats in the documentation: https://pandas.pydata.org/pandas-docs/stable/user_guide/indexing.html#returning-a-view-versus-a-copy\n",
            "  after removing the cwd from sys.path.\n",
            "/usr/local/lib/python3.6/dist-packages/ipykernel_launcher.py:5: SettingWithCopyWarning: \n",
            "A value is trying to be set on a copy of a slice from a DataFrame.\n",
            "Try using .loc[row_indexer,col_indexer] = value instead\n",
            "\n",
            "See the caveats in the documentation: https://pandas.pydata.org/pandas-docs/stable/user_guide/indexing.html#returning-a-view-versus-a-copy\n",
            "  \"\"\"\n"
          ],
          "name": "stderr"
        }
      ]
    },
    {
      "cell_type": "code",
      "metadata": {
        "id": "D1htH9hMiTJ3",
        "colab_type": "code",
        "colab": {}
      },
      "source": [
        "sudogwon_data = day_data.merge(sudogwon_weather, on=\"날짜\")\n",
        "suwon_data = day_data.merge(suwon_weather, on=\"날짜\")\n",
        "seoul_data = day_data.merge(seoul_weather, on=\"날짜\")\n",
        "busan_data = day_data.merge(busan_weather, on=\"날짜\")\n",
        "gang_data = day_data.merge(gang_weather, on=\"날짜\")"
      ],
      "execution_count": null,
      "outputs": []
    },
    {
      "cell_type": "code",
      "metadata": {
        "id": "zjRE6myuiTHm",
        "colab_type": "code",
        "colab": {}
      },
      "source": [
        "fc_prop = pd.read_csv(\"/content/drive/My Drive/빅콘폴더/날씨예보/서울날씨/강수확률.csv\")\n",
        "fc_amount = pd.read_csv(\"/content/drive/My Drive/빅콘폴더/날씨예보/서울날씨/6시간 강수량.csv\") \n",
        "fc_sky = pd.read_csv(\"/content/drive/My Drive/빅콘폴더/날씨예보/서울날씨/하늘상태.csv\")\n",
        "fc_top = pd.read_csv(\"/content/drive/My Drive/빅콘폴더/날씨예보/서울날씨/일최고기온.csv\")\n",
        "fc_bottom = pd.read_csv(\"/content/drive/My Drive/빅콘폴더/날씨예보/서울날씨/일최저기온.csv\")"
      ],
      "execution_count": null,
      "outputs": []
    },
    {
      "cell_type": "code",
      "metadata": {
        "id": "5zJKr2vUuU7-",
        "colab_type": "code",
        "colab": {}
      },
      "source": [
        "forecast_data = {\"강수확률\":fc_prop, \"강수량\":fc_amount,\"하늘상태\":fc_sky, \"일최고기온\":fc_top, \"일최저기온\":fc_bottom}"
      ],
      "execution_count": null,
      "outputs": []
    },
    {
      "cell_type": "code",
      "metadata": {
        "id": "aIHTanSFB3nJ",
        "colab_type": "code",
        "colab": {}
      },
      "source": [
        "forecast = pd.DataFrame()\n",
        "\n",
        "for name, fcdata in forecast_data.items():\n",
        "    amount_list=[]\n",
        "    cycle = (fcdata.shape[0])//365 # 하루 관측량\n",
        "    for i in range(365):\n",
        "        day_weather = fcdata.iloc[i*cycle:(i+1)*cycle,-1].mean()\n",
        "        amount_list.append(day_weather)\n",
        "    forecast[name]=amount_list"
      ],
      "execution_count": null,
      "outputs": []
    },
    {
      "cell_type": "code",
      "metadata": {
        "id": "KCWSIKo1vKbq",
        "colab_type": "code",
        "colab": {}
      },
      "source": [
        "forecast = forecast.iloc[165:243]"
      ],
      "execution_count": null,
      "outputs": []
    },
    {
      "cell_type": "code",
      "metadata": {
        "id": "XyfJXcBjvKet",
        "colab_type": "code",
        "colab": {}
      },
      "source": [
        "# 날짜 칼럼 추가\n",
        "forecast[\"날짜\"]=train[\"날짜\"].unique()"
      ],
      "execution_count": null,
      "outputs": []
    },
    {
      "cell_type": "markdown",
      "metadata": {
        "id": "5W896oTckftT",
        "colab_type": "text"
      },
      "source": [
        "# 마더코드, 일/월별 처리"
      ]
    },
    {
      "cell_type": "code",
      "metadata": {
        "id": "RRr6F1YowB8a",
        "colab_type": "code",
        "colab": {}
      },
      "source": [
        "MomCodeGroup2 = train.groupby(['마더코드']).sum()"
      ],
      "execution_count": null,
      "outputs": []
    },
    {
      "cell_type": "code",
      "metadata": {
        "id": "AzkJFha5wCAf",
        "colab_type": "code",
        "colab": {
          "base_uri": "https://localhost:8080/",
          "height": 347
        },
        "outputId": "a896a1b0-076a-481d-dfe4-179016b4c70b"
      },
      "source": [
        "MomCodeGroup2['주문량/노출'] = MomCodeGroup2['주문량']/MomCodeGroup2['노출(분)']\n",
        "MomCodeGroup2.sort_values('주문량/노출', ascending=False).head()"
      ],
      "execution_count": null,
      "outputs": [
        {
          "output_type": "execute_result",
          "data": {
            "text/html": [
              "<div>\n",
              "<style scoped>\n",
              "    .dataframe tbody tr th:only-of-type {\n",
              "        vertical-align: middle;\n",
              "    }\n",
              "\n",
              "    .dataframe tbody tr th {\n",
              "        vertical-align: top;\n",
              "    }\n",
              "\n",
              "    .dataframe thead th {\n",
              "        text-align: right;\n",
              "    }\n",
              "</style>\n",
              "<table border=\"1\" class=\"dataframe\">\n",
              "  <thead>\n",
              "    <tr style=\"text-align: right;\">\n",
              "      <th></th>\n",
              "      <th>Unnamed: 0</th>\n",
              "      <th>노출(분)</th>\n",
              "      <th>상품코드</th>\n",
              "      <th>판매단가</th>\n",
              "      <th>취급액</th>\n",
              "      <th>요일</th>\n",
              "      <th>시</th>\n",
              "      <th>주문량</th>\n",
              "      <th>holiday</th>\n",
              "      <th>월</th>\n",
              "      <th>holiday(includeSS)</th>\n",
              "      <th>실제_서울_최고기온</th>\n",
              "      <th>실제_서울_최저기온</th>\n",
              "      <th>실제_서울_강수량(mm)</th>\n",
              "      <th>실제_서울_평균풍속(m/s)</th>\n",
              "      <th>실제_수원_최고기온</th>\n",
              "      <th>실제_수원_최저기온</th>\n",
              "      <th>실제_수원_강수량(mm)</th>\n",
              "      <th>실제_수원_평균풍속(m/s)</th>\n",
              "      <th>실제_파주_최고기온</th>\n",
              "      <th>실제_파주_최저기온</th>\n",
              "      <th>실제_파주_강수량(mm)</th>\n",
              "      <th>실제_파주_평균풍속(m/s)</th>\n",
              "      <th>예보_서울_강수확률</th>\n",
              "      <th>예보_서울_강수량</th>\n",
              "      <th>예보_서울_하늘상태</th>\n",
              "      <th>예보_서울_일최고기온</th>\n",
              "      <th>예보_서울_일최저기온</th>\n",
              "      <th>예보_일산_강수확률</th>\n",
              "      <th>예보_일산_강수량</th>\n",
              "      <th>예보_일산_일최고기온</th>\n",
              "      <th>예보_일산_일최저기온</th>\n",
              "      <th>예보_수원_강수확률</th>\n",
              "      <th>예보_수원_강수량</th>\n",
              "      <th>예보_수원_일최고기온</th>\n",
              "      <th>예보_수원_일최저기온</th>\n",
              "      <th>계절</th>\n",
              "      <th>DATE</th>\n",
              "      <th>미세먼지(㎍/㎥)</th>\n",
              "      <th>오존(ppm)</th>\n",
              "      <th>이산화질소농도(ppm)</th>\n",
              "      <th>일산화탄소농도(ppm)</th>\n",
              "      <th>아황산가스농도(ppm)</th>\n",
              "      <th>초미세먼지(㎍/㎥)</th>\n",
              "      <th>MONTH</th>\n",
              "      <th>HOUR</th>\n",
              "      <th>Active Users</th>\n",
              "      <th>주문량/노출</th>\n",
              "    </tr>\n",
              "    <tr>\n",
              "      <th>마더코드</th>\n",
              "      <th></th>\n",
              "      <th></th>\n",
              "      <th></th>\n",
              "      <th></th>\n",
              "      <th></th>\n",
              "      <th></th>\n",
              "      <th></th>\n",
              "      <th></th>\n",
              "      <th></th>\n",
              "      <th></th>\n",
              "      <th></th>\n",
              "      <th></th>\n",
              "      <th></th>\n",
              "      <th></th>\n",
              "      <th></th>\n",
              "      <th></th>\n",
              "      <th></th>\n",
              "      <th></th>\n",
              "      <th></th>\n",
              "      <th></th>\n",
              "      <th></th>\n",
              "      <th></th>\n",
              "      <th></th>\n",
              "      <th></th>\n",
              "      <th></th>\n",
              "      <th></th>\n",
              "      <th></th>\n",
              "      <th></th>\n",
              "      <th></th>\n",
              "      <th></th>\n",
              "      <th></th>\n",
              "      <th></th>\n",
              "      <th></th>\n",
              "      <th></th>\n",
              "      <th></th>\n",
              "      <th></th>\n",
              "      <th></th>\n",
              "      <th></th>\n",
              "      <th></th>\n",
              "      <th></th>\n",
              "      <th></th>\n",
              "      <th></th>\n",
              "      <th></th>\n",
              "      <th></th>\n",
              "      <th></th>\n",
              "      <th></th>\n",
              "      <th></th>\n",
              "      <th></th>\n",
              "    </tr>\n",
              "  </thead>\n",
              "  <tbody>\n",
              "    <tr>\n",
              "      <th>100492</th>\n",
              "      <td>75615</td>\n",
              "      <td>60.0</td>\n",
              "      <td>604461</td>\n",
              "      <td>149700</td>\n",
              "      <td>286104000</td>\n",
              "      <td>9</td>\n",
              "      <td>48</td>\n",
              "      <td>5733.547094</td>\n",
              "      <td>0</td>\n",
              "      <td>24</td>\n",
              "      <td>0</td>\n",
              "      <td>79.2</td>\n",
              "      <td>60.3</td>\n",
              "      <td>110.7</td>\n",
              "      <td>6.3</td>\n",
              "      <td>81.3</td>\n",
              "      <td>60.0</td>\n",
              "      <td>45.9</td>\n",
              "      <td>6.6</td>\n",
              "      <td>78.9</td>\n",
              "      <td>53.4</td>\n",
              "      <td>46.2</td>\n",
              "      <td>5.7</td>\n",
              "      <td>44.797297</td>\n",
              "      <td>2.763158</td>\n",
              "      <td>7.033784</td>\n",
              "      <td>82.578947</td>\n",
              "      <td>59.2500</td>\n",
              "      <td>28.175676</td>\n",
              "      <td>0.394737</td>\n",
              "      <td>80.526316</td>\n",
              "      <td>54.5625</td>\n",
              "      <td>40.135135</td>\n",
              "      <td>1.578947</td>\n",
              "      <td>82.578947</td>\n",
              "      <td>58.6875</td>\n",
              "      <td>6</td>\n",
              "      <td>60572487</td>\n",
              "      <td>83.88</td>\n",
              "      <td>60.24</td>\n",
              "      <td>0.10620</td>\n",
              "      <td>0.06084</td>\n",
              "      <td>1.500</td>\n",
              "      <td>0.01080</td>\n",
              "      <td>24</td>\n",
              "      <td>48</td>\n",
              "      <td>438378.0</td>\n",
              "      <td>95.559118</td>\n",
              "    </tr>\n",
              "    <tr>\n",
              "      <th>100499</th>\n",
              "      <td>145080</td>\n",
              "      <td>120.0</td>\n",
              "      <td>1209006</td>\n",
              "      <td>239400</td>\n",
              "      <td>420256000</td>\n",
              "      <td>15</td>\n",
              "      <td>117</td>\n",
              "      <td>10532.731830</td>\n",
              "      <td>0</td>\n",
              "      <td>48</td>\n",
              "      <td>0</td>\n",
              "      <td>186.9</td>\n",
              "      <td>138.6</td>\n",
              "      <td>0.3</td>\n",
              "      <td>11.1</td>\n",
              "      <td>184.2</td>\n",
              "      <td>138.0</td>\n",
              "      <td>3.0</td>\n",
              "      <td>12.3</td>\n",
              "      <td>181.2</td>\n",
              "      <td>122.7</td>\n",
              "      <td>5.1</td>\n",
              "      <td>9.6</td>\n",
              "      <td>137.229730</td>\n",
              "      <td>6.907895</td>\n",
              "      <td>18.324324</td>\n",
              "      <td>183.315789</td>\n",
              "      <td>139.8750</td>\n",
              "      <td>120.000000</td>\n",
              "      <td>5.526316</td>\n",
              "      <td>177.000000</td>\n",
              "      <td>132.9375</td>\n",
              "      <td>133.986486</td>\n",
              "      <td>6.118421</td>\n",
              "      <td>180.473684</td>\n",
              "      <td>136.8750</td>\n",
              "      <td>12</td>\n",
              "      <td>121144908</td>\n",
              "      <td>136.44</td>\n",
              "      <td>83.28</td>\n",
              "      <td>0.19428</td>\n",
              "      <td>0.10164</td>\n",
              "      <td>2.532</td>\n",
              "      <td>0.02136</td>\n",
              "      <td>48</td>\n",
              "      <td>117</td>\n",
              "      <td>895662.0</td>\n",
              "      <td>87.772765</td>\n",
              "    </tr>\n",
              "    <tr>\n",
              "      <th>100046</th>\n",
              "      <td>151203</td>\n",
              "      <td>60.0</td>\n",
              "      <td>1200756</td>\n",
              "      <td>185400</td>\n",
              "      <td>162001000</td>\n",
              "      <td>18</td>\n",
              "      <td>90</td>\n",
              "      <td>5242.750809</td>\n",
              "      <td>0</td>\n",
              "      <td>48</td>\n",
              "      <td>0</td>\n",
              "      <td>158.4</td>\n",
              "      <td>120.6</td>\n",
              "      <td>221.4</td>\n",
              "      <td>12.6</td>\n",
              "      <td>162.6</td>\n",
              "      <td>120.0</td>\n",
              "      <td>91.8</td>\n",
              "      <td>13.2</td>\n",
              "      <td>157.8</td>\n",
              "      <td>106.8</td>\n",
              "      <td>92.4</td>\n",
              "      <td>11.4</td>\n",
              "      <td>89.594595</td>\n",
              "      <td>5.526316</td>\n",
              "      <td>14.067568</td>\n",
              "      <td>165.157895</td>\n",
              "      <td>118.5000</td>\n",
              "      <td>56.351351</td>\n",
              "      <td>0.789474</td>\n",
              "      <td>161.052632</td>\n",
              "      <td>109.1250</td>\n",
              "      <td>80.270270</td>\n",
              "      <td>3.157895</td>\n",
              "      <td>165.157895</td>\n",
              "      <td>117.3750</td>\n",
              "      <td>12</td>\n",
              "      <td>121144974</td>\n",
              "      <td>167.76</td>\n",
              "      <td>120.48</td>\n",
              "      <td>0.21240</td>\n",
              "      <td>0.12168</td>\n",
              "      <td>3.000</td>\n",
              "      <td>0.02160</td>\n",
              "      <td>48</td>\n",
              "      <td>90</td>\n",
              "      <td>876756.0</td>\n",
              "      <td>87.379180</td>\n",
              "    </tr>\n",
              "    <tr>\n",
              "      <th>100754</th>\n",
              "      <td>76092</td>\n",
              "      <td>60.0</td>\n",
              "      <td>606609</td>\n",
              "      <td>119700</td>\n",
              "      <td>187163000</td>\n",
              "      <td>15</td>\n",
              "      <td>39</td>\n",
              "      <td>4690.802005</td>\n",
              "      <td>0</td>\n",
              "      <td>24</td>\n",
              "      <td>3</td>\n",
              "      <td>86.7</td>\n",
              "      <td>55.5</td>\n",
              "      <td>0.0</td>\n",
              "      <td>5.4</td>\n",
              "      <td>83.1</td>\n",
              "      <td>52.2</td>\n",
              "      <td>0.0</td>\n",
              "      <td>5.1</td>\n",
              "      <td>83.1</td>\n",
              "      <td>46.5</td>\n",
              "      <td>0.0</td>\n",
              "      <td>2.7</td>\n",
              "      <td>66.689189</td>\n",
              "      <td>0.000000</td>\n",
              "      <td>9.668919</td>\n",
              "      <td>87.000000</td>\n",
              "      <td>60.9375</td>\n",
              "      <td>52.702703</td>\n",
              "      <td>0.000000</td>\n",
              "      <td>84.631579</td>\n",
              "      <td>54.1875</td>\n",
              "      <td>72.770270</td>\n",
              "      <td>0.394737</td>\n",
              "      <td>85.736842</td>\n",
              "      <td>59.2500</td>\n",
              "      <td>6</td>\n",
              "      <td>60572493</td>\n",
              "      <td>49.68</td>\n",
              "      <td>28.08</td>\n",
              "      <td>0.09552</td>\n",
              "      <td>0.05016</td>\n",
              "      <td>1.152</td>\n",
              "      <td>0.01020</td>\n",
              "      <td>24</td>\n",
              "      <td>39</td>\n",
              "      <td>449895.0</td>\n",
              "      <td>78.180033</td>\n",
              "    </tr>\n",
              "    <tr>\n",
              "      <th>100323</th>\n",
              "      <td>151497</td>\n",
              "      <td>120.0</td>\n",
              "      <td>1208934</td>\n",
              "      <td>299400</td>\n",
              "      <td>452290000</td>\n",
              "      <td>21</td>\n",
              "      <td>99</td>\n",
              "      <td>9063.927856</td>\n",
              "      <td>0</td>\n",
              "      <td>48</td>\n",
              "      <td>3</td>\n",
              "      <td>177.3</td>\n",
              "      <td>126.3</td>\n",
              "      <td>0.0</td>\n",
              "      <td>11.4</td>\n",
              "      <td>171.3</td>\n",
              "      <td>120.3</td>\n",
              "      <td>0.0</td>\n",
              "      <td>10.2</td>\n",
              "      <td>170.4</td>\n",
              "      <td>107.4</td>\n",
              "      <td>0.0</td>\n",
              "      <td>6.6</td>\n",
              "      <td>142.297297</td>\n",
              "      <td>11.250000</td>\n",
              "      <td>18.729730</td>\n",
              "      <td>170.526316</td>\n",
              "      <td>124.6875</td>\n",
              "      <td>118.378378</td>\n",
              "      <td>12.631579</td>\n",
              "      <td>165.789474</td>\n",
              "      <td>114.9375</td>\n",
              "      <td>145.337838</td>\n",
              "      <td>11.447368</td>\n",
              "      <td>169.263158</td>\n",
              "      <td>122.0625</td>\n",
              "      <td>12</td>\n",
              "      <td>121144977</td>\n",
              "      <td>138.12</td>\n",
              "      <td>85.56</td>\n",
              "      <td>0.21396</td>\n",
              "      <td>0.11016</td>\n",
              "      <td>2.520</td>\n",
              "      <td>0.02136</td>\n",
              "      <td>48</td>\n",
              "      <td>99</td>\n",
              "      <td>922947.0</td>\n",
              "      <td>75.532732</td>\n",
              "    </tr>\n",
              "  </tbody>\n",
              "</table>\n",
              "</div>"
            ],
            "text/plain": [
              "        Unnamed: 0  노출(분)     상품코드  ...  HOUR  Active Users     주문량/노출\n",
              "마더코드                                ...                               \n",
              "100492       75615   60.0   604461  ...    48      438378.0  95.559118\n",
              "100499      145080  120.0  1209006  ...   117      895662.0  87.772765\n",
              "100046      151203   60.0  1200756  ...    90      876756.0  87.379180\n",
              "100754       76092   60.0   606609  ...    39      449895.0  78.180033\n",
              "100323      151497  120.0  1208934  ...    99      922947.0  75.532732\n",
              "\n",
              "[5 rows x 48 columns]"
            ]
          },
          "metadata": {
            "tags": []
          },
          "execution_count": 26
        }
      ]
    },
    {
      "cell_type": "code",
      "metadata": {
        "id": "5e37nTWOwB-i",
        "colab_type": "code",
        "colab": {}
      },
      "source": [
        "topcode = list(MomCodeGroup2.sort_values('주문량/노출', ascending=False).index[:50])"
      ],
      "execution_count": null,
      "outputs": []
    },
    {
      "cell_type": "markdown",
      "metadata": {
        "id": "DKSDXae0k8xe",
        "colab_type": "text"
      },
      "source": [
        "- 상품군내 마더코드별 주문량"
      ]
    },
    {
      "cell_type": "code",
      "metadata": {
        "id": "3MSP4VG5k8Qq",
        "colab_type": "code",
        "colab": {}
      },
      "source": [
        "multi_grouped = train.groupby(['상품군','마더코드'])\n",
        "MultiGroup = multi_grouped['주문량'].sum()\n",
        "MultiGroup = MultiGroup.reset_index()"
      ],
      "execution_count": null,
      "outputs": []
    },
    {
      "cell_type": "code",
      "metadata": {
        "id": "WZna_N5Ik-ZJ",
        "colab_type": "code",
        "colab": {}
      },
      "source": [
        "item = list(set(MultiGroup['상품군']))"
      ],
      "execution_count": null,
      "outputs": []
    },
    {
      "cell_type": "code",
      "metadata": {
        "id": "II6uBKyAlAaC",
        "colab_type": "code",
        "colab": {
          "base_uri": "https://localhost:8080/",
          "height": 1000
        },
        "outputId": "6db8cac4-e14a-4842-f689-1b4f85bf7525"
      },
      "source": [
        "for i in item:\n",
        "    plt.figure(figsize=(10,10))\n",
        "    sns.barplot(data=MultiGroup[MultiGroup['상품군']==i], x='마더코드', y='주문량')\n",
        "    plt.title(i)\n",
        "    plt.xticks(rotation=45, size=7)"
      ],
      "execution_count": null,
      "outputs": [
        {
          "output_type": "stream",
          "text": [
            "/usr/local/lib/python3.6/dist-packages/matplotlib/backends/backend_agg.py:214: RuntimeWarning: Glyph 47560 missing from current font.\n",
            "  font.set_text(s, 0.0, flags=flags)\n",
            "/usr/local/lib/python3.6/dist-packages/matplotlib/backends/backend_agg.py:214: RuntimeWarning: Glyph 45908 missing from current font.\n",
            "  font.set_text(s, 0.0, flags=flags)\n",
            "/usr/local/lib/python3.6/dist-packages/matplotlib/backends/backend_agg.py:214: RuntimeWarning: Glyph 53076 missing from current font.\n",
            "  font.set_text(s, 0.0, flags=flags)\n",
            "/usr/local/lib/python3.6/dist-packages/matplotlib/backends/backend_agg.py:214: RuntimeWarning: Glyph 46300 missing from current font.\n",
            "  font.set_text(s, 0.0, flags=flags)\n",
            "/usr/local/lib/python3.6/dist-packages/matplotlib/backends/backend_agg.py:183: RuntimeWarning: Glyph 47560 missing from current font.\n",
            "  font.set_text(s, 0, flags=flags)\n",
            "/usr/local/lib/python3.6/dist-packages/matplotlib/backends/backend_agg.py:183: RuntimeWarning: Glyph 45908 missing from current font.\n",
            "  font.set_text(s, 0, flags=flags)\n",
            "/usr/local/lib/python3.6/dist-packages/matplotlib/backends/backend_agg.py:183: RuntimeWarning: Glyph 53076 missing from current font.\n",
            "  font.set_text(s, 0, flags=flags)\n",
            "/usr/local/lib/python3.6/dist-packages/matplotlib/backends/backend_agg.py:183: RuntimeWarning: Glyph 46300 missing from current font.\n",
            "  font.set_text(s, 0, flags=flags)\n",
            "/usr/local/lib/python3.6/dist-packages/matplotlib/backends/backend_agg.py:214: RuntimeWarning: Glyph 51452 missing from current font.\n",
            "  font.set_text(s, 0.0, flags=flags)\n",
            "/usr/local/lib/python3.6/dist-packages/matplotlib/backends/backend_agg.py:214: RuntimeWarning: Glyph 47928 missing from current font.\n",
            "  font.set_text(s, 0.0, flags=flags)\n",
            "/usr/local/lib/python3.6/dist-packages/matplotlib/backends/backend_agg.py:214: RuntimeWarning: Glyph 47049 missing from current font.\n",
            "  font.set_text(s, 0.0, flags=flags)\n",
            "/usr/local/lib/python3.6/dist-packages/matplotlib/backends/backend_agg.py:183: RuntimeWarning: Glyph 51452 missing from current font.\n",
            "  font.set_text(s, 0, flags=flags)\n",
            "/usr/local/lib/python3.6/dist-packages/matplotlib/backends/backend_agg.py:183: RuntimeWarning: Glyph 47928 missing from current font.\n",
            "  font.set_text(s, 0, flags=flags)\n",
            "/usr/local/lib/python3.6/dist-packages/matplotlib/backends/backend_agg.py:183: RuntimeWarning: Glyph 47049 missing from current font.\n",
            "  font.set_text(s, 0, flags=flags)\n"
          ],
          "name": "stderr"
        },
        {
          "output_type": "display_data",
          "data": {
            "image/png": "[encoded data removed]",
            "text/plain": [
              "<Figure size 720x720 with 1 Axes>"
            ]
          },
          "metadata": {
            "tags": [],
            "needs_background": "light"
          }
        },
        {
          "output_type": "display_data",
          "data": {
            "image/png": "[encoded data removed]",
            "text/plain": [
              "<Figure size 720x720 with 1 Axes>"
            ]
          },
          "metadata": {
            "tags": [],
            "needs_background": "light"
          }
        },
        {
          "output_type": "display_data",
          "data": {
            "image/png": "[encoded data removed]",
            "text/plain": [
              "<Figure size 720x720 with 1 Axes>"
            ]
          },
          "metadata": {
            "tags": [],
            "needs_background": "light"
          }
        },
        {
          "output_type": "display_data",
          "data": {
            "image/png": "[encoded data removed]",
            "text/plain": [
              "<Figure size 720x720 with 1 Axes>"
            ]
          },
          "metadata": {
            "tags": [],
            "needs_background": "light"
          }
        },
        {
          "output_type": "display_data",
          "data": {
            "image/png": "[encoded data removed]",
            "text/plain": [
              "<Figure size 720x720 with 1 Axes>"
            ]
          },
          "metadata": {
            "tags": [],
            "needs_background": "light"
          }
        },
        {
          "output_type": "display_data",
          "data": {
            "image/png": "[encoded data removed]",
            "text/plain": [
              "<Figure size 720x720 with 1 Axes>"
            ]
          },
          "metadata": {
            "tags": [],
            "needs_background": "light"
          }
        },
        {
          "output_type": "display_data",
          "data": {
            "image/png": "[encoded data removed]",
            "text/plain": [
              "<Figure size 720x720 with 1 Axes>"
            ]
          },
          "metadata": {
            "tags": [],
            "needs_background": "light"
          }
        },
        {
          "output_type": "display_data",
          "data": {
            "image/png": "[encoded data removed]",
            "text/plain": [
              "<Figure size 720x720 with 1 Axes>"
            ]
          },
          "metadata": {
            "tags": [],
            "needs_background": "light"
          }
        },
        {
          "output_type": "display_data",
          "data": {
            "image/png": "[encoded data removed]",
            "text/plain": [
              "<Figure size 720x720 with 1 Axes>"
            ]
          },
          "metadata": {
            "tags": [],
            "needs_background": "light"
          }
        },
        {
          "output_type": "display_data",
          "data": {
            "image/png": "[encoded data removed]",
            "text/plain": [
              "<Figure size 720x720 with 1 Axes>"
            ]
          },
          "metadata": {
            "tags": [],
            "needs_background": "light"
          }
        },
        {
          "output_type": "display_data",
          "data": {
            "image/png": "[encoded data removed]",
            "text/plain": [
              "<Figure size 720x720 with 1 Axes>"
            ]
          },
          "metadata": {
            "tags": [],
            "needs_background": "light"
          }
        }
      ]
    },
    {
      "cell_type": "markdown",
      "metadata": {
        "id": "qSCmW28_lLif",
        "colab_type": "text"
      },
      "source": [
        "- 시간대 상품군별 주문량"
      ]
    },
    {
      "cell_type": "code",
      "metadata": {
        "id": "blI_md-9lAm9",
        "colab_type": "code",
        "colab": {}
      },
      "source": [
        "hour_grouped = train.groupby(['시','상품군'])\n",
        "HourGroup = hour_grouped['주문량'].sum()\n",
        "HourGroup = HourGroup.reset_index()"
      ],
      "execution_count": null,
      "outputs": []
    },
    {
      "cell_type": "code",
      "metadata": {
        "id": "KJjHxGt3lJ-u",
        "colab_type": "code",
        "colab": {
          "base_uri": "https://localhost:8080/",
          "height": 1000
        },
        "outputId": "9bd2ff70-2109-417f-83ec-e42bffed4930"
      },
      "source": [
        "plt.figure(figsize=(10,20))\n",
        "sns.barplot(data=HourGroup, x='시', y='주문량', hue='상품군', dodge=False)"
      ],
      "execution_count": null,
      "outputs": [
        {
          "output_type": "execute_result",
          "data": {
            "text/plain": [
              "<matplotlib.axes._subplots.AxesSubplot at 0x7f34a0ff64e0>"
            ]
          },
          "metadata": {
            "tags": []
          },
          "execution_count": 32
        },
        {
          "output_type": "stream",
          "text": [
            "/usr/local/lib/python3.6/dist-packages/matplotlib/backends/backend_agg.py:214: RuntimeWarning: Glyph 49884 missing from current font.\n",
            "  font.set_text(s, 0.0, flags=flags)\n",
            "/usr/local/lib/python3.6/dist-packages/matplotlib/backends/backend_agg.py:183: RuntimeWarning: Glyph 49884 missing from current font.\n",
            "  font.set_text(s, 0, flags=flags)\n",
            "/usr/local/lib/python3.6/dist-packages/matplotlib/backends/backend_agg.py:214: RuntimeWarning: Glyph 51452 missing from current font.\n",
            "  font.set_text(s, 0.0, flags=flags)\n",
            "/usr/local/lib/python3.6/dist-packages/matplotlib/backends/backend_agg.py:214: RuntimeWarning: Glyph 47928 missing from current font.\n",
            "  font.set_text(s, 0.0, flags=flags)\n",
            "/usr/local/lib/python3.6/dist-packages/matplotlib/backends/backend_agg.py:214: RuntimeWarning: Glyph 47049 missing from current font.\n",
            "  font.set_text(s, 0.0, flags=flags)\n",
            "/usr/local/lib/python3.6/dist-packages/matplotlib/backends/backend_agg.py:183: RuntimeWarning: Glyph 51452 missing from current font.\n",
            "  font.set_text(s, 0, flags=flags)\n",
            "/usr/local/lib/python3.6/dist-packages/matplotlib/backends/backend_agg.py:183: RuntimeWarning: Glyph 47928 missing from current font.\n",
            "  font.set_text(s, 0, flags=flags)\n",
            "/usr/local/lib/python3.6/dist-packages/matplotlib/backends/backend_agg.py:183: RuntimeWarning: Glyph 47049 missing from current font.\n",
            "  font.set_text(s, 0, flags=flags)\n",
            "/usr/local/lib/python3.6/dist-packages/matplotlib/backends/backend_agg.py:214: RuntimeWarning: Glyph 49345 missing from current font.\n",
            "  font.set_text(s, 0.0, flags=flags)\n",
            "/usr/local/lib/python3.6/dist-packages/matplotlib/backends/backend_agg.py:214: RuntimeWarning: Glyph 54408 missing from current font.\n",
            "  font.set_text(s, 0.0, flags=flags)\n",
            "/usr/local/lib/python3.6/dist-packages/matplotlib/backends/backend_agg.py:214: RuntimeWarning: Glyph 44400 missing from current font.\n",
            "  font.set_text(s, 0.0, flags=flags)\n",
            "/usr/local/lib/python3.6/dist-packages/matplotlib/backends/backend_agg.py:183: RuntimeWarning: Glyph 49345 missing from current font.\n",
            "  font.set_text(s, 0, flags=flags)\n",
            "/usr/local/lib/python3.6/dist-packages/matplotlib/backends/backend_agg.py:183: RuntimeWarning: Glyph 54408 missing from current font.\n",
            "  font.set_text(s, 0, flags=flags)\n",
            "/usr/local/lib/python3.6/dist-packages/matplotlib/backends/backend_agg.py:183: RuntimeWarning: Glyph 44400 missing from current font.\n",
            "  font.set_text(s, 0, flags=flags)\n"
          ],
          "name": "stderr"
        },
        {
          "output_type": "display_data",
          "data": {
            "image/png": "[encoded data removed]",
            "text/plain": [
              "<Figure size 720x1440 with 1 Axes>"
            ]
          },
          "metadata": {
            "tags": [],
            "needs_background": "light"
          }
        }
      ]
    },
    {
      "cell_type": "code",
      "metadata": {
        "id": "6_OYlIXTlAp3",
        "colab_type": "code",
        "colab": {}
      },
      "source": [
        "train['new판매단가'] = np.log(train['판매단가'])\n",
        "train.drop('판매단가', inplace=True, axis=1)"
      ],
      "execution_count": null,
      "outputs": []
    },
    {
      "cell_type": "code",
      "metadata": {
        "id": "dooOOZuClAsv",
        "colab_type": "code",
        "colab": {
          "base_uri": "https://localhost:8080/",
          "height": 52
        },
        "outputId": "8b4b419f-1faa-45c9-dba9-ff74dcd050c9"
      },
      "source": [
        "np.corrcoef(train['주문량'],train['new판매단가'])"
      ],
      "execution_count": null,
      "outputs": [
        {
          "output_type": "execute_result",
          "data": {
            "text/plain": [
              "array([[ 1.        , -0.61081947],\n",
              "       [-0.61081947,  1.        ]])"
            ]
          },
          "metadata": {
            "tags": []
          },
          "execution_count": 34
        }
      ]
    },
    {
      "cell_type": "code",
      "metadata": {
        "id": "Ic4HQHtjlAvW",
        "colab_type": "code",
        "colab": {
          "base_uri": "https://localhost:8080/",
          "height": 282
        },
        "outputId": "9d865041-26aa-47dd-9921-c4f9608a890e"
      },
      "source": [
        "plt.scatter(train['주문량'], (train['new판매단가'])) "
      ],
      "execution_count": null,
      "outputs": [
        {
          "output_type": "execute_result",
          "data": {
            "text/plain": [
              "<matplotlib.collections.PathCollection at 0x7f34a17fd080>"
            ]
          },
          "metadata": {
            "tags": []
          },
          "execution_count": 35
        },
        {
          "output_type": "display_data",
          "data": {
            "image/png": "[encoded data removed]",
            "text/plain": [
              "<Figure size 432x288 with 1 Axes>"
            ]
          },
          "metadata": {
            "tags": [],
            "needs_background": "light"
          }
        }
      ]
    },
    {
      "cell_type": "code",
      "metadata": {
        "id": "671nj9Mfla_o",
        "colab_type": "code",
        "colab": {
          "base_uri": "https://localhost:8080/",
          "height": 533
        },
        "outputId": "6af43f24-9a29-46f0-861c-5f46a0cd54f2"
      },
      "source": [
        "fig, ax = plt.subplots(1,2, figsize=(10,5))\n",
        "sns.kdeplot(train['주문량'], ax=ax[0]) #커널 밀도추정\n",
        "sns.kdeplot(np.log(train['주문량']), ax=ax[1])"
      ],
      "execution_count": null,
      "outputs": [
        {
          "output_type": "execute_result",
          "data": {
            "text/plain": [
              "<matplotlib.axes._subplots.AxesSubplot at 0x7f34a0e04828>"
            ]
          },
          "metadata": {
            "tags": []
          },
          "execution_count": 36
        },
        {
          "output_type": "stream",
          "text": [
            "/usr/local/lib/python3.6/dist-packages/matplotlib/backends/backend_agg.py:214: RuntimeWarning: Glyph 51452 missing from current font.\n",
            "  font.set_text(s, 0.0, flags=flags)\n",
            "/usr/local/lib/python3.6/dist-packages/matplotlib/backends/backend_agg.py:214: RuntimeWarning: Glyph 47928 missing from current font.\n",
            "  font.set_text(s, 0.0, flags=flags)\n",
            "/usr/local/lib/python3.6/dist-packages/matplotlib/backends/backend_agg.py:214: RuntimeWarning: Glyph 47049 missing from current font.\n",
            "  font.set_text(s, 0.0, flags=flags)\n",
            "/usr/local/lib/python3.6/dist-packages/matplotlib/backends/backend_agg.py:183: RuntimeWarning: Glyph 51452 missing from current font.\n",
            "  font.set_text(s, 0, flags=flags)\n",
            "/usr/local/lib/python3.6/dist-packages/matplotlib/backends/backend_agg.py:183: RuntimeWarning: Glyph 47928 missing from current font.\n",
            "  font.set_text(s, 0, flags=flags)\n",
            "/usr/local/lib/python3.6/dist-packages/matplotlib/backends/backend_agg.py:183: RuntimeWarning: Glyph 47049 missing from current font.\n",
            "  font.set_text(s, 0, flags=flags)\n"
          ],
          "name": "stderr"
        },
        {
          "output_type": "display_data",
          "data": {
            "image/png": "[encoded data removed]",
            "text/plain": [
              "<Figure size 720x360 with 2 Axes>"
            ]
          },
          "metadata": {
            "tags": [],
            "needs_background": "light"
          }
        }
      ]
    },
    {
      "cell_type": "code",
      "metadata": {
        "id": "0_GR8RzWmA8K",
        "colab_type": "code",
        "colab": {}
      },
      "source": [
        "train['new주문량'] = np.log(train['주문량'])\n",
        "train.drop('주문량', inplace=True, axis=1)"
      ],
      "execution_count": null,
      "outputs": []
    },
    {
      "cell_type": "markdown",
      "metadata": {
        "id": "49vM5SEZknLy",
        "colab_type": "text"
      },
      "source": [
        "# 모델학습 데이터 생성 및 분리"
      ]
    },
    {
      "cell_type": "markdown",
      "metadata": {
        "id": "zbn6uFB5mmBS",
        "colab_type": "text"
      },
      "source": [
        "- 시간대"
      ]
    },
    {
      "cell_type": "code",
      "metadata": {
        "colab_type": "code",
        "id": "ftbkKK0Kh-M0",
        "colab": {}
      },
      "source": [
        "time = train.groupby('HOUR').aggregate(np.mean)\n",
        "\n",
        "time_rank = {}\n",
        "rank = 1 \n",
        "for idx, row in time.sort_values(by='new주문량').iterrows():\n",
        "    time_rank[idx] = rank\n",
        "    rank += 1"
      ],
      "execution_count": null,
      "outputs": []
    },
    {
      "cell_type": "code",
      "metadata": {
        "colab_type": "code",
        "id": "BVtuy9Bhh-M3",
        "colab": {}
      },
      "source": [
        "prime_time = []\n",
        "\n",
        "for idx, row in train.iterrows():\n",
        "    prime_time.append(time_rank[row.HOUR])\n",
        "    \n",
        "train['prime_time'] = prime_time"
      ],
      "execution_count": null,
      "outputs": []
    },
    {
      "cell_type": "markdown",
      "metadata": {
        "id": "Arbdlvc9mo4_",
        "colab_type": "text"
      },
      "source": [
        "- 요일"
      ]
    },
    {
      "cell_type": "code",
      "metadata": {
        "colab_type": "code",
        "id": "U5yxdpa4h-M5",
        "colab": {}
      },
      "source": [
        "day = train.groupby('요일').aggregate(np.mean)\n",
        "\n",
        "day_rank = {}\n",
        "rank = 1 \n",
        "for idx, row in day.sort_values(by='new주문량').iterrows():\n",
        "    day_rank[idx] = rank\n",
        "    rank += 1\n",
        "    \n",
        "prime_day = []\n",
        "\n",
        "for idx, row in train.iterrows():\n",
        "    prime_day.append(day_rank[row.요일])\n",
        "    \n",
        "train['prime_day'] = prime_day"
      ],
      "execution_count": null,
      "outputs": []
    },
    {
      "cell_type": "markdown",
      "metadata": {
        "id": "W_N0F90Emsll",
        "colab_type": "text"
      },
      "source": [
        "- 요일"
      ]
    },
    {
      "cell_type": "code",
      "metadata": {
        "colab_type": "code",
        "id": "2TtUcPARh-M7",
        "colab": {}
      },
      "source": [
        "intercode = set(test['마더코드'].unique()).intersection(set(train['마더코드'].unique()))\n",
        "interitem = train[train['마더코드'].isin(intercode)]"
      ],
      "execution_count": null,
      "outputs": []
    },
    {
      "cell_type": "markdown",
      "metadata": {
        "id": "5dg_740QmxoD",
        "colab_type": "text"
      },
      "source": [
        "- test랑 겹치는 마더코드"
      ]
    },
    {
      "cell_type": "code",
      "metadata": {
        "colab_type": "code",
        "id": "vi2gXDD1h-M8",
        "colab": {}
      },
      "source": [
        "code = interitem.groupby('마더코드').aggregate(np.mean)\n",
        "\n",
        "code_rank = {}\n",
        "rank = 1\n",
        "for idx, row in code.sort_values(by='new주문량').iterrows():\n",
        "    code_rank[idx] = rank\n",
        "    rank += 1\n",
        "\n",
        "top_code = []\n",
        "\n",
        "for idx, row in train.iterrows():\n",
        "    if row.마더코드 in code_rank.keys():\n",
        "        top_code.append(code_rank[row.마더코드])\n",
        "    else:\n",
        "        top_code.append(0)\n",
        "        \n",
        "train['top_code'] = top_code"
      ],
      "execution_count": null,
      "outputs": []
    },
    {
      "cell_type": "markdown",
      "metadata": {
        "id": "X_Bg57hwm1ZE",
        "colab_type": "text"
      },
      "source": [
        "- 분류기준 top_분류"
      ]
    },
    {
      "cell_type": "code",
      "metadata": {
        "colab_type": "code",
        "id": "xCzryMJ5h-M-",
        "colab": {}
      },
      "source": [
        "cat = train.groupby('분류').aggregate(np.mean)\n",
        "\n",
        "cat_rank = {}\n",
        "rank = 1\n",
        "for idx, row in cat.sort_values(by='new주문량').iterrows():\n",
        "    cat_rank[idx] = rank\n",
        "    rank += 1\n",
        "\n",
        "top_cat = []\n",
        "\n",
        "for idx, row in train.iterrows():\n",
        "    top_cat.append(cat_rank[row.분류])\n",
        "    \n",
        "train['top_cat'] = top_cat"
      ],
      "execution_count": null,
      "outputs": []
    },
    {
      "cell_type": "markdown",
      "metadata": {
        "id": "htfxciMAm8I7",
        "colab_type": "text"
      },
      "source": [
        "- 성은님코드 : 분류원핫+pca\n",
        "- 회선 : 빈도수인코딩"
      ]
    },
    {
      "cell_type": "code",
      "metadata": {
        "colab_type": "code",
        "id": "wd_WOHKAh-ND",
        "colab": {}
      },
      "source": [
        "# 원핫+PCA\n",
        "from sklearn.preprocessing import OneHotEncoder\n",
        "from sklearn.decomposition import PCA"
      ],
      "execution_count": null,
      "outputs": []
    },
    {
      "cell_type": "code",
      "metadata": {
        "colab_type": "code",
        "id": "rqOYYxDJh-NF",
        "colab": {}
      },
      "source": [
        "enc1 = OneHotEncoder()\n",
        "category = np.array(train['분류'])\n",
        "category = category.reshape(-1, 1)"
      ],
      "execution_count": null,
      "outputs": []
    },
    {
      "cell_type": "code",
      "metadata": {
        "colab_type": "code",
        "id": "eocfDNc8h-NG",
        "colab": {}
      },
      "source": [
        "enc1.fit(category)\n",
        "category_ = enc1.transform(category).toarray()"
      ],
      "execution_count": null,
      "outputs": []
    },
    {
      "cell_type": "code",
      "metadata": {
        "colab_type": "code",
        "id": "C1G4Sf3Lh-NI",
        "colab": {}
      },
      "source": [
        "pca = PCA(n_components=2)\n",
        "res = pca.fit_transform(category_)\n",
        "res = pd.DataFrame(res, columns=['x1_cat','x2_cat'])"
      ],
      "execution_count": null,
      "outputs": []
    },
    {
      "cell_type": "code",
      "metadata": {
        "colab_type": "code",
        "id": "H-XnhLrUh-NJ",
        "colab": {}
      },
      "source": [
        "train['x1_cat'] = res['x1_cat']\n",
        "train['x2_cat'] = res['x2_cat']"
      ],
      "execution_count": null,
      "outputs": []
    },
    {
      "cell_type": "code",
      "metadata": {
        "id": "kRNLGXwhZsHL",
        "colab_type": "code",
        "colab": {
          "base_uri": "https://localhost:8080/",
          "height": 230
        },
        "outputId": "f0558929-cdcf-4016-b323-85baa209ca80"
      },
      "source": [
        "train['x1_cat']"
      ],
      "execution_count": null,
      "outputs": [
        {
          "output_type": "execute_result",
          "data": {
            "text/plain": [
              "0      -0.006627\n",
              "1      -0.006627\n",
              "2      -0.006627\n",
              "3      -0.076889\n",
              "4      -0.076889\n",
              "          ...   \n",
              "7508   -0.011987\n",
              "7509   -0.005016\n",
              "7510   -0.005016\n",
              "7511   -0.005016\n",
              "7512   -0.005016\n",
              "Name: x1_cat, Length: 7513, dtype: float64"
            ]
          },
          "metadata": {
            "tags": []
          },
          "execution_count": 49
        }
      ]
    },
    {
      "cell_type": "markdown",
      "metadata": {
        "id": "aeo4-zSUnLML",
        "colab_type": "text"
      },
      "source": [
        "- 실제날씨(서울)"
      ]
    },
    {
      "cell_type": "code",
      "metadata": {
        "colab_type": "code",
        "id": "pfE66Vvah-NL",
        "colab": {}
      },
      "source": [
        "real = train.groupby('실제_서울_날씨').aggregate(np.mean)\n",
        "\n",
        "real_rank = {}\n",
        "rank = 1\n",
        "for idx, row in real.sort_values(by='new주문량').iterrows():\n",
        "    real_rank[idx] = rank\n",
        "    rank += 1\n",
        "\n",
        "top_real_weather = []\n",
        "\n",
        "for idx, row in train.iterrows():\n",
        "    top_real_weather.append(real_rank[row.실제_서울_날씨])\n",
        "    \n",
        "train['top_real_weather'] = top_real_weather"
      ],
      "execution_count": null,
      "outputs": []
    },
    {
      "cell_type": "markdown",
      "metadata": {
        "id": "lE7qHmGaZM7E",
        "colab_type": "text"
      },
      "source": [
        "-실제날씨 통합"
      ]
    },
    {
      "cell_type": "code",
      "metadata": {
        "id": "7YpCiAeeY7ir",
        "colab_type": "code",
        "colab": {
          "base_uri": "https://localhost:8080/",
          "height": 406
        },
        "outputId": "83616abc-fc40-4f5e-f473-fbffc894018a"
      },
      "source": [
        "real_total_weather = pd.read_excel('/content/drive/My Drive/빅콘폴더/날씨_실제/날씨통합.xlsx')\n",
        "real_total_weather"
      ],
      "execution_count": null,
      "outputs": [
        {
          "output_type": "execute_result",
          "data": {
            "text/html": [
              "<div>\n",
              "<style scoped>\n",
              "    .dataframe tbody tr th:only-of-type {\n",
              "        vertical-align: middle;\n",
              "    }\n",
              "\n",
              "    .dataframe tbody tr th {\n",
              "        vertical-align: top;\n",
              "    }\n",
              "\n",
              "    .dataframe thead th {\n",
              "        text-align: right;\n",
              "    }\n",
              "</style>\n",
              "<table border=\"1\" class=\"dataframe\">\n",
              "  <thead>\n",
              "    <tr style=\"text-align: right;\">\n",
              "      <th></th>\n",
              "      <th>최고기온</th>\n",
              "      <th>최저기온</th>\n",
              "      <th>강수량</th>\n",
              "      <th>평균풍속</th>\n",
              "    </tr>\n",
              "  </thead>\n",
              "  <tbody>\n",
              "    <tr>\n",
              "      <th>0</th>\n",
              "      <td>27.266667</td>\n",
              "      <td>16.766667</td>\n",
              "      <td>0.8</td>\n",
              "      <td>2.200000</td>\n",
              "    </tr>\n",
              "    <tr>\n",
              "      <th>1</th>\n",
              "      <td>27.266667</td>\n",
              "      <td>16.766667</td>\n",
              "      <td>0.8</td>\n",
              "      <td>2.200000</td>\n",
              "    </tr>\n",
              "    <tr>\n",
              "      <th>2</th>\n",
              "      <td>27.266667</td>\n",
              "      <td>16.766667</td>\n",
              "      <td>0.8</td>\n",
              "      <td>2.200000</td>\n",
              "    </tr>\n",
              "    <tr>\n",
              "      <th>3</th>\n",
              "      <td>27.266667</td>\n",
              "      <td>16.766667</td>\n",
              "      <td>0.8</td>\n",
              "      <td>2.200000</td>\n",
              "    </tr>\n",
              "    <tr>\n",
              "      <th>4</th>\n",
              "      <td>27.266667</td>\n",
              "      <td>16.766667</td>\n",
              "      <td>0.8</td>\n",
              "      <td>2.200000</td>\n",
              "    </tr>\n",
              "    <tr>\n",
              "      <th>...</th>\n",
              "      <td>...</td>\n",
              "      <td>...</td>\n",
              "      <td>...</td>\n",
              "      <td>...</td>\n",
              "    </tr>\n",
              "    <tr>\n",
              "      <th>7508</th>\n",
              "      <td>28.100000</td>\n",
              "      <td>17.133333</td>\n",
              "      <td>0.0</td>\n",
              "      <td>1.466667</td>\n",
              "    </tr>\n",
              "    <tr>\n",
              "      <th>7509</th>\n",
              "      <td>28.100000</td>\n",
              "      <td>17.133333</td>\n",
              "      <td>0.0</td>\n",
              "      <td>1.466667</td>\n",
              "    </tr>\n",
              "    <tr>\n",
              "      <th>7510</th>\n",
              "      <td>28.100000</td>\n",
              "      <td>17.133333</td>\n",
              "      <td>0.0</td>\n",
              "      <td>1.466667</td>\n",
              "    </tr>\n",
              "    <tr>\n",
              "      <th>7511</th>\n",
              "      <td>28.100000</td>\n",
              "      <td>17.133333</td>\n",
              "      <td>0.0</td>\n",
              "      <td>1.466667</td>\n",
              "    </tr>\n",
              "    <tr>\n",
              "      <th>7512</th>\n",
              "      <td>28.100000</td>\n",
              "      <td>17.133333</td>\n",
              "      <td>0.0</td>\n",
              "      <td>1.466667</td>\n",
              "    </tr>\n",
              "  </tbody>\n",
              "</table>\n",
              "<p>7513 rows × 4 columns</p>\n",
              "</div>"
            ],
            "text/plain": [
              "           최고기온       최저기온  강수량      평균풍속\n",
              "0     27.266667  16.766667  0.8  2.200000\n",
              "1     27.266667  16.766667  0.8  2.200000\n",
              "2     27.266667  16.766667  0.8  2.200000\n",
              "3     27.266667  16.766667  0.8  2.200000\n",
              "4     27.266667  16.766667  0.8  2.200000\n",
              "...         ...        ...  ...       ...\n",
              "7508  28.100000  17.133333  0.0  1.466667\n",
              "7509  28.100000  17.133333  0.0  1.466667\n",
              "7510  28.100000  17.133333  0.0  1.466667\n",
              "7511  28.100000  17.133333  0.0  1.466667\n",
              "7512  28.100000  17.133333  0.0  1.466667\n",
              "\n",
              "[7513 rows x 4 columns]"
            ]
          },
          "metadata": {
            "tags": []
          },
          "execution_count": 51
        }
      ]
    },
    {
      "cell_type": "code",
      "metadata": {
        "id": "by3th-L4ZOmO",
        "colab_type": "code",
        "colab": {}
      },
      "source": [
        "train['실제_최고기온'] = real_total_weather['최고기온']\n",
        "train['실제_최저기온'] = real_total_weather['최저기온']\n",
        "train['실제_강수량'] = real_total_weather['강수량']\n",
        "train['실제_평균풍속'] = real_total_weather['평균풍속']"
      ],
      "execution_count": null,
      "outputs": []
    },
    {
      "cell_type": "code",
      "metadata": {
        "id": "Sy9napAyDfkh",
        "colab_type": "code",
        "colab": {
          "base_uri": "https://localhost:8080/",
          "height": 1000
        },
        "outputId": "a1e2943b-3e9b-49d3-ceff-18182af46117"
      },
      "source": [
        "train"
      ],
      "execution_count": null,
      "outputs": [
        {
          "output_type": "execute_result",
          "data": {
            "text/html": [
              "<div>\n",
              "<style scoped>\n",
              "    .dataframe tbody tr th:only-of-type {\n",
              "        vertical-align: middle;\n",
              "    }\n",
              "\n",
              "    .dataframe tbody tr th {\n",
              "        vertical-align: top;\n",
              "    }\n",
              "\n",
              "    .dataframe thead th {\n",
              "        text-align: right;\n",
              "    }\n",
              "</style>\n",
              "<table border=\"1\" class=\"dataframe\">\n",
              "  <thead>\n",
              "    <tr style=\"text-align: right;\">\n",
              "      <th></th>\n",
              "      <th>Unnamed: 0</th>\n",
              "      <th>방송일시</th>\n",
              "      <th>노출(분)</th>\n",
              "      <th>마더코드</th>\n",
              "      <th>상품코드</th>\n",
              "      <th>상품명</th>\n",
              "      <th>상품군</th>\n",
              "      <th>취급액</th>\n",
              "      <th>날짜</th>\n",
              "      <th>시간</th>\n",
              "      <th>요일</th>\n",
              "      <th>시</th>\n",
              "      <th>holiday</th>\n",
              "      <th>월</th>\n",
              "      <th>holiday(includeSS)</th>\n",
              "      <th>실제_서울_최고기온</th>\n",
              "      <th>실제_서울_최저기온</th>\n",
              "      <th>실제_서울_강수량(mm)</th>\n",
              "      <th>실제_서울_평균풍속(m/s)</th>\n",
              "      <th>실제_서울_날씨</th>\n",
              "      <th>실제_수원_최고기온</th>\n",
              "      <th>실제_수원_최저기온</th>\n",
              "      <th>실제_수원_강수량(mm)</th>\n",
              "      <th>실제_수원_평균풍속(m/s)</th>\n",
              "      <th>실제_수원_날씨</th>\n",
              "      <th>실제_파주_최고기온</th>\n",
              "      <th>실제_파주_최저기온</th>\n",
              "      <th>실제_파주_강수량(mm)</th>\n",
              "      <th>실제_파주_평균풍속(m/s)</th>\n",
              "      <th>실제_파주_날씨</th>\n",
              "      <th>예보_서울_강수확률</th>\n",
              "      <th>예보_서울_강수량</th>\n",
              "      <th>예보_서울_하늘상태</th>\n",
              "      <th>예보_서울_일최고기온</th>\n",
              "      <th>예보_서울_일최저기온</th>\n",
              "      <th>예보_일산_강수확률</th>\n",
              "      <th>예보_일산_강수량</th>\n",
              "      <th>예보_일산_일최고기온</th>\n",
              "      <th>예보_일산_일최저기온</th>\n",
              "      <th>예보_수원_강수확률</th>\n",
              "      <th>예보_수원_강수량</th>\n",
              "      <th>예보_수원_일최고기온</th>\n",
              "      <th>예보_수원_일최저기온</th>\n",
              "      <th>계절</th>\n",
              "      <th>DATE</th>\n",
              "      <th>미세먼지(㎍/㎥)</th>\n",
              "      <th>오존(ppm)</th>\n",
              "      <th>이산화질소농도(ppm)</th>\n",
              "      <th>일산화탄소농도(ppm)</th>\n",
              "      <th>아황산가스농도(ppm)</th>\n",
              "      <th>초미세먼지(㎍/㎥)</th>\n",
              "      <th>분류</th>\n",
              "      <th>MONTH</th>\n",
              "      <th>HOUR</th>\n",
              "      <th>DAY</th>\n",
              "      <th>Active Users</th>\n",
              "      <th>new판매단가</th>\n",
              "      <th>new주문량</th>\n",
              "      <th>prime_time</th>\n",
              "      <th>prime_day</th>\n",
              "      <th>top_code</th>\n",
              "      <th>top_cat</th>\n",
              "      <th>x1_cat</th>\n",
              "      <th>x2_cat</th>\n",
              "      <th>top_real_weather</th>\n",
              "      <th>실제_최고기온</th>\n",
              "      <th>실제_최저기온</th>\n",
              "      <th>실제_강수량</th>\n",
              "      <th>실제_평균풍속</th>\n",
              "    </tr>\n",
              "  </thead>\n",
              "  <tbody>\n",
              "    <tr>\n",
              "      <th>0</th>\n",
              "      <td>17373</td>\n",
              "      <td>2019-06-15 00:00:00</td>\n",
              "      <td>20.0</td>\n",
              "      <td>100305</td>\n",
              "      <td>200981</td>\n",
              "      <td>오모떼 미라클쉐이핑 브라팬티 시즌3</td>\n",
              "      <td>inner</td>\n",
              "      <td>16517000</td>\n",
              "      <td>2019-06-15</td>\n",
              "      <td>00:00:00</td>\n",
              "      <td>5</td>\n",
              "      <td>0</td>\n",
              "      <td>0</td>\n",
              "      <td>6</td>\n",
              "      <td>1</td>\n",
              "      <td>27.4</td>\n",
              "      <td>17.9</td>\n",
              "      <td>2.1</td>\n",
              "      <td>2.5</td>\n",
              "      <td>구름조금/비/천둥번개</td>\n",
              "      <td>26.8</td>\n",
              "      <td>17.1</td>\n",
              "      <td>0.3</td>\n",
              "      <td>2.4</td>\n",
              "      <td>구름조금/소나기/안개</td>\n",
              "      <td>27.6</td>\n",
              "      <td>15.3</td>\n",
              "      <td>0.0</td>\n",
              "      <td>1.7</td>\n",
              "      <td>구름조금/비</td>\n",
              "      <td>10.337838</td>\n",
              "      <td>0.210526</td>\n",
              "      <td>1.925676</td>\n",
              "      <td>26.368421</td>\n",
              "      <td>17.0000</td>\n",
              "      <td>8.986486</td>\n",
              "      <td>0.078947</td>\n",
              "      <td>25.105263</td>\n",
              "      <td>16.0000</td>\n",
              "      <td>8.513514</td>\n",
              "      <td>0.078947</td>\n",
              "      <td>26.263158</td>\n",
              "      <td>16.00</td>\n",
              "      <td>2</td>\n",
              "      <td>20190615</td>\n",
              "      <td>36.00</td>\n",
              "      <td>21.36</td>\n",
              "      <td>0.04308</td>\n",
              "      <td>0.01296</td>\n",
              "      <td>0.364</td>\n",
              "      <td>0.0030</td>\n",
              "      <td>f1</td>\n",
              "      <td>6</td>\n",
              "      <td>0</td>\n",
              "      <td>sat</td>\n",
              "      <td>118574.0</td>\n",
              "      <td>11.686879</td>\n",
              "      <td>4.933022</td>\n",
              "      <td>7</td>\n",
              "      <td>1</td>\n",
              "      <td>0</td>\n",
              "      <td>45</td>\n",
              "      <td>-0.006627</td>\n",
              "      <td>0.008063</td>\n",
              "      <td>1</td>\n",
              "      <td>27.266667</td>\n",
              "      <td>16.766667</td>\n",
              "      <td>0.8</td>\n",
              "      <td>2.200000</td>\n",
              "    </tr>\n",
              "    <tr>\n",
              "      <th>1</th>\n",
              "      <td>17374</td>\n",
              "      <td>2019-06-15 00:20:00</td>\n",
              "      <td>20.0</td>\n",
              "      <td>100305</td>\n",
              "      <td>200981</td>\n",
              "      <td>오모떼 미라클쉐이핑 브라팬티 시즌3</td>\n",
              "      <td>inner</td>\n",
              "      <td>44829000</td>\n",
              "      <td>2019-06-15</td>\n",
              "      <td>00:20:00</td>\n",
              "      <td>5</td>\n",
              "      <td>0</td>\n",
              "      <td>0</td>\n",
              "      <td>6</td>\n",
              "      <td>1</td>\n",
              "      <td>27.4</td>\n",
              "      <td>17.9</td>\n",
              "      <td>2.1</td>\n",
              "      <td>2.5</td>\n",
              "      <td>구름조금/비/천둥번개</td>\n",
              "      <td>26.8</td>\n",
              "      <td>17.1</td>\n",
              "      <td>0.3</td>\n",
              "      <td>2.4</td>\n",
              "      <td>구름조금/소나기/안개</td>\n",
              "      <td>27.6</td>\n",
              "      <td>15.3</td>\n",
              "      <td>0.0</td>\n",
              "      <td>1.7</td>\n",
              "      <td>구름조금/비</td>\n",
              "      <td>10.337838</td>\n",
              "      <td>0.210526</td>\n",
              "      <td>1.925676</td>\n",
              "      <td>26.368421</td>\n",
              "      <td>17.0000</td>\n",
              "      <td>8.986486</td>\n",
              "      <td>0.078947</td>\n",
              "      <td>25.105263</td>\n",
              "      <td>16.0000</td>\n",
              "      <td>8.513514</td>\n",
              "      <td>0.078947</td>\n",
              "      <td>26.263158</td>\n",
              "      <td>16.00</td>\n",
              "      <td>2</td>\n",
              "      <td>20190615</td>\n",
              "      <td>36.00</td>\n",
              "      <td>21.36</td>\n",
              "      <td>0.04308</td>\n",
              "      <td>0.01296</td>\n",
              "      <td>0.364</td>\n",
              "      <td>0.0030</td>\n",
              "      <td>f1</td>\n",
              "      <td>6</td>\n",
              "      <td>0</td>\n",
              "      <td>sat</td>\n",
              "      <td>118574.0</td>\n",
              "      <td>11.686879</td>\n",
              "      <td>5.931487</td>\n",
              "      <td>7</td>\n",
              "      <td>1</td>\n",
              "      <td>0</td>\n",
              "      <td>45</td>\n",
              "      <td>-0.006627</td>\n",
              "      <td>0.008063</td>\n",
              "      <td>1</td>\n",
              "      <td>27.266667</td>\n",
              "      <td>16.766667</td>\n",
              "      <td>0.8</td>\n",
              "      <td>2.200000</td>\n",
              "    </tr>\n",
              "    <tr>\n",
              "      <th>2</th>\n",
              "      <td>17375</td>\n",
              "      <td>2019-06-15 00:40:00</td>\n",
              "      <td>20.0</td>\n",
              "      <td>100305</td>\n",
              "      <td>200981</td>\n",
              "      <td>오모떼 미라클쉐이핑 브라팬티 시즌3</td>\n",
              "      <td>inner</td>\n",
              "      <td>56057000</td>\n",
              "      <td>2019-06-15</td>\n",
              "      <td>00:40:00</td>\n",
              "      <td>5</td>\n",
              "      <td>0</td>\n",
              "      <td>0</td>\n",
              "      <td>6</td>\n",
              "      <td>1</td>\n",
              "      <td>27.4</td>\n",
              "      <td>17.9</td>\n",
              "      <td>2.1</td>\n",
              "      <td>2.5</td>\n",
              "      <td>구름조금/비/천둥번개</td>\n",
              "      <td>26.8</td>\n",
              "      <td>17.1</td>\n",
              "      <td>0.3</td>\n",
              "      <td>2.4</td>\n",
              "      <td>구름조금/소나기/안개</td>\n",
              "      <td>27.6</td>\n",
              "      <td>15.3</td>\n",
              "      <td>0.0</td>\n",
              "      <td>1.7</td>\n",
              "      <td>구름조금/비</td>\n",
              "      <td>10.337838</td>\n",
              "      <td>0.210526</td>\n",
              "      <td>1.925676</td>\n",
              "      <td>26.368421</td>\n",
              "      <td>17.0000</td>\n",
              "      <td>8.986486</td>\n",
              "      <td>0.078947</td>\n",
              "      <td>25.105263</td>\n",
              "      <td>16.0000</td>\n",
              "      <td>8.513514</td>\n",
              "      <td>0.078947</td>\n",
              "      <td>26.263158</td>\n",
              "      <td>16.00</td>\n",
              "      <td>2</td>\n",
              "      <td>20190615</td>\n",
              "      <td>36.00</td>\n",
              "      <td>21.36</td>\n",
              "      <td>0.04308</td>\n",
              "      <td>0.01296</td>\n",
              "      <td>0.364</td>\n",
              "      <td>0.0030</td>\n",
              "      <td>f1</td>\n",
              "      <td>6</td>\n",
              "      <td>0</td>\n",
              "      <td>sat</td>\n",
              "      <td>118574.0</td>\n",
              "      <td>11.686879</td>\n",
              "      <td>6.155001</td>\n",
              "      <td>7</td>\n",
              "      <td>1</td>\n",
              "      <td>0</td>\n",
              "      <td>45</td>\n",
              "      <td>-0.006627</td>\n",
              "      <td>0.008063</td>\n",
              "      <td>1</td>\n",
              "      <td>27.266667</td>\n",
              "      <td>16.766667</td>\n",
              "      <td>0.8</td>\n",
              "      <td>2.200000</td>\n",
              "    </tr>\n",
              "    <tr>\n",
              "      <th>3</th>\n",
              "      <td>17376</td>\n",
              "      <td>2019-06-15 01:00:00</td>\n",
              "      <td>30.0</td>\n",
              "      <td>100374</td>\n",
              "      <td>201202</td>\n",
              "      <td>USPA  남성 폴로셔츠 위켄드 컬렉션 3종</td>\n",
              "      <td>cloth</td>\n",
              "      <td>9996000</td>\n",
              "      <td>2019-06-15</td>\n",
              "      <td>01:00:00</td>\n",
              "      <td>5</td>\n",
              "      <td>1</td>\n",
              "      <td>0</td>\n",
              "      <td>6</td>\n",
              "      <td>1</td>\n",
              "      <td>27.4</td>\n",
              "      <td>17.9</td>\n",
              "      <td>2.1</td>\n",
              "      <td>2.5</td>\n",
              "      <td>구름조금/비/천둥번개</td>\n",
              "      <td>26.8</td>\n",
              "      <td>17.1</td>\n",
              "      <td>0.3</td>\n",
              "      <td>2.4</td>\n",
              "      <td>구름조금/소나기/안개</td>\n",
              "      <td>27.6</td>\n",
              "      <td>15.3</td>\n",
              "      <td>0.0</td>\n",
              "      <td>1.7</td>\n",
              "      <td>구름조금/비</td>\n",
              "      <td>10.337838</td>\n",
              "      <td>0.210526</td>\n",
              "      <td>1.925676</td>\n",
              "      <td>26.368421</td>\n",
              "      <td>17.0000</td>\n",
              "      <td>8.986486</td>\n",
              "      <td>0.078947</td>\n",
              "      <td>25.105263</td>\n",
              "      <td>16.0000</td>\n",
              "      <td>8.513514</td>\n",
              "      <td>0.078947</td>\n",
              "      <td>26.263158</td>\n",
              "      <td>16.00</td>\n",
              "      <td>2</td>\n",
              "      <td>20190615</td>\n",
              "      <td>36.00</td>\n",
              "      <td>21.36</td>\n",
              "      <td>0.04308</td>\n",
              "      <td>0.01296</td>\n",
              "      <td>0.364</td>\n",
              "      <td>0.0030</td>\n",
              "      <td>g11</td>\n",
              "      <td>6</td>\n",
              "      <td>1</td>\n",
              "      <td>sat</td>\n",
              "      <td>118574.0</td>\n",
              "      <td>11.141862</td>\n",
              "      <td>4.975834</td>\n",
              "      <td>6</td>\n",
              "      <td>1</td>\n",
              "      <td>0</td>\n",
              "      <td>32</td>\n",
              "      <td>-0.076889</td>\n",
              "      <td>0.135770</td>\n",
              "      <td>1</td>\n",
              "      <td>27.266667</td>\n",
              "      <td>16.766667</td>\n",
              "      <td>0.8</td>\n",
              "      <td>2.200000</td>\n",
              "    </tr>\n",
              "    <tr>\n",
              "      <th>4</th>\n",
              "      <td>17377</td>\n",
              "      <td>2019-06-15 01:00:00</td>\n",
              "      <td>30.0</td>\n",
              "      <td>100374</td>\n",
              "      <td>201206</td>\n",
              "      <td>USPA  여성 폴로셔츠 위켄드 컬렉션 3종</td>\n",
              "      <td>cloth</td>\n",
              "      <td>9409000</td>\n",
              "      <td>2019-06-15</td>\n",
              "      <td>01:00:00</td>\n",
              "      <td>5</td>\n",
              "      <td>1</td>\n",
              "      <td>0</td>\n",
              "      <td>6</td>\n",
              "      <td>1</td>\n",
              "      <td>27.4</td>\n",
              "      <td>17.9</td>\n",
              "      <td>2.1</td>\n",
              "      <td>2.5</td>\n",
              "      <td>구름조금/비/천둥번개</td>\n",
              "      <td>26.8</td>\n",
              "      <td>17.1</td>\n",
              "      <td>0.3</td>\n",
              "      <td>2.4</td>\n",
              "      <td>구름조금/소나기/안개</td>\n",
              "      <td>27.6</td>\n",
              "      <td>15.3</td>\n",
              "      <td>0.0</td>\n",
              "      <td>1.7</td>\n",
              "      <td>구름조금/비</td>\n",
              "      <td>10.337838</td>\n",
              "      <td>0.210526</td>\n",
              "      <td>1.925676</td>\n",
              "      <td>26.368421</td>\n",
              "      <td>17.0000</td>\n",
              "      <td>8.986486</td>\n",
              "      <td>0.078947</td>\n",
              "      <td>25.105263</td>\n",
              "      <td>16.0000</td>\n",
              "      <td>8.513514</td>\n",
              "      <td>0.078947</td>\n",
              "      <td>26.263158</td>\n",
              "      <td>16.00</td>\n",
              "      <td>2</td>\n",
              "      <td>20190615</td>\n",
              "      <td>36.00</td>\n",
              "      <td>21.36</td>\n",
              "      <td>0.04308</td>\n",
              "      <td>0.01296</td>\n",
              "      <td>0.364</td>\n",
              "      <td>0.0030</td>\n",
              "      <td>g11</td>\n",
              "      <td>6</td>\n",
              "      <td>1</td>\n",
              "      <td>sat</td>\n",
              "      <td>118574.0</td>\n",
              "      <td>11.141862</td>\n",
              "      <td>4.915315</td>\n",
              "      <td>6</td>\n",
              "      <td>1</td>\n",
              "      <td>0</td>\n",
              "      <td>32</td>\n",
              "      <td>-0.076889</td>\n",
              "      <td>0.135770</td>\n",
              "      <td>1</td>\n",
              "      <td>27.266667</td>\n",
              "      <td>16.766667</td>\n",
              "      <td>0.8</td>\n",
              "      <td>2.200000</td>\n",
              "    </tr>\n",
              "    <tr>\n",
              "      <th>...</th>\n",
              "      <td>...</td>\n",
              "      <td>...</td>\n",
              "      <td>...</td>\n",
              "      <td>...</td>\n",
              "      <td>...</td>\n",
              "      <td>...</td>\n",
              "      <td>...</td>\n",
              "      <td>...</td>\n",
              "      <td>...</td>\n",
              "      <td>...</td>\n",
              "      <td>...</td>\n",
              "      <td>...</td>\n",
              "      <td>...</td>\n",
              "      <td>...</td>\n",
              "      <td>...</td>\n",
              "      <td>...</td>\n",
              "      <td>...</td>\n",
              "      <td>...</td>\n",
              "      <td>...</td>\n",
              "      <td>...</td>\n",
              "      <td>...</td>\n",
              "      <td>...</td>\n",
              "      <td>...</td>\n",
              "      <td>...</td>\n",
              "      <td>...</td>\n",
              "      <td>...</td>\n",
              "      <td>...</td>\n",
              "      <td>...</td>\n",
              "      <td>...</td>\n",
              "      <td>...</td>\n",
              "      <td>...</td>\n",
              "      <td>...</td>\n",
              "      <td>...</td>\n",
              "      <td>...</td>\n",
              "      <td>...</td>\n",
              "      <td>...</td>\n",
              "      <td>...</td>\n",
              "      <td>...</td>\n",
              "      <td>...</td>\n",
              "      <td>...</td>\n",
              "      <td>...</td>\n",
              "      <td>...</td>\n",
              "      <td>...</td>\n",
              "      <td>...</td>\n",
              "      <td>...</td>\n",
              "      <td>...</td>\n",
              "      <td>...</td>\n",
              "      <td>...</td>\n",
              "      <td>...</td>\n",
              "      <td>...</td>\n",
              "      <td>...</td>\n",
              "      <td>...</td>\n",
              "      <td>...</td>\n",
              "      <td>...</td>\n",
              "      <td>...</td>\n",
              "      <td>...</td>\n",
              "      <td>...</td>\n",
              "      <td>...</td>\n",
              "      <td>...</td>\n",
              "      <td>...</td>\n",
              "      <td>...</td>\n",
              "      <td>...</td>\n",
              "      <td>...</td>\n",
              "      <td>...</td>\n",
              "      <td>...</td>\n",
              "      <td>...</td>\n",
              "      <td>...</td>\n",
              "      <td>...</td>\n",
              "      <td>...</td>\n",
              "    </tr>\n",
              "    <tr>\n",
              "      <th>7508</th>\n",
              "      <td>25398</td>\n",
              "      <td>2019-08-31 23:00:00</td>\n",
              "      <td>20.0</td>\n",
              "      <td>100205</td>\n",
              "      <td>200739</td>\n",
              "      <td>보루네오 루나시즌2 유로탑 멀티수납형 LED침대 킹</td>\n",
              "      <td>furniture</td>\n",
              "      <td>52265000</td>\n",
              "      <td>2019-08-31</td>\n",
              "      <td>23:00:00</td>\n",
              "      <td>5</td>\n",
              "      <td>23</td>\n",
              "      <td>0</td>\n",
              "      <td>8</td>\n",
              "      <td>1</td>\n",
              "      <td>28.9</td>\n",
              "      <td>18.5</td>\n",
              "      <td>0.0</td>\n",
              "      <td>1.8</td>\n",
              "      <td>구름조금</td>\n",
              "      <td>27.7</td>\n",
              "      <td>17.4</td>\n",
              "      <td>0.0</td>\n",
              "      <td>1.7</td>\n",
              "      <td>구름조금/비</td>\n",
              "      <td>27.7</td>\n",
              "      <td>15.5</td>\n",
              "      <td>0.0</td>\n",
              "      <td>0.9</td>\n",
              "      <td>맑음</td>\n",
              "      <td>22.229730</td>\n",
              "      <td>0.000000</td>\n",
              "      <td>3.222973</td>\n",
              "      <td>29.000000</td>\n",
              "      <td>20.3125</td>\n",
              "      <td>17.567568</td>\n",
              "      <td>0.000000</td>\n",
              "      <td>28.210526</td>\n",
              "      <td>18.0625</td>\n",
              "      <td>24.256757</td>\n",
              "      <td>0.131579</td>\n",
              "      <td>28.578947</td>\n",
              "      <td>19.75</td>\n",
              "      <td>2</td>\n",
              "      <td>20190831</td>\n",
              "      <td>16.56</td>\n",
              "      <td>9.36</td>\n",
              "      <td>0.03184</td>\n",
              "      <td>0.01672</td>\n",
              "      <td>0.384</td>\n",
              "      <td>0.0034</td>\n",
              "      <td>a1</td>\n",
              "      <td>8</td>\n",
              "      <td>23</td>\n",
              "      <td>sat</td>\n",
              "      <td>149965.0</td>\n",
              "      <td>13.381646</td>\n",
              "      <td>4.390192</td>\n",
              "      <td>3</td>\n",
              "      <td>1</td>\n",
              "      <td>9</td>\n",
              "      <td>7</td>\n",
              "      <td>-0.011987</td>\n",
              "      <td>0.015665</td>\n",
              "      <td>17</td>\n",
              "      <td>28.100000</td>\n",
              "      <td>17.133333</td>\n",
              "      <td>0.0</td>\n",
              "      <td>1.466667</td>\n",
              "    </tr>\n",
              "    <tr>\n",
              "      <th>7509</th>\n",
              "      <td>25399</td>\n",
              "      <td>2019-08-31 23:20:00</td>\n",
              "      <td>20.0</td>\n",
              "      <td>100292</td>\n",
              "      <td>200945</td>\n",
              "      <td>[가이거] 블랙 에디션 다이아몬드 워치(여성용)</td>\n",
              "      <td>etc</td>\n",
              "      <td>7047000</td>\n",
              "      <td>2019-08-31</td>\n",
              "      <td>23:20:00</td>\n",
              "      <td>5</td>\n",
              "      <td>23</td>\n",
              "      <td>0</td>\n",
              "      <td>8</td>\n",
              "      <td>1</td>\n",
              "      <td>28.9</td>\n",
              "      <td>18.5</td>\n",
              "      <td>0.0</td>\n",
              "      <td>1.8</td>\n",
              "      <td>구름조금</td>\n",
              "      <td>27.7</td>\n",
              "      <td>17.4</td>\n",
              "      <td>0.0</td>\n",
              "      <td>1.7</td>\n",
              "      <td>구름조금/비</td>\n",
              "      <td>27.7</td>\n",
              "      <td>15.5</td>\n",
              "      <td>0.0</td>\n",
              "      <td>0.9</td>\n",
              "      <td>맑음</td>\n",
              "      <td>22.229730</td>\n",
              "      <td>0.000000</td>\n",
              "      <td>3.222973</td>\n",
              "      <td>29.000000</td>\n",
              "      <td>20.3125</td>\n",
              "      <td>17.567568</td>\n",
              "      <td>0.000000</td>\n",
              "      <td>28.210526</td>\n",
              "      <td>18.0625</td>\n",
              "      <td>24.256757</td>\n",
              "      <td>0.131579</td>\n",
              "      <td>28.578947</td>\n",
              "      <td>19.75</td>\n",
              "      <td>2</td>\n",
              "      <td>20190831</td>\n",
              "      <td>16.56</td>\n",
              "      <td>9.36</td>\n",
              "      <td>0.03184</td>\n",
              "      <td>0.01672</td>\n",
              "      <td>0.384</td>\n",
              "      <td>0.0034</td>\n",
              "      <td>i29</td>\n",
              "      <td>8</td>\n",
              "      <td>23</td>\n",
              "      <td>sat</td>\n",
              "      <td>149965.0</td>\n",
              "      <td>12.089539</td>\n",
              "      <td>3.678574</td>\n",
              "      <td>3</td>\n",
              "      <td>1</td>\n",
              "      <td>0</td>\n",
              "      <td>10</td>\n",
              "      <td>-0.005016</td>\n",
              "      <td>0.006386</td>\n",
              "      <td>17</td>\n",
              "      <td>28.100000</td>\n",
              "      <td>17.133333</td>\n",
              "      <td>0.0</td>\n",
              "      <td>1.466667</td>\n",
              "    </tr>\n",
              "    <tr>\n",
              "      <th>7510</th>\n",
              "      <td>25400</td>\n",
              "      <td>2019-08-31 23:20:00</td>\n",
              "      <td>20.0</td>\n",
              "      <td>100292</td>\n",
              "      <td>200944</td>\n",
              "      <td>[가이거] 블랙 에디션 다이아몬드 워치(남성용)</td>\n",
              "      <td>etc</td>\n",
              "      <td>7551000</td>\n",
              "      <td>2019-08-31</td>\n",
              "      <td>23:20:00</td>\n",
              "      <td>5</td>\n",
              "      <td>23</td>\n",
              "      <td>0</td>\n",
              "      <td>8</td>\n",
              "      <td>1</td>\n",
              "      <td>28.9</td>\n",
              "      <td>18.5</td>\n",
              "      <td>0.0</td>\n",
              "      <td>1.8</td>\n",
              "      <td>구름조금</td>\n",
              "      <td>27.7</td>\n",
              "      <td>17.4</td>\n",
              "      <td>0.0</td>\n",
              "      <td>1.7</td>\n",
              "      <td>구름조금/비</td>\n",
              "      <td>27.7</td>\n",
              "      <td>15.5</td>\n",
              "      <td>0.0</td>\n",
              "      <td>0.9</td>\n",
              "      <td>맑음</td>\n",
              "      <td>22.229730</td>\n",
              "      <td>0.000000</td>\n",
              "      <td>3.222973</td>\n",
              "      <td>29.000000</td>\n",
              "      <td>20.3125</td>\n",
              "      <td>17.567568</td>\n",
              "      <td>0.000000</td>\n",
              "      <td>28.210526</td>\n",
              "      <td>18.0625</td>\n",
              "      <td>24.256757</td>\n",
              "      <td>0.131579</td>\n",
              "      <td>28.578947</td>\n",
              "      <td>19.75</td>\n",
              "      <td>2</td>\n",
              "      <td>20190831</td>\n",
              "      <td>16.56</td>\n",
              "      <td>9.36</td>\n",
              "      <td>0.03184</td>\n",
              "      <td>0.01672</td>\n",
              "      <td>0.384</td>\n",
              "      <td>0.0034</td>\n",
              "      <td>i29</td>\n",
              "      <td>8</td>\n",
              "      <td>23</td>\n",
              "      <td>sat</td>\n",
              "      <td>149965.0</td>\n",
              "      <td>12.089539</td>\n",
              "      <td>3.747652</td>\n",
              "      <td>3</td>\n",
              "      <td>1</td>\n",
              "      <td>0</td>\n",
              "      <td>10</td>\n",
              "      <td>-0.005016</td>\n",
              "      <td>0.006386</td>\n",
              "      <td>17</td>\n",
              "      <td>28.100000</td>\n",
              "      <td>17.133333</td>\n",
              "      <td>0.0</td>\n",
              "      <td>1.466667</td>\n",
              "    </tr>\n",
              "    <tr>\n",
              "      <th>7511</th>\n",
              "      <td>25401</td>\n",
              "      <td>2019-08-31 23:40:00</td>\n",
              "      <td>20.0</td>\n",
              "      <td>100292</td>\n",
              "      <td>200945</td>\n",
              "      <td>[가이거] 블랙 에디션 다이아몬드 워치(여성용)</td>\n",
              "      <td>etc</td>\n",
              "      <td>23624000</td>\n",
              "      <td>2019-08-31</td>\n",
              "      <td>23:40:00</td>\n",
              "      <td>5</td>\n",
              "      <td>23</td>\n",
              "      <td>0</td>\n",
              "      <td>8</td>\n",
              "      <td>1</td>\n",
              "      <td>28.9</td>\n",
              "      <td>18.5</td>\n",
              "      <td>0.0</td>\n",
              "      <td>1.8</td>\n",
              "      <td>구름조금</td>\n",
              "      <td>27.7</td>\n",
              "      <td>17.4</td>\n",
              "      <td>0.0</td>\n",
              "      <td>1.7</td>\n",
              "      <td>구름조금/비</td>\n",
              "      <td>27.7</td>\n",
              "      <td>15.5</td>\n",
              "      <td>0.0</td>\n",
              "      <td>0.9</td>\n",
              "      <td>맑음</td>\n",
              "      <td>22.229730</td>\n",
              "      <td>0.000000</td>\n",
              "      <td>3.222973</td>\n",
              "      <td>29.000000</td>\n",
              "      <td>20.3125</td>\n",
              "      <td>17.567568</td>\n",
              "      <td>0.000000</td>\n",
              "      <td>28.210526</td>\n",
              "      <td>18.0625</td>\n",
              "      <td>24.256757</td>\n",
              "      <td>0.131579</td>\n",
              "      <td>28.578947</td>\n",
              "      <td>19.75</td>\n",
              "      <td>2</td>\n",
              "      <td>20190831</td>\n",
              "      <td>16.56</td>\n",
              "      <td>9.36</td>\n",
              "      <td>0.03184</td>\n",
              "      <td>0.01672</td>\n",
              "      <td>0.384</td>\n",
              "      <td>0.0034</td>\n",
              "      <td>i29</td>\n",
              "      <td>8</td>\n",
              "      <td>23</td>\n",
              "      <td>sat</td>\n",
              "      <td>149965.0</td>\n",
              "      <td>12.089539</td>\n",
              "      <td>4.888235</td>\n",
              "      <td>3</td>\n",
              "      <td>1</td>\n",
              "      <td>0</td>\n",
              "      <td>10</td>\n",
              "      <td>-0.005016</td>\n",
              "      <td>0.006386</td>\n",
              "      <td>17</td>\n",
              "      <td>28.100000</td>\n",
              "      <td>17.133333</td>\n",
              "      <td>0.0</td>\n",
              "      <td>1.466667</td>\n",
              "    </tr>\n",
              "    <tr>\n",
              "      <th>7512</th>\n",
              "      <td>25402</td>\n",
              "      <td>2019-08-31 23:40:00</td>\n",
              "      <td>20.0</td>\n",
              "      <td>100292</td>\n",
              "      <td>200944</td>\n",
              "      <td>[가이거] 블랙 에디션 다이아몬드 워치(남성용)</td>\n",
              "      <td>etc</td>\n",
              "      <td>16523000</td>\n",
              "      <td>2019-08-31</td>\n",
              "      <td>23:40:00</td>\n",
              "      <td>5</td>\n",
              "      <td>23</td>\n",
              "      <td>0</td>\n",
              "      <td>8</td>\n",
              "      <td>1</td>\n",
              "      <td>28.9</td>\n",
              "      <td>18.5</td>\n",
              "      <td>0.0</td>\n",
              "      <td>1.8</td>\n",
              "      <td>구름조금</td>\n",
              "      <td>27.7</td>\n",
              "      <td>17.4</td>\n",
              "      <td>0.0</td>\n",
              "      <td>1.7</td>\n",
              "      <td>구름조금/비</td>\n",
              "      <td>27.7</td>\n",
              "      <td>15.5</td>\n",
              "      <td>0.0</td>\n",
              "      <td>0.9</td>\n",
              "      <td>맑음</td>\n",
              "      <td>22.229730</td>\n",
              "      <td>0.000000</td>\n",
              "      <td>3.222973</td>\n",
              "      <td>29.000000</td>\n",
              "      <td>20.3125</td>\n",
              "      <td>17.567568</td>\n",
              "      <td>0.000000</td>\n",
              "      <td>28.210526</td>\n",
              "      <td>18.0625</td>\n",
              "      <td>24.256757</td>\n",
              "      <td>0.131579</td>\n",
              "      <td>28.578947</td>\n",
              "      <td>19.75</td>\n",
              "      <td>2</td>\n",
              "      <td>20190831</td>\n",
              "      <td>16.56</td>\n",
              "      <td>9.36</td>\n",
              "      <td>0.03184</td>\n",
              "      <td>0.01672</td>\n",
              "      <td>0.384</td>\n",
              "      <td>0.0034</td>\n",
              "      <td>i29</td>\n",
              "      <td>8</td>\n",
              "      <td>23</td>\n",
              "      <td>sat</td>\n",
              "      <td>149965.0</td>\n",
              "      <td>12.089539</td>\n",
              "      <td>4.530725</td>\n",
              "      <td>3</td>\n",
              "      <td>1</td>\n",
              "      <td>0</td>\n",
              "      <td>10</td>\n",
              "      <td>-0.005016</td>\n",
              "      <td>0.006386</td>\n",
              "      <td>17</td>\n",
              "      <td>28.100000</td>\n",
              "      <td>17.133333</td>\n",
              "      <td>0.0</td>\n",
              "      <td>1.466667</td>\n",
              "    </tr>\n",
              "  </tbody>\n",
              "</table>\n",
              "<p>7513 rows × 69 columns</p>\n",
              "</div>"
            ],
            "text/plain": [
              "      Unnamed: 0                방송일시  노출(분)  ...    실제_최저기온  실제_강수량   실제_평균풍속\n",
              "0          17373 2019-06-15 00:00:00   20.0  ...  16.766667     0.8  2.200000\n",
              "1          17374 2019-06-15 00:20:00   20.0  ...  16.766667     0.8  2.200000\n",
              "2          17375 2019-06-15 00:40:00   20.0  ...  16.766667     0.8  2.200000\n",
              "3          17376 2019-06-15 01:00:00   30.0  ...  16.766667     0.8  2.200000\n",
              "4          17377 2019-06-15 01:00:00   30.0  ...  16.766667     0.8  2.200000\n",
              "...          ...                 ...    ...  ...        ...     ...       ...\n",
              "7508       25398 2019-08-31 23:00:00   20.0  ...  17.133333     0.0  1.466667\n",
              "7509       25399 2019-08-31 23:20:00   20.0  ...  17.133333     0.0  1.466667\n",
              "7510       25400 2019-08-31 23:20:00   20.0  ...  17.133333     0.0  1.466667\n",
              "7511       25401 2019-08-31 23:40:00   20.0  ...  17.133333     0.0  1.466667\n",
              "7512       25402 2019-08-31 23:40:00   20.0  ...  17.133333     0.0  1.466667\n",
              "\n",
              "[7513 rows x 69 columns]"
            ]
          },
          "metadata": {
            "tags": []
          },
          "execution_count": 53
        }
      ]
    },
    {
      "cell_type": "code",
      "metadata": {
        "colab_type": "code",
        "id": "BwNzy2BNh-NN",
        "colab": {}
      },
      "source": [
        "#corr_mat = train.corr()\n",
        "#corr_mat['new주문량'].sort_values(ascending=False)"
      ],
      "execution_count": null,
      "outputs": []
    },
    {
      "cell_type": "code",
      "metadata": {
        "id": "3ZKBYNgwhI0W",
        "colab_type": "code",
        "colab": {}
      },
      "source": [
        "# train.drop(['Unnamed: 0', '방송일시', '상품명', '상품군', 'holiday', '요일', 'HOUR', '마더코드'], inplace=True, axis=1)\n",
        "# 방송일시, 상품명, 상품군, holiday(주말), 요일, HOUR, 마더코드"
      ],
      "execution_count": null,
      "outputs": []
    },
    {
      "cell_type": "markdown",
      "metadata": {
        "id": "p7gttZKmkvD9",
        "colab_type": "text"
      },
      "source": [
        "# Feature Engineering & 인코딩"
      ]
    },
    {
      "cell_type": "code",
      "metadata": {
        "id": "XELj9faphKbT",
        "colab_type": "code",
        "colab": {}
      },
      "source": [
        "# 빈도수인코딩(위의 원핫+pca와 비교해보기)\n",
        "def add_frequency_encoding(data,column): #데이터프레임,열을 받아서 빈도수인코딩열을 추가해줌\n",
        "  enc_nom = (data.groupby(column).size())/len(data)\n",
        "  data['freq_encode_{}'.format(column)] = data[column].apply(lambda x:enc_nom[x])\n",
        "  print(\"freq_encode column was added\")"
      ],
      "execution_count": null,
      "outputs": []
    },
    {
      "cell_type": "code",
      "metadata": {
        "id": "WNhBK7irVtnb",
        "colab_type": "code",
        "colab": {
          "base_uri": "https://localhost:8080/",
          "height": 34
        },
        "outputId": "da3262c5-1e77-45f4-cccc-bb8742b211c8"
      },
      "source": [
        "add_frequency_encoding(train,'분류')"
      ],
      "execution_count": null,
      "outputs": [
        {
          "output_type": "stream",
          "text": [
            "freq_encode column was added\n"
          ],
          "name": "stdout"
        }
      ]
    },
    {
      "cell_type": "code",
      "metadata": {
        "id": "JOHiUXsJhRqj",
        "colab_type": "code",
        "colab": {}
      },
      "source": [
        ""
      ],
      "execution_count": null,
      "outputs": []
    },
    {
      "cell_type": "markdown",
      "metadata": {
        "id": "BW6tQt3ZkxhB",
        "colab_type": "text"
      },
      "source": [
        "# 모델 생성 및 학습"
      ]
    },
    {
      "cell_type": "markdown",
      "metadata": {
        "id": "SIGBVzhtn-jb",
        "colab_type": "text"
      },
      "source": [
        "- train, test split"
      ]
    },
    {
      "cell_type": "code",
      "metadata": {
        "id": "jIQMIWFxn95p",
        "colab_type": "code",
        "colab": {
          "base_uri": "https://localhost:8080/",
          "height": 52
        },
        "outputId": "7fc02b9d-37d6-4c2a-9653-652c9e61f7df"
      },
      "source": [
        "'''\n",
        "# 통째로 split할경우 실행\n",
        "\n",
        "from sklearn.model_selection import train_test_split\n",
        "\n",
        "total_x = train.drop('new주문량', axis=1)\n",
        "total_y = train['new주문량']\n",
        "\n",
        "total_x_train, total_x_val, total_y_train, total_y_val = train_test_split(x, y, test_size=0.33, random_state=1234)\n",
        "'''"
      ],
      "execution_count": null,
      "outputs": [
        {
          "output_type": "execute_result",
          "data": {
            "application/vnd.google.colaboratory.intrinsic+json": {
              "type": "string"
            },
            "text/plain": [
              "\"\\n# 통째로 split할경우 실행\\n\\nfrom sklearn.model_selection import train_test_split\\n\\ntotal_x = train.drop('new주문량', axis=1)\\ntotal_y = train['new주문량']\\n\\ntotal_x_train, total_x_val, total_y_train, total_y_val = train_test_split(x, y, test_size=0.33, random_state=1234)\\n\""
            ]
          },
          "metadata": {
            "tags": []
          },
          "execution_count": 58
        }
      ]
    },
    {
      "cell_type": "code",
      "metadata": {
        "id": "HJ0-4OCshKh9",
        "colab_type": "code",
        "colab": {}
      },
      "source": [
        "#모든 카테고리에 대해 따로따로 자동 변수생성\n",
        "category_list = train['상품군'].unique().tolist()\n",
        "for i in category_list:\n",
        "  globals()['x_{}'.format(i)] = train.loc[train['상품군']==i] #카테고리에 해당하는 주문량제외 train데이터 할당\n",
        "  globals()['y_{}'.format(i)] = train['new주문량'].loc[train['상품군']==i] #카테고리에 해당하는 train의 주문량을 할당"
      ],
      "execution_count": null,
      "outputs": []
    },
    {
      "cell_type": "code",
      "metadata": {
        "id": "e987rMBKhKfq",
        "colab_type": "code",
        "colab": {
          "base_uri": "https://localhost:8080/",
          "height": 212
        },
        "outputId": "1c548882-19c8-48b1-dc24-42456df5af58"
      },
      "source": [
        "for i in range(11):\n",
        "  print('x_{}'.format(category_list[i])) #11개 상품군 다 성공적으로 변수 생성됨."
      ],
      "execution_count": null,
      "outputs": [
        {
          "output_type": "stream",
          "text": [
            "x_inner\n",
            "x_cloth\n",
            "x_elec\n",
            "x_living\n",
            "x_food\n",
            "x_health\n",
            "x_bedding\n",
            "x_furniture\n",
            "x_beauty\n",
            "x_etc\n",
            "x_life\n"
          ],
          "name": "stdout"
        }
      ]
    },
    {
      "cell_type": "code",
      "metadata": {
        "id": "upQWmAguhKdb",
        "colab_type": "code",
        "colab": {}
      },
      "source": [
        "#카테고리별로 x,y를 train test 스플릿해줌.\n",
        "from sklearn.model_selection import train_test_split\n",
        "for i in category_list:\n",
        "  x_for_split = globals()['x_{}'.format(i)]\n",
        "  y_for_split = globals()['y_{}'.format(i)]\n",
        "  globals()['x_train_{}'.format(i)], globals()['x_test_{}'.format(i)], globals()['y_train_{}'.format(i)], globals()['y_test_{}'.format(i)] = train_test_split(x_for_split, y_for_split, test_size=0.33, random_state=1234)\n",
        "# 카테고리별로 X_train_카테고리 , X_test_카테고리, Y_train_카테고리, Y_test_카테고리 생성됐음."
      ],
      "execution_count": null,
      "outputs": []
    },
    {
      "cell_type": "code",
      "metadata": {
        "id": "GLaql7kShKkF",
        "colab_type": "code",
        "colab": {}
      },
      "source": [
        "from sklearn.ensemble import RandomForestRegressor\n",
        "forest = RandomForestRegressor(random_state=1234)"
      ],
      "execution_count": null,
      "outputs": []
    },
    {
      "cell_type": "code",
      "metadata": {
        "id": "4bRDZAs8t3Tn",
        "colab_type": "code",
        "colab": {}
      },
      "source": [
        "seungen_feature = ['노출(분)', 'holiday(includeSS)','실제_최고기온','실제_최저기온','실제_강수량','실제_평균풍속' , '예보_서울_강수확률', '예보_서울_강수량',\n",
        "       '예보_서울_하늘상태', '예보_서울_일최고기온', '예보_서울_일최저기온', '예보_일산_강수확률', '예보_일산_강수량',\n",
        "       '예보_일산_일최고기온', '예보_일산_일최저기온', '예보_수원_강수확률', '예보_수원_강수량', '예보_수원_일최고기온',\n",
        "       '예보_수원_일최저기온', 'Active Users', 'new판매단가', 'prime_time',\n",
        "       'prime_day', 'top_code', 'top_cat']"
      ],
      "execution_count": null,
      "outputs": []
    },
    {
      "cell_type": "code",
      "metadata": {
        "id": "N2rU30ZLhRoX",
        "colab_type": "code",
        "colab": {
          "base_uri": "https://localhost:8080/",
          "height": 123
        },
        "outputId": "f5fb2693-d01f-4d8c-ce05-948494a6939a"
      },
      "source": [
        "feature_selection = x_train_beauty.loc[:,seungen_feature].columns.values\n",
        "feature_selection"
      ],
      "execution_count": null,
      "outputs": [
        {
          "output_type": "execute_result",
          "data": {
            "text/plain": [
              "array(['노출(분)', 'holiday(includeSS)', '실제_최고기온', '실제_최저기온', '실제_강수량',\n",
              "       '실제_평균풍속', '예보_서울_강수확률', '예보_서울_강수량', '예보_서울_하늘상태', '예보_서울_일최고기온',\n",
              "       '예보_서울_일최저기온', '예보_일산_강수확률', '예보_일산_강수량', '예보_일산_일최고기온',\n",
              "       '예보_일산_일최저기온', '예보_수원_강수확률', '예보_수원_강수량', '예보_수원_일최고기온',\n",
              "       '예보_수원_일최저기온', 'Active Users', 'new판매단가', 'prime_time',\n",
              "       'prime_day', 'top_code', 'top_cat'], dtype=object)"
            ]
          },
          "metadata": {
            "tags": []
          },
          "execution_count": 64
        }
      ]
    },
    {
      "cell_type": "code",
      "metadata": {
        "id": "yqdhGcWthRmT",
        "colab_type": "code",
        "colab": {}
      },
      "source": [
        "for i in category_list:\n",
        "  globals()['shop_train_x_{}'.format(i)] = globals()['x_train_{}'.format(i)][feature_selection]\n",
        "  globals()['shop_test_x_{}'.format(i)] = globals()['x_test_{}'.format(i)][feature_selection]"
      ],
      "execution_count": null,
      "outputs": []
    },
    {
      "cell_type": "markdown",
      "metadata": {
        "id": "d3gz90LHOT73",
        "colab_type": "text"
      },
      "source": [
        "- 다중공선성 확인하기"
      ]
    },
    {
      "cell_type": "code",
      "metadata": {
        "id": "-lh16dv2Q4yI",
        "colab_type": "code",
        "colab": {}
      },
      "source": [
        "hi_feature = ['노출(분)', 'holiday(includeSS)','실제_최고기온','실제_최저기온','실제_강수량','실제_평균풍속' , '예보_서울_강수확률', '예보_서울_강수량', 'Active Users', 'new판매단가', 'prime_time',\n",
        "       'prime_day', 'top_code', 'top_cat']\n",
        "#실제날씨만 남겨놓은 Feature군"
      ],
      "execution_count": 153,
      "outputs": []
    },
    {
      "cell_type": "code",
      "metadata": {
        "id": "i2KHOsTHRA-Q",
        "colab_type": "code",
        "colab": {
          "base_uri": "https://localhost:8080/",
          "height": 476
        },
        "outputId": "949a0dd6-9aad-4eb6-9cad-f657df4479a8"
      },
      "source": [
        "mung = shop_train_x_beauty[hi_feature]\n",
        "mung"
      ],
      "execution_count": 154,
      "outputs": [
        {
          "output_type": "execute_result",
          "data": {
            "text/html": [
              "<div>\n",
              "<style scoped>\n",
              "    .dataframe tbody tr th:only-of-type {\n",
              "        vertical-align: middle;\n",
              "    }\n",
              "\n",
              "    .dataframe tbody tr th {\n",
              "        vertical-align: top;\n",
              "    }\n",
              "\n",
              "    .dataframe thead th {\n",
              "        text-align: right;\n",
              "    }\n",
              "</style>\n",
              "<table border=\"1\" class=\"dataframe\">\n",
              "  <thead>\n",
              "    <tr style=\"text-align: right;\">\n",
              "      <th></th>\n",
              "      <th>노출(분)</th>\n",
              "      <th>holiday(includeSS)</th>\n",
              "      <th>실제_최고기온</th>\n",
              "      <th>실제_최저기온</th>\n",
              "      <th>실제_강수량</th>\n",
              "      <th>실제_평균풍속</th>\n",
              "      <th>예보_서울_강수확률</th>\n",
              "      <th>예보_서울_강수량</th>\n",
              "      <th>Active Users</th>\n",
              "      <th>new판매단가</th>\n",
              "      <th>prime_time</th>\n",
              "      <th>prime_day</th>\n",
              "      <th>top_code</th>\n",
              "      <th>top_cat</th>\n",
              "    </tr>\n",
              "  </thead>\n",
              "  <tbody>\n",
              "    <tr>\n",
              "      <th>3451</th>\n",
              "      <td>20.0</td>\n",
              "      <td>1</td>\n",
              "      <td>0.644699</td>\n",
              "      <td>0.947566</td>\n",
              "      <td>0.007045</td>\n",
              "      <td>0.887324</td>\n",
              "      <td>0.379223</td>\n",
              "      <td>0.070136</td>\n",
              "      <td>139892.0</td>\n",
              "      <td>0.003601</td>\n",
              "      <td>17</td>\n",
              "      <td>1</td>\n",
              "      <td>0</td>\n",
              "      <td>62</td>\n",
              "    </tr>\n",
              "    <tr>\n",
              "      <th>866</th>\n",
              "      <td>30.0</td>\n",
              "      <td>0</td>\n",
              "      <td>0.553009</td>\n",
              "      <td>0.258427</td>\n",
              "      <td>0.000000</td>\n",
              "      <td>0.323944</td>\n",
              "      <td>0.056588</td>\n",
              "      <td>0.000000</td>\n",
              "      <td>123984.0</td>\n",
              "      <td>0.584207</td>\n",
              "      <td>5</td>\n",
              "      <td>3</td>\n",
              "      <td>39</td>\n",
              "      <td>57</td>\n",
              "    </tr>\n",
              "    <tr>\n",
              "      <th>3603</th>\n",
              "      <td>20.0</td>\n",
              "      <td>1</td>\n",
              "      <td>0.286533</td>\n",
              "      <td>0.794007</td>\n",
              "      <td>0.092759</td>\n",
              "      <td>0.450704</td>\n",
              "      <td>0.258446</td>\n",
              "      <td>0.000000</td>\n",
              "      <td>125507.0</td>\n",
              "      <td>0.000000</td>\n",
              "      <td>18</td>\n",
              "      <td>4</td>\n",
              "      <td>55</td>\n",
              "      <td>77</td>\n",
              "    </tr>\n",
              "    <tr>\n",
              "      <th>6571</th>\n",
              "      <td>10.0</td>\n",
              "      <td>0</td>\n",
              "      <td>0.538682</td>\n",
              "      <td>0.749064</td>\n",
              "      <td>0.006262</td>\n",
              "      <td>0.098592</td>\n",
              "      <td>0.157939</td>\n",
              "      <td>0.006787</td>\n",
              "      <td>142358.0</td>\n",
              "      <td>0.003601</td>\n",
              "      <td>6</td>\n",
              "      <td>2</td>\n",
              "      <td>0</td>\n",
              "      <td>35</td>\n",
              "    </tr>\n",
              "    <tr>\n",
              "      <th>4443</th>\n",
              "      <td>10.0</td>\n",
              "      <td>0</td>\n",
              "      <td>0.573066</td>\n",
              "      <td>1.000000</td>\n",
              "      <td>0.145205</td>\n",
              "      <td>0.971831</td>\n",
              "      <td>0.427365</td>\n",
              "      <td>0.174208</td>\n",
              "      <td>140823.0</td>\n",
              "      <td>0.003601</td>\n",
              "      <td>17</td>\n",
              "      <td>7</td>\n",
              "      <td>0</td>\n",
              "      <td>35</td>\n",
              "    </tr>\n",
              "    <tr>\n",
              "      <th>...</th>\n",
              "      <td>...</td>\n",
              "      <td>...</td>\n",
              "      <td>...</td>\n",
              "      <td>...</td>\n",
              "      <td>...</td>\n",
              "      <td>...</td>\n",
              "      <td>...</td>\n",
              "      <td>...</td>\n",
              "      <td>...</td>\n",
              "      <td>...</td>\n",
              "      <td>...</td>\n",
              "      <td>...</td>\n",
              "      <td>...</td>\n",
              "      <td>...</td>\n",
              "    </tr>\n",
              "    <tr>\n",
              "      <th>7276</th>\n",
              "      <td>20.0</td>\n",
              "      <td>0</td>\n",
              "      <td>0.214900</td>\n",
              "      <td>0.303371</td>\n",
              "      <td>0.264579</td>\n",
              "      <td>0.478873</td>\n",
              "      <td>0.166385</td>\n",
              "      <td>0.031674</td>\n",
              "      <td>146126.0</td>\n",
              "      <td>0.458917</td>\n",
              "      <td>6</td>\n",
              "      <td>5</td>\n",
              "      <td>39</td>\n",
              "      <td>57</td>\n",
              "    </tr>\n",
              "    <tr>\n",
              "      <th>1907</th>\n",
              "      <td>30.0</td>\n",
              "      <td>0</td>\n",
              "      <td>0.882521</td>\n",
              "      <td>0.295880</td>\n",
              "      <td>0.000000</td>\n",
              "      <td>0.169014</td>\n",
              "      <td>0.043074</td>\n",
              "      <td>0.000000</td>\n",
              "      <td>149290.0</td>\n",
              "      <td>0.584207</td>\n",
              "      <td>9</td>\n",
              "      <td>6</td>\n",
              "      <td>39</td>\n",
              "      <td>57</td>\n",
              "    </tr>\n",
              "    <tr>\n",
              "      <th>1341</th>\n",
              "      <td>20.0</td>\n",
              "      <td>1</td>\n",
              "      <td>0.214900</td>\n",
              "      <td>0.329588</td>\n",
              "      <td>0.024266</td>\n",
              "      <td>0.070423</td>\n",
              "      <td>0.138514</td>\n",
              "      <td>0.009050</td>\n",
              "      <td>127810.0</td>\n",
              "      <td>0.000000</td>\n",
              "      <td>8</td>\n",
              "      <td>1</td>\n",
              "      <td>55</td>\n",
              "      <td>77</td>\n",
              "    </tr>\n",
              "    <tr>\n",
              "      <th>7406</th>\n",
              "      <td>20.0</td>\n",
              "      <td>0</td>\n",
              "      <td>0.217765</td>\n",
              "      <td>0.146067</td>\n",
              "      <td>0.000783</td>\n",
              "      <td>0.464789</td>\n",
              "      <td>0.175676</td>\n",
              "      <td>0.009050</td>\n",
              "      <td>151192.0</td>\n",
              "      <td>0.437815</td>\n",
              "      <td>8</td>\n",
              "      <td>6</td>\n",
              "      <td>53</td>\n",
              "      <td>77</td>\n",
              "    </tr>\n",
              "    <tr>\n",
              "      <th>1611</th>\n",
              "      <td>20.0</td>\n",
              "      <td>0</td>\n",
              "      <td>0.495702</td>\n",
              "      <td>0.344569</td>\n",
              "      <td>0.000000</td>\n",
              "      <td>0.408451</td>\n",
              "      <td>0.037162</td>\n",
              "      <td>0.000000</td>\n",
              "      <td>139054.0</td>\n",
              "      <td>0.003601</td>\n",
              "      <td>11</td>\n",
              "      <td>7</td>\n",
              "      <td>45</td>\n",
              "      <td>68</td>\n",
              "    </tr>\n",
              "  </tbody>\n",
              "</table>\n",
              "<p>144 rows × 14 columns</p>\n",
              "</div>"
            ],
            "text/plain": [
              "      노출(분)  holiday(includeSS)   실제_최고기온  ...  prime_day  top_code  top_cat\n",
              "3451   20.0                   1  0.644699  ...          1         0       62\n",
              "866    30.0                   0  0.553009  ...          3        39       57\n",
              "3603   20.0                   1  0.286533  ...          4        55       77\n",
              "6571   10.0                   0  0.538682  ...          2         0       35\n",
              "4443   10.0                   0  0.573066  ...          7         0       35\n",
              "...     ...                 ...       ...  ...        ...       ...      ...\n",
              "7276   20.0                   0  0.214900  ...          5        39       57\n",
              "1907   30.0                   0  0.882521  ...          6        39       57\n",
              "1341   20.0                   1  0.214900  ...          1        55       77\n",
              "7406   20.0                   0  0.217765  ...          6        53       77\n",
              "1611   20.0                   0  0.495702  ...          7        45       68\n",
              "\n",
              "[144 rows x 14 columns]"
            ]
          },
          "metadata": {
            "tags": []
          },
          "execution_count": 154
        }
      ]
    },
    {
      "cell_type": "code",
      "metadata": {
        "id": "OKHfAPlnOWGb",
        "colab_type": "code",
        "colab": {
          "base_uri": "https://localhost:8080/",
          "height": 537
        },
        "outputId": "4d3085b5-a7ef-432a-833b-f7d0f65ef9fb"
      },
      "source": [
        "mung.corr()"
      ],
      "execution_count": 155,
      "outputs": [
        {
          "output_type": "execute_result",
          "data": {
            "text/html": [
              "<div>\n",
              "<style scoped>\n",
              "    .dataframe tbody tr th:only-of-type {\n",
              "        vertical-align: middle;\n",
              "    }\n",
              "\n",
              "    .dataframe tbody tr th {\n",
              "        vertical-align: top;\n",
              "    }\n",
              "\n",
              "    .dataframe thead th {\n",
              "        text-align: right;\n",
              "    }\n",
              "</style>\n",
              "<table border=\"1\" class=\"dataframe\">\n",
              "  <thead>\n",
              "    <tr style=\"text-align: right;\">\n",
              "      <th></th>\n",
              "      <th>노출(분)</th>\n",
              "      <th>holiday(includeSS)</th>\n",
              "      <th>실제_최고기온</th>\n",
              "      <th>실제_최저기온</th>\n",
              "      <th>실제_강수량</th>\n",
              "      <th>실제_평균풍속</th>\n",
              "      <th>예보_서울_강수확률</th>\n",
              "      <th>예보_서울_강수량</th>\n",
              "      <th>Active Users</th>\n",
              "      <th>new판매단가</th>\n",
              "      <th>prime_time</th>\n",
              "      <th>prime_day</th>\n",
              "      <th>top_code</th>\n",
              "      <th>top_cat</th>\n",
              "    </tr>\n",
              "  </thead>\n",
              "  <tbody>\n",
              "    <tr>\n",
              "      <th>노출(분)</th>\n",
              "      <td>1.000000</td>\n",
              "      <td>0.075588</td>\n",
              "      <td>-0.197778</td>\n",
              "      <td>-0.443136</td>\n",
              "      <td>-0.047173</td>\n",
              "      <td>-0.055341</td>\n",
              "      <td>-0.053630</td>\n",
              "      <td>-0.167876</td>\n",
              "      <td>-0.298200</td>\n",
              "      <td>0.395518</td>\n",
              "      <td>-0.043710</td>\n",
              "      <td>-0.120469</td>\n",
              "      <td>0.451003</td>\n",
              "      <td>0.425998</td>\n",
              "    </tr>\n",
              "    <tr>\n",
              "      <th>holiday(includeSS)</th>\n",
              "      <td>0.075588</td>\n",
              "      <td>1.000000</td>\n",
              "      <td>0.115520</td>\n",
              "      <td>0.123062</td>\n",
              "      <td>0.115415</td>\n",
              "      <td>0.221564</td>\n",
              "      <td>0.046013</td>\n",
              "      <td>-0.028240</td>\n",
              "      <td>0.117880</td>\n",
              "      <td>0.038201</td>\n",
              "      <td>0.122156</td>\n",
              "      <td>-0.494191</td>\n",
              "      <td>0.040438</td>\n",
              "      <td>0.235093</td>\n",
              "    </tr>\n",
              "    <tr>\n",
              "      <th>실제_최고기온</th>\n",
              "      <td>-0.197778</td>\n",
              "      <td>0.115520</td>\n",
              "      <td>1.000000</td>\n",
              "      <td>0.457915</td>\n",
              "      <td>-0.321804</td>\n",
              "      <td>0.057443</td>\n",
              "      <td>0.077372</td>\n",
              "      <td>0.133015</td>\n",
              "      <td>0.440530</td>\n",
              "      <td>-0.094916</td>\n",
              "      <td>0.219294</td>\n",
              "      <td>0.012521</td>\n",
              "      <td>-0.074277</td>\n",
              "      <td>-0.113747</td>\n",
              "    </tr>\n",
              "    <tr>\n",
              "      <th>실제_최저기온</th>\n",
              "      <td>-0.443136</td>\n",
              "      <td>0.123062</td>\n",
              "      <td>0.457915</td>\n",
              "      <td>1.000000</td>\n",
              "      <td>0.252393</td>\n",
              "      <td>0.266731</td>\n",
              "      <td>0.457587</td>\n",
              "      <td>0.517829</td>\n",
              "      <td>0.495921</td>\n",
              "      <td>-0.291189</td>\n",
              "      <td>0.343216</td>\n",
              "      <td>-0.036499</td>\n",
              "      <td>-0.139036</td>\n",
              "      <td>-0.149411</td>\n",
              "    </tr>\n",
              "    <tr>\n",
              "      <th>실제_강수량</th>\n",
              "      <td>-0.047173</td>\n",
              "      <td>0.115415</td>\n",
              "      <td>-0.321804</td>\n",
              "      <td>0.252393</td>\n",
              "      <td>1.000000</td>\n",
              "      <td>0.137233</td>\n",
              "      <td>0.290243</td>\n",
              "      <td>0.224324</td>\n",
              "      <td>0.083107</td>\n",
              "      <td>-0.123388</td>\n",
              "      <td>-0.068536</td>\n",
              "      <td>0.062248</td>\n",
              "      <td>0.034802</td>\n",
              "      <td>0.053999</td>\n",
              "    </tr>\n",
              "    <tr>\n",
              "      <th>실제_평균풍속</th>\n",
              "      <td>-0.055341</td>\n",
              "      <td>0.221564</td>\n",
              "      <td>0.057443</td>\n",
              "      <td>0.266731</td>\n",
              "      <td>0.137233</td>\n",
              "      <td>1.000000</td>\n",
              "      <td>0.175323</td>\n",
              "      <td>0.024852</td>\n",
              "      <td>-0.003540</td>\n",
              "      <td>0.013895</td>\n",
              "      <td>0.166600</td>\n",
              "      <td>-0.046038</td>\n",
              "      <td>-0.128122</td>\n",
              "      <td>0.006515</td>\n",
              "    </tr>\n",
              "    <tr>\n",
              "      <th>예보_서울_강수확률</th>\n",
              "      <td>-0.053630</td>\n",
              "      <td>0.046013</td>\n",
              "      <td>0.077372</td>\n",
              "      <td>0.457587</td>\n",
              "      <td>0.290243</td>\n",
              "      <td>0.175323</td>\n",
              "      <td>1.000000</td>\n",
              "      <td>0.807337</td>\n",
              "      <td>0.114491</td>\n",
              "      <td>-0.050071</td>\n",
              "      <td>0.275830</td>\n",
              "      <td>0.033456</td>\n",
              "      <td>-0.047886</td>\n",
              "      <td>0.055249</td>\n",
              "    </tr>\n",
              "    <tr>\n",
              "      <th>예보_서울_강수량</th>\n",
              "      <td>-0.167876</td>\n",
              "      <td>-0.028240</td>\n",
              "      <td>0.133015</td>\n",
              "      <td>0.517829</td>\n",
              "      <td>0.224324</td>\n",
              "      <td>0.024852</td>\n",
              "      <td>0.807337</td>\n",
              "      <td>1.000000</td>\n",
              "      <td>0.227130</td>\n",
              "      <td>-0.166309</td>\n",
              "      <td>0.226400</td>\n",
              "      <td>-0.052493</td>\n",
              "      <td>0.038618</td>\n",
              "      <td>0.041889</td>\n",
              "    </tr>\n",
              "    <tr>\n",
              "      <th>Active Users</th>\n",
              "      <td>-0.298200</td>\n",
              "      <td>0.117880</td>\n",
              "      <td>0.440530</td>\n",
              "      <td>0.495921</td>\n",
              "      <td>0.083107</td>\n",
              "      <td>-0.003540</td>\n",
              "      <td>0.114491</td>\n",
              "      <td>0.227130</td>\n",
              "      <td>1.000000</td>\n",
              "      <td>0.097189</td>\n",
              "      <td>0.179757</td>\n",
              "      <td>0.069999</td>\n",
              "      <td>-0.056246</td>\n",
              "      <td>-0.109068</td>\n",
              "    </tr>\n",
              "    <tr>\n",
              "      <th>new판매단가</th>\n",
              "      <td>0.395518</td>\n",
              "      <td>0.038201</td>\n",
              "      <td>-0.094916</td>\n",
              "      <td>-0.291189</td>\n",
              "      <td>-0.123388</td>\n",
              "      <td>0.013895</td>\n",
              "      <td>-0.050071</td>\n",
              "      <td>-0.166309</td>\n",
              "      <td>0.097189</td>\n",
              "      <td>1.000000</td>\n",
              "      <td>-0.210436</td>\n",
              "      <td>-0.012434</td>\n",
              "      <td>-0.286389</td>\n",
              "      <td>-0.397504</td>\n",
              "    </tr>\n",
              "    <tr>\n",
              "      <th>prime_time</th>\n",
              "      <td>-0.043710</td>\n",
              "      <td>0.122156</td>\n",
              "      <td>0.219294</td>\n",
              "      <td>0.343216</td>\n",
              "      <td>-0.068536</td>\n",
              "      <td>0.166600</td>\n",
              "      <td>0.275830</td>\n",
              "      <td>0.226400</td>\n",
              "      <td>0.179757</td>\n",
              "      <td>-0.210436</td>\n",
              "      <td>1.000000</td>\n",
              "      <td>0.003304</td>\n",
              "      <td>0.282447</td>\n",
              "      <td>0.207564</td>\n",
              "    </tr>\n",
              "    <tr>\n",
              "      <th>prime_day</th>\n",
              "      <td>-0.120469</td>\n",
              "      <td>-0.494191</td>\n",
              "      <td>0.012521</td>\n",
              "      <td>-0.036499</td>\n",
              "      <td>0.062248</td>\n",
              "      <td>-0.046038</td>\n",
              "      <td>0.033456</td>\n",
              "      <td>-0.052493</td>\n",
              "      <td>0.069999</td>\n",
              "      <td>-0.012434</td>\n",
              "      <td>0.003304</td>\n",
              "      <td>1.000000</td>\n",
              "      <td>-0.179249</td>\n",
              "      <td>-0.254266</td>\n",
              "    </tr>\n",
              "    <tr>\n",
              "      <th>top_code</th>\n",
              "      <td>0.451003</td>\n",
              "      <td>0.040438</td>\n",
              "      <td>-0.074277</td>\n",
              "      <td>-0.139036</td>\n",
              "      <td>0.034802</td>\n",
              "      <td>-0.128122</td>\n",
              "      <td>-0.047886</td>\n",
              "      <td>0.038618</td>\n",
              "      <td>-0.056246</td>\n",
              "      <td>-0.286389</td>\n",
              "      <td>0.282447</td>\n",
              "      <td>-0.179249</td>\n",
              "      <td>1.000000</td>\n",
              "      <td>0.789419</td>\n",
              "    </tr>\n",
              "    <tr>\n",
              "      <th>top_cat</th>\n",
              "      <td>0.425998</td>\n",
              "      <td>0.235093</td>\n",
              "      <td>-0.113747</td>\n",
              "      <td>-0.149411</td>\n",
              "      <td>0.053999</td>\n",
              "      <td>0.006515</td>\n",
              "      <td>0.055249</td>\n",
              "      <td>0.041889</td>\n",
              "      <td>-0.109068</td>\n",
              "      <td>-0.397504</td>\n",
              "      <td>0.207564</td>\n",
              "      <td>-0.254266</td>\n",
              "      <td>0.789419</td>\n",
              "      <td>1.000000</td>\n",
              "    </tr>\n",
              "  </tbody>\n",
              "</table>\n",
              "</div>"
            ],
            "text/plain": [
              "                       노출(분)  holiday(includeSS)  ...  top_code   top_cat\n",
              "노출(분)               1.000000            0.075588  ...  0.451003  0.425998\n",
              "holiday(includeSS)  0.075588            1.000000  ...  0.040438  0.235093\n",
              "실제_최고기온            -0.197778            0.115520  ... -0.074277 -0.113747\n",
              "실제_최저기온            -0.443136            0.123062  ... -0.139036 -0.149411\n",
              "실제_강수량             -0.047173            0.115415  ...  0.034802  0.053999\n",
              "실제_평균풍속            -0.055341            0.221564  ... -0.128122  0.006515\n",
              "예보_서울_강수확률         -0.053630            0.046013  ... -0.047886  0.055249\n",
              "예보_서울_강수량          -0.167876           -0.028240  ...  0.038618  0.041889\n",
              "Active Users       -0.298200            0.117880  ... -0.056246 -0.109068\n",
              "new판매단가             0.395518            0.038201  ... -0.286389 -0.397504\n",
              "prime_time         -0.043710            0.122156  ...  0.282447  0.207564\n",
              "prime_day          -0.120469           -0.494191  ... -0.179249 -0.254266\n",
              "top_code            0.451003            0.040438  ...  1.000000  0.789419\n",
              "top_cat             0.425998            0.235093  ...  0.789419  1.000000\n",
              "\n",
              "[14 rows x 14 columns]"
            ]
          },
          "metadata": {
            "tags": []
          },
          "execution_count": 155
        }
      ]
    },
    {
      "cell_type": "code",
      "metadata": {
        "id": "7MRUGZc3OYxA",
        "colab_type": "code",
        "colab": {}
      },
      "source": [
        "from patsy import dmatrices\n",
        "import statsmodels.api as sm\n",
        "from statsmodels.stats.outliers_influence import variance_inflation_factor\n",
        "shop_train_x_corr = mung.corr()"
      ],
      "execution_count": 156,
      "outputs": []
    },
    {
      "cell_type": "code",
      "metadata": {
        "id": "qP5HKD-6P5-9",
        "colab_type": "code",
        "colab": {
          "base_uri": "https://localhost:8080/",
          "height": 1000
        },
        "outputId": "48506ef3-2b90-4b26-c261-055cc313450b"
      },
      "source": [
        "plt.rcParams['figure.figsize']=(15,10)\n",
        "\n",
        "sns.heatmap(shop_train_x_corr.corr(),\n",
        "          annot=True,\n",
        "          cmap='Reds',\n",
        "          vmin = -1, vmax = 1\n",
        "          )"
      ],
      "execution_count": 157,
      "outputs": [
        {
          "output_type": "stream",
          "text": [
            "/usr/local/lib/python3.6/dist-packages/matplotlib/backends/backend_agg.py:214: RuntimeWarning: Glyph 45432 missing from current font.\n",
            "  font.set_text(s, 0.0, flags=flags)\n",
            "/usr/local/lib/python3.6/dist-packages/matplotlib/backends/backend_agg.py:214: RuntimeWarning: Glyph 52636 missing from current font.\n",
            "  font.set_text(s, 0.0, flags=flags)\n",
            "/usr/local/lib/python3.6/dist-packages/matplotlib/backends/backend_agg.py:214: RuntimeWarning: Glyph 48516 missing from current font.\n",
            "  font.set_text(s, 0.0, flags=flags)\n",
            "/usr/local/lib/python3.6/dist-packages/matplotlib/backends/backend_agg.py:214: RuntimeWarning: Glyph 49892 missing from current font.\n",
            "  font.set_text(s, 0.0, flags=flags)\n",
            "/usr/local/lib/python3.6/dist-packages/matplotlib/backends/backend_agg.py:214: RuntimeWarning: Glyph 51228 missing from current font.\n",
            "  font.set_text(s, 0.0, flags=flags)\n",
            "/usr/local/lib/python3.6/dist-packages/matplotlib/backends/backend_agg.py:214: RuntimeWarning: Glyph 52572 missing from current font.\n",
            "  font.set_text(s, 0.0, flags=flags)\n",
            "/usr/local/lib/python3.6/dist-packages/matplotlib/backends/backend_agg.py:214: RuntimeWarning: Glyph 44256 missing from current font.\n",
            "  font.set_text(s, 0.0, flags=flags)\n",
            "/usr/local/lib/python3.6/dist-packages/matplotlib/backends/backend_agg.py:214: RuntimeWarning: Glyph 44592 missing from current font.\n",
            "  font.set_text(s, 0.0, flags=flags)\n",
            "/usr/local/lib/python3.6/dist-packages/matplotlib/backends/backend_agg.py:214: RuntimeWarning: Glyph 50728 missing from current font.\n",
            "  font.set_text(s, 0.0, flags=flags)\n",
            "/usr/local/lib/python3.6/dist-packages/matplotlib/backends/backend_agg.py:214: RuntimeWarning: Glyph 51200 missing from current font.\n",
            "  font.set_text(s, 0.0, flags=flags)\n",
            "/usr/local/lib/python3.6/dist-packages/matplotlib/backends/backend_agg.py:214: RuntimeWarning: Glyph 44053 missing from current font.\n",
            "  font.set_text(s, 0.0, flags=flags)\n",
            "/usr/local/lib/python3.6/dist-packages/matplotlib/backends/backend_agg.py:214: RuntimeWarning: Glyph 49688 missing from current font.\n",
            "  font.set_text(s, 0.0, flags=flags)\n",
            "/usr/local/lib/python3.6/dist-packages/matplotlib/backends/backend_agg.py:214: RuntimeWarning: Glyph 47049 missing from current font.\n",
            "  font.set_text(s, 0.0, flags=flags)\n",
            "/usr/local/lib/python3.6/dist-packages/matplotlib/backends/backend_agg.py:214: RuntimeWarning: Glyph 54217 missing from current font.\n",
            "  font.set_text(s, 0.0, flags=flags)\n",
            "/usr/local/lib/python3.6/dist-packages/matplotlib/backends/backend_agg.py:214: RuntimeWarning: Glyph 44512 missing from current font.\n",
            "  font.set_text(s, 0.0, flags=flags)\n",
            "/usr/local/lib/python3.6/dist-packages/matplotlib/backends/backend_agg.py:214: RuntimeWarning: Glyph 54413 missing from current font.\n",
            "  font.set_text(s, 0.0, flags=flags)\n",
            "/usr/local/lib/python3.6/dist-packages/matplotlib/backends/backend_agg.py:214: RuntimeWarning: Glyph 49549 missing from current font.\n",
            "  font.set_text(s, 0.0, flags=flags)\n",
            "/usr/local/lib/python3.6/dist-packages/matplotlib/backends/backend_agg.py:214: RuntimeWarning: Glyph 50696 missing from current font.\n",
            "  font.set_text(s, 0.0, flags=flags)\n",
            "/usr/local/lib/python3.6/dist-packages/matplotlib/backends/backend_agg.py:214: RuntimeWarning: Glyph 48372 missing from current font.\n",
            "  font.set_text(s, 0.0, flags=flags)\n",
            "/usr/local/lib/python3.6/dist-packages/matplotlib/backends/backend_agg.py:214: RuntimeWarning: Glyph 49436 missing from current font.\n",
            "  font.set_text(s, 0.0, flags=flags)\n",
            "/usr/local/lib/python3.6/dist-packages/matplotlib/backends/backend_agg.py:214: RuntimeWarning: Glyph 50872 missing from current font.\n",
            "  font.set_text(s, 0.0, flags=flags)\n",
            "/usr/local/lib/python3.6/dist-packages/matplotlib/backends/backend_agg.py:214: RuntimeWarning: Glyph 54869 missing from current font.\n",
            "  font.set_text(s, 0.0, flags=flags)\n",
            "/usr/local/lib/python3.6/dist-packages/matplotlib/backends/backend_agg.py:214: RuntimeWarning: Glyph 47456 missing from current font.\n",
            "  font.set_text(s, 0.0, flags=flags)\n",
            "/usr/local/lib/python3.6/dist-packages/matplotlib/backends/backend_agg.py:214: RuntimeWarning: Glyph 54032 missing from current font.\n",
            "  font.set_text(s, 0.0, flags=flags)\n",
            "/usr/local/lib/python3.6/dist-packages/matplotlib/backends/backend_agg.py:214: RuntimeWarning: Glyph 47588 missing from current font.\n",
            "  font.set_text(s, 0.0, flags=flags)\n",
            "/usr/local/lib/python3.6/dist-packages/matplotlib/backends/backend_agg.py:214: RuntimeWarning: Glyph 45800 missing from current font.\n",
            "  font.set_text(s, 0.0, flags=flags)\n",
            "/usr/local/lib/python3.6/dist-packages/matplotlib/backends/backend_agg.py:214: RuntimeWarning: Glyph 44032 missing from current font.\n",
            "  font.set_text(s, 0.0, flags=flags)\n",
            "/usr/local/lib/python3.6/dist-packages/matplotlib/backends/backend_agg.py:183: RuntimeWarning: Glyph 45432 missing from current font.\n",
            "  font.set_text(s, 0, flags=flags)\n",
            "/usr/local/lib/python3.6/dist-packages/matplotlib/backends/backend_agg.py:183: RuntimeWarning: Glyph 52636 missing from current font.\n",
            "  font.set_text(s, 0, flags=flags)\n",
            "/usr/local/lib/python3.6/dist-packages/matplotlib/backends/backend_agg.py:183: RuntimeWarning: Glyph 48516 missing from current font.\n",
            "  font.set_text(s, 0, flags=flags)\n",
            "/usr/local/lib/python3.6/dist-packages/matplotlib/backends/backend_agg.py:183: RuntimeWarning: Glyph 49892 missing from current font.\n",
            "  font.set_text(s, 0, flags=flags)\n",
            "/usr/local/lib/python3.6/dist-packages/matplotlib/backends/backend_agg.py:183: RuntimeWarning: Glyph 51228 missing from current font.\n",
            "  font.set_text(s, 0, flags=flags)\n",
            "/usr/local/lib/python3.6/dist-packages/matplotlib/backends/backend_agg.py:183: RuntimeWarning: Glyph 52572 missing from current font.\n",
            "  font.set_text(s, 0, flags=flags)\n",
            "/usr/local/lib/python3.6/dist-packages/matplotlib/backends/backend_agg.py:183: RuntimeWarning: Glyph 44256 missing from current font.\n",
            "  font.set_text(s, 0, flags=flags)\n",
            "/usr/local/lib/python3.6/dist-packages/matplotlib/backends/backend_agg.py:183: RuntimeWarning: Glyph 44592 missing from current font.\n",
            "  font.set_text(s, 0, flags=flags)\n",
            "/usr/local/lib/python3.6/dist-packages/matplotlib/backends/backend_agg.py:183: RuntimeWarning: Glyph 50728 missing from current font.\n",
            "  font.set_text(s, 0, flags=flags)\n",
            "/usr/local/lib/python3.6/dist-packages/matplotlib/backends/backend_agg.py:183: RuntimeWarning: Glyph 51200 missing from current font.\n",
            "  font.set_text(s, 0, flags=flags)\n",
            "/usr/local/lib/python3.6/dist-packages/matplotlib/backends/backend_agg.py:183: RuntimeWarning: Glyph 44053 missing from current font.\n",
            "  font.set_text(s, 0, flags=flags)\n",
            "/usr/local/lib/python3.6/dist-packages/matplotlib/backends/backend_agg.py:183: RuntimeWarning: Glyph 49688 missing from current font.\n",
            "  font.set_text(s, 0, flags=flags)\n",
            "/usr/local/lib/python3.6/dist-packages/matplotlib/backends/backend_agg.py:183: RuntimeWarning: Glyph 47049 missing from current font.\n",
            "  font.set_text(s, 0, flags=flags)\n",
            "/usr/local/lib/python3.6/dist-packages/matplotlib/backends/backend_agg.py:183: RuntimeWarning: Glyph 54217 missing from current font.\n",
            "  font.set_text(s, 0, flags=flags)\n",
            "/usr/local/lib/python3.6/dist-packages/matplotlib/backends/backend_agg.py:183: RuntimeWarning: Glyph 44512 missing from current font.\n",
            "  font.set_text(s, 0, flags=flags)\n",
            "/usr/local/lib/python3.6/dist-packages/matplotlib/backends/backend_agg.py:183: RuntimeWarning: Glyph 54413 missing from current font.\n",
            "  font.set_text(s, 0, flags=flags)\n",
            "/usr/local/lib/python3.6/dist-packages/matplotlib/backends/backend_agg.py:183: RuntimeWarning: Glyph 49549 missing from current font.\n",
            "  font.set_text(s, 0, flags=flags)\n",
            "/usr/local/lib/python3.6/dist-packages/matplotlib/backends/backend_agg.py:183: RuntimeWarning: Glyph 50696 missing from current font.\n",
            "  font.set_text(s, 0, flags=flags)\n",
            "/usr/local/lib/python3.6/dist-packages/matplotlib/backends/backend_agg.py:183: RuntimeWarning: Glyph 48372 missing from current font.\n",
            "  font.set_text(s, 0, flags=flags)\n",
            "/usr/local/lib/python3.6/dist-packages/matplotlib/backends/backend_agg.py:183: RuntimeWarning: Glyph 49436 missing from current font.\n",
            "  font.set_text(s, 0, flags=flags)\n",
            "/usr/local/lib/python3.6/dist-packages/matplotlib/backends/backend_agg.py:183: RuntimeWarning: Glyph 50872 missing from current font.\n",
            "  font.set_text(s, 0, flags=flags)\n",
            "/usr/local/lib/python3.6/dist-packages/matplotlib/backends/backend_agg.py:183: RuntimeWarning: Glyph 54869 missing from current font.\n",
            "  font.set_text(s, 0, flags=flags)\n",
            "/usr/local/lib/python3.6/dist-packages/matplotlib/backends/backend_agg.py:183: RuntimeWarning: Glyph 47456 missing from current font.\n",
            "  font.set_text(s, 0, flags=flags)\n",
            "/usr/local/lib/python3.6/dist-packages/matplotlib/backends/backend_agg.py:183: RuntimeWarning: Glyph 54032 missing from current font.\n",
            "  font.set_text(s, 0, flags=flags)\n",
            "/usr/local/lib/python3.6/dist-packages/matplotlib/backends/backend_agg.py:183: RuntimeWarning: Glyph 47588 missing from current font.\n",
            "  font.set_text(s, 0, flags=flags)\n",
            "/usr/local/lib/python3.6/dist-packages/matplotlib/backends/backend_agg.py:183: RuntimeWarning: Glyph 45800 missing from current font.\n",
            "  font.set_text(s, 0, flags=flags)\n",
            "/usr/local/lib/python3.6/dist-packages/matplotlib/backends/backend_agg.py:183: RuntimeWarning: Glyph 44032 missing from current font.\n",
            "  font.set_text(s, 0, flags=flags)\n"
          ],
          "name": "stderr"
        },
        {
          "output_type": "execute_result",
          "data": {
            "text/plain": [
              "<matplotlib.axes._subplots.AxesSubplot at 0x7f34597810f0>"
            ]
          },
          "metadata": {
            "tags": []
          },
          "execution_count": 157
        },
        {
          "output_type": "display_data",
          "data": {
            "image/png": "[encoded data removed]",
            "text/plain": [
              "<Figure size 1080x720 with 2 Axes>"
            ]
          },
          "metadata": {
            "tags": [],
            "needs_background": "light"
          }
        }
      ]
    },
    {
      "cell_type": "code",
      "metadata": {
        "id": "AUmJl-FiOjdV",
        "colab_type": "code",
        "colab": {
          "base_uri": "https://localhost:8080/",
          "height": 467
        },
        "outputId": "f0b63e9f-c504-4709-efe6-ce7a0deb6439"
      },
      "source": [
        "# 피처마다의 VIF 계수를 출력\n",
        "vif = pd.DataFrame()\n",
        "vif[\"VIF Factor\"] = [variance_inflation_factor(shop_train_x_corr.values, i) for i in range(shop_train_x_corr.shape[1])]\n",
        "vif[\"features\"] = shop_train_x_corr.columns\n",
        "vif # 기존 feature_selection대로하면 다 엄청 높게나옴 +e3...이런식"
      ],
      "execution_count": 158,
      "outputs": [
        {
          "output_type": "execute_result",
          "data": {
            "text/html": [
              "<div>\n",
              "<style scoped>\n",
              "    .dataframe tbody tr th:only-of-type {\n",
              "        vertical-align: middle;\n",
              "    }\n",
              "\n",
              "    .dataframe tbody tr th {\n",
              "        vertical-align: top;\n",
              "    }\n",
              "\n",
              "    .dataframe thead th {\n",
              "        text-align: right;\n",
              "    }\n",
              "</style>\n",
              "<table border=\"1\" class=\"dataframe\">\n",
              "  <thead>\n",
              "    <tr style=\"text-align: right;\">\n",
              "      <th></th>\n",
              "      <th>VIF Factor</th>\n",
              "      <th>features</th>\n",
              "    </tr>\n",
              "  </thead>\n",
              "  <tbody>\n",
              "    <tr>\n",
              "      <th>0</th>\n",
              "      <td>42.645496</td>\n",
              "      <td>노출(분)</td>\n",
              "    </tr>\n",
              "    <tr>\n",
              "      <th>1</th>\n",
              "      <td>8.137521</td>\n",
              "      <td>holiday(includeSS)</td>\n",
              "    </tr>\n",
              "    <tr>\n",
              "      <th>2</th>\n",
              "      <td>12.734488</td>\n",
              "      <td>실제_최고기온</td>\n",
              "    </tr>\n",
              "    <tr>\n",
              "      <th>3</th>\n",
              "      <td>46.758174</td>\n",
              "      <td>실제_최저기온</td>\n",
              "    </tr>\n",
              "    <tr>\n",
              "      <th>4</th>\n",
              "      <td>9.025316</td>\n",
              "      <td>실제_강수량</td>\n",
              "    </tr>\n",
              "    <tr>\n",
              "      <th>5</th>\n",
              "      <td>3.686745</td>\n",
              "      <td>실제_평균풍속</td>\n",
              "    </tr>\n",
              "    <tr>\n",
              "      <th>6</th>\n",
              "      <td>71.661523</td>\n",
              "      <td>예보_서울_강수확률</td>\n",
              "    </tr>\n",
              "    <tr>\n",
              "      <th>7</th>\n",
              "      <td>61.089340</td>\n",
              "      <td>예보_서울_강수량</td>\n",
              "    </tr>\n",
              "    <tr>\n",
              "      <th>8</th>\n",
              "      <td>23.941586</td>\n",
              "      <td>Active Users</td>\n",
              "    </tr>\n",
              "    <tr>\n",
              "      <th>9</th>\n",
              "      <td>54.038453</td>\n",
              "      <td>new판매단가</td>\n",
              "    </tr>\n",
              "    <tr>\n",
              "      <th>10</th>\n",
              "      <td>6.715159</td>\n",
              "      <td>prime_time</td>\n",
              "    </tr>\n",
              "    <tr>\n",
              "      <th>11</th>\n",
              "      <td>7.007594</td>\n",
              "      <td>prime_day</td>\n",
              "    </tr>\n",
              "    <tr>\n",
              "      <th>12</th>\n",
              "      <td>53.656641</td>\n",
              "      <td>top_code</td>\n",
              "    </tr>\n",
              "    <tr>\n",
              "      <th>13</th>\n",
              "      <td>112.060011</td>\n",
              "      <td>top_cat</td>\n",
              "    </tr>\n",
              "  </tbody>\n",
              "</table>\n",
              "</div>"
            ],
            "text/plain": [
              "    VIF Factor            features\n",
              "0    42.645496               노출(분)\n",
              "1     8.137521  holiday(includeSS)\n",
              "2    12.734488             실제_최고기온\n",
              "3    46.758174             실제_최저기온\n",
              "4     9.025316              실제_강수량\n",
              "5     3.686745             실제_평균풍속\n",
              "6    71.661523          예보_서울_강수확률\n",
              "7    61.089340           예보_서울_강수량\n",
              "8    23.941586        Active Users\n",
              "9    54.038453             new판매단가\n",
              "10    6.715159          prime_time\n",
              "11    7.007594           prime_day\n",
              "12   53.656641            top_code\n",
              "13  112.060011             top_cat"
            ]
          },
          "metadata": {
            "tags": []
          },
          "execution_count": 158
        }
      ]
    },
    {
      "cell_type": "code",
      "metadata": {
        "id": "6FrlOCVROWm_",
        "colab_type": "code",
        "colab": {}
      },
      "source": [
        ""
      ],
      "execution_count": null,
      "outputs": []
    },
    {
      "cell_type": "code",
      "metadata": {
        "id": "gFZWNLLthVRq",
        "colab_type": "code",
        "colab": {
          "base_uri": "https://localhost:8080/",
          "height": 141
        },
        "outputId": "fd0f3a35-3e14-4266-cb41-c810a127292d"
      },
      "source": [
        "forest.fit(shop_train_x_beauty, y_train_beauty)"
      ],
      "execution_count": null,
      "outputs": [
        {
          "output_type": "execute_result",
          "data": {
            "text/plain": [
              "RandomForestRegressor(bootstrap=True, ccp_alpha=0.0, criterion='mse',\n",
              "                      max_depth=None, max_features='auto', max_leaf_nodes=None,\n",
              "                      max_samples=None, min_impurity_decrease=0.0,\n",
              "                      min_impurity_split=None, min_samples_leaf=1,\n",
              "                      min_samples_split=2, min_weight_fraction_leaf=0.0,\n",
              "                      n_estimators=100, n_jobs=None, oob_score=False,\n",
              "                      random_state=1234, verbose=0, warm_start=False)"
            ]
          },
          "metadata": {
            "tags": []
          },
          "execution_count": 66
        }
      ]
    },
    {
      "cell_type": "code",
      "metadata": {
        "id": "NOmBPGFPk8pj",
        "colab_type": "code",
        "colab": {}
      },
      "source": [
        "def mean_absolute_percentage_error(y_true, y_pred): \n",
        "    y_true, y_pred = np.array(y_true), np.array(y_pred)\n",
        "    return np.mean(np.abs((y_true - y_pred) / y_true)) * 100"
      ],
      "execution_count": null,
      "outputs": []
    },
    {
      "cell_type": "code",
      "metadata": {
        "id": "O2_lKkyahVT1",
        "colab_type": "code",
        "colab": {
          "base_uri": "https://localhost:8080/",
          "height": 34
        },
        "outputId": "fb67db93-c2f2-4f2e-f863-45a79421d1b6"
      },
      "source": [
        "predictions = forest.predict(shop_train_x_beauty)\n",
        "mape = mean_absolute_percentage_error(y_train_beauty, predictions)\n",
        "mape"
      ],
      "execution_count": null,
      "outputs": [
        {
          "output_type": "execute_result",
          "data": {
            "text/plain": [
              "4.194052260626042"
            ]
          },
          "metadata": {
            "tags": []
          },
          "execution_count": 68
        }
      ]
    },
    {
      "cell_type": "code",
      "metadata": {
        "id": "tZ8b_V56hVPe",
        "colab_type": "code",
        "colab": {
          "base_uri": "https://localhost:8080/",
          "height": 70
        },
        "outputId": "0c3b1a4a-e4ad-44e8-c623-05537c4ed253"
      },
      "source": [
        "some_data = x_train_beauty.iloc[:8] # 8개의 Data의 주문량 예측해 보겠음.\n",
        "some_labels = y_train_beauty.iloc[:8]\n",
        "some_data = some_data[feature_selection]\n",
        "print(\"예측\", forest.predict(some_data))\n",
        "print(\"레이블:\", list(some_labels))"
      ],
      "execution_count": null,
      "outputs": [
        {
          "output_type": "stream",
          "text": [
            "예측 [6.39418937 6.69611287 7.14041626 4.81628145 5.97025984 5.76505381\n",
            " 6.40335998 6.59707143]\n",
            "레이블: [5.984548455409607, 7.032042571247125, 7.160369810952259, 4.98884573174533, 6.339727012180498, 5.412054715530526, 6.553619481562081, 6.86931392306804]\n"
          ],
          "name": "stdout"
        }
      ]
    },
    {
      "cell_type": "markdown",
      "metadata": {
        "id": "qCf20ZMKlHXS",
        "colab_type": "text"
      },
      "source": [
        "#모든 카테고리 반복문으로 한번에 fit & predict 결과"
      ]
    },
    {
      "cell_type": "code",
      "metadata": {
        "id": "ArrKHU5ylK5X",
        "colab_type": "code",
        "colab": {}
      },
      "source": [
        "mape_score = []\n",
        "for i in category_list:\n",
        "  category_data = globals()['shop_train_x_{}'.format(i)]\n",
        "  category_label =  globals()['y_train_{}'.format(i)]\n",
        "  forest.fit(category_data,category_label)\n",
        "  predictions = forest.predict(category_data)\n",
        "  mape_score.append(mean_absolute_percentage_error(category_label, predictions))"
      ],
      "execution_count": null,
      "outputs": []
    },
    {
      "cell_type": "code",
      "metadata": {
        "id": "eJuLTLwzlLUH",
        "colab_type": "code",
        "colab": {
          "base_uri": "https://localhost:8080/",
          "height": 212
        },
        "outputId": "e20d53ed-8e04-4cf4-cf6c-3a932e8eeebf"
      },
      "source": [
        "for i in range(len(category_list)):\n",
        "  print(\"RF MAPE score of\",category_list[i],\":\",mape_score[i])"
      ],
      "execution_count": null,
      "outputs": [
        {
          "output_type": "stream",
          "text": [
            "RF MAPE score of inner : 5.953876102258083\n",
            "RF MAPE score of cloth : 7.400283356915175\n",
            "RF MAPE score of elec : 16.964872917512324\n",
            "RF MAPE score of living : 10.260564086901788\n",
            "RF MAPE score of food : 3.63340296385408\n",
            "RF MAPE score of health : 4.500083312805304\n",
            "RF MAPE score of bedding : 8.345299344327001\n",
            "RF MAPE score of furniture : 22.951952022440945\n",
            "RF MAPE score of beauty : 4.194052260626042\n",
            "RF MAPE score of etc : 18.537718705675594\n",
            "RF MAPE score of life : 8.21864281441945\n"
          ],
          "name": "stdout"
        }
      ]
    },
    {
      "cell_type": "code",
      "metadata": {
        "id": "lM1PrbFglLYF",
        "colab_type": "code",
        "colab": {
          "base_uri": "https://localhost:8080/",
          "height": 34
        },
        "outputId": "123b2d0c-463d-4aa9-e136-57407e250259"
      },
      "source": [
        "pd.Series(mape_score).mean()"
      ],
      "execution_count": null,
      "outputs": [
        {
          "output_type": "execute_result",
          "data": {
            "text/plain": [
              "10.08734071706689"
            ]
          },
          "metadata": {
            "tags": []
          },
          "execution_count": 72
        }
      ]
    },
    {
      "cell_type": "markdown",
      "metadata": {
        "id": "hGKt_FawvuMq",
        "colab_type": "text"
      },
      "source": [
        "# SVM적용"
      ]
    },
    {
      "cell_type": "code",
      "metadata": {
        "id": "TwCj8S2LCQ8j",
        "colab_type": "code",
        "colab": {}
      },
      "source": [
        "from sklearn.svm import LinearSVR\n",
        "\n",
        "from sklearn.preprocessing import MinMaxScaler\n",
        "from sklearn.preprocessing import StandardScaler\n",
        "std_scaler = StandardScaler()\n",
        "scaler = MinMaxScaler()"
      ],
      "execution_count": null,
      "outputs": []
    },
    {
      "cell_type": "markdown",
      "metadata": {
        "id": "4-6DIyCnvw2z",
        "colab_type": "text"
      },
      "source": [
        "- 모든 카테고리에 대해 svr 써보기"
      ]
    },
    {
      "cell_type": "code",
      "metadata": {
        "id": "1R9LfTLJvM18",
        "colab_type": "code",
        "colab": {}
      },
      "source": [
        "'''\n",
        "svm_reg = LinearSVR()\n",
        "mape_score_svr = []\n",
        "for i in category_list:\n",
        "  category_data = std_scaler.fit_transform(globals()['shop_train_x_{}'.format(i)])\n",
        "  category_label =  globals()['y_train_{}'.format(i)]\n",
        "  svm_reg.fit(category_data,category_label)\n",
        "  predictions = svm_reg.predict(category_data)\n",
        "  mape_score_svr.append(mean_absolute_percentage_error(category_label, predictions))\n",
        "'''"
      ],
      "execution_count": null,
      "outputs": []
    },
    {
      "cell_type": "code",
      "metadata": {
        "id": "2fng5oxOvzL_",
        "colab_type": "code",
        "colab": {}
      },
      "source": [
        "'''\n",
        "for i in range(len(category_list)):\n",
        "  print(\"SVM MAPE score of\",category_list[i],\":\",mape_score_svr[i])\n",
        "'''"
      ],
      "execution_count": null,
      "outputs": []
    },
    {
      "cell_type": "markdown",
      "metadata": {
        "id": "uh8CsM38_vYm",
        "colab_type": "text"
      },
      "source": [
        "- Poly SVM"
      ]
    },
    {
      "cell_type": "code",
      "metadata": {
        "id": "sfijhSG8LHbt",
        "colab_type": "code",
        "colab": {}
      },
      "source": [
        "from sklearn.svm import SVR"
      ],
      "execution_count": null,
      "outputs": []
    },
    {
      "cell_type": "code",
      "metadata": {
        "id": "MQDUSrzyBu68",
        "colab_type": "code",
        "colab": {
          "base_uri": "https://localhost:8080/",
          "height": 52
        },
        "outputId": "b1d95050-de19-4df9-a6b0-c4417d5b7bd8"
      },
      "source": [
        "svm_poly_reg1 = SVR(kernel=\"poly\", gamma='auto', degree=3, C=100, epsilon=0.1)\n",
        "svm_poly_reg1.fit(std_scaler.fit_transform(shop_train_x_beauty), y_train_beauty)"
      ],
      "execution_count": null,
      "outputs": [
        {
          "output_type": "execute_result",
          "data": {
            "text/plain": [
              "SVR(C=100, cache_size=200, coef0=0.0, degree=3, epsilon=0.1, gamma='auto',\n",
              "    kernel='poly', max_iter=-1, shrinking=True, tol=0.001, verbose=False)"
            ]
          },
          "metadata": {
            "tags": []
          },
          "execution_count": 106
        }
      ]
    },
    {
      "cell_type": "code",
      "metadata": {
        "id": "p5pYSC8THiKz",
        "colab_type": "code",
        "colab": {
          "base_uri": "https://localhost:8080/",
          "height": 34
        },
        "outputId": "f99c30a4-df6f-4505-9c5b-30ecab94dd04"
      },
      "source": [
        "predictions_poly_svm = svm_poly_reg1.predict(std_scaler.fit_transform(shop_train_x_beauty))\n",
        "mape_poly = mean_absolute_percentage_error(y_train_beauty, predictions_poly_svm)\n",
        "mape_poly"
      ],
      "execution_count": null,
      "outputs": [
        {
          "output_type": "execute_result",
          "data": {
            "text/plain": [
              "4.005903577490163"
            ]
          },
          "metadata": {
            "tags": []
          },
          "execution_count": 107
        }
      ]
    },
    {
      "cell_type": "code",
      "metadata": {
        "id": "WoipAoC0LgpO",
        "colab_type": "code",
        "colab": {}
      },
      "source": [
        "svm_poly_reg1 = SVR(kernel=\"poly\", gamma='auto', degree=4, C=100, epsilon=0.1) # degree에 따라 성능차이 조금씩 난다. 3차정도가 최적인듯(4차가 성능은 경미하게 좋음)\n",
        "mape_score_poly_svr = []\n",
        "for i in category_list:\n",
        "  category_data = std_scaler.fit_transform(globals()['shop_train_x_{}'.format(i)])\n",
        "  category_label =  globals()['y_train_{}'.format(i)]\n",
        "  svm_poly_reg1.fit(category_data,category_label)\n",
        "  predictions = svm_poly_reg1.predict(category_data)\n",
        "  mape_score_poly_svr.append(mean_absolute_percentage_error(category_label, predictions))"
      ],
      "execution_count": null,
      "outputs": []
    },
    {
      "cell_type": "code",
      "metadata": {
        "id": "90_teMt7LhIW",
        "colab_type": "code",
        "colab": {
          "base_uri": "https://localhost:8080/",
          "height": 212
        },
        "outputId": "c1f78726-eae2-4221-dd9b-3ff37ee411e2"
      },
      "source": [
        "for i in range(len(category_list)):\n",
        "  print(\"Poly_SVM MAPE score of\",category_list[i],\":\",mape_score_poly_svr[i])"
      ],
      "execution_count": null,
      "outputs": [
        {
          "output_type": "stream",
          "text": [
            "Poly_SVM MAPE score of inner : 6.75746945657969\n",
            "Poly_SVM MAPE score of cloth : 7.855687983345937\n",
            "Poly_SVM MAPE score of elec : 24.324379091109442\n",
            "Poly_SVM MAPE score of living : 13.014127043735296\n",
            "Poly_SVM MAPE score of food : 3.5617197692092444\n",
            "Poly_SVM MAPE score of health : 5.8829160810894265\n",
            "Poly_SVM MAPE score of bedding : 8.558360478652173\n",
            "Poly_SVM MAPE score of furniture : 28.5403627624121\n",
            "Poly_SVM MAPE score of beauty : 4.0054323145531905\n",
            "Poly_SVM MAPE score of etc : 22.784803608412087\n",
            "Poly_SVM MAPE score of life : 13.805364989104074\n"
          ],
          "name": "stdout"
        }
      ]
    },
    {
      "cell_type": "code",
      "metadata": {
        "id": "r4h5ONNTLhFS",
        "colab_type": "code",
        "colab": {
          "base_uri": "https://localhost:8080/",
          "height": 34
        },
        "outputId": "28e2c7dc-84d6-4d63-cb9c-08741f53b5da"
      },
      "source": [
        "pd.Series(mape_score_poly_svr).mean()"
      ],
      "execution_count": null,
      "outputs": [
        {
          "output_type": "execute_result",
          "data": {
            "text/plain": [
              "12.64460214347297"
            ]
          },
          "metadata": {
            "tags": []
          },
          "execution_count": 110
        }
      ]
    },
    {
      "cell_type": "markdown",
      "metadata": {
        "id": "eSd369wjwdtn",
        "colab_type": "text"
      },
      "source": [
        "# 카테고리별 dnn"
      ]
    },
    {
      "cell_type": "code",
      "metadata": {
        "id": "_dYMEsoZwfpx",
        "colab_type": "code",
        "colab": {
          "base_uri": "https://localhost:8080/",
          "height": 341
        },
        "outputId": "de51d951-fdac-4881-b415-7a15071910fb"
      },
      "source": [
        "shop_train_x_beauty.describe()"
      ],
      "execution_count": null,
      "outputs": [
        {
          "output_type": "execute_result",
          "data": {
            "text/html": [
              "<div>\n",
              "<style scoped>\n",
              "    .dataframe tbody tr th:only-of-type {\n",
              "        vertical-align: middle;\n",
              "    }\n",
              "\n",
              "    .dataframe tbody tr th {\n",
              "        vertical-align: top;\n",
              "    }\n",
              "\n",
              "    .dataframe thead th {\n",
              "        text-align: right;\n",
              "    }\n",
              "</style>\n",
              "<table border=\"1\" class=\"dataframe\">\n",
              "  <thead>\n",
              "    <tr style=\"text-align: right;\">\n",
              "      <th></th>\n",
              "      <th>노출(분)</th>\n",
              "      <th>holiday(includeSS)</th>\n",
              "      <th>실제_최고기온</th>\n",
              "      <th>실제_최저기온</th>\n",
              "      <th>실제_강수량</th>\n",
              "      <th>실제_평균풍속</th>\n",
              "      <th>예보_서울_강수확률</th>\n",
              "      <th>예보_서울_강수량</th>\n",
              "      <th>예보_서울_하늘상태</th>\n",
              "      <th>예보_서울_일최고기온</th>\n",
              "      <th>예보_서울_일최저기온</th>\n",
              "      <th>예보_일산_강수확률</th>\n",
              "      <th>예보_일산_강수량</th>\n",
              "      <th>예보_일산_일최고기온</th>\n",
              "      <th>예보_일산_일최저기온</th>\n",
              "      <th>예보_수원_강수확률</th>\n",
              "      <th>예보_수원_강수량</th>\n",
              "      <th>예보_수원_일최고기온</th>\n",
              "      <th>예보_수원_일최저기온</th>\n",
              "      <th>Active Users</th>\n",
              "      <th>new판매단가</th>\n",
              "      <th>prime_time</th>\n",
              "      <th>prime_day</th>\n",
              "      <th>top_code</th>\n",
              "      <th>top_cat</th>\n",
              "    </tr>\n",
              "  </thead>\n",
              "  <tbody>\n",
              "    <tr>\n",
              "      <th>count</th>\n",
              "      <td>144.000000</td>\n",
              "      <td>144.000000</td>\n",
              "      <td>144.000000</td>\n",
              "      <td>144.000000</td>\n",
              "      <td>144.000000</td>\n",
              "      <td>144.000000</td>\n",
              "      <td>144.000000</td>\n",
              "      <td>144.000000</td>\n",
              "      <td>144.000000</td>\n",
              "      <td>144.000000</td>\n",
              "      <td>144.000000</td>\n",
              "      <td>144.000000</td>\n",
              "      <td>144.000000</td>\n",
              "      <td>144.000000</td>\n",
              "      <td>144.000000</td>\n",
              "      <td>144.000000</td>\n",
              "      <td>144.000000</td>\n",
              "      <td>144.000000</td>\n",
              "      <td>144.000000</td>\n",
              "      <td>144.000000</td>\n",
              "      <td>144.000000</td>\n",
              "      <td>144.000000</td>\n",
              "      <td>144.000000</td>\n",
              "      <td>144.000000</td>\n",
              "      <td>144.000000</td>\n",
              "    </tr>\n",
              "    <tr>\n",
              "      <th>mean</th>\n",
              "      <td>19.625000</td>\n",
              "      <td>0.236111</td>\n",
              "      <td>0.520256</td>\n",
              "      <td>0.553033</td>\n",
              "      <td>0.055585</td>\n",
              "      <td>0.340376</td>\n",
              "      <td>0.283907</td>\n",
              "      <td>0.099887</td>\n",
              "      <td>0.580376</td>\n",
              "      <td>0.401782</td>\n",
              "      <td>0.534671</td>\n",
              "      <td>0.270788</td>\n",
              "      <td>0.094781</td>\n",
              "      <td>0.449747</td>\n",
              "      <td>0.575333</td>\n",
              "      <td>0.267288</td>\n",
              "      <td>0.087438</td>\n",
              "      <td>0.450914</td>\n",
              "      <td>0.553947</td>\n",
              "      <td>141077.055556</td>\n",
              "      <td>0.254614</td>\n",
              "      <td>10.402778</td>\n",
              "      <td>4.319444</td>\n",
              "      <td>32.013889</td>\n",
              "      <td>60.826389</td>\n",
              "    </tr>\n",
              "    <tr>\n",
              "      <th>std</th>\n",
              "      <td>4.938609</td>\n",
              "      <td>0.426174</td>\n",
              "      <td>0.245274</td>\n",
              "      <td>0.307909</td>\n",
              "      <td>0.127220</td>\n",
              "      <td>0.237128</td>\n",
              "      <td>0.183442</td>\n",
              "      <td>0.146575</td>\n",
              "      <td>0.283699</td>\n",
              "      <td>0.198184</td>\n",
              "      <td>0.286419</td>\n",
              "      <td>0.186180</td>\n",
              "      <td>0.149365</td>\n",
              "      <td>0.198733</td>\n",
              "      <td>0.305498</td>\n",
              "      <td>0.178316</td>\n",
              "      <td>0.146481</td>\n",
              "      <td>0.238451</td>\n",
              "      <td>0.300709</td>\n",
              "      <td>13564.996281</td>\n",
              "      <td>0.326073</td>\n",
              "      <td>4.608171</td>\n",
              "      <td>2.054001</td>\n",
              "      <td>22.937430</td>\n",
              "      <td>14.929826</td>\n",
              "    </tr>\n",
              "    <tr>\n",
              "      <th>min</th>\n",
              "      <td>5.000000</td>\n",
              "      <td>0.000000</td>\n",
              "      <td>0.000000</td>\n",
              "      <td>0.000000</td>\n",
              "      <td>0.000000</td>\n",
              "      <td>0.000000</td>\n",
              "      <td>0.000000</td>\n",
              "      <td>0.000000</td>\n",
              "      <td>0.000000</td>\n",
              "      <td>0.000000</td>\n",
              "      <td>0.000000</td>\n",
              "      <td>0.000000</td>\n",
              "      <td>0.000000</td>\n",
              "      <td>0.000000</td>\n",
              "      <td>0.000000</td>\n",
              "      <td>0.000000</td>\n",
              "      <td>0.000000</td>\n",
              "      <td>0.000000</td>\n",
              "      <td>0.000000</td>\n",
              "      <td>110345.000000</td>\n",
              "      <td>0.000000</td>\n",
              "      <td>1.000000</td>\n",
              "      <td>1.000000</td>\n",
              "      <td>0.000000</td>\n",
              "      <td>28.000000</td>\n",
              "    </tr>\n",
              "    <tr>\n",
              "      <th>25%</th>\n",
              "      <td>20.000000</td>\n",
              "      <td>0.000000</td>\n",
              "      <td>0.332378</td>\n",
              "      <td>0.295880</td>\n",
              "      <td>0.000000</td>\n",
              "      <td>0.169014</td>\n",
              "      <td>0.136613</td>\n",
              "      <td>0.006787</td>\n",
              "      <td>0.355952</td>\n",
              "      <td>0.274611</td>\n",
              "      <td>0.274074</td>\n",
              "      <td>0.106419</td>\n",
              "      <td>0.000000</td>\n",
              "      <td>0.327128</td>\n",
              "      <td>0.280576</td>\n",
              "      <td>0.139026</td>\n",
              "      <td>0.004274</td>\n",
              "      <td>0.326923</td>\n",
              "      <td>0.270073</td>\n",
              "      <td>130279.000000</td>\n",
              "      <td>0.000000</td>\n",
              "      <td>7.000000</td>\n",
              "      <td>3.000000</td>\n",
              "      <td>0.000000</td>\n",
              "      <td>55.000000</td>\n",
              "    </tr>\n",
              "    <tr>\n",
              "      <th>50%</th>\n",
              "      <td>20.000000</td>\n",
              "      <td>0.000000</td>\n",
              "      <td>0.504298</td>\n",
              "      <td>0.565543</td>\n",
              "      <td>0.000783</td>\n",
              "      <td>0.323944</td>\n",
              "      <td>0.283361</td>\n",
              "      <td>0.045249</td>\n",
              "      <td>0.659524</td>\n",
              "      <td>0.367876</td>\n",
              "      <td>0.525926</td>\n",
              "      <td>0.266047</td>\n",
              "      <td>0.033937</td>\n",
              "      <td>0.398936</td>\n",
              "      <td>0.539568</td>\n",
              "      <td>0.280528</td>\n",
              "      <td>0.044872</td>\n",
              "      <td>0.410256</td>\n",
              "      <td>0.518248</td>\n",
              "      <td>142358.000000</td>\n",
              "      <td>0.003601</td>\n",
              "      <td>9.000000</td>\n",
              "      <td>4.000000</td>\n",
              "      <td>39.000000</td>\n",
              "      <td>62.000000</td>\n",
              "    </tr>\n",
              "    <tr>\n",
              "      <th>75%</th>\n",
              "      <td>20.000000</td>\n",
              "      <td>0.000000</td>\n",
              "      <td>0.676218</td>\n",
              "      <td>0.854869</td>\n",
              "      <td>0.053229</td>\n",
              "      <td>0.422535</td>\n",
              "      <td>0.389358</td>\n",
              "      <td>0.136878</td>\n",
              "      <td>0.802381</td>\n",
              "      <td>0.510363</td>\n",
              "      <td>0.822222</td>\n",
              "      <td>0.384291</td>\n",
              "      <td>0.114027</td>\n",
              "      <td>0.553191</td>\n",
              "      <td>0.884892</td>\n",
              "      <td>0.353960</td>\n",
              "      <td>0.102030</td>\n",
              "      <td>0.591346</td>\n",
              "      <td>0.883212</td>\n",
              "      <td>150976.750000</td>\n",
              "      <td>0.564881</td>\n",
              "      <td>15.250000</td>\n",
              "      <td>6.000000</td>\n",
              "      <td>55.000000</td>\n",
              "      <td>77.000000</td>\n",
              "    </tr>\n",
              "    <tr>\n",
              "      <th>max</th>\n",
              "      <td>30.000000</td>\n",
              "      <td>1.000000</td>\n",
              "      <td>1.000000</td>\n",
              "      <td>1.000000</td>\n",
              "      <td>1.000000</td>\n",
              "      <td>1.000000</td>\n",
              "      <td>1.000000</td>\n",
              "      <td>1.000000</td>\n",
              "      <td>1.000000</td>\n",
              "      <td>1.000000</td>\n",
              "      <td>1.000000</td>\n",
              "      <td>1.000000</td>\n",
              "      <td>1.000000</td>\n",
              "      <td>1.000000</td>\n",
              "      <td>1.000000</td>\n",
              "      <td>1.000000</td>\n",
              "      <td>1.000000</td>\n",
              "      <td>1.000000</td>\n",
              "      <td>1.000000</td>\n",
              "      <td>169626.000000</td>\n",
              "      <td>1.000000</td>\n",
              "      <td>19.000000</td>\n",
              "      <td>7.000000</td>\n",
              "      <td>55.000000</td>\n",
              "      <td>77.000000</td>\n",
              "    </tr>\n",
              "  </tbody>\n",
              "</table>\n",
              "</div>"
            ],
            "text/plain": [
              "            노출(분)  holiday(includeSS)  ...    top_code     top_cat\n",
              "count  144.000000          144.000000  ...  144.000000  144.000000\n",
              "mean    19.625000            0.236111  ...   32.013889   60.826389\n",
              "std      4.938609            0.426174  ...   22.937430   14.929826\n",
              "min      5.000000            0.000000  ...    0.000000   28.000000\n",
              "25%     20.000000            0.000000  ...    0.000000   55.000000\n",
              "50%     20.000000            0.000000  ...   39.000000   62.000000\n",
              "75%     20.000000            0.000000  ...   55.000000   77.000000\n",
              "max     30.000000            1.000000  ...   55.000000   77.000000\n",
              "\n",
              "[8 rows x 25 columns]"
            ]
          },
          "metadata": {
            "tags": []
          },
          "execution_count": 111
        }
      ]
    },
    {
      "cell_type": "code",
      "metadata": {
        "id": "mP8qqvN_wf6h",
        "colab_type": "code",
        "colab": {}
      },
      "source": [
        "from sklearn.preprocessing import MinMaxScaler\n",
        "scaler = MinMaxScaler()"
      ],
      "execution_count": null,
      "outputs": []
    },
    {
      "cell_type": "code",
      "metadata": {
        "id": "ZaoE21yAwyKd",
        "colab_type": "code",
        "colab": {}
      },
      "source": [
        "reg_col = ['실제_최고기온','실제_최저기온','실제_강수량','실제_평균풍속', \n",
        "           '예보_서울_강수확률', '예보_서울_강수량', '예보_서울_하늘상태', \n",
        "           '예보_서울_일최고기온', '예보_서울_일최저기온', '예보_일산_강수확률', \n",
        "           '예보_일산_강수량', '예보_일산_일최고기온', '예보_일산_일최저기온', \n",
        "           '예보_수원_강수확률', '예보_수원_강수량', '예보_수원_일최고기온',\n",
        "           '예보_수원_일최저기온', 'new판매단가']"
      ],
      "execution_count": null,
      "outputs": []
    },
    {
      "cell_type": "code",
      "metadata": {
        "id": "4Egh11m_wf9H",
        "colab_type": "code",
        "colab": {}
      },
      "source": [
        "from sklearn.preprocessing import MinMaxScaler\n",
        "scaler = MinMaxScaler()"
      ],
      "execution_count": null,
      "outputs": []
    },
    {
      "cell_type": "code",
      "metadata": {
        "id": "TjojCgt7wf_v",
        "colab_type": "code",
        "colab": {
          "base_uri": "https://localhost:8080/",
          "height": 1000
        },
        "outputId": "48077fd9-cecc-47ee-c779-b5c0f0c9a0d7"
      },
      "source": [
        "for i in category_list:\n",
        "  globals()['shop_train_x_{}'.format(i)][reg_col] = scaler.fit_transform(globals()['shop_train_x_{}'.format(i)][reg_col])\n",
        "  globals()['shop_test_x_{}'.format(i)][reg_col] = scaler.fit_transform(globals()['shop_test_x_{}'.format(i)][reg_col])"
      ],
      "execution_count": null,
      "outputs": [
        {
          "output_type": "stream",
          "text": [
            "/usr/local/lib/python3.6/dist-packages/ipykernel_launcher.py:2: SettingWithCopyWarning: \n",
            "A value is trying to be set on a copy of a slice from a DataFrame.\n",
            "Try using .loc[row_indexer,col_indexer] = value instead\n",
            "\n",
            "See the caveats in the documentation: https://pandas.pydata.org/pandas-docs/stable/user_guide/indexing.html#returning-a-view-versus-a-copy\n",
            "  \n",
            "/usr/local/lib/python3.6/dist-packages/pandas/core/indexing.py:966: SettingWithCopyWarning: \n",
            "A value is trying to be set on a copy of a slice from a DataFrame.\n",
            "Try using .loc[row_indexer,col_indexer] = value instead\n",
            "\n",
            "See the caveats in the documentation: https://pandas.pydata.org/pandas-docs/stable/user_guide/indexing.html#returning-a-view-versus-a-copy\n",
            "  self.obj[item] = s\n",
            "/usr/local/lib/python3.6/dist-packages/ipykernel_launcher.py:3: SettingWithCopyWarning: \n",
            "A value is trying to be set on a copy of a slice from a DataFrame.\n",
            "Try using .loc[row_indexer,col_indexer] = value instead\n",
            "\n",
            "See the caveats in the documentation: https://pandas.pydata.org/pandas-docs/stable/user_guide/indexing.html#returning-a-view-versus-a-copy\n",
            "  This is separate from the ipykernel package so we can avoid doing imports until\n",
            "/usr/local/lib/python3.6/dist-packages/pandas/core/indexing.py:966: SettingWithCopyWarning: \n",
            "A value is trying to be set on a copy of a slice from a DataFrame.\n",
            "Try using .loc[row_indexer,col_indexer] = value instead\n",
            "\n",
            "See the caveats in the documentation: https://pandas.pydata.org/pandas-docs/stable/user_guide/indexing.html#returning-a-view-versus-a-copy\n",
            "  self.obj[item] = s\n",
            "/usr/local/lib/python3.6/dist-packages/ipykernel_launcher.py:2: SettingWithCopyWarning: \n",
            "A value is trying to be set on a copy of a slice from a DataFrame.\n",
            "Try using .loc[row_indexer,col_indexer] = value instead\n",
            "\n",
            "See the caveats in the documentation: https://pandas.pydata.org/pandas-docs/stable/user_guide/indexing.html#returning-a-view-versus-a-copy\n",
            "  \n",
            "/usr/local/lib/python3.6/dist-packages/pandas/core/indexing.py:966: SettingWithCopyWarning: \n",
            "A value is trying to be set on a copy of a slice from a DataFrame.\n",
            "Try using .loc[row_indexer,col_indexer] = value instead\n",
            "\n",
            "See the caveats in the documentation: https://pandas.pydata.org/pandas-docs/stable/user_guide/indexing.html#returning-a-view-versus-a-copy\n",
            "  self.obj[item] = s\n",
            "/usr/local/lib/python3.6/dist-packages/ipykernel_launcher.py:3: SettingWithCopyWarning: \n",
            "A value is trying to be set on a copy of a slice from a DataFrame.\n",
            "Try using .loc[row_indexer,col_indexer] = value instead\n",
            "\n",
            "See the caveats in the documentation: https://pandas.pydata.org/pandas-docs/stable/user_guide/indexing.html#returning-a-view-versus-a-copy\n",
            "  This is separate from the ipykernel package so we can avoid doing imports until\n",
            "/usr/local/lib/python3.6/dist-packages/pandas/core/indexing.py:966: SettingWithCopyWarning: \n",
            "A value is trying to be set on a copy of a slice from a DataFrame.\n",
            "Try using .loc[row_indexer,col_indexer] = value instead\n",
            "\n",
            "See the caveats in the documentation: https://pandas.pydata.org/pandas-docs/stable/user_guide/indexing.html#returning-a-view-versus-a-copy\n",
            "  self.obj[item] = s\n",
            "/usr/local/lib/python3.6/dist-packages/ipykernel_launcher.py:2: SettingWithCopyWarning: \n",
            "A value is trying to be set on a copy of a slice from a DataFrame.\n",
            "Try using .loc[row_indexer,col_indexer] = value instead\n",
            "\n",
            "See the caveats in the documentation: https://pandas.pydata.org/pandas-docs/stable/user_guide/indexing.html#returning-a-view-versus-a-copy\n",
            "  \n",
            "/usr/local/lib/python3.6/dist-packages/pandas/core/indexing.py:966: SettingWithCopyWarning: \n",
            "A value is trying to be set on a copy of a slice from a DataFrame.\n",
            "Try using .loc[row_indexer,col_indexer] = value instead\n",
            "\n",
            "See the caveats in the documentation: https://pandas.pydata.org/pandas-docs/stable/user_guide/indexing.html#returning-a-view-versus-a-copy\n",
            "  self.obj[item] = s\n",
            "/usr/local/lib/python3.6/dist-packages/ipykernel_launcher.py:3: SettingWithCopyWarning: \n",
            "A value is trying to be set on a copy of a slice from a DataFrame.\n",
            "Try using .loc[row_indexer,col_indexer] = value instead\n",
            "\n",
            "See the caveats in the documentation: https://pandas.pydata.org/pandas-docs/stable/user_guide/indexing.html#returning-a-view-versus-a-copy\n",
            "  This is separate from the ipykernel package so we can avoid doing imports until\n",
            "/usr/local/lib/python3.6/dist-packages/pandas/core/indexing.py:966: SettingWithCopyWarning: \n",
            "A value is trying to be set on a copy of a slice from a DataFrame.\n",
            "Try using .loc[row_indexer,col_indexer] = value instead\n",
            "\n",
            "See the caveats in the documentation: https://pandas.pydata.org/pandas-docs/stable/user_guide/indexing.html#returning-a-view-versus-a-copy\n",
            "  self.obj[item] = s\n",
            "/usr/local/lib/python3.6/dist-packages/ipykernel_launcher.py:2: SettingWithCopyWarning: \n",
            "A value is trying to be set on a copy of a slice from a DataFrame.\n",
            "Try using .loc[row_indexer,col_indexer] = value instead\n",
            "\n",
            "See the caveats in the documentation: https://pandas.pydata.org/pandas-docs/stable/user_guide/indexing.html#returning-a-view-versus-a-copy\n",
            "  \n",
            "/usr/local/lib/python3.6/dist-packages/pandas/core/indexing.py:966: SettingWithCopyWarning: \n",
            "A value is trying to be set on a copy of a slice from a DataFrame.\n",
            "Try using .loc[row_indexer,col_indexer] = value instead\n",
            "\n",
            "See the caveats in the documentation: https://pandas.pydata.org/pandas-docs/stable/user_guide/indexing.html#returning-a-view-versus-a-copy\n",
            "  self.obj[item] = s\n",
            "/usr/local/lib/python3.6/dist-packages/ipykernel_launcher.py:3: SettingWithCopyWarning: \n",
            "A value is trying to be set on a copy of a slice from a DataFrame.\n",
            "Try using .loc[row_indexer,col_indexer] = value instead\n",
            "\n",
            "See the caveats in the documentation: https://pandas.pydata.org/pandas-docs/stable/user_guide/indexing.html#returning-a-view-versus-a-copy\n",
            "  This is separate from the ipykernel package so we can avoid doing imports until\n",
            "/usr/local/lib/python3.6/dist-packages/pandas/core/indexing.py:966: SettingWithCopyWarning: \n",
            "A value is trying to be set on a copy of a slice from a DataFrame.\n",
            "Try using .loc[row_indexer,col_indexer] = value instead\n",
            "\n",
            "See the caveats in the documentation: https://pandas.pydata.org/pandas-docs/stable/user_guide/indexing.html#returning-a-view-versus-a-copy\n",
            "  self.obj[item] = s\n",
            "/usr/local/lib/python3.6/dist-packages/ipykernel_launcher.py:2: SettingWithCopyWarning: \n",
            "A value is trying to be set on a copy of a slice from a DataFrame.\n",
            "Try using .loc[row_indexer,col_indexer] = value instead\n",
            "\n",
            "See the caveats in the documentation: https://pandas.pydata.org/pandas-docs/stable/user_guide/indexing.html#returning-a-view-versus-a-copy\n",
            "  \n",
            "/usr/local/lib/python3.6/dist-packages/pandas/core/indexing.py:966: SettingWithCopyWarning: \n",
            "A value is trying to be set on a copy of a slice from a DataFrame.\n",
            "Try using .loc[row_indexer,col_indexer] = value instead\n",
            "\n",
            "See the caveats in the documentation: https://pandas.pydata.org/pandas-docs/stable/user_guide/indexing.html#returning-a-view-versus-a-copy\n",
            "  self.obj[item] = s\n",
            "/usr/local/lib/python3.6/dist-packages/ipykernel_launcher.py:3: SettingWithCopyWarning: \n",
            "A value is trying to be set on a copy of a slice from a DataFrame.\n",
            "Try using .loc[row_indexer,col_indexer] = value instead\n",
            "\n",
            "See the caveats in the documentation: https://pandas.pydata.org/pandas-docs/stable/user_guide/indexing.html#returning-a-view-versus-a-copy\n",
            "  This is separate from the ipykernel package so we can avoid doing imports until\n",
            "/usr/local/lib/python3.6/dist-packages/pandas/core/indexing.py:966: SettingWithCopyWarning: \n",
            "A value is trying to be set on a copy of a slice from a DataFrame.\n",
            "Try using .loc[row_indexer,col_indexer] = value instead\n",
            "\n",
            "See the caveats in the documentation: https://pandas.pydata.org/pandas-docs/stable/user_guide/indexing.html#returning-a-view-versus-a-copy\n",
            "  self.obj[item] = s\n",
            "/usr/local/lib/python3.6/dist-packages/ipykernel_launcher.py:2: SettingWithCopyWarning: \n",
            "A value is trying to be set on a copy of a slice from a DataFrame.\n",
            "Try using .loc[row_indexer,col_indexer] = value instead\n",
            "\n",
            "See the caveats in the documentation: https://pandas.pydata.org/pandas-docs/stable/user_guide/indexing.html#returning-a-view-versus-a-copy\n",
            "  \n",
            "/usr/local/lib/python3.6/dist-packages/pandas/core/indexing.py:966: SettingWithCopyWarning: \n",
            "A value is trying to be set on a copy of a slice from a DataFrame.\n",
            "Try using .loc[row_indexer,col_indexer] = value instead\n",
            "\n",
            "See the caveats in the documentation: https://pandas.pydata.org/pandas-docs/stable/user_guide/indexing.html#returning-a-view-versus-a-copy\n",
            "  self.obj[item] = s\n",
            "/usr/local/lib/python3.6/dist-packages/ipykernel_launcher.py:3: SettingWithCopyWarning: \n",
            "A value is trying to be set on a copy of a slice from a DataFrame.\n",
            "Try using .loc[row_indexer,col_indexer] = value instead\n",
            "\n",
            "See the caveats in the documentation: https://pandas.pydata.org/pandas-docs/stable/user_guide/indexing.html#returning-a-view-versus-a-copy\n",
            "  This is separate from the ipykernel package so we can avoid doing imports until\n",
            "/usr/local/lib/python3.6/dist-packages/pandas/core/indexing.py:966: SettingWithCopyWarning: \n",
            "A value is trying to be set on a copy of a slice from a DataFrame.\n",
            "Try using .loc[row_indexer,col_indexer] = value instead\n",
            "\n",
            "See the caveats in the documentation: https://pandas.pydata.org/pandas-docs/stable/user_guide/indexing.html#returning-a-view-versus-a-copy\n",
            "  self.obj[item] = s\n",
            "/usr/local/lib/python3.6/dist-packages/ipykernel_launcher.py:2: SettingWithCopyWarning: \n",
            "A value is trying to be set on a copy of a slice from a DataFrame.\n",
            "Try using .loc[row_indexer,col_indexer] = value instead\n",
            "\n",
            "See the caveats in the documentation: https://pandas.pydata.org/pandas-docs/stable/user_guide/indexing.html#returning-a-view-versus-a-copy\n",
            "  \n",
            "/usr/local/lib/python3.6/dist-packages/pandas/core/indexing.py:966: SettingWithCopyWarning: \n",
            "A value is trying to be set on a copy of a slice from a DataFrame.\n",
            "Try using .loc[row_indexer,col_indexer] = value instead\n",
            "\n",
            "See the caveats in the documentation: https://pandas.pydata.org/pandas-docs/stable/user_guide/indexing.html#returning-a-view-versus-a-copy\n",
            "  self.obj[item] = s\n",
            "/usr/local/lib/python3.6/dist-packages/ipykernel_launcher.py:3: SettingWithCopyWarning: \n",
            "A value is trying to be set on a copy of a slice from a DataFrame.\n",
            "Try using .loc[row_indexer,col_indexer] = value instead\n",
            "\n",
            "See the caveats in the documentation: https://pandas.pydata.org/pandas-docs/stable/user_guide/indexing.html#returning-a-view-versus-a-copy\n",
            "  This is separate from the ipykernel package so we can avoid doing imports until\n",
            "/usr/local/lib/python3.6/dist-packages/pandas/core/indexing.py:966: SettingWithCopyWarning: \n",
            "A value is trying to be set on a copy of a slice from a DataFrame.\n",
            "Try using .loc[row_indexer,col_indexer] = value instead\n",
            "\n",
            "See the caveats in the documentation: https://pandas.pydata.org/pandas-docs/stable/user_guide/indexing.html#returning-a-view-versus-a-copy\n",
            "  self.obj[item] = s\n",
            "/usr/local/lib/python3.6/dist-packages/ipykernel_launcher.py:2: SettingWithCopyWarning: \n",
            "A value is trying to be set on a copy of a slice from a DataFrame.\n",
            "Try using .loc[row_indexer,col_indexer] = value instead\n",
            "\n",
            "See the caveats in the documentation: https://pandas.pydata.org/pandas-docs/stable/user_guide/indexing.html#returning-a-view-versus-a-copy\n",
            "  \n",
            "/usr/local/lib/python3.6/dist-packages/pandas/core/indexing.py:966: SettingWithCopyWarning: \n",
            "A value is trying to be set on a copy of a slice from a DataFrame.\n",
            "Try using .loc[row_indexer,col_indexer] = value instead\n",
            "\n",
            "See the caveats in the documentation: https://pandas.pydata.org/pandas-docs/stable/user_guide/indexing.html#returning-a-view-versus-a-copy\n",
            "  self.obj[item] = s\n",
            "/usr/local/lib/python3.6/dist-packages/ipykernel_launcher.py:3: SettingWithCopyWarning: \n",
            "A value is trying to be set on a copy of a slice from a DataFrame.\n",
            "Try using .loc[row_indexer,col_indexer] = value instead\n",
            "\n",
            "See the caveats in the documentation: https://pandas.pydata.org/pandas-docs/stable/user_guide/indexing.html#returning-a-view-versus-a-copy\n",
            "  This is separate from the ipykernel package so we can avoid doing imports until\n",
            "/usr/local/lib/python3.6/dist-packages/pandas/core/indexing.py:966: SettingWithCopyWarning: \n",
            "A value is trying to be set on a copy of a slice from a DataFrame.\n",
            "Try using .loc[row_indexer,col_indexer] = value instead\n",
            "\n",
            "See the caveats in the documentation: https://pandas.pydata.org/pandas-docs/stable/user_guide/indexing.html#returning-a-view-versus-a-copy\n",
            "  self.obj[item] = s\n",
            "/usr/local/lib/python3.6/dist-packages/ipykernel_launcher.py:2: SettingWithCopyWarning: \n",
            "A value is trying to be set on a copy of a slice from a DataFrame.\n",
            "Try using .loc[row_indexer,col_indexer] = value instead\n",
            "\n",
            "See the caveats in the documentation: https://pandas.pydata.org/pandas-docs/stable/user_guide/indexing.html#returning-a-view-versus-a-copy\n",
            "  \n",
            "/usr/local/lib/python3.6/dist-packages/pandas/core/indexing.py:966: SettingWithCopyWarning: \n",
            "A value is trying to be set on a copy of a slice from a DataFrame.\n",
            "Try using .loc[row_indexer,col_indexer] = value instead\n",
            "\n",
            "See the caveats in the documentation: https://pandas.pydata.org/pandas-docs/stable/user_guide/indexing.html#returning-a-view-versus-a-copy\n",
            "  self.obj[item] = s\n",
            "/usr/local/lib/python3.6/dist-packages/ipykernel_launcher.py:3: SettingWithCopyWarning: \n",
            "A value is trying to be set on a copy of a slice from a DataFrame.\n",
            "Try using .loc[row_indexer,col_indexer] = value instead\n",
            "\n",
            "See the caveats in the documentation: https://pandas.pydata.org/pandas-docs/stable/user_guide/indexing.html#returning-a-view-versus-a-copy\n",
            "  This is separate from the ipykernel package so we can avoid doing imports until\n",
            "/usr/local/lib/python3.6/dist-packages/pandas/core/indexing.py:966: SettingWithCopyWarning: \n",
            "A value is trying to be set on a copy of a slice from a DataFrame.\n",
            "Try using .loc[row_indexer,col_indexer] = value instead\n",
            "\n",
            "See the caveats in the documentation: https://pandas.pydata.org/pandas-docs/stable/user_guide/indexing.html#returning-a-view-versus-a-copy\n",
            "  self.obj[item] = s\n",
            "/usr/local/lib/python3.6/dist-packages/ipykernel_launcher.py:2: SettingWithCopyWarning: \n",
            "A value is trying to be set on a copy of a slice from a DataFrame.\n",
            "Try using .loc[row_indexer,col_indexer] = value instead\n",
            "\n",
            "See the caveats in the documentation: https://pandas.pydata.org/pandas-docs/stable/user_guide/indexing.html#returning-a-view-versus-a-copy\n",
            "  \n",
            "/usr/local/lib/python3.6/dist-packages/pandas/core/indexing.py:966: SettingWithCopyWarning: \n",
            "A value is trying to be set on a copy of a slice from a DataFrame.\n",
            "Try using .loc[row_indexer,col_indexer] = value instead\n",
            "\n",
            "See the caveats in the documentation: https://pandas.pydata.org/pandas-docs/stable/user_guide/indexing.html#returning-a-view-versus-a-copy\n",
            "  self.obj[item] = s\n",
            "/usr/local/lib/python3.6/dist-packages/ipykernel_launcher.py:3: SettingWithCopyWarning: \n",
            "A value is trying to be set on a copy of a slice from a DataFrame.\n",
            "Try using .loc[row_indexer,col_indexer] = value instead\n",
            "\n",
            "See the caveats in the documentation: https://pandas.pydata.org/pandas-docs/stable/user_guide/indexing.html#returning-a-view-versus-a-copy\n",
            "  This is separate from the ipykernel package so we can avoid doing imports until\n",
            "/usr/local/lib/python3.6/dist-packages/pandas/core/indexing.py:966: SettingWithCopyWarning: \n",
            "A value is trying to be set on a copy of a slice from a DataFrame.\n",
            "Try using .loc[row_indexer,col_indexer] = value instead\n",
            "\n",
            "See the caveats in the documentation: https://pandas.pydata.org/pandas-docs/stable/user_guide/indexing.html#returning-a-view-versus-a-copy\n",
            "  self.obj[item] = s\n",
            "/usr/local/lib/python3.6/dist-packages/ipykernel_launcher.py:2: SettingWithCopyWarning: \n",
            "A value is trying to be set on a copy of a slice from a DataFrame.\n",
            "Try using .loc[row_indexer,col_indexer] = value instead\n",
            "\n",
            "See the caveats in the documentation: https://pandas.pydata.org/pandas-docs/stable/user_guide/indexing.html#returning-a-view-versus-a-copy\n",
            "  \n",
            "/usr/local/lib/python3.6/dist-packages/pandas/core/indexing.py:966: SettingWithCopyWarning: \n",
            "A value is trying to be set on a copy of a slice from a DataFrame.\n",
            "Try using .loc[row_indexer,col_indexer] = value instead\n",
            "\n",
            "See the caveats in the documentation: https://pandas.pydata.org/pandas-docs/stable/user_guide/indexing.html#returning-a-view-versus-a-copy\n",
            "  self.obj[item] = s\n",
            "/usr/local/lib/python3.6/dist-packages/ipykernel_launcher.py:3: SettingWithCopyWarning: \n",
            "A value is trying to be set on a copy of a slice from a DataFrame.\n",
            "Try using .loc[row_indexer,col_indexer] = value instead\n",
            "\n",
            "See the caveats in the documentation: https://pandas.pydata.org/pandas-docs/stable/user_guide/indexing.html#returning-a-view-versus-a-copy\n",
            "  This is separate from the ipykernel package so we can avoid doing imports until\n",
            "/usr/local/lib/python3.6/dist-packages/pandas/core/indexing.py:966: SettingWithCopyWarning: \n",
            "A value is trying to be set on a copy of a slice from a DataFrame.\n",
            "Try using .loc[row_indexer,col_indexer] = value instead\n",
            "\n",
            "See the caveats in the documentation: https://pandas.pydata.org/pandas-docs/stable/user_guide/indexing.html#returning-a-view-versus-a-copy\n",
            "  self.obj[item] = s\n"
          ],
          "name": "stderr"
        }
      ]
    },
    {
      "cell_type": "code",
      "metadata": {
        "id": "nH_VFxJ2wgEd",
        "colab_type": "code",
        "colab": {}
      },
      "source": [
        "from keras.models import Sequential\n",
        "from keras.layers import Dense\n",
        "from keras.optimizers import SGD"
      ],
      "execution_count": null,
      "outputs": []
    },
    {
      "cell_type": "code",
      "metadata": {
        "id": "mr5MeBOcwgHr",
        "colab_type": "code",
        "colab": {}
      },
      "source": [
        "n_inputs = 18\n",
        "n_h1 = 50\n",
        "n_h2 = 50\n",
        "n_outputs = 1\n",
        "\n",
        "#### optimizer = sgd\n",
        "\n",
        "m1 = Sequential()\n",
        "m1.add(Dense(n_h1, input_dim=18, kernel_initializer='normal', activation='relu'))\n",
        "m1.add(Dense(n_h2, input_dim=n_h1, kernel_initializer='normal', activation='relu'))\n",
        "m1.add(Dense(n_outputs, input_dim=n_h2, kernel_initializer='normal'))"
      ],
      "execution_count": null,
      "outputs": []
    },
    {
      "cell_type": "code",
      "metadata": {
        "id": "88X-3-zt1czZ",
        "colab_type": "code",
        "colab": {
          "base_uri": "https://localhost:8080/",
          "height": 727
        },
        "outputId": "b1bc4f4d-ecaa-4eab-f20c-bd3ef37ca39a"
      },
      "source": [
        "m1.compile(optimizer='adam', loss='mean_squared_error')\n",
        "hist1=m1.fit(shop_train_x_bedding[reg_col], y_train_bedding, epochs=20, batch_size=20)"
      ],
      "execution_count": null,
      "outputs": [
        {
          "output_type": "stream",
          "text": [
            "Epoch 1/20\n",
            "10/10 [==============================] - 0s 2ms/step - loss: 24.5693\n",
            "Epoch 2/20\n",
            "10/10 [==============================] - 0s 2ms/step - loss: 23.7012\n",
            "Epoch 3/20\n",
            "10/10 [==============================] - 0s 2ms/step - loss: 21.9855\n",
            "Epoch 4/20\n",
            "10/10 [==============================] - 0s 1ms/step - loss: 18.7655\n",
            "Epoch 5/20\n",
            "10/10 [==============================] - 0s 1ms/step - loss: 13.7009\n",
            "Epoch 6/20\n",
            "10/10 [==============================] - 0s 2ms/step - loss: 7.6213\n",
            "Epoch 7/20\n",
            "10/10 [==============================] - 0s 2ms/step - loss: 3.6177\n",
            "Epoch 8/20\n",
            "10/10 [==============================] - 0s 2ms/step - loss: 3.0067\n",
            "Epoch 9/20\n",
            "10/10 [==============================] - 0s 2ms/step - loss: 2.8115\n",
            "Epoch 10/20\n",
            "10/10 [==============================] - 0s 2ms/step - loss: 2.5202\n",
            "Epoch 11/20\n",
            "10/10 [==============================] - 0s 2ms/step - loss: 2.3983\n",
            "Epoch 12/20\n",
            "10/10 [==============================] - 0s 2ms/step - loss: 2.2677\n",
            "Epoch 13/20\n",
            "10/10 [==============================] - 0s 2ms/step - loss: 2.1408\n",
            "Epoch 14/20\n",
            "10/10 [==============================] - 0s 2ms/step - loss: 2.0472\n",
            "Epoch 15/20\n",
            "10/10 [==============================] - 0s 3ms/step - loss: 1.9286\n",
            "Epoch 16/20\n",
            "10/10 [==============================] - 0s 2ms/step - loss: 1.8224\n",
            "Epoch 17/20\n",
            "10/10 [==============================] - 0s 2ms/step - loss: 1.7159\n",
            "Epoch 18/20\n",
            "10/10 [==============================] - 0s 2ms/step - loss: 1.6233\n",
            "Epoch 19/20\n",
            "10/10 [==============================] - 0s 2ms/step - loss: 1.5333\n",
            "Epoch 20/20\n",
            "10/10 [==============================] - 0s 1ms/step - loss: 1.4443\n"
          ],
          "name": "stdout"
        }
      ]
    },
    {
      "cell_type": "code",
      "metadata": {
        "id": "F7m8KrVizLZp",
        "colab_type": "code",
        "colab": {
          "base_uri": "https://localhost:8080/",
          "height": 1000
        },
        "outputId": "3294b4ea-9daa-49ea-ac28-ab330a9bf040"
      },
      "source": [
        "pred_cate = []\n",
        "m1.compile(optimizer='adam', loss='mean_squared_error')\n",
        "for i in category_list:\n",
        "  hist1=m1.fit(globals()['shop_train_x_{}'.format(i)][reg_col], globals()['y_train_{}'.format(i)], epochs=20, batch_size=20)\n",
        "  pred_cate.append(m1.predict(globals()['shop_train_x_{}'.format(i)][reg_col]))"
      ],
      "execution_count": null,
      "outputs": [
        {
          "output_type": "stream",
          "text": [
            "Epoch 1/20\n",
            "30/30 [==============================] - 0s 1ms/step - loss: 2.5921\n",
            "Epoch 2/20\n",
            "30/30 [==============================] - 0s 1ms/step - loss: 2.3065\n",
            "Epoch 3/20\n",
            "30/30 [==============================] - 0s 1ms/step - loss: 2.0864\n",
            "Epoch 4/20\n",
            "30/30 [==============================] - 0s 1ms/step - loss: 1.9830\n",
            "Epoch 5/20\n",
            "30/30 [==============================] - 0s 1ms/step - loss: 1.8381\n",
            "Epoch 6/20\n",
            "30/30 [==============================] - 0s 1ms/step - loss: 1.7222\n",
            "Epoch 7/20\n",
            "30/30 [==============================] - 0s 1ms/step - loss: 1.6243\n",
            "Epoch 8/20\n",
            "30/30 [==============================] - 0s 1ms/step - loss: 1.5405\n",
            "Epoch 9/20\n",
            "30/30 [==============================] - 0s 1ms/step - loss: 1.4432\n",
            "Epoch 10/20\n",
            "30/30 [==============================] - 0s 1ms/step - loss: 1.3928\n",
            "Epoch 11/20\n",
            "30/30 [==============================] - 0s 1ms/step - loss: 1.2964\n",
            "Epoch 12/20\n",
            "30/30 [==============================] - 0s 1ms/step - loss: 1.2280\n",
            "Epoch 13/20\n",
            "30/30 [==============================] - 0s 1ms/step - loss: 1.1763\n",
            "Epoch 14/20\n",
            "30/30 [==============================] - 0s 1ms/step - loss: 1.1304\n",
            "Epoch 15/20\n",
            "30/30 [==============================] - 0s 1ms/step - loss: 1.1151\n",
            "Epoch 16/20\n",
            "30/30 [==============================] - 0s 1ms/step - loss: 1.0838\n",
            "Epoch 17/20\n",
            "30/30 [==============================] - 0s 1ms/step - loss: 1.0389\n",
            "Epoch 18/20\n",
            "30/30 [==============================] - 0s 1ms/step - loss: 1.0071\n",
            "Epoch 19/20\n",
            "30/30 [==============================] - 0s 2ms/step - loss: 0.9937\n",
            "Epoch 20/20\n",
            "30/30 [==============================] - 0s 1ms/step - loss: 0.9658\n",
            "Epoch 1/20\n",
            "28/28 [==============================] - 0s 1ms/step - loss: 1.3742\n",
            "Epoch 2/20\n",
            "28/28 [==============================] - 0s 1ms/step - loss: 1.1056\n",
            "Epoch 3/20\n",
            "28/28 [==============================] - 0s 1ms/step - loss: 0.9306\n",
            "Epoch 4/20\n",
            "28/28 [==============================] - 0s 1ms/step - loss: 0.8214\n",
            "Epoch 5/20\n",
            "28/28 [==============================] - 0s 1ms/step - loss: 0.7646\n",
            "Epoch 6/20\n",
            "28/28 [==============================] - 0s 1ms/step - loss: 0.7355\n",
            "Epoch 7/20\n",
            "28/28 [==============================] - 0s 1ms/step - loss: 0.7142\n",
            "Epoch 8/20\n",
            "28/28 [==============================] - 0s 1ms/step - loss: 0.6853\n",
            "Epoch 9/20\n",
            "28/28 [==============================] - 0s 1ms/step - loss: 0.7116\n",
            "Epoch 10/20\n",
            "28/28 [==============================] - 0s 1ms/step - loss: 0.6751\n",
            "Epoch 11/20\n",
            "28/28 [==============================] - 0s 1ms/step - loss: 0.6737\n",
            "Epoch 12/20\n",
            "28/28 [==============================] - 0s 1ms/step - loss: 0.6678\n",
            "Epoch 13/20\n",
            "28/28 [==============================] - 0s 1ms/step - loss: 0.6674\n",
            "Epoch 14/20\n",
            "28/28 [==============================] - 0s 1ms/step - loss: 0.6699\n",
            "Epoch 15/20\n",
            "28/28 [==============================] - 0s 1ms/step - loss: 0.6709\n",
            "Epoch 16/20\n",
            "28/28 [==============================] - 0s 1ms/step - loss: 0.6685\n",
            "Epoch 17/20\n",
            "28/28 [==============================] - 0s 1ms/step - loss: 0.6594\n",
            "Epoch 18/20\n",
            "28/28 [==============================] - 0s 1ms/step - loss: 0.6631\n",
            "Epoch 19/20\n",
            "28/28 [==============================] - 0s 2ms/step - loss: 0.6486\n",
            "Epoch 20/20\n",
            "28/28 [==============================] - 0s 1ms/step - loss: 0.6650\n",
            "Epoch 1/20\n",
            "34/34 [==============================] - 0s 1ms/step - loss: 1.0745\n",
            "Epoch 2/20\n",
            "34/34 [==============================] - 0s 1ms/step - loss: 0.7733\n",
            "Epoch 3/20\n",
            "34/34 [==============================] - 0s 2ms/step - loss: 0.7356\n",
            "Epoch 4/20\n",
            "34/34 [==============================] - 0s 1ms/step - loss: 0.7205\n",
            "Epoch 5/20\n",
            "34/34 [==============================] - 0s 1ms/step - loss: 0.7188\n",
            "Epoch 6/20\n",
            "34/34 [==============================] - 0s 2ms/step - loss: 0.7099\n",
            "Epoch 7/20\n",
            "34/34 [==============================] - 0s 1ms/step - loss: 0.7080\n",
            "Epoch 8/20\n",
            "34/34 [==============================] - 0s 1ms/step - loss: 0.6985\n",
            "Epoch 9/20\n",
            "34/34 [==============================] - 0s 1ms/step - loss: 0.6994\n",
            "Epoch 10/20\n",
            "34/34 [==============================] - 0s 1ms/step - loss: 0.6922\n",
            "Epoch 11/20\n",
            "34/34 [==============================] - 0s 1ms/step - loss: 0.6968\n",
            "Epoch 12/20\n",
            "34/34 [==============================] - 0s 1ms/step - loss: 0.6976\n",
            "Epoch 13/20\n",
            "34/34 [==============================] - 0s 1ms/step - loss: 0.7008\n",
            "Epoch 14/20\n",
            "34/34 [==============================] - 0s 1ms/step - loss: 0.6875\n",
            "Epoch 15/20\n",
            "34/34 [==============================] - 0s 1ms/step - loss: 0.6821\n",
            "Epoch 16/20\n",
            "34/34 [==============================] - 0s 1ms/step - loss: 0.6826\n",
            "Epoch 17/20\n",
            "34/34 [==============================] - 0s 1ms/step - loss: 0.6784\n",
            "Epoch 18/20\n",
            "34/34 [==============================] - 0s 1ms/step - loss: 0.6815\n",
            "Epoch 19/20\n",
            "34/34 [==============================] - 0s 1ms/step - loss: 0.6834\n",
            "Epoch 20/20\n",
            "34/34 [==============================] - 0s 1ms/step - loss: 0.6851\n",
            "Epoch 1/20\n",
            "43/43 [==============================] - 0s 1ms/step - loss: 1.9867\n",
            "Epoch 2/20\n",
            "43/43 [==============================] - 0s 1ms/step - loss: 1.0209\n",
            "Epoch 3/20\n",
            "43/43 [==============================] - 0s 1ms/step - loss: 0.9590\n",
            "Epoch 4/20\n",
            "43/43 [==============================] - 0s 1ms/step - loss: 0.9448\n",
            "Epoch 5/20\n",
            "43/43 [==============================] - 0s 1ms/step - loss: 0.9387\n",
            "Epoch 6/20\n",
            "43/43 [==============================] - 0s 1ms/step - loss: 0.9280\n",
            "Epoch 7/20\n",
            "43/43 [==============================] - 0s 1ms/step - loss: 0.9320\n",
            "Epoch 8/20\n",
            "43/43 [==============================] - 0s 1ms/step - loss: 0.9187\n",
            "Epoch 9/20\n",
            "43/43 [==============================] - 0s 1ms/step - loss: 0.9011\n",
            "Epoch 10/20\n",
            "43/43 [==============================] - 0s 1ms/step - loss: 0.9046\n",
            "Epoch 11/20\n",
            "43/43 [==============================] - 0s 1ms/step - loss: 0.9257\n",
            "Epoch 12/20\n",
            "43/43 [==============================] - 0s 2ms/step - loss: 0.9097\n",
            "Epoch 13/20\n",
            "43/43 [==============================] - 0s 1ms/step - loss: 0.8832\n",
            "Epoch 14/20\n",
            "43/43 [==============================] - 0s 1ms/step - loss: 0.8816\n",
            "Epoch 15/20\n",
            "43/43 [==============================] - 0s 1ms/step - loss: 0.8946\n",
            "Epoch 16/20\n",
            "43/43 [==============================] - 0s 1ms/step - loss: 0.8918\n",
            "Epoch 17/20\n",
            "43/43 [==============================] - 0s 1ms/step - loss: 0.9025\n",
            "Epoch 18/20\n",
            "43/43 [==============================] - 0s 1ms/step - loss: 0.8841\n",
            "Epoch 19/20\n",
            "43/43 [==============================] - 0s 1ms/step - loss: 0.8855\n",
            "Epoch 20/20\n",
            "43/43 [==============================] - 0s 1ms/step - loss: 0.8813\n",
            "Epoch 1/20\n",
            "32/32 [==============================] - 0s 1ms/step - loss: 0.8948\n",
            "Epoch 2/20\n",
            "32/32 [==============================] - 0s 1ms/step - loss: 0.5472\n",
            "Epoch 3/20\n",
            "32/32 [==============================] - 0s 1ms/step - loss: 0.4372\n",
            "Epoch 4/20\n",
            "32/32 [==============================] - 0s 1ms/step - loss: 0.3785\n",
            "Epoch 5/20\n",
            "32/32 [==============================] - 0s 1ms/step - loss: 0.3509\n",
            "Epoch 6/20\n",
            "32/32 [==============================] - 0s 1ms/step - loss: 0.3337\n",
            "Epoch 7/20\n",
            "32/32 [==============================] - 0s 2ms/step - loss: 0.3276\n",
            "Epoch 8/20\n",
            "32/32 [==============================] - 0s 1ms/step - loss: 0.3231\n",
            "Epoch 9/20\n",
            "32/32 [==============================] - 0s 2ms/step - loss: 0.3180\n",
            "Epoch 10/20\n",
            "32/32 [==============================] - 0s 1ms/step - loss: 0.3106\n",
            "Epoch 11/20\n",
            "32/32 [==============================] - 0s 1ms/step - loss: 0.3218\n",
            "Epoch 12/20\n",
            "32/32 [==============================] - 0s 1ms/step - loss: 0.3167\n",
            "Epoch 13/20\n",
            "32/32 [==============================] - 0s 1ms/step - loss: 0.3166\n",
            "Epoch 14/20\n",
            "32/32 [==============================] - 0s 1ms/step - loss: 0.3147\n",
            "Epoch 15/20\n",
            "32/32 [==============================] - 0s 1ms/step - loss: 0.3096\n",
            "Epoch 16/20\n",
            "32/32 [==============================] - 0s 1ms/step - loss: 0.3079\n",
            "Epoch 17/20\n",
            "32/32 [==============================] - 0s 2ms/step - loss: 0.3089\n",
            "Epoch 18/20\n",
            "32/32 [==============================] - 0s 1ms/step - loss: 0.3043\n",
            "Epoch 19/20\n",
            "32/32 [==============================] - 0s 1ms/step - loss: 0.3048\n",
            "Epoch 20/20\n",
            "32/32 [==============================] - 0s 2ms/step - loss: 0.3092\n",
            "Epoch 1/20\n",
            "6/6 [==============================] - 0s 2ms/step - loss: 1.3176\n",
            "Epoch 2/20\n",
            "6/6 [==============================] - 0s 2ms/step - loss: 0.8936\n",
            "Epoch 3/20\n",
            "6/6 [==============================] - 0s 2ms/step - loss: 0.8165\n",
            "Epoch 4/20\n",
            "6/6 [==============================] - 0s 2ms/step - loss: 0.5883\n",
            "Epoch 5/20\n",
            "6/6 [==============================] - 0s 2ms/step - loss: 0.6078\n",
            "Epoch 6/20\n",
            "6/6 [==============================] - 0s 2ms/step - loss: 0.5405\n",
            "Epoch 7/20\n",
            "6/6 [==============================] - 0s 2ms/step - loss: 0.5039\n",
            "Epoch 8/20\n",
            "6/6 [==============================] - 0s 2ms/step - loss: 0.4762\n",
            "Epoch 9/20\n",
            "6/6 [==============================] - 0s 2ms/step - loss: 0.4809\n",
            "Epoch 10/20\n",
            "6/6 [==============================] - 0s 2ms/step - loss: 0.4634\n",
            "Epoch 11/20\n",
            "6/6 [==============================] - 0s 3ms/step - loss: 0.4567\n",
            "Epoch 12/20\n",
            "6/6 [==============================] - 0s 2ms/step - loss: 0.4462\n",
            "Epoch 13/20\n",
            "6/6 [==============================] - 0s 1ms/step - loss: 0.4401\n",
            "Epoch 14/20\n",
            "6/6 [==============================] - 0s 2ms/step - loss: 0.4378\n",
            "Epoch 15/20\n",
            "6/6 [==============================] - 0s 2ms/step - loss: 0.4223\n",
            "Epoch 16/20\n",
            "6/6 [==============================] - 0s 2ms/step - loss: 0.4196\n",
            "Epoch 17/20\n",
            "6/6 [==============================] - 0s 2ms/step - loss: 0.4209\n",
            "Epoch 18/20\n",
            "6/6 [==============================] - 0s 2ms/step - loss: 0.4131\n",
            "Epoch 19/20\n",
            "6/6 [==============================] - 0s 2ms/step - loss: 0.4112\n",
            "Epoch 20/20\n",
            "6/6 [==============================] - 0s 2ms/step - loss: 0.4115\n",
            "Epoch 1/20\n",
            "10/10 [==============================] - 0s 1ms/step - loss: 0.6370\n",
            "Epoch 2/20\n",
            "10/10 [==============================] - 0s 1ms/step - loss: 0.5927\n",
            "Epoch 3/20\n",
            "10/10 [==============================] - 0s 1ms/step - loss: 0.5192\n",
            "Epoch 4/20\n",
            "10/10 [==============================] - 0s 2ms/step - loss: 0.5040\n",
            "Epoch 5/20\n",
            "10/10 [==============================] - 0s 2ms/step - loss: 0.4857\n",
            "Epoch 6/20\n",
            "10/10 [==============================] - 0s 2ms/step - loss: 0.4714\n",
            "Epoch 7/20\n",
            "10/10 [==============================] - 0s 2ms/step - loss: 0.4678\n",
            "Epoch 8/20\n",
            "10/10 [==============================] - 0s 2ms/step - loss: 0.4601\n",
            "Epoch 9/20\n",
            "10/10 [==============================] - 0s 1ms/step - loss: 0.4540\n",
            "Epoch 10/20\n",
            "10/10 [==============================] - 0s 2ms/step - loss: 0.4493\n",
            "Epoch 11/20\n",
            "10/10 [==============================] - 0s 2ms/step - loss: 0.4468\n",
            "Epoch 12/20\n",
            "10/10 [==============================] - 0s 2ms/step - loss: 0.4357\n",
            "Epoch 13/20\n",
            "10/10 [==============================] - 0s 2ms/step - loss: 0.4424\n",
            "Epoch 14/20\n",
            "10/10 [==============================] - 0s 2ms/step - loss: 0.4354\n",
            "Epoch 15/20\n",
            "10/10 [==============================] - 0s 1ms/step - loss: 0.4329\n",
            "Epoch 16/20\n",
            "10/10 [==============================] - 0s 2ms/step - loss: 0.4353\n",
            "Epoch 17/20\n",
            "10/10 [==============================] - 0s 1ms/step - loss: 0.4334\n",
            "Epoch 18/20\n",
            "10/10 [==============================] - 0s 1ms/step - loss: 0.4236\n",
            "Epoch 19/20\n",
            "10/10 [==============================] - 0s 2ms/step - loss: 0.4240\n",
            "Epoch 20/20\n",
            "10/10 [==============================] - 0s 1ms/step - loss: 0.4254\n",
            "Epoch 1/20\n",
            "16/16 [==============================] - 0s 1ms/step - loss: 2.1293\n",
            "Epoch 2/20\n",
            "16/16 [==============================] - 0s 1ms/step - loss: 1.2570\n",
            "Epoch 3/20\n",
            "16/16 [==============================] - 0s 2ms/step - loss: 0.8865\n",
            "Epoch 4/20\n",
            "16/16 [==============================] - 0s 1ms/step - loss: 0.8742\n",
            "Epoch 5/20\n",
            "16/16 [==============================] - 0s 2ms/step - loss: 0.8568\n",
            "Epoch 6/20\n",
            "16/16 [==============================] - 0s 1ms/step - loss: 0.8487\n",
            "Epoch 7/20\n",
            "16/16 [==============================] - 0s 1ms/step - loss: 0.8403\n",
            "Epoch 8/20\n",
            "16/16 [==============================] - 0s 1ms/step - loss: 0.8381\n",
            "Epoch 9/20\n",
            "16/16 [==============================] - 0s 1ms/step - loss: 0.8377\n",
            "Epoch 10/20\n",
            "16/16 [==============================] - 0s 2ms/step - loss: 0.8280\n",
            "Epoch 11/20\n",
            "16/16 [==============================] - 0s 2ms/step - loss: 0.8272\n",
            "Epoch 12/20\n",
            "16/16 [==============================] - 0s 1ms/step - loss: 0.8262\n",
            "Epoch 13/20\n",
            "16/16 [==============================] - 0s 1ms/step - loss: 0.8214\n",
            "Epoch 14/20\n",
            "16/16 [==============================] - 0s 1ms/step - loss: 0.8192\n",
            "Epoch 15/20\n",
            "16/16 [==============================] - 0s 1ms/step - loss: 0.8222\n",
            "Epoch 16/20\n",
            "16/16 [==============================] - 0s 1ms/step - loss: 0.8175\n",
            "Epoch 17/20\n",
            "16/16 [==============================] - 0s 1ms/step - loss: 0.8179\n",
            "Epoch 18/20\n",
            "16/16 [==============================] - 0s 1ms/step - loss: 0.8138\n",
            "Epoch 19/20\n",
            "16/16 [==============================] - 0s 2ms/step - loss: 0.8114\n",
            "Epoch 20/20\n",
            "16/16 [==============================] - 0s 1ms/step - loss: 0.8115\n",
            "Epoch 1/20\n",
            "8/8 [==============================] - 0s 2ms/step - loss: 9.5112\n",
            "Epoch 2/20\n",
            "8/8 [==============================] - 0s 2ms/step - loss: 2.6250\n",
            "Epoch 3/20\n",
            "8/8 [==============================] - 0s 2ms/step - loss: 1.9986\n",
            "Epoch 4/20\n",
            "8/8 [==============================] - 0s 2ms/step - loss: 1.4509\n",
            "Epoch 5/20\n",
            "8/8 [==============================] - 0s 2ms/step - loss: 0.8128\n",
            "Epoch 6/20\n",
            "8/8 [==============================] - 0s 2ms/step - loss: 0.7424\n",
            "Epoch 7/20\n",
            "8/8 [==============================] - 0s 2ms/step - loss: 0.5458\n",
            "Epoch 8/20\n",
            "8/8 [==============================] - 0s 2ms/step - loss: 0.4929\n",
            "Epoch 9/20\n",
            "8/8 [==============================] - 0s 1ms/step - loss: 0.4781\n",
            "Epoch 10/20\n",
            "8/8 [==============================] - 0s 2ms/step - loss: 0.4538\n",
            "Epoch 11/20\n",
            "8/8 [==============================] - 0s 2ms/step - loss: 0.4500\n",
            "Epoch 12/20\n",
            "8/8 [==============================] - 0s 2ms/step - loss: 0.4409\n",
            "Epoch 13/20\n",
            "8/8 [==============================] - 0s 2ms/step - loss: 0.4363\n",
            "Epoch 14/20\n",
            "8/8 [==============================] - 0s 2ms/step - loss: 0.4341\n",
            "Epoch 15/20\n",
            "8/8 [==============================] - 0s 2ms/step - loss: 0.4262\n",
            "Epoch 16/20\n",
            "8/8 [==============================] - 0s 2ms/step - loss: 0.4289\n",
            "Epoch 17/20\n",
            "8/8 [==============================] - 0s 2ms/step - loss: 0.4194\n",
            "Epoch 18/20\n",
            "8/8 [==============================] - 0s 2ms/step - loss: 0.4190\n",
            "Epoch 19/20\n",
            "8/8 [==============================] - 0s 2ms/step - loss: 0.4153\n",
            "Epoch 20/20\n",
            "8/8 [==============================] - 0s 2ms/step - loss: 0.4173\n",
            "Epoch 1/20\n",
            "34/34 [==============================] - 0s 1ms/step - loss: 3.6320\n",
            "Epoch 2/20\n",
            "34/34 [==============================] - 0s 1ms/step - loss: 2.0956\n",
            "Epoch 3/20\n",
            "34/34 [==============================] - 0s 1ms/step - loss: 1.4328\n",
            "Epoch 4/20\n",
            "34/34 [==============================] - 0s 1ms/step - loss: 1.0726\n",
            "Epoch 5/20\n",
            "34/34 [==============================] - 0s 1ms/step - loss: 0.8769\n",
            "Epoch 6/20\n",
            "34/34 [==============================] - 0s 1ms/step - loss: 0.8038\n",
            "Epoch 7/20\n",
            "34/34 [==============================] - 0s 1ms/step - loss: 0.7724\n",
            "Epoch 8/20\n",
            "34/34 [==============================] - 0s 1ms/step - loss: 0.7570\n",
            "Epoch 9/20\n",
            "34/34 [==============================] - 0s 1ms/step - loss: 0.7532\n",
            "Epoch 10/20\n",
            "34/34 [==============================] - 0s 1ms/step - loss: 0.7528\n",
            "Epoch 11/20\n",
            "34/34 [==============================] - 0s 1ms/step - loss: 0.7388\n",
            "Epoch 12/20\n",
            "34/34 [==============================] - 0s 1ms/step - loss: 0.7423\n",
            "Epoch 13/20\n",
            "34/34 [==============================] - 0s 1ms/step - loss: 0.7481\n",
            "Epoch 14/20\n",
            "34/34 [==============================] - 0s 1ms/step - loss: 0.7428\n",
            "Epoch 15/20\n",
            "34/34 [==============================] - 0s 1ms/step - loss: 0.7420\n",
            "Epoch 16/20\n",
            "34/34 [==============================] - 0s 1ms/step - loss: 0.7522\n",
            "Epoch 17/20\n",
            "34/34 [==============================] - 0s 1ms/step - loss: 0.7433\n",
            "Epoch 18/20\n",
            "34/34 [==============================] - 0s 1ms/step - loss: 0.7423\n",
            "Epoch 19/20\n",
            "34/34 [==============================] - 0s 2ms/step - loss: 0.7327\n",
            "Epoch 20/20\n",
            "34/34 [==============================] - 0s 1ms/step - loss: 0.7295\n",
            "Epoch 1/20\n",
            "15/15 [==============================] - 0s 1ms/step - loss: 1.8153\n",
            "Epoch 2/20\n",
            "15/15 [==============================] - 0s 1ms/step - loss: 1.3222\n",
            "Epoch 3/20\n",
            "15/15 [==============================] - 0s 2ms/step - loss: 1.3106\n",
            "Epoch 4/20\n",
            "15/15 [==============================] - 0s 2ms/step - loss: 1.2162\n",
            "Epoch 5/20\n",
            "15/15 [==============================] - 0s 2ms/step - loss: 1.1680\n",
            "Epoch 6/20\n",
            "15/15 [==============================] - 0s 1ms/step - loss: 1.1402\n",
            "Epoch 7/20\n",
            "15/15 [==============================] - 0s 1ms/step - loss: 1.1243\n",
            "Epoch 8/20\n",
            "15/15 [==============================] - 0s 1ms/step - loss: 1.1172\n",
            "Epoch 9/20\n",
            "15/15 [==============================] - 0s 2ms/step - loss: 1.1051\n",
            "Epoch 10/20\n",
            "15/15 [==============================] - 0s 1ms/step - loss: 1.0940\n",
            "Epoch 11/20\n",
            "15/15 [==============================] - 0s 2ms/step - loss: 1.0852\n",
            "Epoch 12/20\n",
            "15/15 [==============================] - 0s 2ms/step - loss: 1.0862\n",
            "Epoch 13/20\n",
            "15/15 [==============================] - 0s 1ms/step - loss: 1.0905\n",
            "Epoch 14/20\n",
            "15/15 [==============================] - 0s 1ms/step - loss: 1.0897\n",
            "Epoch 15/20\n",
            "15/15 [==============================] - 0s 1ms/step - loss: 1.0791\n",
            "Epoch 16/20\n",
            "15/15 [==============================] - 0s 1ms/step - loss: 1.0860\n",
            "Epoch 17/20\n",
            "15/15 [==============================] - 0s 2ms/step - loss: 1.0907\n",
            "Epoch 18/20\n",
            "15/15 [==============================] - 0s 1ms/step - loss: 1.0574\n",
            "Epoch 19/20\n",
            "15/15 [==============================] - 0s 2ms/step - loss: 1.0827\n",
            "Epoch 20/20\n",
            "15/15 [==============================] - 0s 1ms/step - loss: 1.0762\n"
          ],
          "name": "stdout"
        }
      ]
    },
    {
      "cell_type": "code",
      "metadata": {
        "id": "fIbHhO1SzLmT",
        "colab_type": "code",
        "colab": {}
      },
      "source": [
        "pred = m1.predict(shop_train_x_bedding[reg_col])"
      ],
      "execution_count": null,
      "outputs": []
    },
    {
      "cell_type": "code",
      "metadata": {
        "id": "rdEJLwX1zLpe",
        "colab_type": "code",
        "colab": {
          "base_uri": "https://localhost:8080/",
          "height": 34
        },
        "outputId": "a0039d57-5fd2-4740-8649-a353bc5086fb"
      },
      "source": [
        "mape_dnn = mean_absolute_percentage_error(y_train_bedding, pred)\n",
        "mape_dnn"
      ],
      "execution_count": null,
      "outputs": [
        {
          "output_type": "execute_result",
          "data": {
            "text/plain": [
              "27.71584207914065"
            ]
          },
          "metadata": {
            "tags": []
          },
          "execution_count": 121
        }
      ]
    },
    {
      "cell_type": "code",
      "metadata": {
        "id": "2n7vHtqszLuT",
        "colab_type": "code",
        "colab": {}
      },
      "source": [
        "mape_dnn_cate = []\n",
        "num = 0\n",
        "for i in category_list:\n",
        "  mape_dnn_cate.append(mean_absolute_percentage_error((globals()['y_train_{}'.format(i)]),pred_cate[num]))\n",
        "  num += 1"
      ],
      "execution_count": null,
      "outputs": []
    },
    {
      "cell_type": "code",
      "metadata": {
        "id": "GnSaOdbV34JN",
        "colab_type": "code",
        "colab": {
          "base_uri": "https://localhost:8080/",
          "height": 212
        },
        "outputId": "b32c095e-db1e-43b3-a9a7-09d3e3a9392e"
      },
      "source": [
        "for i in range(len(category_list)):\n",
        "  print(\"DNN MAPE score of:\",category_list[i],\":\",mape_dnn_cate[i])"
      ],
      "execution_count": null,
      "outputs": [
        {
          "output_type": "stream",
          "text": [
            "DNN MAPE score of: inner : 18.069136805815685\n",
            "DNN MAPE score of: cloth : 35.31583473533725\n",
            "DNN MAPE score of: elec : 68.42668806516943\n",
            "DNN MAPE score of: living : 29.515138789189493\n",
            "DNN MAPE score of: food : 7.142865607433949\n",
            "DNN MAPE score of: health : 17.09847687901746\n",
            "DNN MAPE score of: bedding : 16.588853243320738\n",
            "DNN MAPE score of: furniture : 50.4295370591477\n",
            "DNN MAPE score of: beauty : 10.553481795533862\n",
            "DNN MAPE score of: etc : 98.24331500266639\n",
            "DNN MAPE score of: life : 37.02789144497686\n"
          ],
          "name": "stdout"
        }
      ]
    },
    {
      "cell_type": "code",
      "metadata": {
        "id": "0_x_JIEQW9lI",
        "colab_type": "code",
        "colab": {
          "base_uri": "https://localhost:8080/",
          "height": 34
        },
        "outputId": "c867856b-87da-47c7-e073-e77e0759b3db"
      },
      "source": [
        "pd.Series(mape_dnn_cate).mean()"
      ],
      "execution_count": null,
      "outputs": [
        {
          "output_type": "execute_result",
          "data": {
            "text/plain": [
              "35.31011085705534"
            ]
          },
          "metadata": {
            "tags": []
          },
          "execution_count": 124
        }
      ]
    }
  ]
}