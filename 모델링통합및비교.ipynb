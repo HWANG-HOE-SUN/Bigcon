{
  "nbformat": 4,
  "nbformat_minor": 0,
  "metadata": {
    "colab": {
      "name": "모델링통합및비교.ipynb",
      "provenance": [],
      "collapsed_sections": [],
      "toc_visible": true,
      "mount_file_id": "1txX1QSH5lDSKdf0FzoA3DFtKHr8E3JpN",
      "authorship_tag": "ABX9TyPNRL9K120aroD7mR2shwwr",
      "include_colab_link": true
    },
    "kernelspec": {
      "name": "python3",
      "display_name": "Python 3"
    }
  },
  "cells": [
    {
      "cell_type": "markdown",
      "metadata": {
        "id": "view-in-github",
        "colab_type": "text"
      },
      "source": [
        "<a href=\"https://colab.research.google.com/github/HWANG-HOE-SUN/bigcon/blob/master/%EB%AA%A8%EB%8D%B8%EB%A7%81%ED%86%B5%ED%95%A9%EB%B0%8F%EB%B9%84%EA%B5%90.ipynb\" target=\"_parent\"><img src=\"https://colab.research.google.com/assets/colab-badge.svg\" alt=\"Open In Colab\"/></a>"
      ]
    },
    {
      "cell_type": "code",
      "metadata": {
        "id": "j-_kGvx0j4K9",
        "colab_type": "code",
        "colab": {
          "base_uri": "https://localhost:8080/",
          "height": 52
        },
        "outputId": "9b884d12-dcde-4788-c169-1c3bae2db3be"
      },
      "source": [
        "import matplotlib.pyplot as plt\n",
        "import numpy as np\n",
        "import pandas as pd\n",
        "import datetime as dt\n",
        "import seaborn as sns\n",
        "from scipy import stats\n",
        "import math"
      ],
      "execution_count": 2,
      "outputs": [
        {
          "output_type": "stream",
          "text": [
            "/usr/local/lib/python3.6/dist-packages/statsmodels/tools/_testing.py:19: FutureWarning: pandas.util.testing is deprecated. Use the functions in the public API at pandas.testing instead.\n",
            "  import pandas.util.testing as tm\n"
          ],
          "name": "stderr"
        }
      ]
    },
    {
      "cell_type": "code",
      "metadata": {
        "id": "QFYDzaGnyaCU",
        "colab_type": "code",
        "colab": {}
      },
      "source": [
        "#나눔 폰트 설치\n",
        "!sudo apt-get install -y fonts-nanum\n",
        "!sudo fc-cache -fv\n",
        "!rm ~/.cache/matplotlib -rf"
      ],
      "execution_count": null,
      "outputs": []
    },
    {
      "cell_type": "code",
      "metadata": {
        "id": "fGxK4qvvyex6",
        "colab_type": "code",
        "colab": {}
      },
      "source": [
        "#한글폰트 지정\n",
        "plt.rc('font', family='NanumBarunGothic') "
      ],
      "execution_count": 3,
      "outputs": []
    },
    {
      "cell_type": "code",
      "metadata": {
        "id": "Be9_eP7WLHjY",
        "colab_type": "code",
        "colab": {}
      },
      "source": [
        "total = pd.read_excel('/content/drive/My Drive/빅콘폴더/2020_bigcontest_champion_performance.xlsx', header=1)\n",
        "total = total[total['상품군']!='무형'] \n",
        "total = total[total['판매단가'] < total['취급액']]\n",
        "total['날짜'] = pd.to_datetime(total['방송일시']).dt.date\n",
        "total['날짜'] = pd.to_datetime(total['날짜'])\n",
        "total['주문량'] = total['취급액']/total['판매단가']\n",
        "total[\"요일\"]=total[\"방송일시\"].dt.dayofweek # 요일\n",
        "total[\"시\"]=total[\"방송일시\"].dt.hour # 시\n",
        "total['월'] = total['방송일시'].dt.month # 월"
      ],
      "execution_count": 4,
      "outputs": []
    },
    {
      "cell_type": "code",
      "metadata": {
        "id": "UW0jUuX9LIJR",
        "colab_type": "code",
        "colab": {}
      },
      "source": [
        "total = total.fillna(method='ffill')"
      ],
      "execution_count": 5,
      "outputs": []
    },
    {
      "cell_type": "code",
      "metadata": {
        "id": "LHm8MWhCLpCt",
        "colab_type": "code",
        "colab": {
          "base_uri": "https://localhost:8080/",
          "height": 406
        },
        "outputId": "677a6b21-2f26-459b-e7c0-ad265358cca0"
      },
      "source": [
        "total = total[total['취급액']!=50000]\n",
        "total.reindex(range(len(total)))"
      ],
      "execution_count": 6,
      "outputs": [
        {
          "output_type": "execute_result",
          "data": {
            "text/html": [
              "<div>\n",
              "<style scoped>\n",
              "    .dataframe tbody tr th:only-of-type {\n",
              "        vertical-align: middle;\n",
              "    }\n",
              "\n",
              "    .dataframe tbody tr th {\n",
              "        vertical-align: top;\n",
              "    }\n",
              "\n",
              "    .dataframe thead th {\n",
              "        text-align: right;\n",
              "    }\n",
              "</style>\n",
              "<table border=\"1\" class=\"dataframe\">\n",
              "  <thead>\n",
              "    <tr style=\"text-align: right;\">\n",
              "      <th></th>\n",
              "      <th>방송일시</th>\n",
              "      <th>노출(분)</th>\n",
              "      <th>마더코드</th>\n",
              "      <th>상품코드</th>\n",
              "      <th>상품명</th>\n",
              "      <th>상품군</th>\n",
              "      <th>판매단가</th>\n",
              "      <th>취급액</th>\n",
              "      <th>날짜</th>\n",
              "      <th>주문량</th>\n",
              "      <th>요일</th>\n",
              "      <th>시</th>\n",
              "      <th>월</th>\n",
              "    </tr>\n",
              "  </thead>\n",
              "  <tbody>\n",
              "    <tr>\n",
              "      <th>0</th>\n",
              "      <td>2019-01-01 06:00:00</td>\n",
              "      <td>20.0</td>\n",
              "      <td>100346.0</td>\n",
              "      <td>201072.0</td>\n",
              "      <td>테이트 남성 셀린니트3종</td>\n",
              "      <td>의류</td>\n",
              "      <td>39900.0</td>\n",
              "      <td>2099000.0</td>\n",
              "      <td>2019-01-01</td>\n",
              "      <td>52.606516</td>\n",
              "      <td>1.0</td>\n",
              "      <td>6.0</td>\n",
              "      <td>1.0</td>\n",
              "    </tr>\n",
              "    <tr>\n",
              "      <th>1</th>\n",
              "      <td>2019-01-01 06:00:00</td>\n",
              "      <td>20.0</td>\n",
              "      <td>100346.0</td>\n",
              "      <td>201079.0</td>\n",
              "      <td>테이트 여성 셀린니트3종</td>\n",
              "      <td>의류</td>\n",
              "      <td>39900.0</td>\n",
              "      <td>4371000.0</td>\n",
              "      <td>2019-01-01</td>\n",
              "      <td>109.548872</td>\n",
              "      <td>1.0</td>\n",
              "      <td>6.0</td>\n",
              "      <td>1.0</td>\n",
              "    </tr>\n",
              "    <tr>\n",
              "      <th>2</th>\n",
              "      <td>2019-01-01 06:20:00</td>\n",
              "      <td>20.0</td>\n",
              "      <td>100346.0</td>\n",
              "      <td>201072.0</td>\n",
              "      <td>테이트 남성 셀린니트3종</td>\n",
              "      <td>의류</td>\n",
              "      <td>39900.0</td>\n",
              "      <td>3262000.0</td>\n",
              "      <td>2019-01-01</td>\n",
              "      <td>81.754386</td>\n",
              "      <td>1.0</td>\n",
              "      <td>6.0</td>\n",
              "      <td>1.0</td>\n",
              "    </tr>\n",
              "    <tr>\n",
              "      <th>3</th>\n",
              "      <td>2019-01-01 06:20:00</td>\n",
              "      <td>20.0</td>\n",
              "      <td>100346.0</td>\n",
              "      <td>201079.0</td>\n",
              "      <td>테이트 여성 셀린니트3종</td>\n",
              "      <td>의류</td>\n",
              "      <td>39900.0</td>\n",
              "      <td>6955000.0</td>\n",
              "      <td>2019-01-01</td>\n",
              "      <td>174.310777</td>\n",
              "      <td>1.0</td>\n",
              "      <td>6.0</td>\n",
              "      <td>1.0</td>\n",
              "    </tr>\n",
              "    <tr>\n",
              "      <th>4</th>\n",
              "      <td>2019-01-01 06:40:00</td>\n",
              "      <td>20.0</td>\n",
              "      <td>100346.0</td>\n",
              "      <td>201072.0</td>\n",
              "      <td>테이트 남성 셀린니트3종</td>\n",
              "      <td>의류</td>\n",
              "      <td>39900.0</td>\n",
              "      <td>6672000.0</td>\n",
              "      <td>2019-01-01</td>\n",
              "      <td>167.218045</td>\n",
              "      <td>1.0</td>\n",
              "      <td>6.0</td>\n",
              "      <td>1.0</td>\n",
              "    </tr>\n",
              "    <tr>\n",
              "      <th>...</th>\n",
              "      <td>...</td>\n",
              "      <td>...</td>\n",
              "      <td>...</td>\n",
              "      <td>...</td>\n",
              "      <td>...</td>\n",
              "      <td>...</td>\n",
              "      <td>...</td>\n",
              "      <td>...</td>\n",
              "      <td>...</td>\n",
              "      <td>...</td>\n",
              "      <td>...</td>\n",
              "      <td>...</td>\n",
              "      <td>...</td>\n",
              "    </tr>\n",
              "    <tr>\n",
              "      <th>35374</th>\n",
              "      <td>2019-12-10 10:40:00</td>\n",
              "      <td>20.0</td>\n",
              "      <td>100129.0</td>\n",
              "      <td>200340.0</td>\n",
              "      <td>뱅뱅 남성 본딩기모데님3종</td>\n",
              "      <td>의류</td>\n",
              "      <td>99000.0</td>\n",
              "      <td>23492000.0</td>\n",
              "      <td>2019-12-10</td>\n",
              "      <td>237.292929</td>\n",
              "      <td>1.0</td>\n",
              "      <td>10.0</td>\n",
              "      <td>12.0</td>\n",
              "    </tr>\n",
              "    <tr>\n",
              "      <th>35375</th>\n",
              "      <td>2019-12-10 10:40:00</td>\n",
              "      <td>20.0</td>\n",
              "      <td>100129.0</td>\n",
              "      <td>200351.0</td>\n",
              "      <td>뱅뱅 여성 본딩기모데님3종</td>\n",
              "      <td>의류</td>\n",
              "      <td>99000.0</td>\n",
              "      <td>15706000.0</td>\n",
              "      <td>2019-12-10</td>\n",
              "      <td>158.646465</td>\n",
              "      <td>1.0</td>\n",
              "      <td>10.0</td>\n",
              "      <td>12.0</td>\n",
              "    </tr>\n",
              "    <tr>\n",
              "      <th>35376</th>\n",
              "      <td>2019-12-10 11:00:00</td>\n",
              "      <td>20.0</td>\n",
              "      <td>100129.0</td>\n",
              "      <td>200340.0</td>\n",
              "      <td>뱅뱅 남성 본딩기모데님3종</td>\n",
              "      <td>의류</td>\n",
              "      <td>99000.0</td>\n",
              "      <td>32268000.0</td>\n",
              "      <td>2019-12-10</td>\n",
              "      <td>325.939394</td>\n",
              "      <td>1.0</td>\n",
              "      <td>11.0</td>\n",
              "      <td>12.0</td>\n",
              "    </tr>\n",
              "    <tr>\n",
              "      <th>35377</th>\n",
              "      <td>2019-12-10 11:00:00</td>\n",
              "      <td>20.0</td>\n",
              "      <td>100129.0</td>\n",
              "      <td>200351.0</td>\n",
              "      <td>뱅뱅 여성 본딩기모데님3종</td>\n",
              "      <td>의류</td>\n",
              "      <td>99000.0</td>\n",
              "      <td>19072000.0</td>\n",
              "      <td>2019-12-10</td>\n",
              "      <td>192.646465</td>\n",
              "      <td>1.0</td>\n",
              "      <td>11.0</td>\n",
              "      <td>12.0</td>\n",
              "    </tr>\n",
              "    <tr>\n",
              "      <th>35378</th>\n",
              "      <td>2019-12-10 11:20:00</td>\n",
              "      <td>20.0</td>\n",
              "      <td>100498.0</td>\n",
              "      <td>201500.0</td>\n",
              "      <td>하림 치킨스테이크 4봉</td>\n",
              "      <td>농수축</td>\n",
              "      <td>34900.0</td>\n",
              "      <td>10342000.0</td>\n",
              "      <td>2019-12-10</td>\n",
              "      <td>296.332378</td>\n",
              "      <td>1.0</td>\n",
              "      <td>11.0</td>\n",
              "      <td>12.0</td>\n",
              "    </tr>\n",
              "  </tbody>\n",
              "</table>\n",
              "<p>35379 rows × 13 columns</p>\n",
              "</div>"
            ],
            "text/plain": [
              "                     방송일시  노출(분)      마더코드  ...   요일     시     월\n",
              "0     2019-01-01 06:00:00   20.0  100346.0  ...  1.0   6.0   1.0\n",
              "1     2019-01-01 06:00:00   20.0  100346.0  ...  1.0   6.0   1.0\n",
              "2     2019-01-01 06:20:00   20.0  100346.0  ...  1.0   6.0   1.0\n",
              "3     2019-01-01 06:20:00   20.0  100346.0  ...  1.0   6.0   1.0\n",
              "4     2019-01-01 06:40:00   20.0  100346.0  ...  1.0   6.0   1.0\n",
              "...                   ...    ...       ...  ...  ...   ...   ...\n",
              "35374 2019-12-10 10:40:00   20.0  100129.0  ...  1.0  10.0  12.0\n",
              "35375 2019-12-10 10:40:00   20.0  100129.0  ...  1.0  10.0  12.0\n",
              "35376 2019-12-10 11:00:00   20.0  100129.0  ...  1.0  11.0  12.0\n",
              "35377 2019-12-10 11:00:00   20.0  100129.0  ...  1.0  11.0  12.0\n",
              "35378 2019-12-10 11:20:00   20.0  100498.0  ...  1.0  11.0  12.0\n",
              "\n",
              "[35379 rows x 13 columns]"
            ]
          },
          "metadata": {
            "tags": []
          },
          "execution_count": 6
        }
      ]
    },
    {
      "cell_type": "code",
      "metadata": {
        "id": "2D-rvXrEMa4W",
        "colab_type": "code",
        "colab": {
          "base_uri": "https://localhost:8080/",
          "height": 52
        },
        "outputId": "0568e1d2-cb7e-44a6-9c59-7751dbcbfd6b"
      },
      "source": [
        "total['상품군'].unique()"
      ],
      "execution_count": 7,
      "outputs": [
        {
          "output_type": "execute_result",
          "data": {
            "text/plain": [
              "array(['의류', '속옷', '주방', '농수축', '이미용', '가전', '생활용품', '건강기능', '잡화', '가구',\n",
              "       '침구'], dtype=object)"
            ]
          },
          "metadata": {
            "tags": []
          },
          "execution_count": 7
        }
      ]
    },
    {
      "cell_type": "markdown",
      "metadata": {
        "id": "oShzC-wQkadP",
        "colab_type": "text"
      },
      "source": [
        "# 데이터 생성"
      ]
    },
    {
      "cell_type": "code",
      "metadata": {
        "id": "c4OnO7TLhk2O",
        "colab_type": "code",
        "colab": {}
      },
      "source": [
        "train = pd.read_excel('/content/drive/My Drive/빅콘폴더/최종 데이터셋 후보/train.xlsx')\n",
        "train = train[train['판매단가'] < train['취급액']]"
      ],
      "execution_count": 8,
      "outputs": []
    },
    {
      "cell_type": "code",
      "metadata": {
        "id": "y6FN_5X3hk0F",
        "colab_type": "code",
        "colab": {}
      },
      "source": [
        "train['노출(분)'] = train['노출(분)'].replace(0, math.nan)\n",
        "train['노출(분)'] = train['노출(분)'].fillna(method='ffill')"
      ],
      "execution_count": 9,
      "outputs": []
    },
    {
      "cell_type": "code",
      "metadata": {
        "id": "W2bcgHANdlab",
        "colab_type": "code",
        "colab": {}
      },
      "source": [
        "train.index = np.arange(7513)"
      ],
      "execution_count": 10,
      "outputs": []
    },
    {
      "cell_type": "code",
      "metadata": {
        "id": "07gxL6uSiGSm",
        "colab_type": "code",
        "colab": {}
      },
      "source": [
        "test = pd.read_excel('/content/drive/My Drive/빅콘폴더/test.xlsx', header=1)"
      ],
      "execution_count": 11,
      "outputs": []
    },
    {
      "cell_type": "code",
      "metadata": {
        "id": "d13P5mDvh7k-",
        "colab_type": "code",
        "colab": {}
      },
      "source": [
        "data = pd.read_excel('/content/drive/My Drive/빅콘폴더/2020_bigcontest_champion_performance.xlsx', header=1)\n",
        "data = data[data['상품군']!='무형'] \n",
        "data = data[data['판매단가'] < data['취급액']]\n",
        "data['날짜'] = pd.to_datetime(data['방송일시']).dt.date\n",
        "data['날짜'] = pd.to_datetime(data['날짜'])\n",
        "data['주문량'] = data['취급액']/data['판매단가']\n",
        "data[\"요일\"]=data[\"방송일시\"].dt.dayofweek # 요일\n",
        "data[\"시\"]=data[\"방송일시\"].dt.hour # 시\n",
        "data['월'] = data['방송일시'].dt.month # 월\n",
        "weekday = {\"월\":0,\"화\":1,\"수\":2,\"목\":3,\"금\":4,\"토\":5,\"일\":6}"
      ],
      "execution_count": 12,
      "outputs": []
    },
    {
      "cell_type": "code",
      "metadata": {
        "id": "TzRT8jKLh7iv",
        "colab_type": "code",
        "colab": {}
      },
      "source": [
        "data = data.fillna(method='ffill')"
      ],
      "execution_count": 13,
      "outputs": []
    },
    {
      "cell_type": "code",
      "metadata": {
        "id": "pk_XPqX5iD9K",
        "colab_type": "code",
        "colab": {}
      },
      "source": [
        "data = data.iloc[17604:25792]"
      ],
      "execution_count": 14,
      "outputs": []
    },
    {
      "cell_type": "markdown",
      "metadata": {
        "id": "A3QPyARfkcuO",
        "colab_type": "text"
      },
      "source": [
        "# 날씨 처리"
      ]
    },
    {
      "cell_type": "code",
      "metadata": {
        "id": "4IYt17QfiD7d",
        "colab_type": "code",
        "colab": {}
      },
      "source": [
        "# 대표 지역들\n",
        "places = [\"강릉\",\"광주\",\"부산\",\"수원\",\"울산\",\"대구\",\"대전\",\"서울\",\"파주\"] \n",
        "weather = pd.read_excel(\"/content/drive/My Drive/빅콘폴더/날씨_실제/강릉날씨.xlsx\")\n",
        "row_num = weather.shape[0]\n",
        "weather[\"지역\"]=[\"강릉\"]*row_num"
      ],
      "execution_count": 15,
      "outputs": []
    },
    {
      "cell_type": "code",
      "metadata": {
        "id": "2T3GSzNYiD5L",
        "colab_type": "code",
        "colab": {}
      },
      "source": [
        "# 모든 지역 날씨 데이터 세로로 합치기\n",
        "for p in places[1:]:\n",
        "    a=pd.read_excel(f\"/content/drive/My Drive/빅콘폴더/날씨_실제/{p}날씨.xlsx\")\n",
        "    a[\"지역\"]=[p]*row_num\n",
        "    weather = pd.concat([weather, a], axis=0)"
      ],
      "execution_count": 16,
      "outputs": []
    },
    {
      "cell_type": "code",
      "metadata": {
        "id": "-PQmp4AriD3J",
        "colab_type": "code",
        "colab": {}
      },
      "source": [
        "# \"-\" -> 0값으로 변경\n",
        "weather[\"강수량(mm)\"]=weather[\"강수량(mm)\"].replace(\"-\",0)\n",
        "weather[\"신적설(cm)\"]=weather[\"신적설(cm)\"].replace(\"-\",0)\n",
        "weather[\"운량(1/10)\"]=weather[\"운량(1/10)\"].replace(\"-\",0)\n",
        "\n",
        "# object 형 float 형으로 변경\n",
        "weather[\"강수량(mm)\"]=weather[\"강수량(mm)\"].astype(float)\n",
        "weather[\"신적설(cm)\"]=weather[\"신적설(cm)\"].astype(float)\n",
        "weather[\"운량(1/10)\"]=weather[\"운량(1/10)\"].astype(float)"
      ],
      "execution_count": 17,
      "outputs": []
    },
    {
      "cell_type": "code",
      "metadata": {
        "id": "smLfAW8RiNG-",
        "colab_type": "code",
        "colab": {}
      },
      "source": [
        "weather = weather.reset_index()"
      ],
      "execution_count": 18,
      "outputs": []
    },
    {
      "cell_type": "code",
      "metadata": {
        "id": "SHN4TcWZiNIz",
        "colab_type": "code",
        "colab": {}
      },
      "source": [
        "# 날짜 set 맞추기\n",
        "new_weather = pd.DataFrame()\n",
        "new_weather = weather.iloc[165:243]\n",
        "new_weather = pd.concat([new_weather, weather.iloc[753:831]])\n",
        "new_weather = pd.concat([new_weather, weather.iloc[1341:1419]])\n",
        "new_weather = pd.concat([new_weather, weather.iloc[1929:2007]])\n",
        "new_weather = pd.concat([new_weather, weather.iloc[2517:2595]])\n",
        "new_weather = pd.concat([new_weather, weather.iloc[3105:3183]])\n",
        "new_weather = pd.concat([new_weather, weather.iloc[3693:3771]])\n",
        "new_weather = pd.concat([new_weather, weather.iloc[4281:4359]])\n",
        "new_weather = pd.concat([new_weather, weather.iloc[4869:4947]])"
      ],
      "execution_count": 19,
      "outputs": []
    },
    {
      "cell_type": "code",
      "metadata": {
        "id": "-dV2Bi2TiNEt",
        "colab_type": "code",
        "colab": {}
      },
      "source": [
        "# 서울 날씨와 강릉, 부산 날씨로 칼럼별 주문량 상관성 확인 및 지역별 날씨의 영향도 확인\n",
        "gang_weather = new_weather.loc[new_weather[\"지역\"]==\"강릉\",:]\n",
        "seoul_weather = new_weather.loc[new_weather[\"지역\"]==\"서울\",:]\n",
        "busan_weather = new_weather.loc[new_weather[\"지역\"]==\"부산\",:]\n",
        "suwon_weather = new_weather.loc[new_weather[\"지역\"]==\"수원\",:]\n",
        "sudogwon_weather = new_weather.loc[(new_weather[\"지역\"]==\"서울\")|(weather[\"지역\"]==\"수원\"),:]"
      ],
      "execution_count": 20,
      "outputs": []
    },
    {
      "cell_type": "code",
      "metadata": {
        "id": "MjAfIXaxuUaS",
        "colab_type": "code",
        "colab": {}
      },
      "source": [
        "day_data = data.copy()"
      ],
      "execution_count": 21,
      "outputs": []
    },
    {
      "cell_type": "code",
      "metadata": {
        "id": "H1Qmt8kauUdA",
        "colab_type": "code",
        "colab": {}
      },
      "source": [
        "day_data['날짜'] = pd.to_datetime(day_data['날짜'])\n",
        "new_weather['날짜'] = pd.to_datetime(new_weather['날짜'])"
      ],
      "execution_count": 22,
      "outputs": []
    },
    {
      "cell_type": "code",
      "metadata": {
        "id": "--c5h6_9uUfm",
        "colab_type": "code",
        "colab": {}
      },
      "source": [
        "all_data = day_data.merge(new_weather, on='날짜')\n",
        "all_data = all_data.groupby(['날짜']).mean()"
      ],
      "execution_count": 23,
      "outputs": []
    },
    {
      "cell_type": "code",
      "metadata": {
        "id": "ndGRCTAAuUic",
        "colab_type": "code",
        "colab": {
          "base_uri": "https://localhost:8080/",
          "height": 550
        },
        "outputId": "6fe35eb0-cb9a-4f00-f587-66866afeee13"
      },
      "source": [
        "sudogwon_weather['날짜'] = pd.to_datetime(sudogwon_weather['날짜'] )\n",
        "seoul_weather['날짜'] = pd.to_datetime(seoul_weather['날짜'] )\n",
        "busan_weather['날짜'] =pd.to_datetime(busan_weather['날짜'] )\n",
        "suwon_weather['날짜'] = pd.to_datetime(suwon_weather['날짜'] )\n",
        "gang_weather['날짜'] = pd.to_datetime(gang_weather['날짜'])"
      ],
      "execution_count": 24,
      "outputs": [
        {
          "output_type": "stream",
          "text": [
            "/usr/local/lib/python3.6/dist-packages/ipykernel_launcher.py:1: SettingWithCopyWarning: \n",
            "A value is trying to be set on a copy of a slice from a DataFrame.\n",
            "Try using .loc[row_indexer,col_indexer] = value instead\n",
            "\n",
            "See the caveats in the documentation: https://pandas.pydata.org/pandas-docs/stable/user_guide/indexing.html#returning-a-view-versus-a-copy\n",
            "  \"\"\"Entry point for launching an IPython kernel.\n",
            "/usr/local/lib/python3.6/dist-packages/ipykernel_launcher.py:2: SettingWithCopyWarning: \n",
            "A value is trying to be set on a copy of a slice from a DataFrame.\n",
            "Try using .loc[row_indexer,col_indexer] = value instead\n",
            "\n",
            "See the caveats in the documentation: https://pandas.pydata.org/pandas-docs/stable/user_guide/indexing.html#returning-a-view-versus-a-copy\n",
            "  \n",
            "/usr/local/lib/python3.6/dist-packages/ipykernel_launcher.py:3: SettingWithCopyWarning: \n",
            "A value is trying to be set on a copy of a slice from a DataFrame.\n",
            "Try using .loc[row_indexer,col_indexer] = value instead\n",
            "\n",
            "See the caveats in the documentation: https://pandas.pydata.org/pandas-docs/stable/user_guide/indexing.html#returning-a-view-versus-a-copy\n",
            "  This is separate from the ipykernel package so we can avoid doing imports until\n",
            "/usr/local/lib/python3.6/dist-packages/ipykernel_launcher.py:4: SettingWithCopyWarning: \n",
            "A value is trying to be set on a copy of a slice from a DataFrame.\n",
            "Try using .loc[row_indexer,col_indexer] = value instead\n",
            "\n",
            "See the caveats in the documentation: https://pandas.pydata.org/pandas-docs/stable/user_guide/indexing.html#returning-a-view-versus-a-copy\n",
            "  after removing the cwd from sys.path.\n",
            "/usr/local/lib/python3.6/dist-packages/ipykernel_launcher.py:5: SettingWithCopyWarning: \n",
            "A value is trying to be set on a copy of a slice from a DataFrame.\n",
            "Try using .loc[row_indexer,col_indexer] = value instead\n",
            "\n",
            "See the caveats in the documentation: https://pandas.pydata.org/pandas-docs/stable/user_guide/indexing.html#returning-a-view-versus-a-copy\n",
            "  \"\"\"\n"
          ],
          "name": "stderr"
        }
      ]
    },
    {
      "cell_type": "code",
      "metadata": {
        "id": "D1htH9hMiTJ3",
        "colab_type": "code",
        "colab": {}
      },
      "source": [
        "sudogwon_data = day_data.merge(sudogwon_weather, on=\"날짜\")\n",
        "suwon_data = day_data.merge(suwon_weather, on=\"날짜\")\n",
        "seoul_data = day_data.merge(seoul_weather, on=\"날짜\")\n",
        "busan_data = day_data.merge(busan_weather, on=\"날짜\")\n",
        "gang_data = day_data.merge(gang_weather, on=\"날짜\")"
      ],
      "execution_count": 25,
      "outputs": []
    },
    {
      "cell_type": "code",
      "metadata": {
        "id": "zjRE6myuiTHm",
        "colab_type": "code",
        "colab": {}
      },
      "source": [
        "fc_prop = pd.read_csv(\"/content/drive/My Drive/빅콘폴더/날씨예보/서울날씨/강수확률.csv\")\n",
        "fc_amount = pd.read_csv(\"/content/drive/My Drive/빅콘폴더/날씨예보/서울날씨/6시간 강수량.csv\") \n",
        "fc_sky = pd.read_csv(\"/content/drive/My Drive/빅콘폴더/날씨예보/서울날씨/하늘상태.csv\")\n",
        "fc_top = pd.read_csv(\"/content/drive/My Drive/빅콘폴더/날씨예보/서울날씨/일최고기온.csv\")\n",
        "fc_bottom = pd.read_csv(\"/content/drive/My Drive/빅콘폴더/날씨예보/서울날씨/일최저기온.csv\")"
      ],
      "execution_count": 26,
      "outputs": []
    },
    {
      "cell_type": "code",
      "metadata": {
        "id": "5zJKr2vUuU7-",
        "colab_type": "code",
        "colab": {}
      },
      "source": [
        "forecast_data = {\"강수확률\":fc_prop, \"강수량\":fc_amount,\"하늘상태\":fc_sky, \"일최고기온\":fc_top, \"일최저기온\":fc_bottom}"
      ],
      "execution_count": 27,
      "outputs": []
    },
    {
      "cell_type": "code",
      "metadata": {
        "id": "aIHTanSFB3nJ",
        "colab_type": "code",
        "colab": {}
      },
      "source": [
        "forecast = pd.DataFrame()\n",
        "\n",
        "for name, fcdata in forecast_data.items():\n",
        "    amount_list=[]\n",
        "    cycle = (fcdata.shape[0])//365 # 하루 관측량\n",
        "    for i in range(365):\n",
        "        day_weather = fcdata.iloc[i*cycle:(i+1)*cycle,-1].mean()\n",
        "        amount_list.append(day_weather)\n",
        "    forecast[name]=amount_list"
      ],
      "execution_count": 28,
      "outputs": []
    },
    {
      "cell_type": "code",
      "metadata": {
        "id": "KCWSIKo1vKbq",
        "colab_type": "code",
        "colab": {}
      },
      "source": [
        "forecast = forecast.iloc[165:243]"
      ],
      "execution_count": 29,
      "outputs": []
    },
    {
      "cell_type": "code",
      "metadata": {
        "id": "XyfJXcBjvKet",
        "colab_type": "code",
        "colab": {}
      },
      "source": [
        "# 날짜 칼럼 추가\n",
        "forecast[\"날짜\"]=train[\"날짜\"].unique()"
      ],
      "execution_count": 30,
      "outputs": []
    },
    {
      "cell_type": "markdown",
      "metadata": {
        "id": "5W896oTckftT",
        "colab_type": "text"
      },
      "source": [
        "# 마더코드, 일/월별 처리"
      ]
    },
    {
      "cell_type": "code",
      "metadata": {
        "id": "qHoNAPkUOnhO",
        "colab_type": "code",
        "colab": {}
      },
      "source": [
        "def hand_by_momcode(data):\n",
        "  momcodegroup = data.groupby(['마더코드']).sum()\n",
        "  momcodegroup['주문량/노출'] = momcodegroup['주문량']/momcodegroup['노출(분)']\n",
        "  topcode = list(momcodegroup.sort_values('주문량/노출', ascending=False).index[:50]) #탑50개\n",
        "  return topcode"
      ],
      "execution_count": 31,
      "outputs": []
    },
    {
      "cell_type": "code",
      "metadata": {
        "id": "5e37nTWOwB-i",
        "colab_type": "code",
        "colab": {
          "base_uri": "https://localhost:8080/",
          "height": 905
        },
        "outputId": "ceba51b2-f281-46af-8f3c-87e94e553ac8"
      },
      "source": [
        "hand_by_momcode(train) # train으로 topcode생성"
      ],
      "execution_count": 32,
      "outputs": [
        {
          "output_type": "execute_result",
          "data": {
            "text/plain": [
              "[100492,\n",
              " 100499,\n",
              " 100046,\n",
              " 100754,\n",
              " 100323,\n",
              " 100253,\n",
              " 100844,\n",
              " 100523,\n",
              " 100019,\n",
              " 100167,\n",
              " 100841,\n",
              " 100452,\n",
              " 100026,\n",
              " 100829,\n",
              " 100818,\n",
              " 100777,\n",
              " 100021,\n",
              " 100322,\n",
              " 100511,\n",
              " 100416,\n",
              " 100822,\n",
              " 100172,\n",
              " 100455,\n",
              " 100348,\n",
              " 100589,\n",
              " 100166,\n",
              " 100165,\n",
              " 100074,\n",
              " 100197,\n",
              " 100403,\n",
              " 100327,\n",
              " 100281,\n",
              " 100460,\n",
              " 100015,\n",
              " 100588,\n",
              " 100169,\n",
              " 100318,\n",
              " 100755,\n",
              " 100275,\n",
              " 100010,\n",
              " 100479,\n",
              " 100202,\n",
              " 100612,\n",
              " 100009,\n",
              " 100319,\n",
              " 100773,\n",
              " 100747,\n",
              " 100171,\n",
              " 100109,\n",
              " 100849]"
            ]
          },
          "metadata": {
            "tags": []
          },
          "execution_count": 32
        }
      ]
    },
    {
      "cell_type": "markdown",
      "metadata": {
        "id": "DKSDXae0k8xe",
        "colab_type": "text"
      },
      "source": [
        "- 상품군내 마더코드별 주문량"
      ]
    },
    {
      "cell_type": "code",
      "metadata": {
        "id": "3MSP4VG5k8Qq",
        "colab_type": "code",
        "colab": {}
      },
      "source": [
        "multi_grouped = train.groupby(['상품군','마더코드'])\n",
        "MultiGroup = multi_grouped['주문량'].sum()\n",
        "MultiGroup = MultiGroup.reset_index()"
      ],
      "execution_count": 33,
      "outputs": []
    },
    {
      "cell_type": "code",
      "metadata": {
        "id": "WZna_N5Ik-ZJ",
        "colab_type": "code",
        "colab": {}
      },
      "source": [
        "item = list(set(MultiGroup['상품군']))"
      ],
      "execution_count": 34,
      "outputs": []
    },
    {
      "cell_type": "code",
      "metadata": {
        "id": "II6uBKyAlAaC",
        "colab_type": "code",
        "colab": {
          "base_uri": "https://localhost:8080/",
          "height": 1000
        },
        "outputId": "29adcfaf-9682-47cd-9f2f-ecb52c3af3b1"
      },
      "source": [
        "for i in item:\n",
        "    plt.figure(figsize=(10,10))\n",
        "    sns.barplot(data=MultiGroup[MultiGroup['상품군']==i], x='마더코드', y='주문량')\n",
        "    plt.title(i)\n",
        "    plt.xticks(rotation=45, size=7)"
      ],
      "execution_count": 35,
      "outputs": [
        {
          "output_type": "display_data",
          "data": {
            "image/png": "[encoded data removed]",
            "text/plain": [
              "<Figure size 720x720 with 1 Axes>"
            ]
          },
          "metadata": {
            "tags": [],
            "needs_background": "light"
          }
        },
        {
          "output_type": "display_data",
          "data": {
            "image/png": "[encoded data removed]",
            "text/plain": [
              "<Figure size 720x720 with 1 Axes>"
            ]
          },
          "metadata": {
            "tags": [],
            "needs_background": "light"
          }
        },
        {
          "output_type": "display_data",
          "data": {
            "image/png": "[encoded data removed]",
            "text/plain": [
              "<Figure size 720x720 with 1 Axes>"
            ]
          },
          "metadata": {
            "tags": [],
            "needs_background": "light"
          }
        },
        {
          "output_type": "display_data",
          "data": {
            "image/png": "[encoded data removed]",
            "text/plain": [
              "<Figure size 720x720 with 1 Axes>"
            ]
          },
          "metadata": {
            "tags": [],
            "needs_background": "light"
          }
        },
        {
          "output_type": "display_data",
          "data": {
            "image/png": "[encoded data removed]",
            "text/plain": [
              "<Figure size 720x720 with 1 Axes>"
            ]
          },
          "metadata": {
            "tags": [],
            "needs_background": "light"
          }
        },
        {
          "output_type": "display_data",
          "data": {
            "image/png": "[encoded data removed]",
            "text/plain": [
              "<Figure size 720x720 with 1 Axes>"
            ]
          },
          "metadata": {
            "tags": [],
            "needs_background": "light"
          }
        },
        {
          "output_type": "display_data",
          "data": {
            "image/png": "[encoded data removed]",
            "text/plain": [
              "<Figure size 720x720 with 1 Axes>"
            ]
          },
          "metadata": {
            "tags": [],
            "needs_background": "light"
          }
        },
        {
          "output_type": "display_data",
          "data": {
            "image/png": "[encoded data removed]",
            "text/plain": [
              "<Figure size 720x720 with 1 Axes>"
            ]
          },
          "metadata": {
            "tags": [],
            "needs_background": "light"
          }
        },
        {
          "output_type": "display_data",
          "data": {
            "image/png": "[encoded data removed]",
            "text/plain": [
              "<Figure size 720x720 with 1 Axes>"
            ]
          },
          "metadata": {
            "tags": [],
            "needs_background": "light"
          }
        },
        {
          "output_type": "display_data",
          "data": {
            "image/png": "[encoded data removed]",
            "text/plain": [
              "<Figure size 720x720 with 1 Axes>"
            ]
          },
          "metadata": {
            "tags": [],
            "needs_background": "light"
          }
        },
        {
          "output_type": "display_data",
          "data": {
            "image/png": "[encoded data removed]",
            "text/plain": [
              "<Figure size 720x720 with 1 Axes>"
            ]
          },
          "metadata": {
            "tags": [],
            "needs_background": "light"
          }
        }
      ]
    },
    {
      "cell_type": "markdown",
      "metadata": {
        "id": "qSCmW28_lLif",
        "colab_type": "text"
      },
      "source": [
        "- 시간대 상품군별 주문량"
      ]
    },
    {
      "cell_type": "code",
      "metadata": {
        "id": "blI_md-9lAm9",
        "colab_type": "code",
        "colab": {}
      },
      "source": [
        "hour_grouped = train.groupby(['시','상품군'])\n",
        "HourGroup = hour_grouped['주문량'].sum()\n",
        "HourGroup = HourGroup.reset_index()"
      ],
      "execution_count": 36,
      "outputs": []
    },
    {
      "cell_type": "code",
      "metadata": {
        "id": "KJjHxGt3lJ-u",
        "colab_type": "code",
        "colab": {
          "base_uri": "https://localhost:8080/",
          "height": 1000
        },
        "outputId": "990599bb-cab2-4061-d354-3abdf5e13c64"
      },
      "source": [
        "plt.figure(figsize=(10,20))\n",
        "sns.barplot(data=HourGroup, x='시', y='주문량', hue='상품군', dodge=False)"
      ],
      "execution_count": 37,
      "outputs": [
        {
          "output_type": "execute_result",
          "data": {
            "text/plain": [
              "<matplotlib.axes._subplots.AxesSubplot at 0x7ff0fb4e1d68>"
            ]
          },
          "metadata": {
            "tags": []
          },
          "execution_count": 37
        },
        {
          "output_type": "display_data",
          "data": {
            "image/png": "[encoded data removed]",
            "text/plain": [
              "<Figure size 720x1440 with 1 Axes>"
            ]
          },
          "metadata": {
            "tags": [],
            "needs_background": "light"
          }
        }
      ]
    },
    {
      "cell_type": "code",
      "metadata": {
        "id": "6_OYlIXTlAp3",
        "colab_type": "code",
        "colab": {}
      },
      "source": [
        "train['new판매단가'] = np.log(train['판매단가'])\n",
        "train.drop('판매단가', inplace=True, axis=1)"
      ],
      "execution_count": 38,
      "outputs": []
    },
    {
      "cell_type": "code",
      "metadata": {
        "id": "dooOOZuClAsv",
        "colab_type": "code",
        "colab": {
          "base_uri": "https://localhost:8080/",
          "height": 52
        },
        "outputId": "de556c04-6010-4b7e-e274-26dffd2d1b01"
      },
      "source": [
        "np.corrcoef(train['주문량'],train['new판매단가'])"
      ],
      "execution_count": 39,
      "outputs": [
        {
          "output_type": "execute_result",
          "data": {
            "text/plain": [
              "array([[ 1.        , -0.61081947],\n",
              "       [-0.61081947,  1.        ]])"
            ]
          },
          "metadata": {
            "tags": []
          },
          "execution_count": 39
        }
      ]
    },
    {
      "cell_type": "code",
      "metadata": {
        "id": "Ic4HQHtjlAvW",
        "colab_type": "code",
        "colab": {
          "base_uri": "https://localhost:8080/",
          "height": 282
        },
        "outputId": "16db12c1-a144-49ad-8eed-4d4f277fdf4a"
      },
      "source": [
        "plt.scatter(train['주문량'], (train['new판매단가'])) "
      ],
      "execution_count": 40,
      "outputs": [
        {
          "output_type": "execute_result",
          "data": {
            "text/plain": [
              "<matplotlib.collections.PathCollection at 0x7ff0fa83b9b0>"
            ]
          },
          "metadata": {
            "tags": []
          },
          "execution_count": 40
        },
        {
          "output_type": "display_data",
          "data": {
            "image/png": "[encoded data removed]",
            "text/plain": [
              "<Figure size 432x288 with 1 Axes>"
            ]
          },
          "metadata": {
            "tags": [],
            "needs_background": "light"
          }
        }
      ]
    },
    {
      "cell_type": "code",
      "metadata": {
        "id": "671nj9Mfla_o",
        "colab_type": "code",
        "colab": {
          "base_uri": "https://localhost:8080/",
          "height": 337
        },
        "outputId": "d285974b-7c42-42da-c2c7-95b20d00869b"
      },
      "source": [
        "fig, ax = plt.subplots(1,2, figsize=(10,5))\n",
        "sns.kdeplot(train['주문량'], ax=ax[0]) #커널 밀도추정\n",
        "sns.kdeplot(np.log(train['주문량']), ax=ax[1])"
      ],
      "execution_count": 41,
      "outputs": [
        {
          "output_type": "execute_result",
          "data": {
            "text/plain": [
              "<matplotlib.axes._subplots.AxesSubplot at 0x7ff0f94c00b8>"
            ]
          },
          "metadata": {
            "tags": []
          },
          "execution_count": 41
        },
        {
          "output_type": "display_data",
          "data": {
            "image/png": "[encoded data removed]",
            "text/plain": [
              "<Figure size 720x360 with 2 Axes>"
            ]
          },
          "metadata": {
            "tags": [],
            "needs_background": "light"
          }
        }
      ]
    },
    {
      "cell_type": "code",
      "metadata": {
        "id": "0_GR8RzWmA8K",
        "colab_type": "code",
        "colab": {}
      },
      "source": [
        "train['new주문량'] = np.log(train['주문량'])\n",
        "train.drop('주문량', inplace=True, axis=1)"
      ],
      "execution_count": 42,
      "outputs": []
    },
    {
      "cell_type": "markdown",
      "metadata": {
        "id": "49vM5SEZknLy",
        "colab_type": "text"
      },
      "source": [
        "# 모델학습 데이터 생성 및 분리"
      ]
    },
    {
      "cell_type": "markdown",
      "metadata": {
        "id": "zbn6uFB5mmBS",
        "colab_type": "text"
      },
      "source": [
        "- 시간대"
      ]
    },
    {
      "cell_type": "code",
      "metadata": {
        "colab_type": "code",
        "id": "ftbkKK0Kh-M0",
        "colab": {}
      },
      "source": [
        "time = train.groupby('HOUR').aggregate(np.mean)\n",
        "\n",
        "time_rank = {}\n",
        "rank = 1 \n",
        "for idx, row in time.sort_values(by='new주문량').iterrows():\n",
        "    time_rank[idx] = rank\n",
        "    rank += 1"
      ],
      "execution_count": 43,
      "outputs": []
    },
    {
      "cell_type": "code",
      "metadata": {
        "colab_type": "code",
        "id": "BVtuy9Bhh-M3",
        "colab": {}
      },
      "source": [
        "prime_time = []\n",
        "\n",
        "for idx, row in train.iterrows():\n",
        "    prime_time.append(time_rank[row.HOUR])\n",
        "    \n",
        "train['prime_time'] = prime_time"
      ],
      "execution_count": 44,
      "outputs": []
    },
    {
      "cell_type": "markdown",
      "metadata": {
        "id": "Arbdlvc9mo4_",
        "colab_type": "text"
      },
      "source": [
        "- 요일"
      ]
    },
    {
      "cell_type": "code",
      "metadata": {
        "colab_type": "code",
        "id": "U5yxdpa4h-M5",
        "colab": {}
      },
      "source": [
        "day = train.groupby('요일').aggregate(np.mean)\n",
        "\n",
        "day_rank = {}\n",
        "rank = 1 \n",
        "for idx, row in day.sort_values(by='new주문량').iterrows():\n",
        "    day_rank[idx] = rank\n",
        "    rank += 1\n",
        "    \n",
        "prime_day = []\n",
        "\n",
        "for idx, row in train.iterrows():\n",
        "    prime_day.append(day_rank[row.요일])\n",
        "    \n",
        "train['prime_day'] = prime_day"
      ],
      "execution_count": 45,
      "outputs": []
    },
    {
      "cell_type": "markdown",
      "metadata": {
        "id": "W_N0F90Emsll",
        "colab_type": "text"
      },
      "source": [
        "- 요일"
      ]
    },
    {
      "cell_type": "code",
      "metadata": {
        "colab_type": "code",
        "id": "2TtUcPARh-M7",
        "colab": {}
      },
      "source": [
        "intercode = set(test['마더코드'].unique()).intersection(set(train['마더코드'].unique()))\n",
        "interitem = train[train['마더코드'].isin(intercode)]"
      ],
      "execution_count": 46,
      "outputs": []
    },
    {
      "cell_type": "markdown",
      "metadata": {
        "id": "5dg_740QmxoD",
        "colab_type": "text"
      },
      "source": [
        "- test랑 겹치는 마더코드"
      ]
    },
    {
      "cell_type": "code",
      "metadata": {
        "colab_type": "code",
        "id": "vi2gXDD1h-M8",
        "colab": {}
      },
      "source": [
        "code = interitem.groupby('마더코드').aggregate(np.mean)\n",
        "\n",
        "code_rank = {}\n",
        "rank = 1\n",
        "for idx, row in code.sort_values(by='new주문량').iterrows():\n",
        "    code_rank[idx] = rank\n",
        "    rank += 1\n",
        "\n",
        "top_code = []\n",
        "\n",
        "for idx, row in train.iterrows():\n",
        "    if row.마더코드 in code_rank.keys():\n",
        "        top_code.append(code_rank[row.마더코드])\n",
        "    else:\n",
        "        top_code.append(0)\n",
        "        \n",
        "train['top_code'] = top_code"
      ],
      "execution_count": 47,
      "outputs": []
    },
    {
      "cell_type": "markdown",
      "metadata": {
        "id": "X_Bg57hwm1ZE",
        "colab_type": "text"
      },
      "source": [
        "- 분류기준 top_분류"
      ]
    },
    {
      "cell_type": "code",
      "metadata": {
        "colab_type": "code",
        "id": "xCzryMJ5h-M-",
        "colab": {}
      },
      "source": [
        "cat = train.groupby('분류').aggregate(np.mean)\n",
        "\n",
        "cat_rank = {}\n",
        "rank = 1\n",
        "for idx, row in cat.sort_values(by='new주문량').iterrows():\n",
        "    cat_rank[idx] = rank\n",
        "    rank += 1\n",
        "\n",
        "top_cat = []\n",
        "\n",
        "for idx, row in train.iterrows():\n",
        "    top_cat.append(cat_rank[row.분류])\n",
        "    \n",
        "train['top_cat'] = top_cat"
      ],
      "execution_count": 48,
      "outputs": []
    },
    {
      "cell_type": "markdown",
      "metadata": {
        "id": "htfxciMAm8I7",
        "colab_type": "text"
      },
      "source": [
        "- 성은님코드 : 분류원핫+pca\n",
        "- 회선 : 빈도수인코딩"
      ]
    },
    {
      "cell_type": "code",
      "metadata": {
        "colab_type": "code",
        "id": "wd_WOHKAh-ND",
        "colab": {}
      },
      "source": [
        "# 원핫+PCA\n",
        "from sklearn.preprocessing import OneHotEncoder\n",
        "from sklearn.decomposition import PCA"
      ],
      "execution_count": 49,
      "outputs": []
    },
    {
      "cell_type": "code",
      "metadata": {
        "colab_type": "code",
        "id": "rqOYYxDJh-NF",
        "colab": {}
      },
      "source": [
        "enc1 = OneHotEncoder()\n",
        "category = np.array(train['분류'])\n",
        "category = category.reshape(-1, 1)"
      ],
      "execution_count": 50,
      "outputs": []
    },
    {
      "cell_type": "code",
      "metadata": {
        "colab_type": "code",
        "id": "eocfDNc8h-NG",
        "colab": {}
      },
      "source": [
        "enc1.fit(category)\n",
        "category_ = enc1.transform(category).toarray()"
      ],
      "execution_count": 51,
      "outputs": []
    },
    {
      "cell_type": "code",
      "metadata": {
        "colab_type": "code",
        "id": "C1G4Sf3Lh-NI",
        "colab": {}
      },
      "source": [
        "pca = PCA(n_components=2)\n",
        "res = pca.fit_transform(category_)\n",
        "res = pd.DataFrame(res, columns=['x1_cat','x2_cat'])"
      ],
      "execution_count": 52,
      "outputs": []
    },
    {
      "cell_type": "code",
      "metadata": {
        "colab_type": "code",
        "id": "H-XnhLrUh-NJ",
        "colab": {}
      },
      "source": [
        "train['x1_cat'] = res['x1_cat']\n",
        "train['x2_cat'] = res['x2_cat']"
      ],
      "execution_count": 53,
      "outputs": []
    },
    {
      "cell_type": "code",
      "metadata": {
        "id": "kRNLGXwhZsHL",
        "colab_type": "code",
        "colab": {
          "base_uri": "https://localhost:8080/",
          "height": 230
        },
        "outputId": "59d7ee5f-d9ff-46a2-ea8c-88e1099bcbff"
      },
      "source": [
        "train['x1_cat']"
      ],
      "execution_count": 54,
      "outputs": [
        {
          "output_type": "execute_result",
          "data": {
            "text/plain": [
              "0      -0.005480\n",
              "1      -0.005480\n",
              "2      -0.005480\n",
              "3      -0.076982\n",
              "4      -0.076982\n",
              "          ...   \n",
              "7508   -0.011935\n",
              "7509   -0.004934\n",
              "7510   -0.004934\n",
              "7511   -0.004934\n",
              "7512   -0.004934\n",
              "Name: x1_cat, Length: 7513, dtype: float64"
            ]
          },
          "metadata": {
            "tags": []
          },
          "execution_count": 54
        }
      ]
    },
    {
      "cell_type": "markdown",
      "metadata": {
        "id": "aeo4-zSUnLML",
        "colab_type": "text"
      },
      "source": [
        "- 실제날씨(서울)"
      ]
    },
    {
      "cell_type": "code",
      "metadata": {
        "colab_type": "code",
        "id": "pfE66Vvah-NL",
        "colab": {}
      },
      "source": [
        "real = train.groupby('실제_서울_날씨').aggregate(np.mean)\n",
        "\n",
        "real_rank = {}\n",
        "rank = 1\n",
        "for idx, row in real.sort_values(by='new주문량').iterrows():\n",
        "    real_rank[idx] = rank\n",
        "    rank += 1\n",
        "\n",
        "top_real_weather = []\n",
        "\n",
        "for idx, row in train.iterrows():\n",
        "    top_real_weather.append(real_rank[row.실제_서울_날씨])\n",
        "    \n",
        "train['top_real_weather'] = top_real_weather"
      ],
      "execution_count": 55,
      "outputs": []
    },
    {
      "cell_type": "markdown",
      "metadata": {
        "id": "lE7qHmGaZM7E",
        "colab_type": "text"
      },
      "source": [
        "-실제날씨 통합"
      ]
    },
    {
      "cell_type": "code",
      "metadata": {
        "id": "7YpCiAeeY7ir",
        "colab_type": "code",
        "colab": {
          "base_uri": "https://localhost:8080/",
          "height": 406
        },
        "outputId": "998b7263-9c16-4217-8ddb-e9d64d647bad"
      },
      "source": [
        "real_total_weather = pd.read_excel('/content/drive/My Drive/빅콘폴더/날씨_실제/날씨통합.xlsx')\n",
        "real_total_weather"
      ],
      "execution_count": 56,
      "outputs": [
        {
          "output_type": "execute_result",
          "data": {
            "text/html": [
              "<div>\n",
              "<style scoped>\n",
              "    .dataframe tbody tr th:only-of-type {\n",
              "        vertical-align: middle;\n",
              "    }\n",
              "\n",
              "    .dataframe tbody tr th {\n",
              "        vertical-align: top;\n",
              "    }\n",
              "\n",
              "    .dataframe thead th {\n",
              "        text-align: right;\n",
              "    }\n",
              "</style>\n",
              "<table border=\"1\" class=\"dataframe\">\n",
              "  <thead>\n",
              "    <tr style=\"text-align: right;\">\n",
              "      <th></th>\n",
              "      <th>최고기온</th>\n",
              "      <th>최저기온</th>\n",
              "      <th>강수량</th>\n",
              "      <th>평균풍속</th>\n",
              "    </tr>\n",
              "  </thead>\n",
              "  <tbody>\n",
              "    <tr>\n",
              "      <th>0</th>\n",
              "      <td>27.266667</td>\n",
              "      <td>16.766667</td>\n",
              "      <td>0.8</td>\n",
              "      <td>2.200000</td>\n",
              "    </tr>\n",
              "    <tr>\n",
              "      <th>1</th>\n",
              "      <td>27.266667</td>\n",
              "      <td>16.766667</td>\n",
              "      <td>0.8</td>\n",
              "      <td>2.200000</td>\n",
              "    </tr>\n",
              "    <tr>\n",
              "      <th>2</th>\n",
              "      <td>27.266667</td>\n",
              "      <td>16.766667</td>\n",
              "      <td>0.8</td>\n",
              "      <td>2.200000</td>\n",
              "    </tr>\n",
              "    <tr>\n",
              "      <th>3</th>\n",
              "      <td>27.266667</td>\n",
              "      <td>16.766667</td>\n",
              "      <td>0.8</td>\n",
              "      <td>2.200000</td>\n",
              "    </tr>\n",
              "    <tr>\n",
              "      <th>4</th>\n",
              "      <td>27.266667</td>\n",
              "      <td>16.766667</td>\n",
              "      <td>0.8</td>\n",
              "      <td>2.200000</td>\n",
              "    </tr>\n",
              "    <tr>\n",
              "      <th>...</th>\n",
              "      <td>...</td>\n",
              "      <td>...</td>\n",
              "      <td>...</td>\n",
              "      <td>...</td>\n",
              "    </tr>\n",
              "    <tr>\n",
              "      <th>7508</th>\n",
              "      <td>28.100000</td>\n",
              "      <td>17.133333</td>\n",
              "      <td>0.0</td>\n",
              "      <td>1.466667</td>\n",
              "    </tr>\n",
              "    <tr>\n",
              "      <th>7509</th>\n",
              "      <td>28.100000</td>\n",
              "      <td>17.133333</td>\n",
              "      <td>0.0</td>\n",
              "      <td>1.466667</td>\n",
              "    </tr>\n",
              "    <tr>\n",
              "      <th>7510</th>\n",
              "      <td>28.100000</td>\n",
              "      <td>17.133333</td>\n",
              "      <td>0.0</td>\n",
              "      <td>1.466667</td>\n",
              "    </tr>\n",
              "    <tr>\n",
              "      <th>7511</th>\n",
              "      <td>28.100000</td>\n",
              "      <td>17.133333</td>\n",
              "      <td>0.0</td>\n",
              "      <td>1.466667</td>\n",
              "    </tr>\n",
              "    <tr>\n",
              "      <th>7512</th>\n",
              "      <td>28.100000</td>\n",
              "      <td>17.133333</td>\n",
              "      <td>0.0</td>\n",
              "      <td>1.466667</td>\n",
              "    </tr>\n",
              "  </tbody>\n",
              "</table>\n",
              "<p>7513 rows × 4 columns</p>\n",
              "</div>"
            ],
            "text/plain": [
              "           최고기온       최저기온  강수량      평균풍속\n",
              "0     27.266667  16.766667  0.8  2.200000\n",
              "1     27.266667  16.766667  0.8  2.200000\n",
              "2     27.266667  16.766667  0.8  2.200000\n",
              "3     27.266667  16.766667  0.8  2.200000\n",
              "4     27.266667  16.766667  0.8  2.200000\n",
              "...         ...        ...  ...       ...\n",
              "7508  28.100000  17.133333  0.0  1.466667\n",
              "7509  28.100000  17.133333  0.0  1.466667\n",
              "7510  28.100000  17.133333  0.0  1.466667\n",
              "7511  28.100000  17.133333  0.0  1.466667\n",
              "7512  28.100000  17.133333  0.0  1.466667\n",
              "\n",
              "[7513 rows x 4 columns]"
            ]
          },
          "metadata": {
            "tags": []
          },
          "execution_count": 56
        }
      ]
    },
    {
      "cell_type": "code",
      "metadata": {
        "id": "by3th-L4ZOmO",
        "colab_type": "code",
        "colab": {}
      },
      "source": [
        "train['실제_최고기온'] = real_total_weather['최고기온']\n",
        "train['실제_최저기온'] = real_total_weather['최저기온']\n",
        "train['실제_강수량'] = real_total_weather['강수량']\n",
        "train['실제_평균풍속'] = real_total_weather['평균풍속']"
      ],
      "execution_count": 57,
      "outputs": []
    },
    {
      "cell_type": "code",
      "metadata": {
        "id": "Sy9napAyDfkh",
        "colab_type": "code",
        "colab": {
          "base_uri": "https://localhost:8080/",
          "height": 1000
        },
        "outputId": "f1320083-a1ab-4532-99b5-a4995d8cf8dc"
      },
      "source": [
        "train"
      ],
      "execution_count": 58,
      "outputs": [
        {
          "output_type": "execute_result",
          "data": {
            "text/html": [
              "<div>\n",
              "<style scoped>\n",
              "    .dataframe tbody tr th:only-of-type {\n",
              "        vertical-align: middle;\n",
              "    }\n",
              "\n",
              "    .dataframe tbody tr th {\n",
              "        vertical-align: top;\n",
              "    }\n",
              "\n",
              "    .dataframe thead th {\n",
              "        text-align: right;\n",
              "    }\n",
              "</style>\n",
              "<table border=\"1\" class=\"dataframe\">\n",
              "  <thead>\n",
              "    <tr style=\"text-align: right;\">\n",
              "      <th></th>\n",
              "      <th>Unnamed: 0</th>\n",
              "      <th>방송일시</th>\n",
              "      <th>노출(분)</th>\n",
              "      <th>마더코드</th>\n",
              "      <th>상품코드</th>\n",
              "      <th>상품명</th>\n",
              "      <th>상품군</th>\n",
              "      <th>취급액</th>\n",
              "      <th>날짜</th>\n",
              "      <th>시간</th>\n",
              "      <th>요일</th>\n",
              "      <th>시</th>\n",
              "      <th>holiday</th>\n",
              "      <th>월</th>\n",
              "      <th>holiday(includeSS)</th>\n",
              "      <th>실제_서울_최고기온</th>\n",
              "      <th>실제_서울_최저기온</th>\n",
              "      <th>실제_서울_강수량(mm)</th>\n",
              "      <th>실제_서울_평균풍속(m/s)</th>\n",
              "      <th>실제_서울_날씨</th>\n",
              "      <th>실제_수원_최고기온</th>\n",
              "      <th>실제_수원_최저기온</th>\n",
              "      <th>실제_수원_강수량(mm)</th>\n",
              "      <th>실제_수원_평균풍속(m/s)</th>\n",
              "      <th>실제_수원_날씨</th>\n",
              "      <th>실제_파주_최고기온</th>\n",
              "      <th>실제_파주_최저기온</th>\n",
              "      <th>실제_파주_강수량(mm)</th>\n",
              "      <th>실제_파주_평균풍속(m/s)</th>\n",
              "      <th>실제_파주_날씨</th>\n",
              "      <th>예보_서울_강수확률</th>\n",
              "      <th>예보_서울_강수량</th>\n",
              "      <th>예보_서울_하늘상태</th>\n",
              "      <th>예보_서울_일최고기온</th>\n",
              "      <th>예보_서울_일최저기온</th>\n",
              "      <th>예보_일산_강수확률</th>\n",
              "      <th>예보_일산_강수량</th>\n",
              "      <th>예보_일산_일최고기온</th>\n",
              "      <th>예보_일산_일최저기온</th>\n",
              "      <th>예보_수원_강수확률</th>\n",
              "      <th>예보_수원_강수량</th>\n",
              "      <th>예보_수원_일최고기온</th>\n",
              "      <th>예보_수원_일최저기온</th>\n",
              "      <th>계절</th>\n",
              "      <th>DATE</th>\n",
              "      <th>미세먼지(㎍/㎥)</th>\n",
              "      <th>오존(ppm)</th>\n",
              "      <th>이산화질소농도(ppm)</th>\n",
              "      <th>일산화탄소농도(ppm)</th>\n",
              "      <th>아황산가스농도(ppm)</th>\n",
              "      <th>초미세먼지(㎍/㎥)</th>\n",
              "      <th>분류</th>\n",
              "      <th>MONTH</th>\n",
              "      <th>HOUR</th>\n",
              "      <th>DAY</th>\n",
              "      <th>Active Users</th>\n",
              "      <th>new판매단가</th>\n",
              "      <th>new주문량</th>\n",
              "      <th>prime_time</th>\n",
              "      <th>prime_day</th>\n",
              "      <th>top_code</th>\n",
              "      <th>top_cat</th>\n",
              "      <th>x1_cat</th>\n",
              "      <th>x2_cat</th>\n",
              "      <th>top_real_weather</th>\n",
              "      <th>실제_최고기온</th>\n",
              "      <th>실제_최저기온</th>\n",
              "      <th>실제_강수량</th>\n",
              "      <th>실제_평균풍속</th>\n",
              "    </tr>\n",
              "  </thead>\n",
              "  <tbody>\n",
              "    <tr>\n",
              "      <th>0</th>\n",
              "      <td>17373</td>\n",
              "      <td>2019-06-15 00:00:00</td>\n",
              "      <td>20.0</td>\n",
              "      <td>100305</td>\n",
              "      <td>200981</td>\n",
              "      <td>오모떼 미라클쉐이핑 브라팬티 시즌3</td>\n",
              "      <td>inner</td>\n",
              "      <td>16517000</td>\n",
              "      <td>2019-06-15</td>\n",
              "      <td>00:00:00</td>\n",
              "      <td>5</td>\n",
              "      <td>0</td>\n",
              "      <td>0</td>\n",
              "      <td>6</td>\n",
              "      <td>1</td>\n",
              "      <td>27.4</td>\n",
              "      <td>17.9</td>\n",
              "      <td>2.1</td>\n",
              "      <td>2.5</td>\n",
              "      <td>구름조금/비/천둥번개</td>\n",
              "      <td>26.8</td>\n",
              "      <td>17.1</td>\n",
              "      <td>0.3</td>\n",
              "      <td>2.4</td>\n",
              "      <td>구름조금/소나기/안개</td>\n",
              "      <td>27.6</td>\n",
              "      <td>15.3</td>\n",
              "      <td>0.0</td>\n",
              "      <td>1.7</td>\n",
              "      <td>구름조금/비</td>\n",
              "      <td>10.337838</td>\n",
              "      <td>0.210526</td>\n",
              "      <td>1.925676</td>\n",
              "      <td>26.368421</td>\n",
              "      <td>17.0000</td>\n",
              "      <td>8.986486</td>\n",
              "      <td>0.078947</td>\n",
              "      <td>25.105263</td>\n",
              "      <td>16.0000</td>\n",
              "      <td>8.513514</td>\n",
              "      <td>0.078947</td>\n",
              "      <td>26.263158</td>\n",
              "      <td>16.00</td>\n",
              "      <td>2</td>\n",
              "      <td>20190615</td>\n",
              "      <td>36.00</td>\n",
              "      <td>21.36</td>\n",
              "      <td>0.04308</td>\n",
              "      <td>0.01296</td>\n",
              "      <td>0.364</td>\n",
              "      <td>0.0030</td>\n",
              "      <td>f1</td>\n",
              "      <td>6</td>\n",
              "      <td>0</td>\n",
              "      <td>sat</td>\n",
              "      <td>118574.0</td>\n",
              "      <td>11.686879</td>\n",
              "      <td>4.933022</td>\n",
              "      <td>7</td>\n",
              "      <td>1</td>\n",
              "      <td>0</td>\n",
              "      <td>45</td>\n",
              "      <td>-0.005480</td>\n",
              "      <td>0.006940</td>\n",
              "      <td>1</td>\n",
              "      <td>27.266667</td>\n",
              "      <td>16.766667</td>\n",
              "      <td>0.8</td>\n",
              "      <td>2.200000</td>\n",
              "    </tr>\n",
              "    <tr>\n",
              "      <th>1</th>\n",
              "      <td>17374</td>\n",
              "      <td>2019-06-15 00:20:00</td>\n",
              "      <td>20.0</td>\n",
              "      <td>100305</td>\n",
              "      <td>200981</td>\n",
              "      <td>오모떼 미라클쉐이핑 브라팬티 시즌3</td>\n",
              "      <td>inner</td>\n",
              "      <td>44829000</td>\n",
              "      <td>2019-06-15</td>\n",
              "      <td>00:20:00</td>\n",
              "      <td>5</td>\n",
              "      <td>0</td>\n",
              "      <td>0</td>\n",
              "      <td>6</td>\n",
              "      <td>1</td>\n",
              "      <td>27.4</td>\n",
              "      <td>17.9</td>\n",
              "      <td>2.1</td>\n",
              "      <td>2.5</td>\n",
              "      <td>구름조금/비/천둥번개</td>\n",
              "      <td>26.8</td>\n",
              "      <td>17.1</td>\n",
              "      <td>0.3</td>\n",
              "      <td>2.4</td>\n",
              "      <td>구름조금/소나기/안개</td>\n",
              "      <td>27.6</td>\n",
              "      <td>15.3</td>\n",
              "      <td>0.0</td>\n",
              "      <td>1.7</td>\n",
              "      <td>구름조금/비</td>\n",
              "      <td>10.337838</td>\n",
              "      <td>0.210526</td>\n",
              "      <td>1.925676</td>\n",
              "      <td>26.368421</td>\n",
              "      <td>17.0000</td>\n",
              "      <td>8.986486</td>\n",
              "      <td>0.078947</td>\n",
              "      <td>25.105263</td>\n",
              "      <td>16.0000</td>\n",
              "      <td>8.513514</td>\n",
              "      <td>0.078947</td>\n",
              "      <td>26.263158</td>\n",
              "      <td>16.00</td>\n",
              "      <td>2</td>\n",
              "      <td>20190615</td>\n",
              "      <td>36.00</td>\n",
              "      <td>21.36</td>\n",
              "      <td>0.04308</td>\n",
              "      <td>0.01296</td>\n",
              "      <td>0.364</td>\n",
              "      <td>0.0030</td>\n",
              "      <td>f1</td>\n",
              "      <td>6</td>\n",
              "      <td>0</td>\n",
              "      <td>sat</td>\n",
              "      <td>118574.0</td>\n",
              "      <td>11.686879</td>\n",
              "      <td>5.931487</td>\n",
              "      <td>7</td>\n",
              "      <td>1</td>\n",
              "      <td>0</td>\n",
              "      <td>45</td>\n",
              "      <td>-0.005480</td>\n",
              "      <td>0.006940</td>\n",
              "      <td>1</td>\n",
              "      <td>27.266667</td>\n",
              "      <td>16.766667</td>\n",
              "      <td>0.8</td>\n",
              "      <td>2.200000</td>\n",
              "    </tr>\n",
              "    <tr>\n",
              "      <th>2</th>\n",
              "      <td>17375</td>\n",
              "      <td>2019-06-15 00:40:00</td>\n",
              "      <td>20.0</td>\n",
              "      <td>100305</td>\n",
              "      <td>200981</td>\n",
              "      <td>오모떼 미라클쉐이핑 브라팬티 시즌3</td>\n",
              "      <td>inner</td>\n",
              "      <td>56057000</td>\n",
              "      <td>2019-06-15</td>\n",
              "      <td>00:40:00</td>\n",
              "      <td>5</td>\n",
              "      <td>0</td>\n",
              "      <td>0</td>\n",
              "      <td>6</td>\n",
              "      <td>1</td>\n",
              "      <td>27.4</td>\n",
              "      <td>17.9</td>\n",
              "      <td>2.1</td>\n",
              "      <td>2.5</td>\n",
              "      <td>구름조금/비/천둥번개</td>\n",
              "      <td>26.8</td>\n",
              "      <td>17.1</td>\n",
              "      <td>0.3</td>\n",
              "      <td>2.4</td>\n",
              "      <td>구름조금/소나기/안개</td>\n",
              "      <td>27.6</td>\n",
              "      <td>15.3</td>\n",
              "      <td>0.0</td>\n",
              "      <td>1.7</td>\n",
              "      <td>구름조금/비</td>\n",
              "      <td>10.337838</td>\n",
              "      <td>0.210526</td>\n",
              "      <td>1.925676</td>\n",
              "      <td>26.368421</td>\n",
              "      <td>17.0000</td>\n",
              "      <td>8.986486</td>\n",
              "      <td>0.078947</td>\n",
              "      <td>25.105263</td>\n",
              "      <td>16.0000</td>\n",
              "      <td>8.513514</td>\n",
              "      <td>0.078947</td>\n",
              "      <td>26.263158</td>\n",
              "      <td>16.00</td>\n",
              "      <td>2</td>\n",
              "      <td>20190615</td>\n",
              "      <td>36.00</td>\n",
              "      <td>21.36</td>\n",
              "      <td>0.04308</td>\n",
              "      <td>0.01296</td>\n",
              "      <td>0.364</td>\n",
              "      <td>0.0030</td>\n",
              "      <td>f1</td>\n",
              "      <td>6</td>\n",
              "      <td>0</td>\n",
              "      <td>sat</td>\n",
              "      <td>118574.0</td>\n",
              "      <td>11.686879</td>\n",
              "      <td>6.155001</td>\n",
              "      <td>7</td>\n",
              "      <td>1</td>\n",
              "      <td>0</td>\n",
              "      <td>45</td>\n",
              "      <td>-0.005480</td>\n",
              "      <td>0.006940</td>\n",
              "      <td>1</td>\n",
              "      <td>27.266667</td>\n",
              "      <td>16.766667</td>\n",
              "      <td>0.8</td>\n",
              "      <td>2.200000</td>\n",
              "    </tr>\n",
              "    <tr>\n",
              "      <th>3</th>\n",
              "      <td>17376</td>\n",
              "      <td>2019-06-15 01:00:00</td>\n",
              "      <td>30.0</td>\n",
              "      <td>100374</td>\n",
              "      <td>201202</td>\n",
              "      <td>USPA  남성 폴로셔츠 위켄드 컬렉션 3종</td>\n",
              "      <td>cloth</td>\n",
              "      <td>9996000</td>\n",
              "      <td>2019-06-15</td>\n",
              "      <td>01:00:00</td>\n",
              "      <td>5</td>\n",
              "      <td>1</td>\n",
              "      <td>0</td>\n",
              "      <td>6</td>\n",
              "      <td>1</td>\n",
              "      <td>27.4</td>\n",
              "      <td>17.9</td>\n",
              "      <td>2.1</td>\n",
              "      <td>2.5</td>\n",
              "      <td>구름조금/비/천둥번개</td>\n",
              "      <td>26.8</td>\n",
              "      <td>17.1</td>\n",
              "      <td>0.3</td>\n",
              "      <td>2.4</td>\n",
              "      <td>구름조금/소나기/안개</td>\n",
              "      <td>27.6</td>\n",
              "      <td>15.3</td>\n",
              "      <td>0.0</td>\n",
              "      <td>1.7</td>\n",
              "      <td>구름조금/비</td>\n",
              "      <td>10.337838</td>\n",
              "      <td>0.210526</td>\n",
              "      <td>1.925676</td>\n",
              "      <td>26.368421</td>\n",
              "      <td>17.0000</td>\n",
              "      <td>8.986486</td>\n",
              "      <td>0.078947</td>\n",
              "      <td>25.105263</td>\n",
              "      <td>16.0000</td>\n",
              "      <td>8.513514</td>\n",
              "      <td>0.078947</td>\n",
              "      <td>26.263158</td>\n",
              "      <td>16.00</td>\n",
              "      <td>2</td>\n",
              "      <td>20190615</td>\n",
              "      <td>36.00</td>\n",
              "      <td>21.36</td>\n",
              "      <td>0.04308</td>\n",
              "      <td>0.01296</td>\n",
              "      <td>0.364</td>\n",
              "      <td>0.0030</td>\n",
              "      <td>g11</td>\n",
              "      <td>6</td>\n",
              "      <td>1</td>\n",
              "      <td>sat</td>\n",
              "      <td>118574.0</td>\n",
              "      <td>11.141862</td>\n",
              "      <td>4.975834</td>\n",
              "      <td>6</td>\n",
              "      <td>1</td>\n",
              "      <td>0</td>\n",
              "      <td>32</td>\n",
              "      <td>-0.076982</td>\n",
              "      <td>0.135997</td>\n",
              "      <td>1</td>\n",
              "      <td>27.266667</td>\n",
              "      <td>16.766667</td>\n",
              "      <td>0.8</td>\n",
              "      <td>2.200000</td>\n",
              "    </tr>\n",
              "    <tr>\n",
              "      <th>4</th>\n",
              "      <td>17377</td>\n",
              "      <td>2019-06-15 01:00:00</td>\n",
              "      <td>30.0</td>\n",
              "      <td>100374</td>\n",
              "      <td>201206</td>\n",
              "      <td>USPA  여성 폴로셔츠 위켄드 컬렉션 3종</td>\n",
              "      <td>cloth</td>\n",
              "      <td>9409000</td>\n",
              "      <td>2019-06-15</td>\n",
              "      <td>01:00:00</td>\n",
              "      <td>5</td>\n",
              "      <td>1</td>\n",
              "      <td>0</td>\n",
              "      <td>6</td>\n",
              "      <td>1</td>\n",
              "      <td>27.4</td>\n",
              "      <td>17.9</td>\n",
              "      <td>2.1</td>\n",
              "      <td>2.5</td>\n",
              "      <td>구름조금/비/천둥번개</td>\n",
              "      <td>26.8</td>\n",
              "      <td>17.1</td>\n",
              "      <td>0.3</td>\n",
              "      <td>2.4</td>\n",
              "      <td>구름조금/소나기/안개</td>\n",
              "      <td>27.6</td>\n",
              "      <td>15.3</td>\n",
              "      <td>0.0</td>\n",
              "      <td>1.7</td>\n",
              "      <td>구름조금/비</td>\n",
              "      <td>10.337838</td>\n",
              "      <td>0.210526</td>\n",
              "      <td>1.925676</td>\n",
              "      <td>26.368421</td>\n",
              "      <td>17.0000</td>\n",
              "      <td>8.986486</td>\n",
              "      <td>0.078947</td>\n",
              "      <td>25.105263</td>\n",
              "      <td>16.0000</td>\n",
              "      <td>8.513514</td>\n",
              "      <td>0.078947</td>\n",
              "      <td>26.263158</td>\n",
              "      <td>16.00</td>\n",
              "      <td>2</td>\n",
              "      <td>20190615</td>\n",
              "      <td>36.00</td>\n",
              "      <td>21.36</td>\n",
              "      <td>0.04308</td>\n",
              "      <td>0.01296</td>\n",
              "      <td>0.364</td>\n",
              "      <td>0.0030</td>\n",
              "      <td>g11</td>\n",
              "      <td>6</td>\n",
              "      <td>1</td>\n",
              "      <td>sat</td>\n",
              "      <td>118574.0</td>\n",
              "      <td>11.141862</td>\n",
              "      <td>4.915315</td>\n",
              "      <td>6</td>\n",
              "      <td>1</td>\n",
              "      <td>0</td>\n",
              "      <td>32</td>\n",
              "      <td>-0.076982</td>\n",
              "      <td>0.135997</td>\n",
              "      <td>1</td>\n",
              "      <td>27.266667</td>\n",
              "      <td>16.766667</td>\n",
              "      <td>0.8</td>\n",
              "      <td>2.200000</td>\n",
              "    </tr>\n",
              "    <tr>\n",
              "      <th>...</th>\n",
              "      <td>...</td>\n",
              "      <td>...</td>\n",
              "      <td>...</td>\n",
              "      <td>...</td>\n",
              "      <td>...</td>\n",
              "      <td>...</td>\n",
              "      <td>...</td>\n",
              "      <td>...</td>\n",
              "      <td>...</td>\n",
              "      <td>...</td>\n",
              "      <td>...</td>\n",
              "      <td>...</td>\n",
              "      <td>...</td>\n",
              "      <td>...</td>\n",
              "      <td>...</td>\n",
              "      <td>...</td>\n",
              "      <td>...</td>\n",
              "      <td>...</td>\n",
              "      <td>...</td>\n",
              "      <td>...</td>\n",
              "      <td>...</td>\n",
              "      <td>...</td>\n",
              "      <td>...</td>\n",
              "      <td>...</td>\n",
              "      <td>...</td>\n",
              "      <td>...</td>\n",
              "      <td>...</td>\n",
              "      <td>...</td>\n",
              "      <td>...</td>\n",
              "      <td>...</td>\n",
              "      <td>...</td>\n",
              "      <td>...</td>\n",
              "      <td>...</td>\n",
              "      <td>...</td>\n",
              "      <td>...</td>\n",
              "      <td>...</td>\n",
              "      <td>...</td>\n",
              "      <td>...</td>\n",
              "      <td>...</td>\n",
              "      <td>...</td>\n",
              "      <td>...</td>\n",
              "      <td>...</td>\n",
              "      <td>...</td>\n",
              "      <td>...</td>\n",
              "      <td>...</td>\n",
              "      <td>...</td>\n",
              "      <td>...</td>\n",
              "      <td>...</td>\n",
              "      <td>...</td>\n",
              "      <td>...</td>\n",
              "      <td>...</td>\n",
              "      <td>...</td>\n",
              "      <td>...</td>\n",
              "      <td>...</td>\n",
              "      <td>...</td>\n",
              "      <td>...</td>\n",
              "      <td>...</td>\n",
              "      <td>...</td>\n",
              "      <td>...</td>\n",
              "      <td>...</td>\n",
              "      <td>...</td>\n",
              "      <td>...</td>\n",
              "      <td>...</td>\n",
              "      <td>...</td>\n",
              "      <td>...</td>\n",
              "      <td>...</td>\n",
              "      <td>...</td>\n",
              "      <td>...</td>\n",
              "      <td>...</td>\n",
              "    </tr>\n",
              "    <tr>\n",
              "      <th>7508</th>\n",
              "      <td>25398</td>\n",
              "      <td>2019-08-31 23:00:00</td>\n",
              "      <td>20.0</td>\n",
              "      <td>100205</td>\n",
              "      <td>200739</td>\n",
              "      <td>보루네오 루나시즌2 유로탑 멀티수납형 LED침대 킹</td>\n",
              "      <td>furniture</td>\n",
              "      <td>52265000</td>\n",
              "      <td>2019-08-31</td>\n",
              "      <td>23:00:00</td>\n",
              "      <td>5</td>\n",
              "      <td>23</td>\n",
              "      <td>0</td>\n",
              "      <td>8</td>\n",
              "      <td>1</td>\n",
              "      <td>28.9</td>\n",
              "      <td>18.5</td>\n",
              "      <td>0.0</td>\n",
              "      <td>1.8</td>\n",
              "      <td>구름조금</td>\n",
              "      <td>27.7</td>\n",
              "      <td>17.4</td>\n",
              "      <td>0.0</td>\n",
              "      <td>1.7</td>\n",
              "      <td>구름조금/비</td>\n",
              "      <td>27.7</td>\n",
              "      <td>15.5</td>\n",
              "      <td>0.0</td>\n",
              "      <td>0.9</td>\n",
              "      <td>맑음</td>\n",
              "      <td>22.229730</td>\n",
              "      <td>0.000000</td>\n",
              "      <td>3.222973</td>\n",
              "      <td>29.000000</td>\n",
              "      <td>20.3125</td>\n",
              "      <td>17.567568</td>\n",
              "      <td>0.000000</td>\n",
              "      <td>28.210526</td>\n",
              "      <td>18.0625</td>\n",
              "      <td>24.256757</td>\n",
              "      <td>0.131579</td>\n",
              "      <td>28.578947</td>\n",
              "      <td>19.75</td>\n",
              "      <td>2</td>\n",
              "      <td>20190831</td>\n",
              "      <td>16.56</td>\n",
              "      <td>9.36</td>\n",
              "      <td>0.03184</td>\n",
              "      <td>0.01672</td>\n",
              "      <td>0.384</td>\n",
              "      <td>0.0034</td>\n",
              "      <td>a1</td>\n",
              "      <td>8</td>\n",
              "      <td>23</td>\n",
              "      <td>sat</td>\n",
              "      <td>149965.0</td>\n",
              "      <td>13.381646</td>\n",
              "      <td>4.390192</td>\n",
              "      <td>3</td>\n",
              "      <td>1</td>\n",
              "      <td>9</td>\n",
              "      <td>7</td>\n",
              "      <td>-0.011935</td>\n",
              "      <td>0.015644</td>\n",
              "      <td>17</td>\n",
              "      <td>28.100000</td>\n",
              "      <td>17.133333</td>\n",
              "      <td>0.0</td>\n",
              "      <td>1.466667</td>\n",
              "    </tr>\n",
              "    <tr>\n",
              "      <th>7509</th>\n",
              "      <td>25399</td>\n",
              "      <td>2019-08-31 23:20:00</td>\n",
              "      <td>20.0</td>\n",
              "      <td>100292</td>\n",
              "      <td>200945</td>\n",
              "      <td>[가이거] 블랙 에디션 다이아몬드 워치(여성용)</td>\n",
              "      <td>etc</td>\n",
              "      <td>7047000</td>\n",
              "      <td>2019-08-31</td>\n",
              "      <td>23:20:00</td>\n",
              "      <td>5</td>\n",
              "      <td>23</td>\n",
              "      <td>0</td>\n",
              "      <td>8</td>\n",
              "      <td>1</td>\n",
              "      <td>28.9</td>\n",
              "      <td>18.5</td>\n",
              "      <td>0.0</td>\n",
              "      <td>1.8</td>\n",
              "      <td>구름조금</td>\n",
              "      <td>27.7</td>\n",
              "      <td>17.4</td>\n",
              "      <td>0.0</td>\n",
              "      <td>1.7</td>\n",
              "      <td>구름조금/비</td>\n",
              "      <td>27.7</td>\n",
              "      <td>15.5</td>\n",
              "      <td>0.0</td>\n",
              "      <td>0.9</td>\n",
              "      <td>맑음</td>\n",
              "      <td>22.229730</td>\n",
              "      <td>0.000000</td>\n",
              "      <td>3.222973</td>\n",
              "      <td>29.000000</td>\n",
              "      <td>20.3125</td>\n",
              "      <td>17.567568</td>\n",
              "      <td>0.000000</td>\n",
              "      <td>28.210526</td>\n",
              "      <td>18.0625</td>\n",
              "      <td>24.256757</td>\n",
              "      <td>0.131579</td>\n",
              "      <td>28.578947</td>\n",
              "      <td>19.75</td>\n",
              "      <td>2</td>\n",
              "      <td>20190831</td>\n",
              "      <td>16.56</td>\n",
              "      <td>9.36</td>\n",
              "      <td>0.03184</td>\n",
              "      <td>0.01672</td>\n",
              "      <td>0.384</td>\n",
              "      <td>0.0034</td>\n",
              "      <td>i29</td>\n",
              "      <td>8</td>\n",
              "      <td>23</td>\n",
              "      <td>sat</td>\n",
              "      <td>149965.0</td>\n",
              "      <td>12.089539</td>\n",
              "      <td>3.678574</td>\n",
              "      <td>3</td>\n",
              "      <td>1</td>\n",
              "      <td>0</td>\n",
              "      <td>10</td>\n",
              "      <td>-0.004934</td>\n",
              "      <td>0.006153</td>\n",
              "      <td>17</td>\n",
              "      <td>28.100000</td>\n",
              "      <td>17.133333</td>\n",
              "      <td>0.0</td>\n",
              "      <td>1.466667</td>\n",
              "    </tr>\n",
              "    <tr>\n",
              "      <th>7510</th>\n",
              "      <td>25400</td>\n",
              "      <td>2019-08-31 23:20:00</td>\n",
              "      <td>20.0</td>\n",
              "      <td>100292</td>\n",
              "      <td>200944</td>\n",
              "      <td>[가이거] 블랙 에디션 다이아몬드 워치(남성용)</td>\n",
              "      <td>etc</td>\n",
              "      <td>7551000</td>\n",
              "      <td>2019-08-31</td>\n",
              "      <td>23:20:00</td>\n",
              "      <td>5</td>\n",
              "      <td>23</td>\n",
              "      <td>0</td>\n",
              "      <td>8</td>\n",
              "      <td>1</td>\n",
              "      <td>28.9</td>\n",
              "      <td>18.5</td>\n",
              "      <td>0.0</td>\n",
              "      <td>1.8</td>\n",
              "      <td>구름조금</td>\n",
              "      <td>27.7</td>\n",
              "      <td>17.4</td>\n",
              "      <td>0.0</td>\n",
              "      <td>1.7</td>\n",
              "      <td>구름조금/비</td>\n",
              "      <td>27.7</td>\n",
              "      <td>15.5</td>\n",
              "      <td>0.0</td>\n",
              "      <td>0.9</td>\n",
              "      <td>맑음</td>\n",
              "      <td>22.229730</td>\n",
              "      <td>0.000000</td>\n",
              "      <td>3.222973</td>\n",
              "      <td>29.000000</td>\n",
              "      <td>20.3125</td>\n",
              "      <td>17.567568</td>\n",
              "      <td>0.000000</td>\n",
              "      <td>28.210526</td>\n",
              "      <td>18.0625</td>\n",
              "      <td>24.256757</td>\n",
              "      <td>0.131579</td>\n",
              "      <td>28.578947</td>\n",
              "      <td>19.75</td>\n",
              "      <td>2</td>\n",
              "      <td>20190831</td>\n",
              "      <td>16.56</td>\n",
              "      <td>9.36</td>\n",
              "      <td>0.03184</td>\n",
              "      <td>0.01672</td>\n",
              "      <td>0.384</td>\n",
              "      <td>0.0034</td>\n",
              "      <td>i29</td>\n",
              "      <td>8</td>\n",
              "      <td>23</td>\n",
              "      <td>sat</td>\n",
              "      <td>149965.0</td>\n",
              "      <td>12.089539</td>\n",
              "      <td>3.747652</td>\n",
              "      <td>3</td>\n",
              "      <td>1</td>\n",
              "      <td>0</td>\n",
              "      <td>10</td>\n",
              "      <td>-0.004934</td>\n",
              "      <td>0.006153</td>\n",
              "      <td>17</td>\n",
              "      <td>28.100000</td>\n",
              "      <td>17.133333</td>\n",
              "      <td>0.0</td>\n",
              "      <td>1.466667</td>\n",
              "    </tr>\n",
              "    <tr>\n",
              "      <th>7511</th>\n",
              "      <td>25401</td>\n",
              "      <td>2019-08-31 23:40:00</td>\n",
              "      <td>20.0</td>\n",
              "      <td>100292</td>\n",
              "      <td>200945</td>\n",
              "      <td>[가이거] 블랙 에디션 다이아몬드 워치(여성용)</td>\n",
              "      <td>etc</td>\n",
              "      <td>23624000</td>\n",
              "      <td>2019-08-31</td>\n",
              "      <td>23:40:00</td>\n",
              "      <td>5</td>\n",
              "      <td>23</td>\n",
              "      <td>0</td>\n",
              "      <td>8</td>\n",
              "      <td>1</td>\n",
              "      <td>28.9</td>\n",
              "      <td>18.5</td>\n",
              "      <td>0.0</td>\n",
              "      <td>1.8</td>\n",
              "      <td>구름조금</td>\n",
              "      <td>27.7</td>\n",
              "      <td>17.4</td>\n",
              "      <td>0.0</td>\n",
              "      <td>1.7</td>\n",
              "      <td>구름조금/비</td>\n",
              "      <td>27.7</td>\n",
              "      <td>15.5</td>\n",
              "      <td>0.0</td>\n",
              "      <td>0.9</td>\n",
              "      <td>맑음</td>\n",
              "      <td>22.229730</td>\n",
              "      <td>0.000000</td>\n",
              "      <td>3.222973</td>\n",
              "      <td>29.000000</td>\n",
              "      <td>20.3125</td>\n",
              "      <td>17.567568</td>\n",
              "      <td>0.000000</td>\n",
              "      <td>28.210526</td>\n",
              "      <td>18.0625</td>\n",
              "      <td>24.256757</td>\n",
              "      <td>0.131579</td>\n",
              "      <td>28.578947</td>\n",
              "      <td>19.75</td>\n",
              "      <td>2</td>\n",
              "      <td>20190831</td>\n",
              "      <td>16.56</td>\n",
              "      <td>9.36</td>\n",
              "      <td>0.03184</td>\n",
              "      <td>0.01672</td>\n",
              "      <td>0.384</td>\n",
              "      <td>0.0034</td>\n",
              "      <td>i29</td>\n",
              "      <td>8</td>\n",
              "      <td>23</td>\n",
              "      <td>sat</td>\n",
              "      <td>149965.0</td>\n",
              "      <td>12.089539</td>\n",
              "      <td>4.888235</td>\n",
              "      <td>3</td>\n",
              "      <td>1</td>\n",
              "      <td>0</td>\n",
              "      <td>10</td>\n",
              "      <td>-0.004934</td>\n",
              "      <td>0.006153</td>\n",
              "      <td>17</td>\n",
              "      <td>28.100000</td>\n",
              "      <td>17.133333</td>\n",
              "      <td>0.0</td>\n",
              "      <td>1.466667</td>\n",
              "    </tr>\n",
              "    <tr>\n",
              "      <th>7512</th>\n",
              "      <td>25402</td>\n",
              "      <td>2019-08-31 23:40:00</td>\n",
              "      <td>20.0</td>\n",
              "      <td>100292</td>\n",
              "      <td>200944</td>\n",
              "      <td>[가이거] 블랙 에디션 다이아몬드 워치(남성용)</td>\n",
              "      <td>etc</td>\n",
              "      <td>16523000</td>\n",
              "      <td>2019-08-31</td>\n",
              "      <td>23:40:00</td>\n",
              "      <td>5</td>\n",
              "      <td>23</td>\n",
              "      <td>0</td>\n",
              "      <td>8</td>\n",
              "      <td>1</td>\n",
              "      <td>28.9</td>\n",
              "      <td>18.5</td>\n",
              "      <td>0.0</td>\n",
              "      <td>1.8</td>\n",
              "      <td>구름조금</td>\n",
              "      <td>27.7</td>\n",
              "      <td>17.4</td>\n",
              "      <td>0.0</td>\n",
              "      <td>1.7</td>\n",
              "      <td>구름조금/비</td>\n",
              "      <td>27.7</td>\n",
              "      <td>15.5</td>\n",
              "      <td>0.0</td>\n",
              "      <td>0.9</td>\n",
              "      <td>맑음</td>\n",
              "      <td>22.229730</td>\n",
              "      <td>0.000000</td>\n",
              "      <td>3.222973</td>\n",
              "      <td>29.000000</td>\n",
              "      <td>20.3125</td>\n",
              "      <td>17.567568</td>\n",
              "      <td>0.000000</td>\n",
              "      <td>28.210526</td>\n",
              "      <td>18.0625</td>\n",
              "      <td>24.256757</td>\n",
              "      <td>0.131579</td>\n",
              "      <td>28.578947</td>\n",
              "      <td>19.75</td>\n",
              "      <td>2</td>\n",
              "      <td>20190831</td>\n",
              "      <td>16.56</td>\n",
              "      <td>9.36</td>\n",
              "      <td>0.03184</td>\n",
              "      <td>0.01672</td>\n",
              "      <td>0.384</td>\n",
              "      <td>0.0034</td>\n",
              "      <td>i29</td>\n",
              "      <td>8</td>\n",
              "      <td>23</td>\n",
              "      <td>sat</td>\n",
              "      <td>149965.0</td>\n",
              "      <td>12.089539</td>\n",
              "      <td>4.530725</td>\n",
              "      <td>3</td>\n",
              "      <td>1</td>\n",
              "      <td>0</td>\n",
              "      <td>10</td>\n",
              "      <td>-0.004934</td>\n",
              "      <td>0.006153</td>\n",
              "      <td>17</td>\n",
              "      <td>28.100000</td>\n",
              "      <td>17.133333</td>\n",
              "      <td>0.0</td>\n",
              "      <td>1.466667</td>\n",
              "    </tr>\n",
              "  </tbody>\n",
              "</table>\n",
              "<p>7513 rows × 69 columns</p>\n",
              "</div>"
            ],
            "text/plain": [
              "      Unnamed: 0                방송일시  노출(분)  ...    실제_최저기온  실제_강수량   실제_평균풍속\n",
              "0          17373 2019-06-15 00:00:00   20.0  ...  16.766667     0.8  2.200000\n",
              "1          17374 2019-06-15 00:20:00   20.0  ...  16.766667     0.8  2.200000\n",
              "2          17375 2019-06-15 00:40:00   20.0  ...  16.766667     0.8  2.200000\n",
              "3          17376 2019-06-15 01:00:00   30.0  ...  16.766667     0.8  2.200000\n",
              "4          17377 2019-06-15 01:00:00   30.0  ...  16.766667     0.8  2.200000\n",
              "...          ...                 ...    ...  ...        ...     ...       ...\n",
              "7508       25398 2019-08-31 23:00:00   20.0  ...  17.133333     0.0  1.466667\n",
              "7509       25399 2019-08-31 23:20:00   20.0  ...  17.133333     0.0  1.466667\n",
              "7510       25400 2019-08-31 23:20:00   20.0  ...  17.133333     0.0  1.466667\n",
              "7511       25401 2019-08-31 23:40:00   20.0  ...  17.133333     0.0  1.466667\n",
              "7512       25402 2019-08-31 23:40:00   20.0  ...  17.133333     0.0  1.466667\n",
              "\n",
              "[7513 rows x 69 columns]"
            ]
          },
          "metadata": {
            "tags": []
          },
          "execution_count": 58
        }
      ]
    },
    {
      "cell_type": "code",
      "metadata": {
        "colab_type": "code",
        "id": "BwNzy2BNh-NN",
        "colab": {}
      },
      "source": [
        "#corr_mat = train.corr()\n",
        "#corr_mat['new주문량'].sort_values(ascending=False)"
      ],
      "execution_count": 59,
      "outputs": []
    },
    {
      "cell_type": "code",
      "metadata": {
        "id": "3ZKBYNgwhI0W",
        "colab_type": "code",
        "colab": {}
      },
      "source": [
        "# train.drop(['Unnamed: 0', '방송일시', '상품명', '상품군', 'holiday', '요일', 'HOUR', '마더코드'], inplace=True, axis=1)\n",
        "# 방송일시, 상품명, 상품군, holiday(주말), 요일, HOUR, 마더코드"
      ],
      "execution_count": 60,
      "outputs": []
    },
    {
      "cell_type": "markdown",
      "metadata": {
        "id": "p7gttZKmkvD9",
        "colab_type": "text"
      },
      "source": [
        "# Feature Engineering & 인코딩"
      ]
    },
    {
      "cell_type": "code",
      "metadata": {
        "id": "XELj9faphKbT",
        "colab_type": "code",
        "colab": {}
      },
      "source": [
        "# 빈도수인코딩(위의 원핫+pca와 비교해보기)\n",
        "def add_frequency_encoding(data,column): #데이터프레임,열을 받아서 빈도수인코딩열을 추가해줌\n",
        "  enc_nom = (data.groupby(column).size())/len(data)\n",
        "  data['freq_encode_{}'.format(column)] = data[column].apply(lambda x:enc_nom[x])\n",
        "  print(\"freq_encode column was added\")"
      ],
      "execution_count": 61,
      "outputs": []
    },
    {
      "cell_type": "code",
      "metadata": {
        "id": "WNhBK7irVtnb",
        "colab_type": "code",
        "colab": {
          "base_uri": "https://localhost:8080/",
          "height": 34
        },
        "outputId": "0bbc9a47-0a2d-4e32-cbd2-365641f737f7"
      },
      "source": [
        "add_frequency_encoding(train,'분류')"
      ],
      "execution_count": 62,
      "outputs": [
        {
          "output_type": "stream",
          "text": [
            "freq_encode column was added\n"
          ],
          "name": "stdout"
        }
      ]
    },
    {
      "cell_type": "markdown",
      "metadata": {
        "id": "BW6tQt3ZkxhB",
        "colab_type": "text"
      },
      "source": [
        "# 모델 생성 및 학습"
      ]
    },
    {
      "cell_type": "markdown",
      "metadata": {
        "id": "SIGBVzhtn-jb",
        "colab_type": "text"
      },
      "source": [
        "- train, test split"
      ]
    },
    {
      "cell_type": "code",
      "metadata": {
        "id": "jIQMIWFxn95p",
        "colab_type": "code",
        "colab": {
          "base_uri": "https://localhost:8080/",
          "height": 52
        },
        "outputId": "59484d8d-3a24-4e6e-8128-97157adefc7b"
      },
      "source": [
        "'''\n",
        "# 통째로 split할경우 실행\n",
        "\n",
        "from sklearn.model_selection import train_test_split\n",
        "\n",
        "total_x = train.drop('new주문량', axis=1)\n",
        "total_y = train['new주문량']\n",
        "\n",
        "total_x_train, total_x_val, total_y_train, total_y_val = train_test_split(x, y, test_size=0.33, random_state=1234)\n",
        "'''"
      ],
      "execution_count": 63,
      "outputs": [
        {
          "output_type": "execute_result",
          "data": {
            "application/vnd.google.colaboratory.intrinsic+json": {
              "type": "string"
            },
            "text/plain": [
              "\"\\n# 통째로 split할경우 실행\\n\\nfrom sklearn.model_selection import train_test_split\\n\\ntotal_x = train.drop('new주문량', axis=1)\\ntotal_y = train['new주문량']\\n\\ntotal_x_train, total_x_val, total_y_train, total_y_val = train_test_split(x, y, test_size=0.33, random_state=1234)\\n\""
            ]
          },
          "metadata": {
            "tags": []
          },
          "execution_count": 63
        }
      ]
    },
    {
      "cell_type": "code",
      "metadata": {
        "id": "HJ0-4OCshKh9",
        "colab_type": "code",
        "colab": {}
      },
      "source": [
        "#모든 카테고리에 대해 따로따로 자동 변수생성\n",
        "category_list = train['상품군'].unique().tolist()\n",
        "for i in category_list:\n",
        "  globals()['x_{}'.format(i)] = train.loc[train['상품군']==i] #카테고리에 해당하는 주문량제외 train데이터 할당\n",
        "  globals()['y_{}'.format(i)] = train['new주문량'].loc[train['상품군']==i] #카테고리에 해당하는 train의 주문량을 할당"
      ],
      "execution_count": 64,
      "outputs": []
    },
    {
      "cell_type": "code",
      "metadata": {
        "id": "e987rMBKhKfq",
        "colab_type": "code",
        "colab": {
          "base_uri": "https://localhost:8080/",
          "height": 212
        },
        "outputId": "bc18163f-085a-47ab-9c26-10ad8f1361d5"
      },
      "source": [
        "for i in range(11):\n",
        "  print('x_{}'.format(category_list[i])) #11개 상품군 다 성공적으로 변수 생성됨."
      ],
      "execution_count": 65,
      "outputs": [
        {
          "output_type": "stream",
          "text": [
            "x_inner\n",
            "x_cloth\n",
            "x_elec\n",
            "x_living\n",
            "x_food\n",
            "x_health\n",
            "x_bedding\n",
            "x_furniture\n",
            "x_beauty\n",
            "x_etc\n",
            "x_life\n"
          ],
          "name": "stdout"
        }
      ]
    },
    {
      "cell_type": "code",
      "metadata": {
        "id": "upQWmAguhKdb",
        "colab_type": "code",
        "colab": {}
      },
      "source": [
        "#카테고리별로 x,y를 train test 스플릿해줌.\n",
        "from sklearn.model_selection import train_test_split\n",
        "for i in category_list:\n",
        "  x_for_split = globals()['x_{}'.format(i)]\n",
        "  y_for_split = globals()['y_{}'.format(i)]\n",
        "  globals()['x_train_{}'.format(i)], globals()['x_test_{}'.format(i)], globals()['y_train_{}'.format(i)], globals()['y_test_{}'.format(i)] = train_test_split(x_for_split, y_for_split, test_size=0.33, random_state=1234)\n",
        "# 카테고리별로 X_train_카테고리 , X_test_카테고리, Y_train_카테고리, Y_test_카테고리 생성됐음."
      ],
      "execution_count": 66,
      "outputs": []
    },
    {
      "cell_type": "code",
      "metadata": {
        "id": "GLaql7kShKkF",
        "colab_type": "code",
        "colab": {}
      },
      "source": [
        "from sklearn.ensemble import RandomForestRegressor\n",
        "forest = RandomForestRegressor(random_state=1234)"
      ],
      "execution_count": 67,
      "outputs": []
    },
    {
      "cell_type": "code",
      "metadata": {
        "id": "4bRDZAs8t3Tn",
        "colab_type": "code",
        "colab": {}
      },
      "source": [
        "seungen_feature = ['노출(분)', 'holiday(includeSS)','실제_최고기온','실제_최저기온','실제_강수량','실제_평균풍속' , '예보_서울_강수확률', '예보_서울_강수량',\n",
        "       '예보_서울_하늘상태', '예보_서울_일최고기온', '예보_서울_일최저기온', '예보_일산_강수확률', '예보_일산_강수량',\n",
        "       '예보_일산_일최고기온', '예보_일산_일최저기온', '예보_수원_강수확률', '예보_수원_강수량', '예보_수원_일최고기온',\n",
        "       '예보_수원_일최저기온', 'Active Users', 'new판매단가', 'prime_time',\n",
        "       'prime_day', 'top_code', 'top_cat']"
      ],
      "execution_count": 153,
      "outputs": []
    },
    {
      "cell_type": "code",
      "metadata": {
        "id": "N2rU30ZLhRoX",
        "colab_type": "code",
        "colab": {
          "base_uri": "https://localhost:8080/",
          "height": 123
        },
        "outputId": "abf06be1-b965-4c3e-c772-c4dc57dc80c7"
      },
      "source": [
        "feature_selection = x_train_beauty.loc[:,seungen_feature].columns.values\n",
        "feature_selection"
      ],
      "execution_count": 154,
      "outputs": [
        {
          "output_type": "execute_result",
          "data": {
            "text/plain": [
              "array(['노출(분)', 'holiday(includeSS)', '실제_최고기온', '실제_최저기온', '실제_강수량',\n",
              "       '실제_평균풍속', '예보_서울_강수확률', '예보_서울_강수량', '예보_서울_하늘상태', '예보_서울_일최고기온',\n",
              "       '예보_서울_일최저기온', '예보_일산_강수확률', '예보_일산_강수량', '예보_일산_일최고기온',\n",
              "       '예보_일산_일최저기온', '예보_수원_강수확률', '예보_수원_강수량', '예보_수원_일최고기온',\n",
              "       '예보_수원_일최저기온', 'Active Users', 'new판매단가', 'prime_time',\n",
              "       'prime_day', 'top_code', 'top_cat'], dtype=object)"
            ]
          },
          "metadata": {
            "tags": []
          },
          "execution_count": 154
        }
      ]
    },
    {
      "cell_type": "code",
      "metadata": {
        "id": "yqdhGcWthRmT",
        "colab_type": "code",
        "colab": {}
      },
      "source": [
        "for i in category_list:\n",
        "  globals()['shop_train_x_{}'.format(i)] = globals()['x_train_{}'.format(i)][feature_selection]\n",
        "  globals()['shop_test_x_{}'.format(i)] = globals()['x_test_{}'.format(i)][feature_selection]"
      ],
      "execution_count": 155,
      "outputs": []
    },
    {
      "cell_type": "markdown",
      "metadata": {
        "id": "d3gz90LHOT73",
        "colab_type": "text"
      },
      "source": [
        "- 다중공선성 확인하기"
      ]
    },
    {
      "cell_type": "code",
      "metadata": {
        "id": "-lh16dv2Q4yI",
        "colab_type": "code",
        "colab": {}
      },
      "source": [
        "hi_feature = ['노출(분)', 'holiday(includeSS)','실제_최고기온','실제_최저기온','실제_강수량','실제_평균풍속' , '예보_서울_강수확률', '예보_서울_강수량', 'Active Users', 'new판매단가', 'prime_time',\n",
        "       'prime_day', 'top_code', 'top_cat']\n",
        "#실제날씨만 남겨놓은 Feature군"
      ],
      "execution_count": 71,
      "outputs": []
    },
    {
      "cell_type": "code",
      "metadata": {
        "id": "i2KHOsTHRA-Q",
        "colab_type": "code",
        "colab": {
          "base_uri": "https://localhost:8080/",
          "height": 406
        },
        "outputId": "02ecd420-0b84-4bdf-a872-07a42ab77fe6"
      },
      "source": [
        "mung = shop_train_x_beauty[hi_feature]\n",
        "mung"
      ],
      "execution_count": 72,
      "outputs": [
        {
          "output_type": "execute_result",
          "data": {
            "text/html": [
              "<div>\n",
              "<style scoped>\n",
              "    .dataframe tbody tr th:only-of-type {\n",
              "        vertical-align: middle;\n",
              "    }\n",
              "\n",
              "    .dataframe tbody tr th {\n",
              "        vertical-align: top;\n",
              "    }\n",
              "\n",
              "    .dataframe thead th {\n",
              "        text-align: right;\n",
              "    }\n",
              "</style>\n",
              "<table border=\"1\" class=\"dataframe\">\n",
              "  <thead>\n",
              "    <tr style=\"text-align: right;\">\n",
              "      <th></th>\n",
              "      <th>노출(분)</th>\n",
              "      <th>holiday(includeSS)</th>\n",
              "      <th>실제_최고기온</th>\n",
              "      <th>실제_최저기온</th>\n",
              "      <th>실제_강수량</th>\n",
              "      <th>실제_평균풍속</th>\n",
              "      <th>예보_서울_강수확률</th>\n",
              "      <th>예보_서울_강수량</th>\n",
              "      <th>Active Users</th>\n",
              "      <th>new판매단가</th>\n",
              "      <th>prime_time</th>\n",
              "      <th>prime_day</th>\n",
              "      <th>top_code</th>\n",
              "      <th>top_cat</th>\n",
              "    </tr>\n",
              "  </thead>\n",
              "  <tbody>\n",
              "    <tr>\n",
              "      <th>3451</th>\n",
              "      <td>20.0</td>\n",
              "      <td>1</td>\n",
              "      <td>31.600000</td>\n",
              "      <td>25.033333</td>\n",
              "      <td>0.600000</td>\n",
              "      <td>3.033333</td>\n",
              "      <td>31.959459</td>\n",
              "      <td>2.039474</td>\n",
              "      <td>139892.0</td>\n",
              "      <td>10.594132</td>\n",
              "      <td>17</td>\n",
              "      <td>1</td>\n",
              "      <td>0</td>\n",
              "      <td>62</td>\n",
              "    </tr>\n",
              "    <tr>\n",
              "      <th>866</th>\n",
              "      <td>30.0</td>\n",
              "      <td>0</td>\n",
              "      <td>30.533333</td>\n",
              "      <td>18.900000</td>\n",
              "      <td>0.000000</td>\n",
              "      <td>1.700000</td>\n",
              "      <td>6.148649</td>\n",
              "      <td>0.000000</td>\n",
              "      <td>123984.0</td>\n",
              "      <td>10.998761</td>\n",
              "      <td>5</td>\n",
              "      <td>3</td>\n",
              "      <td>39</td>\n",
              "      <td>57</td>\n",
              "    </tr>\n",
              "    <tr>\n",
              "      <th>3603</th>\n",
              "      <td>20.0</td>\n",
              "      <td>1</td>\n",
              "      <td>27.433333</td>\n",
              "      <td>23.666667</td>\n",
              "      <td>7.900000</td>\n",
              "      <td>2.000000</td>\n",
              "      <td>22.297297</td>\n",
              "      <td>0.000000</td>\n",
              "      <td>125507.0</td>\n",
              "      <td>10.591622</td>\n",
              "      <td>18</td>\n",
              "      <td>4</td>\n",
              "      <td>55</td>\n",
              "      <td>77</td>\n",
              "    </tr>\n",
              "    <tr>\n",
              "      <th>6571</th>\n",
              "      <td>10.0</td>\n",
              "      <td>0</td>\n",
              "      <td>30.366667</td>\n",
              "      <td>23.266667</td>\n",
              "      <td>0.533333</td>\n",
              "      <td>1.166667</td>\n",
              "      <td>14.256757</td>\n",
              "      <td>0.197368</td>\n",
              "      <td>142358.0</td>\n",
              "      <td>10.594132</td>\n",
              "      <td>6</td>\n",
              "      <td>2</td>\n",
              "      <td>0</td>\n",
              "      <td>35</td>\n",
              "    </tr>\n",
              "    <tr>\n",
              "      <th>4443</th>\n",
              "      <td>10.0</td>\n",
              "      <td>0</td>\n",
              "      <td>30.766667</td>\n",
              "      <td>25.500000</td>\n",
              "      <td>12.366667</td>\n",
              "      <td>3.233333</td>\n",
              "      <td>35.810811</td>\n",
              "      <td>5.065789</td>\n",
              "      <td>140823.0</td>\n",
              "      <td>10.594132</td>\n",
              "      <td>17</td>\n",
              "      <td>7</td>\n",
              "      <td>0</td>\n",
              "      <td>35</td>\n",
              "    </tr>\n",
              "    <tr>\n",
              "      <th>...</th>\n",
              "      <td>...</td>\n",
              "      <td>...</td>\n",
              "      <td>...</td>\n",
              "      <td>...</td>\n",
              "      <td>...</td>\n",
              "      <td>...</td>\n",
              "      <td>...</td>\n",
              "      <td>...</td>\n",
              "      <td>...</td>\n",
              "      <td>...</td>\n",
              "      <td>...</td>\n",
              "      <td>...</td>\n",
              "      <td>...</td>\n",
              "      <td>...</td>\n",
              "    </tr>\n",
              "    <tr>\n",
              "      <th>7276</th>\n",
              "      <td>20.0</td>\n",
              "      <td>0</td>\n",
              "      <td>26.600000</td>\n",
              "      <td>19.300000</td>\n",
              "      <td>22.533333</td>\n",
              "      <td>2.066667</td>\n",
              "      <td>14.932432</td>\n",
              "      <td>0.921053</td>\n",
              "      <td>146126.0</td>\n",
              "      <td>10.911445</td>\n",
              "      <td>6</td>\n",
              "      <td>5</td>\n",
              "      <td>39</td>\n",
              "      <td>57</td>\n",
              "    </tr>\n",
              "    <tr>\n",
              "      <th>1907</th>\n",
              "      <td>30.0</td>\n",
              "      <td>0</td>\n",
              "      <td>34.366667</td>\n",
              "      <td>19.233333</td>\n",
              "      <td>0.000000</td>\n",
              "      <td>1.333333</td>\n",
              "      <td>5.067568</td>\n",
              "      <td>0.000000</td>\n",
              "      <td>149290.0</td>\n",
              "      <td>10.998761</td>\n",
              "      <td>9</td>\n",
              "      <td>6</td>\n",
              "      <td>39</td>\n",
              "      <td>57</td>\n",
              "    </tr>\n",
              "    <tr>\n",
              "      <th>1341</th>\n",
              "      <td>20.0</td>\n",
              "      <td>1</td>\n",
              "      <td>26.600000</td>\n",
              "      <td>19.533333</td>\n",
              "      <td>2.066667</td>\n",
              "      <td>1.100000</td>\n",
              "      <td>12.702703</td>\n",
              "      <td>0.263158</td>\n",
              "      <td>127810.0</td>\n",
              "      <td>10.591622</td>\n",
              "      <td>8</td>\n",
              "      <td>1</td>\n",
              "      <td>55</td>\n",
              "      <td>77</td>\n",
              "    </tr>\n",
              "    <tr>\n",
              "      <th>7406</th>\n",
              "      <td>20.0</td>\n",
              "      <td>0</td>\n",
              "      <td>26.633333</td>\n",
              "      <td>17.900000</td>\n",
              "      <td>0.066667</td>\n",
              "      <td>2.033333</td>\n",
              "      <td>15.675676</td>\n",
              "      <td>0.263158</td>\n",
              "      <td>151192.0</td>\n",
              "      <td>10.896739</td>\n",
              "      <td>8</td>\n",
              "      <td>6</td>\n",
              "      <td>53</td>\n",
              "      <td>77</td>\n",
              "    </tr>\n",
              "    <tr>\n",
              "      <th>1611</th>\n",
              "      <td>20.0</td>\n",
              "      <td>0</td>\n",
              "      <td>29.866667</td>\n",
              "      <td>19.666667</td>\n",
              "      <td>0.000000</td>\n",
              "      <td>1.900000</td>\n",
              "      <td>4.594595</td>\n",
              "      <td>0.000000</td>\n",
              "      <td>139054.0</td>\n",
              "      <td>10.594132</td>\n",
              "      <td>11</td>\n",
              "      <td>7</td>\n",
              "      <td>45</td>\n",
              "      <td>68</td>\n",
              "    </tr>\n",
              "  </tbody>\n",
              "</table>\n",
              "<p>144 rows × 14 columns</p>\n",
              "</div>"
            ],
            "text/plain": [
              "      노출(분)  holiday(includeSS)    실제_최고기온  ...  prime_day  top_code  top_cat\n",
              "3451   20.0                   1  31.600000  ...          1         0       62\n",
              "866    30.0                   0  30.533333  ...          3        39       57\n",
              "3603   20.0                   1  27.433333  ...          4        55       77\n",
              "6571   10.0                   0  30.366667  ...          2         0       35\n",
              "4443   10.0                   0  30.766667  ...          7         0       35\n",
              "...     ...                 ...        ...  ...        ...       ...      ...\n",
              "7276   20.0                   0  26.600000  ...          5        39       57\n",
              "1907   30.0                   0  34.366667  ...          6        39       57\n",
              "1341   20.0                   1  26.600000  ...          1        55       77\n",
              "7406   20.0                   0  26.633333  ...          6        53       77\n",
              "1611   20.0                   0  29.866667  ...          7        45       68\n",
              "\n",
              "[144 rows x 14 columns]"
            ]
          },
          "metadata": {
            "tags": []
          },
          "execution_count": 72
        }
      ]
    },
    {
      "cell_type": "code",
      "metadata": {
        "id": "OKHfAPlnOWGb",
        "colab_type": "code",
        "colab": {
          "base_uri": "https://localhost:8080/",
          "height": 501
        },
        "outputId": "91edc328-38d1-481b-b43f-edd3b6f0680e"
      },
      "source": [
        "mung.corr()"
      ],
      "execution_count": 73,
      "outputs": [
        {
          "output_type": "execute_result",
          "data": {
            "text/html": [
              "<div>\n",
              "<style scoped>\n",
              "    .dataframe tbody tr th:only-of-type {\n",
              "        vertical-align: middle;\n",
              "    }\n",
              "\n",
              "    .dataframe tbody tr th {\n",
              "        vertical-align: top;\n",
              "    }\n",
              "\n",
              "    .dataframe thead th {\n",
              "        text-align: right;\n",
              "    }\n",
              "</style>\n",
              "<table border=\"1\" class=\"dataframe\">\n",
              "  <thead>\n",
              "    <tr style=\"text-align: right;\">\n",
              "      <th></th>\n",
              "      <th>노출(분)</th>\n",
              "      <th>holiday(includeSS)</th>\n",
              "      <th>실제_최고기온</th>\n",
              "      <th>실제_최저기온</th>\n",
              "      <th>실제_강수량</th>\n",
              "      <th>실제_평균풍속</th>\n",
              "      <th>예보_서울_강수확률</th>\n",
              "      <th>예보_서울_강수량</th>\n",
              "      <th>Active Users</th>\n",
              "      <th>new판매단가</th>\n",
              "      <th>prime_time</th>\n",
              "      <th>prime_day</th>\n",
              "      <th>top_code</th>\n",
              "      <th>top_cat</th>\n",
              "    </tr>\n",
              "  </thead>\n",
              "  <tbody>\n",
              "    <tr>\n",
              "      <th>노출(분)</th>\n",
              "      <td>1.000000</td>\n",
              "      <td>0.075588</td>\n",
              "      <td>-0.197778</td>\n",
              "      <td>-0.443136</td>\n",
              "      <td>-0.047173</td>\n",
              "      <td>-0.055341</td>\n",
              "      <td>-0.053630</td>\n",
              "      <td>-0.167876</td>\n",
              "      <td>-0.298200</td>\n",
              "      <td>0.395518</td>\n",
              "      <td>-0.043710</td>\n",
              "      <td>-0.120469</td>\n",
              "      <td>0.451003</td>\n",
              "      <td>0.425998</td>\n",
              "    </tr>\n",
              "    <tr>\n",
              "      <th>holiday(includeSS)</th>\n",
              "      <td>0.075588</td>\n",
              "      <td>1.000000</td>\n",
              "      <td>0.115520</td>\n",
              "      <td>0.123062</td>\n",
              "      <td>0.115415</td>\n",
              "      <td>0.221564</td>\n",
              "      <td>0.046013</td>\n",
              "      <td>-0.028240</td>\n",
              "      <td>0.117880</td>\n",
              "      <td>0.038201</td>\n",
              "      <td>0.122156</td>\n",
              "      <td>-0.494191</td>\n",
              "      <td>0.040438</td>\n",
              "      <td>0.235093</td>\n",
              "    </tr>\n",
              "    <tr>\n",
              "      <th>실제_최고기온</th>\n",
              "      <td>-0.197778</td>\n",
              "      <td>0.115520</td>\n",
              "      <td>1.000000</td>\n",
              "      <td>0.457915</td>\n",
              "      <td>-0.321804</td>\n",
              "      <td>0.057443</td>\n",
              "      <td>0.077372</td>\n",
              "      <td>0.133015</td>\n",
              "      <td>0.440530</td>\n",
              "      <td>-0.094916</td>\n",
              "      <td>0.219294</td>\n",
              "      <td>0.012521</td>\n",
              "      <td>-0.074277</td>\n",
              "      <td>-0.113747</td>\n",
              "    </tr>\n",
              "    <tr>\n",
              "      <th>실제_최저기온</th>\n",
              "      <td>-0.443136</td>\n",
              "      <td>0.123062</td>\n",
              "      <td>0.457915</td>\n",
              "      <td>1.000000</td>\n",
              "      <td>0.252393</td>\n",
              "      <td>0.266731</td>\n",
              "      <td>0.457587</td>\n",
              "      <td>0.517829</td>\n",
              "      <td>0.495921</td>\n",
              "      <td>-0.291189</td>\n",
              "      <td>0.343216</td>\n",
              "      <td>-0.036499</td>\n",
              "      <td>-0.139036</td>\n",
              "      <td>-0.149411</td>\n",
              "    </tr>\n",
              "    <tr>\n",
              "      <th>실제_강수량</th>\n",
              "      <td>-0.047173</td>\n",
              "      <td>0.115415</td>\n",
              "      <td>-0.321804</td>\n",
              "      <td>0.252393</td>\n",
              "      <td>1.000000</td>\n",
              "      <td>0.137233</td>\n",
              "      <td>0.290243</td>\n",
              "      <td>0.224324</td>\n",
              "      <td>0.083107</td>\n",
              "      <td>-0.123388</td>\n",
              "      <td>-0.068536</td>\n",
              "      <td>0.062248</td>\n",
              "      <td>0.034802</td>\n",
              "      <td>0.053999</td>\n",
              "    </tr>\n",
              "    <tr>\n",
              "      <th>실제_평균풍속</th>\n",
              "      <td>-0.055341</td>\n",
              "      <td>0.221564</td>\n",
              "      <td>0.057443</td>\n",
              "      <td>0.266731</td>\n",
              "      <td>0.137233</td>\n",
              "      <td>1.000000</td>\n",
              "      <td>0.175323</td>\n",
              "      <td>0.024852</td>\n",
              "      <td>-0.003540</td>\n",
              "      <td>0.013895</td>\n",
              "      <td>0.166600</td>\n",
              "      <td>-0.046038</td>\n",
              "      <td>-0.128122</td>\n",
              "      <td>0.006515</td>\n",
              "    </tr>\n",
              "    <tr>\n",
              "      <th>예보_서울_강수확률</th>\n",
              "      <td>-0.053630</td>\n",
              "      <td>0.046013</td>\n",
              "      <td>0.077372</td>\n",
              "      <td>0.457587</td>\n",
              "      <td>0.290243</td>\n",
              "      <td>0.175323</td>\n",
              "      <td>1.000000</td>\n",
              "      <td>0.807337</td>\n",
              "      <td>0.114491</td>\n",
              "      <td>-0.050071</td>\n",
              "      <td>0.275830</td>\n",
              "      <td>0.033456</td>\n",
              "      <td>-0.047886</td>\n",
              "      <td>0.055249</td>\n",
              "    </tr>\n",
              "    <tr>\n",
              "      <th>예보_서울_강수량</th>\n",
              "      <td>-0.167876</td>\n",
              "      <td>-0.028240</td>\n",
              "      <td>0.133015</td>\n",
              "      <td>0.517829</td>\n",
              "      <td>0.224324</td>\n",
              "      <td>0.024852</td>\n",
              "      <td>0.807337</td>\n",
              "      <td>1.000000</td>\n",
              "      <td>0.227130</td>\n",
              "      <td>-0.166309</td>\n",
              "      <td>0.226400</td>\n",
              "      <td>-0.052493</td>\n",
              "      <td>0.038618</td>\n",
              "      <td>0.041889</td>\n",
              "    </tr>\n",
              "    <tr>\n",
              "      <th>Active Users</th>\n",
              "      <td>-0.298200</td>\n",
              "      <td>0.117880</td>\n",
              "      <td>0.440530</td>\n",
              "      <td>0.495921</td>\n",
              "      <td>0.083107</td>\n",
              "      <td>-0.003540</td>\n",
              "      <td>0.114491</td>\n",
              "      <td>0.227130</td>\n",
              "      <td>1.000000</td>\n",
              "      <td>0.097189</td>\n",
              "      <td>0.179757</td>\n",
              "      <td>0.069999</td>\n",
              "      <td>-0.056246</td>\n",
              "      <td>-0.109068</td>\n",
              "    </tr>\n",
              "    <tr>\n",
              "      <th>new판매단가</th>\n",
              "      <td>0.395518</td>\n",
              "      <td>0.038201</td>\n",
              "      <td>-0.094916</td>\n",
              "      <td>-0.291189</td>\n",
              "      <td>-0.123388</td>\n",
              "      <td>0.013895</td>\n",
              "      <td>-0.050071</td>\n",
              "      <td>-0.166309</td>\n",
              "      <td>0.097189</td>\n",
              "      <td>1.000000</td>\n",
              "      <td>-0.210436</td>\n",
              "      <td>-0.012434</td>\n",
              "      <td>-0.286389</td>\n",
              "      <td>-0.397504</td>\n",
              "    </tr>\n",
              "    <tr>\n",
              "      <th>prime_time</th>\n",
              "      <td>-0.043710</td>\n",
              "      <td>0.122156</td>\n",
              "      <td>0.219294</td>\n",
              "      <td>0.343216</td>\n",
              "      <td>-0.068536</td>\n",
              "      <td>0.166600</td>\n",
              "      <td>0.275830</td>\n",
              "      <td>0.226400</td>\n",
              "      <td>0.179757</td>\n",
              "      <td>-0.210436</td>\n",
              "      <td>1.000000</td>\n",
              "      <td>0.003304</td>\n",
              "      <td>0.282447</td>\n",
              "      <td>0.207564</td>\n",
              "    </tr>\n",
              "    <tr>\n",
              "      <th>prime_day</th>\n",
              "      <td>-0.120469</td>\n",
              "      <td>-0.494191</td>\n",
              "      <td>0.012521</td>\n",
              "      <td>-0.036499</td>\n",
              "      <td>0.062248</td>\n",
              "      <td>-0.046038</td>\n",
              "      <td>0.033456</td>\n",
              "      <td>-0.052493</td>\n",
              "      <td>0.069999</td>\n",
              "      <td>-0.012434</td>\n",
              "      <td>0.003304</td>\n",
              "      <td>1.000000</td>\n",
              "      <td>-0.179249</td>\n",
              "      <td>-0.254266</td>\n",
              "    </tr>\n",
              "    <tr>\n",
              "      <th>top_code</th>\n",
              "      <td>0.451003</td>\n",
              "      <td>0.040438</td>\n",
              "      <td>-0.074277</td>\n",
              "      <td>-0.139036</td>\n",
              "      <td>0.034802</td>\n",
              "      <td>-0.128122</td>\n",
              "      <td>-0.047886</td>\n",
              "      <td>0.038618</td>\n",
              "      <td>-0.056246</td>\n",
              "      <td>-0.286389</td>\n",
              "      <td>0.282447</td>\n",
              "      <td>-0.179249</td>\n",
              "      <td>1.000000</td>\n",
              "      <td>0.789419</td>\n",
              "    </tr>\n",
              "    <tr>\n",
              "      <th>top_cat</th>\n",
              "      <td>0.425998</td>\n",
              "      <td>0.235093</td>\n",
              "      <td>-0.113747</td>\n",
              "      <td>-0.149411</td>\n",
              "      <td>0.053999</td>\n",
              "      <td>0.006515</td>\n",
              "      <td>0.055249</td>\n",
              "      <td>0.041889</td>\n",
              "      <td>-0.109068</td>\n",
              "      <td>-0.397504</td>\n",
              "      <td>0.207564</td>\n",
              "      <td>-0.254266</td>\n",
              "      <td>0.789419</td>\n",
              "      <td>1.000000</td>\n",
              "    </tr>\n",
              "  </tbody>\n",
              "</table>\n",
              "</div>"
            ],
            "text/plain": [
              "                       노출(분)  holiday(includeSS)  ...  top_code   top_cat\n",
              "노출(분)               1.000000            0.075588  ...  0.451003  0.425998\n",
              "holiday(includeSS)  0.075588            1.000000  ...  0.040438  0.235093\n",
              "실제_최고기온            -0.197778            0.115520  ... -0.074277 -0.113747\n",
              "실제_최저기온            -0.443136            0.123062  ... -0.139036 -0.149411\n",
              "실제_강수량             -0.047173            0.115415  ...  0.034802  0.053999\n",
              "실제_평균풍속            -0.055341            0.221564  ... -0.128122  0.006515\n",
              "예보_서울_강수확률         -0.053630            0.046013  ... -0.047886  0.055249\n",
              "예보_서울_강수량          -0.167876           -0.028240  ...  0.038618  0.041889\n",
              "Active Users       -0.298200            0.117880  ... -0.056246 -0.109068\n",
              "new판매단가             0.395518            0.038201  ... -0.286389 -0.397504\n",
              "prime_time         -0.043710            0.122156  ...  0.282447  0.207564\n",
              "prime_day          -0.120469           -0.494191  ... -0.179249 -0.254266\n",
              "top_code            0.451003            0.040438  ...  1.000000  0.789419\n",
              "top_cat             0.425998            0.235093  ...  0.789419  1.000000\n",
              "\n",
              "[14 rows x 14 columns]"
            ]
          },
          "metadata": {
            "tags": []
          },
          "execution_count": 73
        }
      ]
    },
    {
      "cell_type": "code",
      "metadata": {
        "id": "7MRUGZc3OYxA",
        "colab_type": "code",
        "colab": {}
      },
      "source": [
        "from patsy import dmatrices\n",
        "import statsmodels.api as sm\n",
        "from statsmodels.stats.outliers_influence import variance_inflation_factor\n",
        "shop_train_x_corr = mung.corr()"
      ],
      "execution_count": 74,
      "outputs": []
    },
    {
      "cell_type": "code",
      "metadata": {
        "id": "qP5HKD-6P5-9",
        "colab_type": "code",
        "colab": {
          "base_uri": "https://localhost:8080/",
          "height": 761
        },
        "outputId": "3bf6be90-e970-4cfd-fe52-a3708e134761"
      },
      "source": [
        "plt.rcParams['figure.figsize']=(15,10)\n",
        "\n",
        "sns.heatmap(shop_train_x_corr.corr(),\n",
        "          annot=True,\n",
        "          cmap='Reds',\n",
        "          vmin = -1, vmax = 1\n",
        "          )"
      ],
      "execution_count": 75,
      "outputs": [
        {
          "output_type": "stream",
          "text": [
            "/usr/local/lib/python3.6/dist-packages/matplotlib/backends/backend_agg.py:214: RuntimeWarning: Glyph 8722 missing from current font.\n",
            "  font.set_text(s, 0.0, flags=flags)\n",
            "/usr/local/lib/python3.6/dist-packages/matplotlib/backends/backend_agg.py:183: RuntimeWarning: Glyph 8722 missing from current font.\n",
            "  font.set_text(s, 0, flags=flags)\n"
          ],
          "name": "stderr"
        },
        {
          "output_type": "execute_result",
          "data": {
            "text/plain": [
              "<matplotlib.axes._subplots.AxesSubplot at 0x7ff0e8599b38>"
            ]
          },
          "metadata": {
            "tags": []
          },
          "execution_count": 75
        },
        {
          "output_type": "display_data",
          "data": {
            "image/png": "[encoded data removed]",
            "text/plain": [
              "<Figure size 1080x720 with 2 Axes>"
            ]
          },
          "metadata": {
            "tags": [],
            "needs_background": "light"
          }
        }
      ]
    },
    {
      "cell_type": "code",
      "metadata": {
        "id": "AUmJl-FiOjdV",
        "colab_type": "code",
        "colab": {
          "base_uri": "https://localhost:8080/",
          "height": 467
        },
        "outputId": "a1ab1748-152f-467e-9052-4309c94661c0"
      },
      "source": [
        "# 피처마다의 VIF 계수를 출력\n",
        "vif = pd.DataFrame()\n",
        "vif[\"VIF Factor\"] = [variance_inflation_factor(shop_train_x_corr.values, i) for i in range(shop_train_x_corr.shape[1])]\n",
        "vif[\"features\"] = shop_train_x_corr.columns\n",
        "vif # 기존 feature_selection대로하면 다 엄청 높게나옴 +e3...이런식"
      ],
      "execution_count": 76,
      "outputs": [
        {
          "output_type": "execute_result",
          "data": {
            "text/html": [
              "<div>\n",
              "<style scoped>\n",
              "    .dataframe tbody tr th:only-of-type {\n",
              "        vertical-align: middle;\n",
              "    }\n",
              "\n",
              "    .dataframe tbody tr th {\n",
              "        vertical-align: top;\n",
              "    }\n",
              "\n",
              "    .dataframe thead th {\n",
              "        text-align: right;\n",
              "    }\n",
              "</style>\n",
              "<table border=\"1\" class=\"dataframe\">\n",
              "  <thead>\n",
              "    <tr style=\"text-align: right;\">\n",
              "      <th></th>\n",
              "      <th>VIF Factor</th>\n",
              "      <th>features</th>\n",
              "    </tr>\n",
              "  </thead>\n",
              "  <tbody>\n",
              "    <tr>\n",
              "      <th>0</th>\n",
              "      <td>42.645496</td>\n",
              "      <td>노출(분)</td>\n",
              "    </tr>\n",
              "    <tr>\n",
              "      <th>1</th>\n",
              "      <td>8.137521</td>\n",
              "      <td>holiday(includeSS)</td>\n",
              "    </tr>\n",
              "    <tr>\n",
              "      <th>2</th>\n",
              "      <td>12.734488</td>\n",
              "      <td>실제_최고기온</td>\n",
              "    </tr>\n",
              "    <tr>\n",
              "      <th>3</th>\n",
              "      <td>46.758174</td>\n",
              "      <td>실제_최저기온</td>\n",
              "    </tr>\n",
              "    <tr>\n",
              "      <th>4</th>\n",
              "      <td>9.025316</td>\n",
              "      <td>실제_강수량</td>\n",
              "    </tr>\n",
              "    <tr>\n",
              "      <th>5</th>\n",
              "      <td>3.686745</td>\n",
              "      <td>실제_평균풍속</td>\n",
              "    </tr>\n",
              "    <tr>\n",
              "      <th>6</th>\n",
              "      <td>71.661523</td>\n",
              "      <td>예보_서울_강수확률</td>\n",
              "    </tr>\n",
              "    <tr>\n",
              "      <th>7</th>\n",
              "      <td>61.089340</td>\n",
              "      <td>예보_서울_강수량</td>\n",
              "    </tr>\n",
              "    <tr>\n",
              "      <th>8</th>\n",
              "      <td>23.941586</td>\n",
              "      <td>Active Users</td>\n",
              "    </tr>\n",
              "    <tr>\n",
              "      <th>9</th>\n",
              "      <td>54.038453</td>\n",
              "      <td>new판매단가</td>\n",
              "    </tr>\n",
              "    <tr>\n",
              "      <th>10</th>\n",
              "      <td>6.715159</td>\n",
              "      <td>prime_time</td>\n",
              "    </tr>\n",
              "    <tr>\n",
              "      <th>11</th>\n",
              "      <td>7.007594</td>\n",
              "      <td>prime_day</td>\n",
              "    </tr>\n",
              "    <tr>\n",
              "      <th>12</th>\n",
              "      <td>53.656641</td>\n",
              "      <td>top_code</td>\n",
              "    </tr>\n",
              "    <tr>\n",
              "      <th>13</th>\n",
              "      <td>112.060011</td>\n",
              "      <td>top_cat</td>\n",
              "    </tr>\n",
              "  </tbody>\n",
              "</table>\n",
              "</div>"
            ],
            "text/plain": [
              "    VIF Factor            features\n",
              "0    42.645496               노출(분)\n",
              "1     8.137521  holiday(includeSS)\n",
              "2    12.734488             실제_최고기온\n",
              "3    46.758174             실제_최저기온\n",
              "4     9.025316              실제_강수량\n",
              "5     3.686745             실제_평균풍속\n",
              "6    71.661523          예보_서울_강수확률\n",
              "7    61.089340           예보_서울_강수량\n",
              "8    23.941586        Active Users\n",
              "9    54.038453             new판매단가\n",
              "10    6.715159          prime_time\n",
              "11    7.007594           prime_day\n",
              "12   53.656641            top_code\n",
              "13  112.060011             top_cat"
            ]
          },
          "metadata": {
            "tags": []
          },
          "execution_count": 76
        }
      ]
    },
    {
      "cell_type": "markdown",
      "metadata": {
        "id": "3YTivnI_RkR1",
        "colab_type": "text"
      },
      "source": [
        "- 랜포돌리기"
      ]
    },
    {
      "cell_type": "code",
      "metadata": {
        "id": "gFZWNLLthVRq",
        "colab_type": "code",
        "colab": {
          "base_uri": "https://localhost:8080/",
          "height": 141
        },
        "outputId": "63d81154-7208-4e6f-e493-b466170b25c9"
      },
      "source": [
        "forest.fit(shop_train_x_beauty, y_train_beauty)"
      ],
      "execution_count": 156,
      "outputs": [
        {
          "output_type": "execute_result",
          "data": {
            "text/plain": [
              "RandomForestRegressor(bootstrap=True, ccp_alpha=0.0, criterion='mse',\n",
              "                      max_depth=None, max_features='auto', max_leaf_nodes=None,\n",
              "                      max_samples=None, min_impurity_decrease=0.0,\n",
              "                      min_impurity_split=None, min_samples_leaf=1,\n",
              "                      min_samples_split=2, min_weight_fraction_leaf=0.0,\n",
              "                      n_estimators=100, n_jobs=None, oob_score=False,\n",
              "                      random_state=1234, verbose=0, warm_start=False)"
            ]
          },
          "metadata": {
            "tags": []
          },
          "execution_count": 156
        }
      ]
    },
    {
      "cell_type": "code",
      "metadata": {
        "id": "NOmBPGFPk8pj",
        "colab_type": "code",
        "colab": {}
      },
      "source": [
        "def mean_absolute_percentage_error(y_true, y_pred): \n",
        "    y_true, y_pred = np.array(y_true), np.array(y_pred)\n",
        "    return np.mean(np.abs((y_true - y_pred) / y_true)) * 100"
      ],
      "execution_count": 157,
      "outputs": []
    },
    {
      "cell_type": "code",
      "metadata": {
        "id": "O2_lKkyahVT1",
        "colab_type": "code",
        "colab": {
          "base_uri": "https://localhost:8080/",
          "height": 34
        },
        "outputId": "f9d3f980-6330-49a0-bea5-f9da57ba901f"
      },
      "source": [
        "predictions = forest.predict(shop_train_x_beauty)\n",
        "mape = mean_absolute_percentage_error(y_train_beauty, predictions)\n",
        "mape"
      ],
      "execution_count": 158,
      "outputs": [
        {
          "output_type": "execute_result",
          "data": {
            "text/plain": [
              "4.194052260626042"
            ]
          },
          "metadata": {
            "tags": []
          },
          "execution_count": 158
        }
      ]
    },
    {
      "cell_type": "code",
      "metadata": {
        "id": "tZ8b_V56hVPe",
        "colab_type": "code",
        "colab": {
          "base_uri": "https://localhost:8080/",
          "height": 70
        },
        "outputId": "4500d949-3b29-4959-b59b-aea37db19390"
      },
      "source": [
        "some_data = x_train_beauty.iloc[:8] # 8개의 Data의 주문량 예측해 보겠음.\n",
        "some_labels = y_train_beauty.iloc[:8]\n",
        "some_data = some_data[feature_selection]\n",
        "print(\"예측\", forest.predict(some_data))\n",
        "print(\"레이블:\", list(some_labels))"
      ],
      "execution_count": 80,
      "outputs": [
        {
          "output_type": "stream",
          "text": [
            "예측 [6.39418937 6.69611287 7.14041626 4.81628145 5.97025984 5.76505381\n",
            " 6.40335998 6.59707143]\n",
            "레이블: [5.984548455409607, 7.032042571247125, 7.160369810952259, 4.98884573174533, 6.339727012180498, 5.412054715530526, 6.553619481562081, 6.86931392306804]\n"
          ],
          "name": "stdout"
        }
      ]
    },
    {
      "cell_type": "markdown",
      "metadata": {
        "id": "qCf20ZMKlHXS",
        "colab_type": "text"
      },
      "source": [
        "#모든 카테고리 반복문으로 한번에 fit & predict 결과"
      ]
    },
    {
      "cell_type": "code",
      "metadata": {
        "id": "ArrKHU5ylK5X",
        "colab_type": "code",
        "colab": {}
      },
      "source": [
        "mape_score = []\n",
        "for i in category_list:\n",
        "  category_data = globals()['shop_train_x_{}'.format(i)]\n",
        "  category_label =  globals()['y_train_{}'.format(i)]\n",
        "  forest.fit(category_data,category_label)\n",
        "  predictions = forest.predict(category_data)\n",
        "  mape_score.append(mean_absolute_percentage_error(category_label, predictions))"
      ],
      "execution_count": 149,
      "outputs": []
    },
    {
      "cell_type": "code",
      "metadata": {
        "id": "eJuLTLwzlLUH",
        "colab_type": "code",
        "colab": {
          "base_uri": "https://localhost:8080/",
          "height": 212
        },
        "outputId": "a801ac7f-d735-4993-b42a-55940bf7a299"
      },
      "source": [
        "for i in range(len(category_list)):\n",
        "  print(\"RF MAPE score of\",category_list[i],\":\",mape_score[i])"
      ],
      "execution_count": 150,
      "outputs": [
        {
          "output_type": "stream",
          "text": [
            "RF MAPE score of inner : 6.430470139678443\n",
            "RF MAPE score of cloth : 8.696780083549188\n",
            "RF MAPE score of elec : 30.54951399156172\n",
            "RF MAPE score of living : 14.438414922304002\n",
            "RF MAPE score of food : 3.6409459237219695\n",
            "RF MAPE score of health : 6.8749586854201805\n",
            "RF MAPE score of bedding : 9.41152347855117\n",
            "RF MAPE score of furniture : 34.11458070842108\n",
            "RF MAPE score of beauty : 4.192331478933685\n",
            "RF MAPE score of etc : 24.445281122442907\n",
            "RF MAPE score of life : 16.364889071001016\n"
          ],
          "name": "stdout"
        }
      ]
    },
    {
      "cell_type": "code",
      "metadata": {
        "id": "lM1PrbFglLYF",
        "colab_type": "code",
        "colab": {
          "base_uri": "https://localhost:8080/",
          "height": 34
        },
        "outputId": "44208dfa-81b6-48d8-cbd5-82b9362b0533"
      },
      "source": [
        "pd.Series(mape_score).mean()"
      ],
      "execution_count": 83,
      "outputs": [
        {
          "output_type": "execute_result",
          "data": {
            "text/plain": [
              "10.08734071706689"
            ]
          },
          "metadata": {
            "tags": []
          },
          "execution_count": 83
        }
      ]
    },
    {
      "cell_type": "markdown",
      "metadata": {
        "id": "Pc_93pAyxJDH",
        "colab_type": "text"
      },
      "source": [
        "- 특성중요도 시각화"
      ]
    },
    {
      "cell_type": "code",
      "metadata": {
        "id": "96gU6Up7xJ9z",
        "colab_type": "code",
        "colab": {
          "base_uri": "https://localhost:8080/",
          "height": 712
        },
        "outputId": "f29b6d0d-7d91-46b8-8396-17d64f4d8fcc"
      },
      "source": [
        "print(\"특성 중요도:\\n{}\".format(forest.feature_importances_))\n",
        "\n",
        "def plot_feature_importances_NS(view_data,model):\n",
        "    n_features = view_data.shape[1]\n",
        "    plt.barh(range(n_features), model.feature_importances_, align='center')\n",
        "    plt.yticks(np.arange(n_features), view_data.columns.tolist())\n",
        "    plt.xlabel(\"특성 중요도\")\n",
        "    plt.ylabel(\"특성\")\n",
        "    plt.ylim(-1, n_features)\n",
        "\n",
        "plot_feature_importances_NS(shop_train_x_life,forest) #다들 top_cat가 가장 유효하게 작용한것 같다."
      ],
      "execution_count": 161,
      "outputs": [
        {
          "output_type": "stream",
          "text": [
            "특성 중요도:\n",
            "[0.00768244 0.00680413 0.01583689 0.01182868 0.02188272 0.04658281\n",
            " 0.0073894  0.0101629  0.01013642 0.02592406 0.01012624 0.01157399\n",
            " 0.00660014 0.01743384 0.00937099 0.01427364 0.00815553 0.01244292\n",
            " 0.00880054 0.09595866 0.03143935 0.0378612  0.0196986  0.01239718\n",
            " 0.53963675]\n"
          ],
          "name": "stdout"
        },
        {
          "output_type": "display_data",
          "data": {
            "image/png": "[encoded data removed]",
            "text/plain": [
              "<Figure size 1080x720 with 1 Axes>"
            ]
          },
          "metadata": {
            "tags": [],
            "needs_background": "light"
          }
        }
      ]
    },
    {
      "cell_type": "code",
      "metadata": {
        "id": "qR014CtQxIo1",
        "colab_type": "code",
        "colab": {
          "base_uri": "https://localhost:8080/",
          "height": 105
        },
        "outputId": "c54f153a-1a71-499a-8c35-b27a78472dbd"
      },
      "source": [
        "forest.feature_importances_"
      ],
      "execution_count": 162,
      "outputs": [
        {
          "output_type": "execute_result",
          "data": {
            "text/plain": [
              "array([0.00768244, 0.00680413, 0.01583689, 0.01182868, 0.02188272,\n",
              "       0.04658281, 0.0073894 , 0.0101629 , 0.01013642, 0.02592406,\n",
              "       0.01012624, 0.01157399, 0.00660014, 0.01743384, 0.00937099,\n",
              "       0.01427364, 0.00815553, 0.01244292, 0.00880054, 0.09595866,\n",
              "       0.03143935, 0.0378612 , 0.0196986 , 0.01239718, 0.53963675])"
            ]
          },
          "metadata": {
            "tags": []
          },
          "execution_count": 162
        }
      ]
    },
    {
      "cell_type": "markdown",
      "metadata": {
        "id": "hGKt_FawvuMq",
        "colab_type": "text"
      },
      "source": [
        "# SVM적용"
      ]
    },
    {
      "cell_type": "code",
      "metadata": {
        "id": "TwCj8S2LCQ8j",
        "colab_type": "code",
        "colab": {}
      },
      "source": [
        "from sklearn.svm import LinearSVR\n",
        "\n",
        "from sklearn.preprocessing import MinMaxScaler\n",
        "from sklearn.preprocessing import StandardScaler\n",
        "std_scaler = StandardScaler()\n",
        "scaler = MinMaxScaler()"
      ],
      "execution_count": 85,
      "outputs": []
    },
    {
      "cell_type": "markdown",
      "metadata": {
        "id": "4-6DIyCnvw2z",
        "colab_type": "text"
      },
      "source": [
        "- 모든 카테고리에 대해 svr 써보기"
      ]
    },
    {
      "cell_type": "code",
      "metadata": {
        "id": "1R9LfTLJvM18",
        "colab_type": "code",
        "colab": {
          "base_uri": "https://localhost:8080/",
          "height": 52
        },
        "outputId": "6a4136a8-660d-4027-cdb3-d6bc3e00ad65"
      },
      "source": [
        "'''\n",
        "svm_reg = LinearSVR()\n",
        "mape_score_svr = []\n",
        "for i in category_list:\n",
        "  category_data = std_scaler.fit_transform(globals()['shop_train_x_{}'.format(i)])\n",
        "  category_label =  globals()['y_train_{}'.format(i)]\n",
        "  svm_reg.fit(category_data,category_label)\n",
        "  predictions = svm_reg.predict(category_data)\n",
        "  mape_score_svr.append(mean_absolute_percentage_error(category_label, predictions))\n",
        "'''"
      ],
      "execution_count": 86,
      "outputs": [
        {
          "output_type": "execute_result",
          "data": {
            "application/vnd.google.colaboratory.intrinsic+json": {
              "type": "string"
            },
            "text/plain": [
              "\"\\nsvm_reg = LinearSVR()\\nmape_score_svr = []\\nfor i in category_list:\\n  category_data = std_scaler.fit_transform(globals()['shop_train_x_{}'.format(i)])\\n  category_label =  globals()['y_train_{}'.format(i)]\\n  svm_reg.fit(category_data,category_label)\\n  predictions = svm_reg.predict(category_data)\\n  mape_score_svr.append(mean_absolute_percentage_error(category_label, predictions))\\n\""
            ]
          },
          "metadata": {
            "tags": []
          },
          "execution_count": 86
        }
      ]
    },
    {
      "cell_type": "code",
      "metadata": {
        "id": "2fng5oxOvzL_",
        "colab_type": "code",
        "colab": {
          "base_uri": "https://localhost:8080/",
          "height": 34
        },
        "outputId": "566604b3-c529-4c21-a881-53e9636c8787"
      },
      "source": [
        "'''\n",
        "for i in range(len(category_list)):\n",
        "  print(\"SVM MAPE score of\",category_list[i],\":\",mape_score_svr[i])\n",
        "'''"
      ],
      "execution_count": 87,
      "outputs": [
        {
          "output_type": "execute_result",
          "data": {
            "application/vnd.google.colaboratory.intrinsic+json": {
              "type": "string"
            },
            "text/plain": [
              "'\\nfor i in range(len(category_list)):\\n  print(\"SVM MAPE score of\",category_list[i],\":\",mape_score_svr[i])\\n'"
            ]
          },
          "metadata": {
            "tags": []
          },
          "execution_count": 87
        }
      ]
    },
    {
      "cell_type": "markdown",
      "metadata": {
        "id": "uh8CsM38_vYm",
        "colab_type": "text"
      },
      "source": [
        "- Poly SVM"
      ]
    },
    {
      "cell_type": "code",
      "metadata": {
        "id": "sfijhSG8LHbt",
        "colab_type": "code",
        "colab": {}
      },
      "source": [
        "from sklearn.svm import SVR"
      ],
      "execution_count": 88,
      "outputs": []
    },
    {
      "cell_type": "code",
      "metadata": {
        "id": "MQDUSrzyBu68",
        "colab_type": "code",
        "colab": {
          "base_uri": "https://localhost:8080/",
          "height": 52
        },
        "outputId": "15a7a8f9-3362-47c0-de41-34ee8c17f225"
      },
      "source": [
        "svm_poly_reg1 = SVR(kernel=\"poly\", gamma='auto', degree=3, C=100, epsilon=0.1)\n",
        "svm_poly_reg1.fit(std_scaler.fit_transform(shop_train_x_beauty), y_train_beauty)"
      ],
      "execution_count": 89,
      "outputs": [
        {
          "output_type": "execute_result",
          "data": {
            "text/plain": [
              "SVR(C=100, cache_size=200, coef0=0.0, degree=3, epsilon=0.1, gamma='auto',\n",
              "    kernel='poly', max_iter=-1, shrinking=True, tol=0.001, verbose=False)"
            ]
          },
          "metadata": {
            "tags": []
          },
          "execution_count": 89
        }
      ]
    },
    {
      "cell_type": "code",
      "metadata": {
        "id": "p5pYSC8THiKz",
        "colab_type": "code",
        "colab": {
          "base_uri": "https://localhost:8080/",
          "height": 34
        },
        "outputId": "a1a09837-c546-4fb6-dd2c-543dc3d10eb1"
      },
      "source": [
        "predictions_poly_svm = svm_poly_reg1.predict(std_scaler.fit_transform(shop_train_x_beauty))\n",
        "mape_poly = mean_absolute_percentage_error(y_train_beauty, predictions_poly_svm)\n",
        "mape_poly"
      ],
      "execution_count": 90,
      "outputs": [
        {
          "output_type": "execute_result",
          "data": {
            "text/plain": [
              "4.005903577490081"
            ]
          },
          "metadata": {
            "tags": []
          },
          "execution_count": 90
        }
      ]
    },
    {
      "cell_type": "code",
      "metadata": {
        "id": "WoipAoC0LgpO",
        "colab_type": "code",
        "colab": {}
      },
      "source": [
        "svm_poly_reg1 = SVR(kernel=\"poly\", gamma='auto', degree=3, C=100, epsilon=0.1) # degree에 따라 성능차이 조금씩 난다. 3차정도가 최적인듯(4차가 성능은 경미하게 좋음)\n",
        "mape_score_poly_svr = []\n",
        "for i in category_list:\n",
        "  category_data = std_scaler.fit_transform(globals()['shop_train_x_{}'.format(i)])\n",
        "  category_label =  globals()['y_train_{}'.format(i)]\n",
        "  svm_poly_reg1.fit(category_data,category_label)\n",
        "  predictions = svm_poly_reg1.predict(category_data)\n",
        "  mape_score_poly_svr.append(mean_absolute_percentage_error(category_label, predictions))"
      ],
      "execution_count": 91,
      "outputs": []
    },
    {
      "cell_type": "code",
      "metadata": {
        "id": "90_teMt7LhIW",
        "colab_type": "code",
        "colab": {
          "base_uri": "https://localhost:8080/",
          "height": 212
        },
        "outputId": "b9d475cb-09e8-4fc9-dc47-2eb956d4d973"
      },
      "source": [
        "for i in range(len(category_list)):\n",
        "  print(\"Poly_SVM MAPE score of\",category_list[i],\":\",mape_score_poly_svr[i])"
      ],
      "execution_count": 92,
      "outputs": [
        {
          "output_type": "stream",
          "text": [
            "Poly_SVM MAPE score of inner : 6.741541916611923\n",
            "Poly_SVM MAPE score of cloth : 7.984467061397986\n",
            "Poly_SVM MAPE score of elec : 24.85330255406707\n",
            "Poly_SVM MAPE score of living : 13.619675732531942\n",
            "Poly_SVM MAPE score of food : 3.5424667953382114\n",
            "Poly_SVM MAPE score of health : 5.702100077873844\n",
            "Poly_SVM MAPE score of bedding : 8.573747757653567\n",
            "Poly_SVM MAPE score of furniture : 28.415405930324393\n",
            "Poly_SVM MAPE score of beauty : 4.005903577490081\n",
            "Poly_SVM MAPE score of etc : 23.87165370658303\n",
            "Poly_SVM MAPE score of life : 14.185797363360287\n"
          ],
          "name": "stdout"
        }
      ]
    },
    {
      "cell_type": "code",
      "metadata": {
        "id": "r4h5ONNTLhFS",
        "colab_type": "code",
        "colab": {
          "base_uri": "https://localhost:8080/",
          "height": 34
        },
        "outputId": "1c2dead7-330a-424b-8e39-d7a381408f21"
      },
      "source": [
        "pd.Series(mape_score_poly_svr).mean()"
      ],
      "execution_count": 93,
      "outputs": [
        {
          "output_type": "execute_result",
          "data": {
            "text/plain": [
              "12.863278406657486"
            ]
          },
          "metadata": {
            "tags": []
          },
          "execution_count": 93
        }
      ]
    },
    {
      "cell_type": "markdown",
      "metadata": {
        "id": "eSd369wjwdtn",
        "colab_type": "text"
      },
      "source": [
        "# 카테고리별 dnn"
      ]
    },
    {
      "cell_type": "code",
      "metadata": {
        "id": "_dYMEsoZwfpx",
        "colab_type": "code",
        "colab": {
          "base_uri": "https://localhost:8080/",
          "height": 341
        },
        "outputId": "f7601504-3ab4-4266-9c70-a3a7cdabb78a"
      },
      "source": [
        "shop_train_x_beauty.describe()"
      ],
      "execution_count": 94,
      "outputs": [
        {
          "output_type": "execute_result",
          "data": {
            "text/html": [
              "<div>\n",
              "<style scoped>\n",
              "    .dataframe tbody tr th:only-of-type {\n",
              "        vertical-align: middle;\n",
              "    }\n",
              "\n",
              "    .dataframe tbody tr th {\n",
              "        vertical-align: top;\n",
              "    }\n",
              "\n",
              "    .dataframe thead th {\n",
              "        text-align: right;\n",
              "    }\n",
              "</style>\n",
              "<table border=\"1\" class=\"dataframe\">\n",
              "  <thead>\n",
              "    <tr style=\"text-align: right;\">\n",
              "      <th></th>\n",
              "      <th>노출(분)</th>\n",
              "      <th>holiday(includeSS)</th>\n",
              "      <th>실제_최고기온</th>\n",
              "      <th>실제_최저기온</th>\n",
              "      <th>실제_강수량</th>\n",
              "      <th>실제_평균풍속</th>\n",
              "      <th>예보_서울_강수확률</th>\n",
              "      <th>예보_서울_강수량</th>\n",
              "      <th>예보_서울_하늘상태</th>\n",
              "      <th>예보_서울_일최고기온</th>\n",
              "      <th>예보_서울_일최저기온</th>\n",
              "      <th>예보_일산_강수확률</th>\n",
              "      <th>예보_일산_강수량</th>\n",
              "      <th>예보_일산_일최고기온</th>\n",
              "      <th>예보_일산_일최저기온</th>\n",
              "      <th>예보_수원_강수확률</th>\n",
              "      <th>예보_수원_강수량</th>\n",
              "      <th>예보_수원_일최고기온</th>\n",
              "      <th>예보_수원_일최저기온</th>\n",
              "      <th>Active Users</th>\n",
              "      <th>new판매단가</th>\n",
              "      <th>prime_time</th>\n",
              "      <th>prime_day</th>\n",
              "      <th>top_code</th>\n",
              "      <th>top_cat</th>\n",
              "    </tr>\n",
              "  </thead>\n",
              "  <tbody>\n",
              "    <tr>\n",
              "      <th>count</th>\n",
              "      <td>144.000000</td>\n",
              "      <td>144.000000</td>\n",
              "      <td>144.000000</td>\n",
              "      <td>144.000000</td>\n",
              "      <td>144.000000</td>\n",
              "      <td>144.000000</td>\n",
              "      <td>144.000000</td>\n",
              "      <td>144.000000</td>\n",
              "      <td>144.000000</td>\n",
              "      <td>144.000000</td>\n",
              "      <td>144.000000</td>\n",
              "      <td>144.000000</td>\n",
              "      <td>144.000000</td>\n",
              "      <td>144.000000</td>\n",
              "      <td>144.000000</td>\n",
              "      <td>144.000000</td>\n",
              "      <td>144.000000</td>\n",
              "      <td>144.000000</td>\n",
              "      <td>144.000000</td>\n",
              "      <td>144.000000</td>\n",
              "      <td>144.000000</td>\n",
              "      <td>144.000000</td>\n",
              "      <td>144.000000</td>\n",
              "      <td>144.000000</td>\n",
              "      <td>144.000000</td>\n",
              "    </tr>\n",
              "    <tr>\n",
              "      <th>mean</th>\n",
              "      <td>19.625000</td>\n",
              "      <td>0.236111</td>\n",
              "      <td>30.152315</td>\n",
              "      <td>21.521991</td>\n",
              "      <td>4.734028</td>\n",
              "      <td>1.738889</td>\n",
              "      <td>24.334159</td>\n",
              "      <td>2.904605</td>\n",
              "      <td>2.809174</td>\n",
              "      <td>30.554946</td>\n",
              "      <td>22.511285</td>\n",
              "      <td>23.284669</td>\n",
              "      <td>2.756122</td>\n",
              "      <td>29.397498</td>\n",
              "      <td>21.310706</td>\n",
              "      <td>23.510351</td>\n",
              "      <td>2.692160</td>\n",
              "      <td>30.333821</td>\n",
              "      <td>22.180671</td>\n",
              "      <td>141077.055556</td>\n",
              "      <td>10.769065</td>\n",
              "      <td>10.402778</td>\n",
              "      <td>4.319444</td>\n",
              "      <td>32.013889</td>\n",
              "      <td>60.826389</td>\n",
              "    </tr>\n",
              "    <tr>\n",
              "      <th>std</th>\n",
              "      <td>4.938609</td>\n",
              "      <td>0.426174</td>\n",
              "      <td>2.853354</td>\n",
              "      <td>2.740394</td>\n",
              "      <td>10.834913</td>\n",
              "      <td>0.561204</td>\n",
              "      <td>14.675362</td>\n",
              "      <td>4.262252</td>\n",
              "      <td>0.805093</td>\n",
              "      <td>2.013130</td>\n",
              "      <td>2.416658</td>\n",
              "      <td>14.894398</td>\n",
              "      <td>4.343389</td>\n",
              "      <td>1.966414</td>\n",
              "      <td>2.654014</td>\n",
              "      <td>14.602633</td>\n",
              "      <td>4.510084</td>\n",
              "      <td>1.957804</td>\n",
              "      <td>2.574818</td>\n",
              "      <td>13564.996281</td>\n",
              "      <td>0.227243</td>\n",
              "      <td>4.608171</td>\n",
              "      <td>2.054001</td>\n",
              "      <td>22.937430</td>\n",
              "      <td>14.929826</td>\n",
              "    </tr>\n",
              "    <tr>\n",
              "      <th>min</th>\n",
              "      <td>5.000000</td>\n",
              "      <td>0.000000</td>\n",
              "      <td>24.100000</td>\n",
              "      <td>16.600000</td>\n",
              "      <td>0.000000</td>\n",
              "      <td>0.933333</td>\n",
              "      <td>1.621622</td>\n",
              "      <td>0.000000</td>\n",
              "      <td>1.162162</td>\n",
              "      <td>26.473684</td>\n",
              "      <td>18.000000</td>\n",
              "      <td>1.621622</td>\n",
              "      <td>0.000000</td>\n",
              "      <td>24.947368</td>\n",
              "      <td>16.312500</td>\n",
              "      <td>1.621622</td>\n",
              "      <td>0.000000</td>\n",
              "      <td>26.631579</td>\n",
              "      <td>17.437500</td>\n",
              "      <td>110345.000000</td>\n",
              "      <td>10.591622</td>\n",
              "      <td>1.000000</td>\n",
              "      <td>1.000000</td>\n",
              "      <td>0.000000</td>\n",
              "      <td>28.000000</td>\n",
              "    </tr>\n",
              "    <tr>\n",
              "      <th>25%</th>\n",
              "      <td>20.000000</td>\n",
              "      <td>0.000000</td>\n",
              "      <td>27.966667</td>\n",
              "      <td>19.233333</td>\n",
              "      <td>0.000000</td>\n",
              "      <td>1.333333</td>\n",
              "      <td>12.550676</td>\n",
              "      <td>0.197368</td>\n",
              "      <td>2.172297</td>\n",
              "      <td>29.263158</td>\n",
              "      <td>20.312500</td>\n",
              "      <td>10.135135</td>\n",
              "      <td>0.000000</td>\n",
              "      <td>28.184211</td>\n",
              "      <td>18.750000</td>\n",
              "      <td>13.006757</td>\n",
              "      <td>0.131579</td>\n",
              "      <td>29.315789</td>\n",
              "      <td>19.750000</td>\n",
              "      <td>130279.000000</td>\n",
              "      <td>10.591622</td>\n",
              "      <td>7.000000</td>\n",
              "      <td>3.000000</td>\n",
              "      <td>0.000000</td>\n",
              "      <td>55.000000</td>\n",
              "    </tr>\n",
              "    <tr>\n",
              "      <th>50%</th>\n",
              "      <td>20.000000</td>\n",
              "      <td>0.000000</td>\n",
              "      <td>29.966667</td>\n",
              "      <td>21.633333</td>\n",
              "      <td>0.066667</td>\n",
              "      <td>1.700000</td>\n",
              "      <td>24.290541</td>\n",
              "      <td>1.315789</td>\n",
              "      <td>3.033784</td>\n",
              "      <td>30.210526</td>\n",
              "      <td>22.437500</td>\n",
              "      <td>22.905405</td>\n",
              "      <td>0.986842</td>\n",
              "      <td>28.894737</td>\n",
              "      <td>21.000000</td>\n",
              "      <td>24.594595</td>\n",
              "      <td>1.381579</td>\n",
              "      <td>30.000000</td>\n",
              "      <td>21.875000</td>\n",
              "      <td>142358.000000</td>\n",
              "      <td>10.594132</td>\n",
              "      <td>9.000000</td>\n",
              "      <td>4.000000</td>\n",
              "      <td>39.000000</td>\n",
              "      <td>62.000000</td>\n",
              "    </tr>\n",
              "    <tr>\n",
              "      <th>75%</th>\n",
              "      <td>20.000000</td>\n",
              "      <td>0.000000</td>\n",
              "      <td>31.966667</td>\n",
              "      <td>24.208333</td>\n",
              "      <td>4.533333</td>\n",
              "      <td>1.933333</td>\n",
              "      <td>32.770270</td>\n",
              "      <td>3.980263</td>\n",
              "      <td>3.439189</td>\n",
              "      <td>31.657895</td>\n",
              "      <td>24.937500</td>\n",
              "      <td>32.364865</td>\n",
              "      <td>3.315789</td>\n",
              "      <td>30.421053</td>\n",
              "      <td>24.000000</td>\n",
              "      <td>30.608108</td>\n",
              "      <td>3.141447</td>\n",
              "      <td>31.486842</td>\n",
              "      <td>25.000000</td>\n",
              "      <td>150976.750000</td>\n",
              "      <td>10.985293</td>\n",
              "      <td>15.250000</td>\n",
              "      <td>6.000000</td>\n",
              "      <td>55.000000</td>\n",
              "      <td>77.000000</td>\n",
              "    </tr>\n",
              "    <tr>\n",
              "      <th>max</th>\n",
              "      <td>30.000000</td>\n",
              "      <td>1.000000</td>\n",
              "      <td>35.733333</td>\n",
              "      <td>25.500000</td>\n",
              "      <td>85.166667</td>\n",
              "      <td>3.300000</td>\n",
              "      <td>81.621622</td>\n",
              "      <td>29.078947</td>\n",
              "      <td>4.000000</td>\n",
              "      <td>36.631579</td>\n",
              "      <td>26.437500</td>\n",
              "      <td>81.621622</td>\n",
              "      <td>29.078947</td>\n",
              "      <td>34.842105</td>\n",
              "      <td>25.000000</td>\n",
              "      <td>83.513514</td>\n",
              "      <td>30.789474</td>\n",
              "      <td>34.842105</td>\n",
              "      <td>26.000000</td>\n",
              "      <td>169626.000000</td>\n",
              "      <td>11.288531</td>\n",
              "      <td>19.000000</td>\n",
              "      <td>7.000000</td>\n",
              "      <td>55.000000</td>\n",
              "      <td>77.000000</td>\n",
              "    </tr>\n",
              "  </tbody>\n",
              "</table>\n",
              "</div>"
            ],
            "text/plain": [
              "            노출(분)  holiday(includeSS)  ...    top_code     top_cat\n",
              "count  144.000000          144.000000  ...  144.000000  144.000000\n",
              "mean    19.625000            0.236111  ...   32.013889   60.826389\n",
              "std      4.938609            0.426174  ...   22.937430   14.929826\n",
              "min      5.000000            0.000000  ...    0.000000   28.000000\n",
              "25%     20.000000            0.000000  ...    0.000000   55.000000\n",
              "50%     20.000000            0.000000  ...   39.000000   62.000000\n",
              "75%     20.000000            0.000000  ...   55.000000   77.000000\n",
              "max     30.000000            1.000000  ...   55.000000   77.000000\n",
              "\n",
              "[8 rows x 25 columns]"
            ]
          },
          "metadata": {
            "tags": []
          },
          "execution_count": 94
        }
      ]
    },
    {
      "cell_type": "code",
      "metadata": {
        "id": "mP8qqvN_wf6h",
        "colab_type": "code",
        "colab": {}
      },
      "source": [
        "from sklearn.preprocessing import MinMaxScaler\n",
        "scaler = MinMaxScaler()"
      ],
      "execution_count": 95,
      "outputs": []
    },
    {
      "cell_type": "code",
      "metadata": {
        "id": "ZaoE21yAwyKd",
        "colab_type": "code",
        "colab": {}
      },
      "source": [
        "reg_col = ['실제_최고기온','실제_최저기온','실제_강수량','실제_평균풍속', \n",
        "           '예보_서울_강수확률', '예보_서울_강수량', '예보_서울_하늘상태', \n",
        "           '예보_서울_일최고기온', '예보_서울_일최저기온', '예보_일산_강수확률', \n",
        "           '예보_일산_강수량', '예보_일산_일최고기온', '예보_일산_일최저기온', \n",
        "           '예보_수원_강수확률', '예보_수원_강수량', '예보_수원_일최고기온',\n",
        "           '예보_수원_일최저기온', 'new판매단가']"
      ],
      "execution_count": 96,
      "outputs": []
    },
    {
      "cell_type": "code",
      "metadata": {
        "id": "4Egh11m_wf9H",
        "colab_type": "code",
        "colab": {}
      },
      "source": [
        "from sklearn.preprocessing import MinMaxScaler\n",
        "scaler = MinMaxScaler()"
      ],
      "execution_count": 97,
      "outputs": []
    },
    {
      "cell_type": "code",
      "metadata": {
        "id": "TjojCgt7wf_v",
        "colab_type": "code",
        "colab": {
          "base_uri": "https://localhost:8080/",
          "height": 1000
        },
        "outputId": "5737a0d6-4ee8-4131-ce56-d4938294a88b"
      },
      "source": [
        "for i in category_list:\n",
        "  globals()['shop_train_x_{}'.format(i)][reg_col] = scaler.fit_transform(globals()['shop_train_x_{}'.format(i)][reg_col])\n",
        "  globals()['shop_test_x_{}'.format(i)][reg_col] = scaler.fit_transform(globals()['shop_test_x_{}'.format(i)][reg_col])"
      ],
      "execution_count": 98,
      "outputs": [
        {
          "output_type": "stream",
          "text": [
            "/usr/local/lib/python3.6/dist-packages/ipykernel_launcher.py:2: SettingWithCopyWarning: \n",
            "A value is trying to be set on a copy of a slice from a DataFrame.\n",
            "Try using .loc[row_indexer,col_indexer] = value instead\n",
            "\n",
            "See the caveats in the documentation: https://pandas.pydata.org/pandas-docs/stable/user_guide/indexing.html#returning-a-view-versus-a-copy\n",
            "  \n",
            "/usr/local/lib/python3.6/dist-packages/pandas/core/indexing.py:966: SettingWithCopyWarning: \n",
            "A value is trying to be set on a copy of a slice from a DataFrame.\n",
            "Try using .loc[row_indexer,col_indexer] = value instead\n",
            "\n",
            "See the caveats in the documentation: https://pandas.pydata.org/pandas-docs/stable/user_guide/indexing.html#returning-a-view-versus-a-copy\n",
            "  self.obj[item] = s\n",
            "/usr/local/lib/python3.6/dist-packages/ipykernel_launcher.py:3: SettingWithCopyWarning: \n",
            "A value is trying to be set on a copy of a slice from a DataFrame.\n",
            "Try using .loc[row_indexer,col_indexer] = value instead\n",
            "\n",
            "See the caveats in the documentation: https://pandas.pydata.org/pandas-docs/stable/user_guide/indexing.html#returning-a-view-versus-a-copy\n",
            "  This is separate from the ipykernel package so we can avoid doing imports until\n",
            "/usr/local/lib/python3.6/dist-packages/pandas/core/indexing.py:966: SettingWithCopyWarning: \n",
            "A value is trying to be set on a copy of a slice from a DataFrame.\n",
            "Try using .loc[row_indexer,col_indexer] = value instead\n",
            "\n",
            "See the caveats in the documentation: https://pandas.pydata.org/pandas-docs/stable/user_guide/indexing.html#returning-a-view-versus-a-copy\n",
            "  self.obj[item] = s\n",
            "/usr/local/lib/python3.6/dist-packages/ipykernel_launcher.py:2: SettingWithCopyWarning: \n",
            "A value is trying to be set on a copy of a slice from a DataFrame.\n",
            "Try using .loc[row_indexer,col_indexer] = value instead\n",
            "\n",
            "See the caveats in the documentation: https://pandas.pydata.org/pandas-docs/stable/user_guide/indexing.html#returning-a-view-versus-a-copy\n",
            "  \n",
            "/usr/local/lib/python3.6/dist-packages/pandas/core/indexing.py:966: SettingWithCopyWarning: \n",
            "A value is trying to be set on a copy of a slice from a DataFrame.\n",
            "Try using .loc[row_indexer,col_indexer] = value instead\n",
            "\n",
            "See the caveats in the documentation: https://pandas.pydata.org/pandas-docs/stable/user_guide/indexing.html#returning-a-view-versus-a-copy\n",
            "  self.obj[item] = s\n",
            "/usr/local/lib/python3.6/dist-packages/ipykernel_launcher.py:3: SettingWithCopyWarning: \n",
            "A value is trying to be set on a copy of a slice from a DataFrame.\n",
            "Try using .loc[row_indexer,col_indexer] = value instead\n",
            "\n",
            "See the caveats in the documentation: https://pandas.pydata.org/pandas-docs/stable/user_guide/indexing.html#returning-a-view-versus-a-copy\n",
            "  This is separate from the ipykernel package so we can avoid doing imports until\n",
            "/usr/local/lib/python3.6/dist-packages/pandas/core/indexing.py:966: SettingWithCopyWarning: \n",
            "A value is trying to be set on a copy of a slice from a DataFrame.\n",
            "Try using .loc[row_indexer,col_indexer] = value instead\n",
            "\n",
            "See the caveats in the documentation: https://pandas.pydata.org/pandas-docs/stable/user_guide/indexing.html#returning-a-view-versus-a-copy\n",
            "  self.obj[item] = s\n",
            "/usr/local/lib/python3.6/dist-packages/ipykernel_launcher.py:2: SettingWithCopyWarning: \n",
            "A value is trying to be set on a copy of a slice from a DataFrame.\n",
            "Try using .loc[row_indexer,col_indexer] = value instead\n",
            "\n",
            "See the caveats in the documentation: https://pandas.pydata.org/pandas-docs/stable/user_guide/indexing.html#returning-a-view-versus-a-copy\n",
            "  \n",
            "/usr/local/lib/python3.6/dist-packages/pandas/core/indexing.py:966: SettingWithCopyWarning: \n",
            "A value is trying to be set on a copy of a slice from a DataFrame.\n",
            "Try using .loc[row_indexer,col_indexer] = value instead\n",
            "\n",
            "See the caveats in the documentation: https://pandas.pydata.org/pandas-docs/stable/user_guide/indexing.html#returning-a-view-versus-a-copy\n",
            "  self.obj[item] = s\n",
            "/usr/local/lib/python3.6/dist-packages/ipykernel_launcher.py:3: SettingWithCopyWarning: \n",
            "A value is trying to be set on a copy of a slice from a DataFrame.\n",
            "Try using .loc[row_indexer,col_indexer] = value instead\n",
            "\n",
            "See the caveats in the documentation: https://pandas.pydata.org/pandas-docs/stable/user_guide/indexing.html#returning-a-view-versus-a-copy\n",
            "  This is separate from the ipykernel package so we can avoid doing imports until\n",
            "/usr/local/lib/python3.6/dist-packages/pandas/core/indexing.py:966: SettingWithCopyWarning: \n",
            "A value is trying to be set on a copy of a slice from a DataFrame.\n",
            "Try using .loc[row_indexer,col_indexer] = value instead\n",
            "\n",
            "See the caveats in the documentation: https://pandas.pydata.org/pandas-docs/stable/user_guide/indexing.html#returning-a-view-versus-a-copy\n",
            "  self.obj[item] = s\n",
            "/usr/local/lib/python3.6/dist-packages/ipykernel_launcher.py:2: SettingWithCopyWarning: \n",
            "A value is trying to be set on a copy of a slice from a DataFrame.\n",
            "Try using .loc[row_indexer,col_indexer] = value instead\n",
            "\n",
            "See the caveats in the documentation: https://pandas.pydata.org/pandas-docs/stable/user_guide/indexing.html#returning-a-view-versus-a-copy\n",
            "  \n",
            "/usr/local/lib/python3.6/dist-packages/pandas/core/indexing.py:966: SettingWithCopyWarning: \n",
            "A value is trying to be set on a copy of a slice from a DataFrame.\n",
            "Try using .loc[row_indexer,col_indexer] = value instead\n",
            "\n",
            "See the caveats in the documentation: https://pandas.pydata.org/pandas-docs/stable/user_guide/indexing.html#returning-a-view-versus-a-copy\n",
            "  self.obj[item] = s\n",
            "/usr/local/lib/python3.6/dist-packages/ipykernel_launcher.py:3: SettingWithCopyWarning: \n",
            "A value is trying to be set on a copy of a slice from a DataFrame.\n",
            "Try using .loc[row_indexer,col_indexer] = value instead\n",
            "\n",
            "See the caveats in the documentation: https://pandas.pydata.org/pandas-docs/stable/user_guide/indexing.html#returning-a-view-versus-a-copy\n",
            "  This is separate from the ipykernel package so we can avoid doing imports until\n",
            "/usr/local/lib/python3.6/dist-packages/pandas/core/indexing.py:966: SettingWithCopyWarning: \n",
            "A value is trying to be set on a copy of a slice from a DataFrame.\n",
            "Try using .loc[row_indexer,col_indexer] = value instead\n",
            "\n",
            "See the caveats in the documentation: https://pandas.pydata.org/pandas-docs/stable/user_guide/indexing.html#returning-a-view-versus-a-copy\n",
            "  self.obj[item] = s\n",
            "/usr/local/lib/python3.6/dist-packages/ipykernel_launcher.py:2: SettingWithCopyWarning: \n",
            "A value is trying to be set on a copy of a slice from a DataFrame.\n",
            "Try using .loc[row_indexer,col_indexer] = value instead\n",
            "\n",
            "See the caveats in the documentation: https://pandas.pydata.org/pandas-docs/stable/user_guide/indexing.html#returning-a-view-versus-a-copy\n",
            "  \n",
            "/usr/local/lib/python3.6/dist-packages/pandas/core/indexing.py:966: SettingWithCopyWarning: \n",
            "A value is trying to be set on a copy of a slice from a DataFrame.\n",
            "Try using .loc[row_indexer,col_indexer] = value instead\n",
            "\n",
            "See the caveats in the documentation: https://pandas.pydata.org/pandas-docs/stable/user_guide/indexing.html#returning-a-view-versus-a-copy\n",
            "  self.obj[item] = s\n",
            "/usr/local/lib/python3.6/dist-packages/ipykernel_launcher.py:3: SettingWithCopyWarning: \n",
            "A value is trying to be set on a copy of a slice from a DataFrame.\n",
            "Try using .loc[row_indexer,col_indexer] = value instead\n",
            "\n",
            "See the caveats in the documentation: https://pandas.pydata.org/pandas-docs/stable/user_guide/indexing.html#returning-a-view-versus-a-copy\n",
            "  This is separate from the ipykernel package so we can avoid doing imports until\n",
            "/usr/local/lib/python3.6/dist-packages/pandas/core/indexing.py:966: SettingWithCopyWarning: \n",
            "A value is trying to be set on a copy of a slice from a DataFrame.\n",
            "Try using .loc[row_indexer,col_indexer] = value instead\n",
            "\n",
            "See the caveats in the documentation: https://pandas.pydata.org/pandas-docs/stable/user_guide/indexing.html#returning-a-view-versus-a-copy\n",
            "  self.obj[item] = s\n",
            "/usr/local/lib/python3.6/dist-packages/ipykernel_launcher.py:2: SettingWithCopyWarning: \n",
            "A value is trying to be set on a copy of a slice from a DataFrame.\n",
            "Try using .loc[row_indexer,col_indexer] = value instead\n",
            "\n",
            "See the caveats in the documentation: https://pandas.pydata.org/pandas-docs/stable/user_guide/indexing.html#returning-a-view-versus-a-copy\n",
            "  \n",
            "/usr/local/lib/python3.6/dist-packages/pandas/core/indexing.py:966: SettingWithCopyWarning: \n",
            "A value is trying to be set on a copy of a slice from a DataFrame.\n",
            "Try using .loc[row_indexer,col_indexer] = value instead\n",
            "\n",
            "See the caveats in the documentation: https://pandas.pydata.org/pandas-docs/stable/user_guide/indexing.html#returning-a-view-versus-a-copy\n",
            "  self.obj[item] = s\n",
            "/usr/local/lib/python3.6/dist-packages/ipykernel_launcher.py:3: SettingWithCopyWarning: \n",
            "A value is trying to be set on a copy of a slice from a DataFrame.\n",
            "Try using .loc[row_indexer,col_indexer] = value instead\n",
            "\n",
            "See the caveats in the documentation: https://pandas.pydata.org/pandas-docs/stable/user_guide/indexing.html#returning-a-view-versus-a-copy\n",
            "  This is separate from the ipykernel package so we can avoid doing imports until\n",
            "/usr/local/lib/python3.6/dist-packages/pandas/core/indexing.py:966: SettingWithCopyWarning: \n",
            "A value is trying to be set on a copy of a slice from a DataFrame.\n",
            "Try using .loc[row_indexer,col_indexer] = value instead\n",
            "\n",
            "See the caveats in the documentation: https://pandas.pydata.org/pandas-docs/stable/user_guide/indexing.html#returning-a-view-versus-a-copy\n",
            "  self.obj[item] = s\n",
            "/usr/local/lib/python3.6/dist-packages/ipykernel_launcher.py:2: SettingWithCopyWarning: \n",
            "A value is trying to be set on a copy of a slice from a DataFrame.\n",
            "Try using .loc[row_indexer,col_indexer] = value instead\n",
            "\n",
            "See the caveats in the documentation: https://pandas.pydata.org/pandas-docs/stable/user_guide/indexing.html#returning-a-view-versus-a-copy\n",
            "  \n",
            "/usr/local/lib/python3.6/dist-packages/pandas/core/indexing.py:966: SettingWithCopyWarning: \n",
            "A value is trying to be set on a copy of a slice from a DataFrame.\n",
            "Try using .loc[row_indexer,col_indexer] = value instead\n",
            "\n",
            "See the caveats in the documentation: https://pandas.pydata.org/pandas-docs/stable/user_guide/indexing.html#returning-a-view-versus-a-copy\n",
            "  self.obj[item] = s\n",
            "/usr/local/lib/python3.6/dist-packages/ipykernel_launcher.py:3: SettingWithCopyWarning: \n",
            "A value is trying to be set on a copy of a slice from a DataFrame.\n",
            "Try using .loc[row_indexer,col_indexer] = value instead\n",
            "\n",
            "See the caveats in the documentation: https://pandas.pydata.org/pandas-docs/stable/user_guide/indexing.html#returning-a-view-versus-a-copy\n",
            "  This is separate from the ipykernel package so we can avoid doing imports until\n",
            "/usr/local/lib/python3.6/dist-packages/pandas/core/indexing.py:966: SettingWithCopyWarning: \n",
            "A value is trying to be set on a copy of a slice from a DataFrame.\n",
            "Try using .loc[row_indexer,col_indexer] = value instead\n",
            "\n",
            "See the caveats in the documentation: https://pandas.pydata.org/pandas-docs/stable/user_guide/indexing.html#returning-a-view-versus-a-copy\n",
            "  self.obj[item] = s\n",
            "/usr/local/lib/python3.6/dist-packages/ipykernel_launcher.py:2: SettingWithCopyWarning: \n",
            "A value is trying to be set on a copy of a slice from a DataFrame.\n",
            "Try using .loc[row_indexer,col_indexer] = value instead\n",
            "\n",
            "See the caveats in the documentation: https://pandas.pydata.org/pandas-docs/stable/user_guide/indexing.html#returning-a-view-versus-a-copy\n",
            "  \n",
            "/usr/local/lib/python3.6/dist-packages/pandas/core/indexing.py:966: SettingWithCopyWarning: \n",
            "A value is trying to be set on a copy of a slice from a DataFrame.\n",
            "Try using .loc[row_indexer,col_indexer] = value instead\n",
            "\n",
            "See the caveats in the documentation: https://pandas.pydata.org/pandas-docs/stable/user_guide/indexing.html#returning-a-view-versus-a-copy\n",
            "  self.obj[item] = s\n",
            "/usr/local/lib/python3.6/dist-packages/ipykernel_launcher.py:3: SettingWithCopyWarning: \n",
            "A value is trying to be set on a copy of a slice from a DataFrame.\n",
            "Try using .loc[row_indexer,col_indexer] = value instead\n",
            "\n",
            "See the caveats in the documentation: https://pandas.pydata.org/pandas-docs/stable/user_guide/indexing.html#returning-a-view-versus-a-copy\n",
            "  This is separate from the ipykernel package so we can avoid doing imports until\n",
            "/usr/local/lib/python3.6/dist-packages/pandas/core/indexing.py:966: SettingWithCopyWarning: \n",
            "A value is trying to be set on a copy of a slice from a DataFrame.\n",
            "Try using .loc[row_indexer,col_indexer] = value instead\n",
            "\n",
            "See the caveats in the documentation: https://pandas.pydata.org/pandas-docs/stable/user_guide/indexing.html#returning-a-view-versus-a-copy\n",
            "  self.obj[item] = s\n",
            "/usr/local/lib/python3.6/dist-packages/ipykernel_launcher.py:2: SettingWithCopyWarning: \n",
            "A value is trying to be set on a copy of a slice from a DataFrame.\n",
            "Try using .loc[row_indexer,col_indexer] = value instead\n",
            "\n",
            "See the caveats in the documentation: https://pandas.pydata.org/pandas-docs/stable/user_guide/indexing.html#returning-a-view-versus-a-copy\n",
            "  \n",
            "/usr/local/lib/python3.6/dist-packages/pandas/core/indexing.py:966: SettingWithCopyWarning: \n",
            "A value is trying to be set on a copy of a slice from a DataFrame.\n",
            "Try using .loc[row_indexer,col_indexer] = value instead\n",
            "\n",
            "See the caveats in the documentation: https://pandas.pydata.org/pandas-docs/stable/user_guide/indexing.html#returning-a-view-versus-a-copy\n",
            "  self.obj[item] = s\n",
            "/usr/local/lib/python3.6/dist-packages/ipykernel_launcher.py:3: SettingWithCopyWarning: \n",
            "A value is trying to be set on a copy of a slice from a DataFrame.\n",
            "Try using .loc[row_indexer,col_indexer] = value instead\n",
            "\n",
            "See the caveats in the documentation: https://pandas.pydata.org/pandas-docs/stable/user_guide/indexing.html#returning-a-view-versus-a-copy\n",
            "  This is separate from the ipykernel package so we can avoid doing imports until\n",
            "/usr/local/lib/python3.6/dist-packages/pandas/core/indexing.py:966: SettingWithCopyWarning: \n",
            "A value is trying to be set on a copy of a slice from a DataFrame.\n",
            "Try using .loc[row_indexer,col_indexer] = value instead\n",
            "\n",
            "See the caveats in the documentation: https://pandas.pydata.org/pandas-docs/stable/user_guide/indexing.html#returning-a-view-versus-a-copy\n",
            "  self.obj[item] = s\n",
            "/usr/local/lib/python3.6/dist-packages/ipykernel_launcher.py:2: SettingWithCopyWarning: \n",
            "A value is trying to be set on a copy of a slice from a DataFrame.\n",
            "Try using .loc[row_indexer,col_indexer] = value instead\n",
            "\n",
            "See the caveats in the documentation: https://pandas.pydata.org/pandas-docs/stable/user_guide/indexing.html#returning-a-view-versus-a-copy\n",
            "  \n",
            "/usr/local/lib/python3.6/dist-packages/pandas/core/indexing.py:966: SettingWithCopyWarning: \n",
            "A value is trying to be set on a copy of a slice from a DataFrame.\n",
            "Try using .loc[row_indexer,col_indexer] = value instead\n",
            "\n",
            "See the caveats in the documentation: https://pandas.pydata.org/pandas-docs/stable/user_guide/indexing.html#returning-a-view-versus-a-copy\n",
            "  self.obj[item] = s\n",
            "/usr/local/lib/python3.6/dist-packages/ipykernel_launcher.py:3: SettingWithCopyWarning: \n",
            "A value is trying to be set on a copy of a slice from a DataFrame.\n",
            "Try using .loc[row_indexer,col_indexer] = value instead\n",
            "\n",
            "See the caveats in the documentation: https://pandas.pydata.org/pandas-docs/stable/user_guide/indexing.html#returning-a-view-versus-a-copy\n",
            "  This is separate from the ipykernel package so we can avoid doing imports until\n",
            "/usr/local/lib/python3.6/dist-packages/pandas/core/indexing.py:966: SettingWithCopyWarning: \n",
            "A value is trying to be set on a copy of a slice from a DataFrame.\n",
            "Try using .loc[row_indexer,col_indexer] = value instead\n",
            "\n",
            "See the caveats in the documentation: https://pandas.pydata.org/pandas-docs/stable/user_guide/indexing.html#returning-a-view-versus-a-copy\n",
            "  self.obj[item] = s\n",
            "/usr/local/lib/python3.6/dist-packages/ipykernel_launcher.py:2: SettingWithCopyWarning: \n",
            "A value is trying to be set on a copy of a slice from a DataFrame.\n",
            "Try using .loc[row_indexer,col_indexer] = value instead\n",
            "\n",
            "See the caveats in the documentation: https://pandas.pydata.org/pandas-docs/stable/user_guide/indexing.html#returning-a-view-versus-a-copy\n",
            "  \n",
            "/usr/local/lib/python3.6/dist-packages/pandas/core/indexing.py:966: SettingWithCopyWarning: \n",
            "A value is trying to be set on a copy of a slice from a DataFrame.\n",
            "Try using .loc[row_indexer,col_indexer] = value instead\n",
            "\n",
            "See the caveats in the documentation: https://pandas.pydata.org/pandas-docs/stable/user_guide/indexing.html#returning-a-view-versus-a-copy\n",
            "  self.obj[item] = s\n",
            "/usr/local/lib/python3.6/dist-packages/ipykernel_launcher.py:3: SettingWithCopyWarning: \n",
            "A value is trying to be set on a copy of a slice from a DataFrame.\n",
            "Try using .loc[row_indexer,col_indexer] = value instead\n",
            "\n",
            "See the caveats in the documentation: https://pandas.pydata.org/pandas-docs/stable/user_guide/indexing.html#returning-a-view-versus-a-copy\n",
            "  This is separate from the ipykernel package so we can avoid doing imports until\n",
            "/usr/local/lib/python3.6/dist-packages/pandas/core/indexing.py:966: SettingWithCopyWarning: \n",
            "A value is trying to be set on a copy of a slice from a DataFrame.\n",
            "Try using .loc[row_indexer,col_indexer] = value instead\n",
            "\n",
            "See the caveats in the documentation: https://pandas.pydata.org/pandas-docs/stable/user_guide/indexing.html#returning-a-view-versus-a-copy\n",
            "  self.obj[item] = s\n"
          ],
          "name": "stderr"
        }
      ]
    },
    {
      "cell_type": "code",
      "metadata": {
        "id": "nH_VFxJ2wgEd",
        "colab_type": "code",
        "colab": {}
      },
      "source": [
        "from keras.models import Sequential\n",
        "from keras.layers import Dense\n",
        "from keras.optimizers import SGD"
      ],
      "execution_count": 99,
      "outputs": []
    },
    {
      "cell_type": "code",
      "metadata": {
        "id": "mr5MeBOcwgHr",
        "colab_type": "code",
        "colab": {}
      },
      "source": [
        "n_inputs = 18\n",
        "n_h1 = 50\n",
        "n_h2 = 50\n",
        "n_outputs = 1\n",
        "\n",
        "#### optimizer = sgd\n",
        "\n",
        "m1 = Sequential()\n",
        "m1.add(Dense(n_h1, input_dim=18, kernel_initializer='normal', activation='relu'))\n",
        "m1.add(Dense(n_h2, input_dim=n_h1, kernel_initializer='normal', activation='relu'))\n",
        "m1.add(Dense(n_outputs, input_dim=n_h2, kernel_initializer='normal'))"
      ],
      "execution_count": 100,
      "outputs": []
    },
    {
      "cell_type": "code",
      "metadata": {
        "id": "88X-3-zt1czZ",
        "colab_type": "code",
        "colab": {
          "base_uri": "https://localhost:8080/",
          "height": 727
        },
        "outputId": "5ba991a9-b27e-4604-ae3e-cca48a6da33a"
      },
      "source": [
        "m1.compile(optimizer='adam', loss='mean_squared_error')\n",
        "hist1=m1.fit(shop_train_x_bedding[reg_col], y_train_bedding, epochs=20, batch_size=20)"
      ],
      "execution_count": 101,
      "outputs": [
        {
          "output_type": "stream",
          "text": [
            "Epoch 1/20\n",
            "10/10 [==============================] - 0s 1ms/step - loss: 24.5977\n",
            "Epoch 2/20\n",
            "10/10 [==============================] - 0s 1ms/step - loss: 23.7996\n",
            "Epoch 3/20\n",
            "10/10 [==============================] - 0s 1ms/step - loss: 22.1756\n",
            "Epoch 4/20\n",
            "10/10 [==============================] - 0s 1ms/step - loss: 19.0600\n",
            "Epoch 5/20\n",
            "10/10 [==============================] - 0s 2ms/step - loss: 14.1253\n",
            "Epoch 6/20\n",
            "10/10 [==============================] - 0s 1ms/step - loss: 8.0450\n",
            "Epoch 7/20\n",
            "10/10 [==============================] - 0s 1ms/step - loss: 3.7814\n",
            "Epoch 8/20\n",
            "10/10 [==============================] - 0s 1ms/step - loss: 2.8572\n",
            "Epoch 9/20\n",
            "10/10 [==============================] - 0s 2ms/step - loss: 2.7941\n",
            "Epoch 10/20\n",
            "10/10 [==============================] - 0s 1ms/step - loss: 2.4893\n",
            "Epoch 11/20\n",
            "10/10 [==============================] - 0s 1ms/step - loss: 2.3358\n",
            "Epoch 12/20\n",
            "10/10 [==============================] - 0s 1ms/step - loss: 2.2063\n",
            "Epoch 13/20\n",
            "10/10 [==============================] - 0s 1ms/step - loss: 2.0822\n",
            "Epoch 14/20\n",
            "10/10 [==============================] - 0s 2ms/step - loss: 1.9576\n",
            "Epoch 15/20\n",
            "10/10 [==============================] - 0s 3ms/step - loss: 1.8365\n",
            "Epoch 16/20\n",
            "10/10 [==============================] - 0s 2ms/step - loss: 1.7212\n",
            "Epoch 17/20\n",
            "10/10 [==============================] - 0s 2ms/step - loss: 1.6150\n",
            "Epoch 18/20\n",
            "10/10 [==============================] - 0s 1ms/step - loss: 1.5228\n",
            "Epoch 19/20\n",
            "10/10 [==============================] - 0s 1ms/step - loss: 1.4355\n",
            "Epoch 20/20\n",
            "10/10 [==============================] - 0s 2ms/step - loss: 1.3416\n"
          ],
          "name": "stdout"
        }
      ]
    },
    {
      "cell_type": "code",
      "metadata": {
        "id": "F7m8KrVizLZp",
        "colab_type": "code",
        "colab": {
          "base_uri": "https://localhost:8080/",
          "height": 1000
        },
        "outputId": "deeeef09-8ec9-455b-b4f7-0bf63fb135bd"
      },
      "source": [
        "pred_cate = []\n",
        "m1.compile(optimizer='adam', loss='mean_squared_error')\n",
        "for i in category_list:\n",
        "  hist1=m1.fit(globals()['shop_train_x_{}'.format(i)][reg_col], globals()['y_train_{}'.format(i)], epochs=20, batch_size=20)\n",
        "  pred_cate.append(m1.predict(globals()['shop_train_x_{}'.format(i)][reg_col]))"
      ],
      "execution_count": 102,
      "outputs": [
        {
          "output_type": "stream",
          "text": [
            "Epoch 1/20\n",
            "30/30 [==============================] - 0s 1ms/step - loss: 2.4886\n",
            "Epoch 2/20\n",
            "30/30 [==============================] - 0s 1ms/step - loss: 2.2007\n",
            "Epoch 3/20\n",
            "30/30 [==============================] - 0s 1ms/step - loss: 1.9916\n",
            "Epoch 4/20\n",
            "30/30 [==============================] - 0s 1ms/step - loss: 1.8815\n",
            "Epoch 5/20\n",
            "30/30 [==============================] - 0s 1ms/step - loss: 1.7617\n",
            "Epoch 6/20\n",
            "30/30 [==============================] - 0s 1ms/step - loss: 1.6286\n",
            "Epoch 7/20\n",
            "30/30 [==============================] - 0s 1ms/step - loss: 1.5901\n",
            "Epoch 8/20\n",
            "30/30 [==============================] - 0s 1ms/step - loss: 1.4945\n",
            "Epoch 9/20\n",
            "30/30 [==============================] - 0s 1ms/step - loss: 1.4065\n",
            "Epoch 10/20\n",
            "30/30 [==============================] - 0s 1ms/step - loss: 1.3386\n",
            "Epoch 11/20\n",
            "30/30 [==============================] - 0s 1ms/step - loss: 1.2922\n",
            "Epoch 12/20\n",
            "30/30 [==============================] - 0s 1ms/step - loss: 1.2720\n",
            "Epoch 13/20\n",
            "30/30 [==============================] - 0s 1ms/step - loss: 1.1877\n",
            "Epoch 14/20\n",
            "30/30 [==============================] - 0s 1ms/step - loss: 1.1483\n",
            "Epoch 15/20\n",
            "30/30 [==============================] - 0s 2ms/step - loss: 1.1299\n",
            "Epoch 16/20\n",
            "30/30 [==============================] - 0s 1ms/step - loss: 1.0668\n",
            "Epoch 17/20\n",
            "30/30 [==============================] - 0s 1ms/step - loss: 1.0481\n",
            "Epoch 18/20\n",
            "30/30 [==============================] - 0s 1ms/step - loss: 1.0376\n",
            "Epoch 19/20\n",
            "30/30 [==============================] - 0s 1ms/step - loss: 0.9913\n",
            "Epoch 20/20\n",
            "30/30 [==============================] - 0s 1ms/step - loss: 0.9789\n",
            "Epoch 1/20\n",
            "28/28 [==============================] - 0s 1ms/step - loss: 1.3658\n",
            "Epoch 2/20\n",
            "28/28 [==============================] - 0s 2ms/step - loss: 1.1361\n",
            "Epoch 3/20\n",
            "28/28 [==============================] - 0s 1ms/step - loss: 0.9597\n",
            "Epoch 4/20\n",
            "28/28 [==============================] - 0s 1ms/step - loss: 0.8812\n",
            "Epoch 5/20\n",
            "28/28 [==============================] - 0s 1ms/step - loss: 0.7810\n",
            "Epoch 6/20\n",
            "28/28 [==============================] - 0s 1ms/step - loss: 0.7467\n",
            "Epoch 7/20\n",
            "28/28 [==============================] - 0s 1ms/step - loss: 0.7363\n",
            "Epoch 8/20\n",
            "28/28 [==============================] - 0s 1ms/step - loss: 0.7033\n",
            "Epoch 9/20\n",
            "28/28 [==============================] - 0s 1ms/step - loss: 0.7170\n",
            "Epoch 10/20\n",
            "28/28 [==============================] - 0s 1ms/step - loss: 0.6961\n",
            "Epoch 11/20\n",
            "28/28 [==============================] - 0s 1ms/step - loss: 0.6871\n",
            "Epoch 12/20\n",
            "28/28 [==============================] - 0s 1ms/step - loss: 0.6862\n",
            "Epoch 13/20\n",
            "28/28 [==============================] - 0s 1ms/step - loss: 0.6900\n",
            "Epoch 14/20\n",
            "28/28 [==============================] - 0s 1ms/step - loss: 0.6839\n",
            "Epoch 15/20\n",
            "28/28 [==============================] - 0s 1ms/step - loss: 0.6863\n",
            "Epoch 16/20\n",
            "28/28 [==============================] - 0s 1ms/step - loss: 0.6762\n",
            "Epoch 17/20\n",
            "28/28 [==============================] - 0s 1ms/step - loss: 0.6962\n",
            "Epoch 18/20\n",
            "28/28 [==============================] - 0s 1ms/step - loss: 0.6788\n",
            "Epoch 19/20\n",
            "28/28 [==============================] - 0s 1ms/step - loss: 0.6922\n",
            "Epoch 20/20\n",
            "28/28 [==============================] - 0s 1ms/step - loss: 0.6751\n",
            "Epoch 1/20\n",
            "34/34 [==============================] - 0s 2ms/step - loss: 1.0915\n",
            "Epoch 2/20\n",
            "34/34 [==============================] - 0s 1ms/step - loss: 0.7575\n",
            "Epoch 3/20\n",
            "34/34 [==============================] - 0s 1ms/step - loss: 0.7236\n",
            "Epoch 4/20\n",
            "34/34 [==============================] - 0s 1ms/step - loss: 0.7080\n",
            "Epoch 5/20\n",
            "34/34 [==============================] - 0s 1ms/step - loss: 0.7037\n",
            "Epoch 6/20\n",
            "34/34 [==============================] - 0s 1ms/step - loss: 0.7034\n",
            "Epoch 7/20\n",
            "34/34 [==============================] - 0s 1ms/step - loss: 0.6965\n",
            "Epoch 8/20\n",
            "34/34 [==============================] - 0s 1ms/step - loss: 0.6954\n",
            "Epoch 9/20\n",
            "34/34 [==============================] - 0s 1ms/step - loss: 0.6947\n",
            "Epoch 10/20\n",
            "34/34 [==============================] - 0s 1ms/step - loss: 0.6893\n",
            "Epoch 11/20\n",
            "34/34 [==============================] - 0s 1ms/step - loss: 0.6995\n",
            "Epoch 12/20\n",
            "34/34 [==============================] - 0s 1ms/step - loss: 0.6911\n",
            "Epoch 13/20\n",
            "34/34 [==============================] - 0s 1ms/step - loss: 0.6926\n",
            "Epoch 14/20\n",
            "34/34 [==============================] - 0s 1ms/step - loss: 0.6909\n",
            "Epoch 15/20\n",
            "34/34 [==============================] - 0s 1ms/step - loss: 0.6811\n",
            "Epoch 16/20\n",
            "34/34 [==============================] - 0s 1ms/step - loss: 0.6850\n",
            "Epoch 17/20\n",
            "34/34 [==============================] - 0s 1ms/step - loss: 0.6829\n",
            "Epoch 18/20\n",
            "34/34 [==============================] - 0s 1ms/step - loss: 0.6833\n",
            "Epoch 19/20\n",
            "34/34 [==============================] - 0s 1ms/step - loss: 0.6820\n",
            "Epoch 20/20\n",
            "34/34 [==============================] - 0s 1ms/step - loss: 0.6816\n",
            "Epoch 1/20\n",
            "43/43 [==============================] - 0s 1ms/step - loss: 2.0700\n",
            "Epoch 2/20\n",
            "43/43 [==============================] - 0s 1ms/step - loss: 1.0267\n",
            "Epoch 3/20\n",
            "43/43 [==============================] - 0s 1ms/step - loss: 0.9714\n",
            "Epoch 4/20\n",
            "43/43 [==============================] - 0s 1ms/step - loss: 0.9332\n",
            "Epoch 5/20\n",
            "43/43 [==============================] - 0s 1ms/step - loss: 0.9267\n",
            "Epoch 6/20\n",
            "43/43 [==============================] - 0s 1ms/step - loss: 0.9129\n",
            "Epoch 7/20\n",
            "43/43 [==============================] - 0s 1ms/step - loss: 0.9099\n",
            "Epoch 8/20\n",
            "43/43 [==============================] - 0s 1ms/step - loss: 0.9117\n",
            "Epoch 9/20\n",
            "43/43 [==============================] - 0s 1ms/step - loss: 0.9128\n",
            "Epoch 10/20\n",
            "43/43 [==============================] - 0s 1ms/step - loss: 0.9115\n",
            "Epoch 11/20\n",
            "43/43 [==============================] - 0s 1ms/step - loss: 0.9263\n",
            "Epoch 12/20\n",
            "43/43 [==============================] - 0s 1ms/step - loss: 0.9053\n",
            "Epoch 13/20\n",
            "43/43 [==============================] - 0s 1ms/step - loss: 0.8910\n",
            "Epoch 14/20\n",
            "43/43 [==============================] - 0s 1ms/step - loss: 0.8853\n",
            "Epoch 15/20\n",
            "43/43 [==============================] - 0s 1ms/step - loss: 0.9170\n",
            "Epoch 16/20\n",
            "43/43 [==============================] - 0s 1ms/step - loss: 0.8818\n",
            "Epoch 17/20\n",
            "43/43 [==============================] - 0s 1ms/step - loss: 0.8761\n",
            "Epoch 18/20\n",
            "43/43 [==============================] - 0s 1ms/step - loss: 0.8846\n",
            "Epoch 19/20\n",
            "43/43 [==============================] - 0s 1ms/step - loss: 0.8906\n",
            "Epoch 20/20\n",
            "43/43 [==============================] - 0s 1ms/step - loss: 0.8924\n",
            "Epoch 1/20\n",
            "32/32 [==============================] - 0s 1ms/step - loss: 0.8509\n",
            "Epoch 2/20\n",
            "32/32 [==============================] - 0s 1ms/step - loss: 0.5414\n",
            "Epoch 3/20\n",
            "32/32 [==============================] - 0s 1ms/step - loss: 0.4506\n",
            "Epoch 4/20\n",
            "32/32 [==============================] - 0s 1ms/step - loss: 0.3996\n",
            "Epoch 5/20\n",
            "32/32 [==============================] - 0s 1ms/step - loss: 0.3627\n",
            "Epoch 6/20\n",
            "32/32 [==============================] - 0s 1ms/step - loss: 0.3470\n",
            "Epoch 7/20\n",
            "32/32 [==============================] - 0s 1ms/step - loss: 0.3315\n",
            "Epoch 8/20\n",
            "32/32 [==============================] - 0s 1ms/step - loss: 0.3181\n",
            "Epoch 9/20\n",
            "32/32 [==============================] - 0s 1ms/step - loss: 0.3203\n",
            "Epoch 10/20\n",
            "32/32 [==============================] - 0s 1ms/step - loss: 0.3177\n",
            "Epoch 11/20\n",
            "32/32 [==============================] - 0s 1000us/step - loss: 0.3199\n",
            "Epoch 12/20\n",
            "32/32 [==============================] - 0s 1ms/step - loss: 0.3043\n",
            "Epoch 13/20\n",
            "32/32 [==============================] - 0s 1ms/step - loss: 0.3147\n",
            "Epoch 14/20\n",
            "32/32 [==============================] - 0s 1ms/step - loss: 0.3139\n",
            "Epoch 15/20\n",
            "32/32 [==============================] - 0s 1ms/step - loss: 0.3054\n",
            "Epoch 16/20\n",
            "32/32 [==============================] - 0s 1ms/step - loss: 0.3044\n",
            "Epoch 17/20\n",
            "32/32 [==============================] - 0s 1ms/step - loss: 0.3017\n",
            "Epoch 18/20\n",
            "32/32 [==============================] - 0s 1ms/step - loss: 0.3101\n",
            "Epoch 19/20\n",
            "32/32 [==============================] - 0s 1ms/step - loss: 0.3095\n",
            "Epoch 20/20\n",
            "32/32 [==============================] - 0s 1ms/step - loss: 0.3072\n",
            "Epoch 1/20\n",
            "6/6 [==============================] - 0s 2ms/step - loss: 1.4779\n",
            "Epoch 2/20\n",
            "6/6 [==============================] - 0s 2ms/step - loss: 0.9108\n",
            "Epoch 3/20\n",
            "6/6 [==============================] - 0s 2ms/step - loss: 0.8526\n",
            "Epoch 4/20\n",
            "6/6 [==============================] - 0s 1ms/step - loss: 0.6251\n",
            "Epoch 5/20\n",
            "6/6 [==============================] - 0s 1ms/step - loss: 0.6043\n",
            "Epoch 6/20\n",
            "6/6 [==============================] - 0s 2ms/step - loss: 0.5449\n",
            "Epoch 7/20\n",
            "6/6 [==============================] - 0s 2ms/step - loss: 0.5326\n",
            "Epoch 8/20\n",
            "6/6 [==============================] - 0s 2ms/step - loss: 0.4881\n",
            "Epoch 9/20\n",
            "6/6 [==============================] - 0s 2ms/step - loss: 0.4932\n",
            "Epoch 10/20\n",
            "6/6 [==============================] - 0s 2ms/step - loss: 0.4869\n",
            "Epoch 11/20\n",
            "6/6 [==============================] - 0s 2ms/step - loss: 0.4743\n",
            "Epoch 12/20\n",
            "6/6 [==============================] - 0s 2ms/step - loss: 0.4584\n",
            "Epoch 13/20\n",
            "6/6 [==============================] - 0s 2ms/step - loss: 0.4491\n",
            "Epoch 14/20\n",
            "6/6 [==============================] - 0s 3ms/step - loss: 0.4452\n",
            "Epoch 15/20\n",
            "6/6 [==============================] - 0s 2ms/step - loss: 0.4413\n",
            "Epoch 16/20\n",
            "6/6 [==============================] - 0s 2ms/step - loss: 0.4360\n",
            "Epoch 17/20\n",
            "6/6 [==============================] - 0s 2ms/step - loss: 0.4328\n",
            "Epoch 18/20\n",
            "6/6 [==============================] - 0s 2ms/step - loss: 0.4246\n",
            "Epoch 19/20\n",
            "6/6 [==============================] - 0s 2ms/step - loss: 0.4205\n",
            "Epoch 20/20\n",
            "6/6 [==============================] - 0s 2ms/step - loss: 0.4186\n",
            "Epoch 1/20\n",
            "10/10 [==============================] - 0s 2ms/step - loss: 0.7353\n",
            "Epoch 2/20\n",
            "10/10 [==============================] - 0s 2ms/step - loss: 0.6078\n",
            "Epoch 3/20\n",
            "10/10 [==============================] - 0s 1ms/step - loss: 0.5463\n",
            "Epoch 4/20\n",
            "10/10 [==============================] - 0s 1ms/step - loss: 0.5074\n",
            "Epoch 5/20\n",
            "10/10 [==============================] - 0s 2ms/step - loss: 0.4982\n",
            "Epoch 6/20\n",
            "10/10 [==============================] - 0s 1ms/step - loss: 0.4854\n",
            "Epoch 7/20\n",
            "10/10 [==============================] - 0s 2ms/step - loss: 0.4769\n",
            "Epoch 8/20\n",
            "10/10 [==============================] - 0s 1ms/step - loss: 0.4717\n",
            "Epoch 9/20\n",
            "10/10 [==============================] - 0s 2ms/step - loss: 0.4636\n",
            "Epoch 10/20\n",
            "10/10 [==============================] - 0s 1ms/step - loss: 0.4748\n",
            "Epoch 11/20\n",
            "10/10 [==============================] - 0s 1ms/step - loss: 0.4542\n",
            "Epoch 12/20\n",
            "10/10 [==============================] - 0s 2ms/step - loss: 0.4575\n",
            "Epoch 13/20\n",
            "10/10 [==============================] - 0s 2ms/step - loss: 0.4489\n",
            "Epoch 14/20\n",
            "10/10 [==============================] - 0s 2ms/step - loss: 0.4532\n",
            "Epoch 15/20\n",
            "10/10 [==============================] - 0s 1ms/step - loss: 0.4376\n",
            "Epoch 16/20\n",
            "10/10 [==============================] - 0s 1ms/step - loss: 0.4604\n",
            "Epoch 17/20\n",
            "10/10 [==============================] - 0s 1ms/step - loss: 0.4563\n",
            "Epoch 18/20\n",
            "10/10 [==============================] - 0s 1ms/step - loss: 0.4328\n",
            "Epoch 19/20\n",
            "10/10 [==============================] - 0s 2ms/step - loss: 0.4403\n",
            "Epoch 20/20\n",
            "10/10 [==============================] - 0s 2ms/step - loss: 0.4352\n",
            "Epoch 1/20\n",
            "16/16 [==============================] - 0s 1ms/step - loss: 2.1302\n",
            "Epoch 2/20\n",
            "16/16 [==============================] - 0s 1ms/step - loss: 1.2665\n",
            "Epoch 3/20\n",
            "16/16 [==============================] - 0s 2ms/step - loss: 0.8758\n",
            "Epoch 4/20\n",
            "16/16 [==============================] - 0s 1ms/step - loss: 0.8722\n",
            "Epoch 5/20\n",
            "16/16 [==============================] - 0s 1ms/step - loss: 0.8503\n",
            "Epoch 6/20\n",
            "16/16 [==============================] - 0s 1ms/step - loss: 0.8373\n",
            "Epoch 7/20\n",
            "16/16 [==============================] - 0s 2ms/step - loss: 0.8345\n",
            "Epoch 8/20\n",
            "16/16 [==============================] - 0s 2ms/step - loss: 0.8275\n",
            "Epoch 9/20\n",
            "16/16 [==============================] - 0s 1ms/step - loss: 0.8238\n",
            "Epoch 10/20\n",
            "16/16 [==============================] - 0s 1ms/step - loss: 0.8213\n",
            "Epoch 11/20\n",
            "16/16 [==============================] - 0s 1ms/step - loss: 0.8177\n",
            "Epoch 12/20\n",
            "16/16 [==============================] - 0s 2ms/step - loss: 0.8173\n",
            "Epoch 13/20\n",
            "16/16 [==============================] - 0s 1ms/step - loss: 0.8186\n",
            "Epoch 14/20\n",
            "16/16 [==============================] - 0s 2ms/step - loss: 0.8086\n",
            "Epoch 15/20\n",
            "16/16 [==============================] - 0s 1ms/step - loss: 0.8076\n",
            "Epoch 16/20\n",
            "16/16 [==============================] - 0s 1ms/step - loss: 0.8076\n",
            "Epoch 17/20\n",
            "16/16 [==============================] - 0s 1ms/step - loss: 0.8061\n",
            "Epoch 18/20\n",
            "16/16 [==============================] - 0s 1ms/step - loss: 0.8032\n",
            "Epoch 19/20\n",
            "16/16 [==============================] - 0s 1ms/step - loss: 0.7998\n",
            "Epoch 20/20\n",
            "16/16 [==============================] - 0s 1ms/step - loss: 0.8071\n",
            "Epoch 1/20\n",
            "8/8 [==============================] - 0s 2ms/step - loss: 10.2758\n",
            "Epoch 2/20\n",
            "8/8 [==============================] - 0s 2ms/step - loss: 2.4006\n",
            "Epoch 3/20\n",
            "8/8 [==============================] - 0s 2ms/step - loss: 1.8620\n",
            "Epoch 4/20\n",
            "8/8 [==============================] - 0s 2ms/step - loss: 1.5560\n",
            "Epoch 5/20\n",
            "8/8 [==============================] - 0s 1ms/step - loss: 0.8913\n",
            "Epoch 6/20\n",
            "8/8 [==============================] - 0s 1ms/step - loss: 0.7347\n",
            "Epoch 7/20\n",
            "8/8 [==============================] - 0s 2ms/step - loss: 0.5813\n",
            "Epoch 8/20\n",
            "8/8 [==============================] - 0s 2ms/step - loss: 0.5217\n",
            "Epoch 9/20\n",
            "8/8 [==============================] - 0s 2ms/step - loss: 0.4813\n",
            "Epoch 10/20\n",
            "8/8 [==============================] - 0s 1ms/step - loss: 0.4655\n",
            "Epoch 11/20\n",
            "8/8 [==============================] - 0s 2ms/step - loss: 0.4488\n",
            "Epoch 12/20\n",
            "8/8 [==============================] - 0s 2ms/step - loss: 0.4410\n",
            "Epoch 13/20\n",
            "8/8 [==============================] - 0s 2ms/step - loss: 0.4357\n",
            "Epoch 14/20\n",
            "8/8 [==============================] - 0s 2ms/step - loss: 0.4329\n",
            "Epoch 15/20\n",
            "8/8 [==============================] - 0s 2ms/step - loss: 0.4345\n",
            "Epoch 16/20\n",
            "8/8 [==============================] - 0s 2ms/step - loss: 0.4258\n",
            "Epoch 17/20\n",
            "8/8 [==============================] - 0s 2ms/step - loss: 0.4264\n",
            "Epoch 18/20\n",
            "8/8 [==============================] - 0s 1ms/step - loss: 0.4266\n",
            "Epoch 19/20\n",
            "8/8 [==============================] - 0s 2ms/step - loss: 0.4315\n",
            "Epoch 20/20\n",
            "8/8 [==============================] - 0s 2ms/step - loss: 0.4246\n",
            "Epoch 1/20\n",
            "34/34 [==============================] - 0s 2ms/step - loss: 4.0483\n",
            "Epoch 2/20\n",
            "34/34 [==============================] - 0s 1ms/step - loss: 2.3256\n",
            "Epoch 3/20\n",
            "34/34 [==============================] - 0s 1ms/step - loss: 1.5460\n",
            "Epoch 4/20\n",
            "34/34 [==============================] - 0s 1ms/step - loss: 1.0671\n",
            "Epoch 5/20\n",
            "34/34 [==============================] - 0s 1ms/step - loss: 0.8628\n",
            "Epoch 6/20\n",
            "34/34 [==============================] - 0s 1ms/step - loss: 0.7993\n",
            "Epoch 7/20\n",
            "34/34 [==============================] - 0s 1ms/step - loss: 0.7787\n",
            "Epoch 8/20\n",
            "34/34 [==============================] - 0s 1ms/step - loss: 0.7652\n",
            "Epoch 9/20\n",
            "34/34 [==============================] - 0s 1ms/step - loss: 0.7564\n",
            "Epoch 10/20\n",
            "34/34 [==============================] - 0s 1ms/step - loss: 0.7605\n",
            "Epoch 11/20\n",
            "34/34 [==============================] - 0s 1ms/step - loss: 0.7499\n",
            "Epoch 12/20\n",
            "34/34 [==============================] - 0s 1ms/step - loss: 0.7565\n",
            "Epoch 13/20\n",
            "34/34 [==============================] - 0s 1ms/step - loss: 0.7502\n",
            "Epoch 14/20\n",
            "34/34 [==============================] - 0s 1ms/step - loss: 0.7471\n",
            "Epoch 15/20\n",
            "34/34 [==============================] - 0s 1ms/step - loss: 0.7446\n",
            "Epoch 16/20\n",
            "34/34 [==============================] - 0s 1ms/step - loss: 0.7437\n",
            "Epoch 17/20\n",
            "34/34 [==============================] - 0s 1ms/step - loss: 0.7374\n",
            "Epoch 18/20\n",
            "34/34 [==============================] - 0s 1ms/step - loss: 0.7479\n",
            "Epoch 19/20\n",
            "34/34 [==============================] - 0s 1ms/step - loss: 0.7463\n",
            "Epoch 20/20\n",
            "34/34 [==============================] - 0s 1ms/step - loss: 0.7508\n",
            "Epoch 1/20\n",
            "15/15 [==============================] - 0s 1ms/step - loss: 1.6616\n",
            "Epoch 2/20\n",
            "15/15 [==============================] - 0s 1ms/step - loss: 1.3677\n",
            "Epoch 3/20\n",
            "15/15 [==============================] - 0s 1ms/step - loss: 1.2906\n",
            "Epoch 4/20\n",
            "15/15 [==============================] - 0s 1ms/step - loss: 1.2297\n",
            "Epoch 5/20\n",
            "15/15 [==============================] - 0s 1ms/step - loss: 1.2020\n",
            "Epoch 6/20\n",
            "15/15 [==============================] - 0s 1ms/step - loss: 1.1989\n",
            "Epoch 7/20\n",
            "15/15 [==============================] - 0s 1ms/step - loss: 1.1573\n",
            "Epoch 8/20\n",
            "15/15 [==============================] - 0s 2ms/step - loss: 1.1761\n",
            "Epoch 9/20\n",
            "15/15 [==============================] - 0s 1ms/step - loss: 1.1519\n",
            "Epoch 10/20\n",
            "15/15 [==============================] - 0s 1ms/step - loss: 1.1118\n",
            "Epoch 11/20\n",
            "15/15 [==============================] - 0s 2ms/step - loss: 1.1135\n",
            "Epoch 12/20\n",
            "15/15 [==============================] - 0s 1ms/step - loss: 1.1129\n",
            "Epoch 13/20\n",
            "15/15 [==============================] - 0s 1ms/step - loss: 1.0994\n",
            "Epoch 14/20\n",
            "15/15 [==============================] - 0s 1ms/step - loss: 1.1019\n",
            "Epoch 15/20\n",
            "15/15 [==============================] - 0s 1ms/step - loss: 1.1004\n",
            "Epoch 16/20\n",
            "15/15 [==============================] - 0s 1ms/step - loss: 1.1052\n",
            "Epoch 17/20\n",
            "15/15 [==============================] - 0s 2ms/step - loss: 1.1118\n",
            "Epoch 18/20\n",
            "15/15 [==============================] - 0s 1ms/step - loss: 1.0799\n",
            "Epoch 19/20\n",
            "15/15 [==============================] - 0s 1ms/step - loss: 1.0697\n",
            "Epoch 20/20\n",
            "15/15 [==============================] - 0s 1ms/step - loss: 1.0791\n"
          ],
          "name": "stdout"
        }
      ]
    },
    {
      "cell_type": "code",
      "metadata": {
        "id": "fIbHhO1SzLmT",
        "colab_type": "code",
        "colab": {}
      },
      "source": [
        "pred = m1.predict(shop_train_x_bedding[reg_col])"
      ],
      "execution_count": 103,
      "outputs": []
    },
    {
      "cell_type": "code",
      "metadata": {
        "id": "rdEJLwX1zLpe",
        "colab_type": "code",
        "colab": {
          "base_uri": "https://localhost:8080/",
          "height": 34
        },
        "outputId": "8a9814c4-3740-415d-b81a-9fa7d55e2e90"
      },
      "source": [
        "mape_dnn = mean_absolute_percentage_error(y_train_bedding, pred)\n",
        "mape_dnn"
      ],
      "execution_count": 104,
      "outputs": [
        {
          "output_type": "execute_result",
          "data": {
            "text/plain": [
              "24.648135417443154"
            ]
          },
          "metadata": {
            "tags": []
          },
          "execution_count": 104
        }
      ]
    },
    {
      "cell_type": "code",
      "metadata": {
        "id": "2n7vHtqszLuT",
        "colab_type": "code",
        "colab": {}
      },
      "source": [
        "mape_dnn_cate = []\n",
        "num = 0\n",
        "for i in category_list:\n",
        "  mape_dnn_cate.append(mean_absolute_percentage_error((globals()['y_train_{}'.format(i)]),pred_cate[num]))\n",
        "  num += 1"
      ],
      "execution_count": 105,
      "outputs": []
    },
    {
      "cell_type": "code",
      "metadata": {
        "id": "GnSaOdbV34JN",
        "colab_type": "code",
        "colab": {
          "base_uri": "https://localhost:8080/",
          "height": 212
        },
        "outputId": "a2a11be2-f95e-4dfe-f153-e96a45e100af"
      },
      "source": [
        "for i in range(len(category_list)):\n",
        "  print(\"DNN MAPE score of:\",category_list[i],\":\",mape_dnn_cate[i])"
      ],
      "execution_count": 106,
      "outputs": [
        {
          "output_type": "stream",
          "text": [
            "DNN MAPE score of: inner : 18.191742605767843\n",
            "DNN MAPE score of: cloth : 34.65108869478195\n",
            "DNN MAPE score of: elec : 67.1960132306311\n",
            "DNN MAPE score of: living : 29.62149396140562\n",
            "DNN MAPE score of: food : 7.177551804395491\n",
            "DNN MAPE score of: health : 17.036938778671914\n",
            "DNN MAPE score of: bedding : 16.488362940792836\n",
            "DNN MAPE score of: furniture : 49.2430906373907\n",
            "DNN MAPE score of: beauty : 10.528048993281871\n",
            "DNN MAPE score of: etc : 103.32058169578244\n",
            "DNN MAPE score of: life : 35.79147585483501\n"
          ],
          "name": "stdout"
        }
      ]
    },
    {
      "cell_type": "code",
      "metadata": {
        "id": "0_x_JIEQW9lI",
        "colab_type": "code",
        "colab": {
          "base_uri": "https://localhost:8080/",
          "height": 34
        },
        "outputId": "45a46bba-70b0-4c0d-84cf-befaf8cc2cb9"
      },
      "source": [
        "pd.Series(mape_dnn_cate).mean()"
      ],
      "execution_count": 107,
      "outputs": [
        {
          "output_type": "execute_result",
          "data": {
            "text/plain": [
              "35.38603538161244"
            ]
          },
          "metadata": {
            "tags": []
          },
          "execution_count": 107
        }
      ]
    }
  ]
}