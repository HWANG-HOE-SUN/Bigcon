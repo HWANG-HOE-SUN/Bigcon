{
  "nbformat": 4,
  "nbformat_minor": 0,
  "metadata": {
    "colab": {
      "name": "BigCon1.ipynb",
      "provenance": [],
      "collapsed_sections": [],
      "toc_visible": true,
      "authorship_tag": "ABX9TyP3BH1SUoT+xEcEb1X76hny",
      "include_colab_link": true
    },
    "kernelspec": {
      "name": "python3",
      "display_name": "Python 3"
    }
  },
  "cells": [
    {
      "cell_type": "markdown",
      "metadata": {
        "id": "view-in-github",
        "colab_type": "text"
      },
      "source": [
        "<a href=\"https://colab.research.google.com/github/HWANG-HOE-SUN/bigcon/blob/master/BigCon1.ipynb\" target=\"_parent\"><img src=\"https://colab.research.google.com/assets/colab-badge.svg\" alt=\"Open In Colab\"/></a>"
      ]
    },
    {
      "cell_type": "code",
      "metadata": {
        "id": "4P2CPfKh-Oy5",
        "colab_type": "code",
        "colab": {
          "base_uri": "https://localhost:8080/",
          "height": 125
        },
        "outputId": "6b36a835-d0fe-4b2b-b6d2-a81e0f0bf485"
      },
      "source": [
        "!git clone https://github.com/HWANG-HOE-SUN/GitTest.git"
      ],
      "execution_count": null,
      "outputs": [
        {
          "output_type": "stream",
          "text": [
            "Cloning into 'GitTest'...\n",
            "remote: Enumerating objects: 8, done.\u001b[K\n",
            "remote: Counting objects: 100% (8/8), done.\u001b[K\n",
            "remote: Compressing objects: 100% (4/4), done.\u001b[K\n",
            "remote: Total 8 (delta 0), reused 0 (delta 0), pack-reused 0\u001b[K\n",
            "Unpacking objects: 100% (8/8), done.\n"
          ],
          "name": "stdout"
        }
      ]
    },
    {
      "cell_type": "code",
      "metadata": {
        "id": "Bfq1ovDgBB5Z",
        "colab_type": "code",
        "colab": {
          "base_uri": "https://localhost:8080/",
          "height": 556
        },
        "outputId": "fa1d6e5d-8dc3-4f58-cded-d7e1173423f8"
      },
      "source": [
        "from google.colab import drive\n",
        "drive.mount('/gdrive')"
      ],
      "execution_count": null,
      "outputs": [
        {
          "output_type": "error",
          "ename": "KeyboardInterrupt",
          "evalue": "ignored",
          "traceback": [
            "\u001b[0;31m---------------------------------------------------------------------------\u001b[0m",
            "\u001b[0;31mKeyboardInterrupt\u001b[0m                         Traceback (most recent call last)",
            "\u001b[0;32m/usr/local/lib/python3.6/dist-packages/ipykernel/kernelbase.py\u001b[0m in \u001b[0;36m_input_request\u001b[0;34m(self, prompt, ident, parent, password)\u001b[0m\n\u001b[1;32m    728\u001b[0m             \u001b[0;32mtry\u001b[0m\u001b[0;34m:\u001b[0m\u001b[0;34m\u001b[0m\u001b[0;34m\u001b[0m\u001b[0m\n\u001b[0;32m--> 729\u001b[0;31m                 \u001b[0mident\u001b[0m\u001b[0;34m,\u001b[0m \u001b[0mreply\u001b[0m \u001b[0;34m=\u001b[0m \u001b[0mself\u001b[0m\u001b[0;34m.\u001b[0m\u001b[0msession\u001b[0m\u001b[0;34m.\u001b[0m\u001b[0mrecv\u001b[0m\u001b[0;34m(\u001b[0m\u001b[0mself\u001b[0m\u001b[0;34m.\u001b[0m\u001b[0mstdin_socket\u001b[0m\u001b[0;34m,\u001b[0m \u001b[0;36m0\u001b[0m\u001b[0;34m)\u001b[0m\u001b[0;34m\u001b[0m\u001b[0;34m\u001b[0m\u001b[0m\n\u001b[0m\u001b[1;32m    730\u001b[0m             \u001b[0;32mexcept\u001b[0m \u001b[0mException\u001b[0m\u001b[0;34m:\u001b[0m\u001b[0;34m\u001b[0m\u001b[0;34m\u001b[0m\u001b[0m\n",
            "\u001b[0;32m/usr/local/lib/python3.6/dist-packages/jupyter_client/session.py\u001b[0m in \u001b[0;36mrecv\u001b[0;34m(self, socket, mode, content, copy)\u001b[0m\n\u001b[1;32m    802\u001b[0m         \u001b[0;32mtry\u001b[0m\u001b[0;34m:\u001b[0m\u001b[0;34m\u001b[0m\u001b[0;34m\u001b[0m\u001b[0m\n\u001b[0;32m--> 803\u001b[0;31m             \u001b[0mmsg_list\u001b[0m \u001b[0;34m=\u001b[0m \u001b[0msocket\u001b[0m\u001b[0;34m.\u001b[0m\u001b[0mrecv_multipart\u001b[0m\u001b[0;34m(\u001b[0m\u001b[0mmode\u001b[0m\u001b[0;34m,\u001b[0m \u001b[0mcopy\u001b[0m\u001b[0;34m=\u001b[0m\u001b[0mcopy\u001b[0m\u001b[0;34m)\u001b[0m\u001b[0;34m\u001b[0m\u001b[0;34m\u001b[0m\u001b[0m\n\u001b[0m\u001b[1;32m    804\u001b[0m         \u001b[0;32mexcept\u001b[0m \u001b[0mzmq\u001b[0m\u001b[0;34m.\u001b[0m\u001b[0mZMQError\u001b[0m \u001b[0;32mas\u001b[0m \u001b[0me\u001b[0m\u001b[0;34m:\u001b[0m\u001b[0;34m\u001b[0m\u001b[0;34m\u001b[0m\u001b[0m\n",
            "\u001b[0;32m/usr/local/lib/python3.6/dist-packages/zmq/sugar/socket.py\u001b[0m in \u001b[0;36mrecv_multipart\u001b[0;34m(self, flags, copy, track)\u001b[0m\n\u001b[1;32m    490\u001b[0m         \"\"\"\n\u001b[0;32m--> 491\u001b[0;31m         \u001b[0mparts\u001b[0m \u001b[0;34m=\u001b[0m \u001b[0;34m[\u001b[0m\u001b[0mself\u001b[0m\u001b[0;34m.\u001b[0m\u001b[0mrecv\u001b[0m\u001b[0;34m(\u001b[0m\u001b[0mflags\u001b[0m\u001b[0;34m,\u001b[0m \u001b[0mcopy\u001b[0m\u001b[0;34m=\u001b[0m\u001b[0mcopy\u001b[0m\u001b[0;34m,\u001b[0m \u001b[0mtrack\u001b[0m\u001b[0;34m=\u001b[0m\u001b[0mtrack\u001b[0m\u001b[0;34m)\u001b[0m\u001b[0;34m]\u001b[0m\u001b[0;34m\u001b[0m\u001b[0;34m\u001b[0m\u001b[0m\n\u001b[0m\u001b[1;32m    492\u001b[0m         \u001b[0;31m# have first part already, only loop while more to receive\u001b[0m\u001b[0;34m\u001b[0m\u001b[0;34m\u001b[0m\u001b[0;34m\u001b[0m\u001b[0m\n",
            "\u001b[0;32mzmq/backend/cython/socket.pyx\u001b[0m in \u001b[0;36mzmq.backend.cython.socket.Socket.recv\u001b[0;34m()\u001b[0m\n",
            "\u001b[0;32mzmq/backend/cython/socket.pyx\u001b[0m in \u001b[0;36mzmq.backend.cython.socket.Socket.recv\u001b[0;34m()\u001b[0m\n",
            "\u001b[0;32mzmq/backend/cython/socket.pyx\u001b[0m in \u001b[0;36mzmq.backend.cython.socket._recv_copy\u001b[0;34m()\u001b[0m\n",
            "\u001b[0;32m/usr/local/lib/python3.6/dist-packages/zmq/backend/cython/checkrc.pxd\u001b[0m in \u001b[0;36mzmq.backend.cython.checkrc._check_rc\u001b[0;34m()\u001b[0m\n",
            "\u001b[0;31mKeyboardInterrupt\u001b[0m: ",
            "\nDuring handling of the above exception, another exception occurred:\n",
            "\u001b[0;31mKeyboardInterrupt\u001b[0m                         Traceback (most recent call last)",
            "\u001b[0;32m<ipython-input-2-e5b0420cd036>\u001b[0m in \u001b[0;36m<module>\u001b[0;34m()\u001b[0m\n\u001b[1;32m      1\u001b[0m \u001b[0;32mfrom\u001b[0m \u001b[0mgoogle\u001b[0m\u001b[0;34m.\u001b[0m\u001b[0mcolab\u001b[0m \u001b[0;32mimport\u001b[0m \u001b[0mdrive\u001b[0m\u001b[0;34m\u001b[0m\u001b[0;34m\u001b[0m\u001b[0m\n\u001b[0;32m----> 2\u001b[0;31m \u001b[0mdrive\u001b[0m\u001b[0;34m.\u001b[0m\u001b[0mmount\u001b[0m\u001b[0;34m(\u001b[0m\u001b[0;34m'/gdrive'\u001b[0m\u001b[0;34m)\u001b[0m\u001b[0;34m\u001b[0m\u001b[0;34m\u001b[0m\u001b[0m\n\u001b[0m",
            "\u001b[0;32m/usr/local/lib/python3.6/dist-packages/google/colab/drive.py\u001b[0m in \u001b[0;36mmount\u001b[0;34m(mountpoint, force_remount, timeout_ms, use_metadata_server)\u001b[0m\n\u001b[1;32m    240\u001b[0m       \u001b[0mauth_prompt\u001b[0m \u001b[0;34m=\u001b[0m \u001b[0md\u001b[0m\u001b[0;34m.\u001b[0m\u001b[0mmatch\u001b[0m\u001b[0;34m.\u001b[0m\u001b[0mgroup\u001b[0m\u001b[0;34m(\u001b[0m\u001b[0;36m1\u001b[0m\u001b[0;34m)\u001b[0m \u001b[0;34m+\u001b[0m \u001b[0;34m'\\nEnter your authorization code:\\n'\u001b[0m\u001b[0;34m\u001b[0m\u001b[0;34m\u001b[0m\u001b[0m\n\u001b[1;32m    241\u001b[0m       \u001b[0;32mwith\u001b[0m \u001b[0mopen\u001b[0m\u001b[0;34m(\u001b[0m\u001b[0mfifo\u001b[0m\u001b[0;34m,\u001b[0m \u001b[0;34m'w'\u001b[0m\u001b[0;34m)\u001b[0m \u001b[0;32mas\u001b[0m \u001b[0mfifo_file\u001b[0m\u001b[0;34m:\u001b[0m\u001b[0;34m\u001b[0m\u001b[0;34m\u001b[0m\u001b[0m\n\u001b[0;32m--> 242\u001b[0;31m         \u001b[0mfifo_file\u001b[0m\u001b[0;34m.\u001b[0m\u001b[0mwrite\u001b[0m\u001b[0;34m(\u001b[0m\u001b[0m_getpass\u001b[0m\u001b[0;34m.\u001b[0m\u001b[0mgetpass\u001b[0m\u001b[0;34m(\u001b[0m\u001b[0mauth_prompt\u001b[0m\u001b[0;34m)\u001b[0m \u001b[0;34m+\u001b[0m \u001b[0;34m'\\n'\u001b[0m\u001b[0;34m)\u001b[0m\u001b[0;34m\u001b[0m\u001b[0;34m\u001b[0m\u001b[0m\n\u001b[0m\u001b[1;32m    243\u001b[0m       \u001b[0mwrote_to_fifo\u001b[0m \u001b[0;34m=\u001b[0m \u001b[0;32mTrue\u001b[0m\u001b[0;34m\u001b[0m\u001b[0;34m\u001b[0m\u001b[0m\n\u001b[1;32m    244\u001b[0m   \u001b[0;32mif\u001b[0m \u001b[0;32mnot\u001b[0m \u001b[0mwrote_to_fifo\u001b[0m\u001b[0;34m:\u001b[0m\u001b[0;34m\u001b[0m\u001b[0;34m\u001b[0m\u001b[0m\n",
            "\u001b[0;32m/usr/local/lib/python3.6/dist-packages/ipykernel/kernelbase.py\u001b[0m in \u001b[0;36mgetpass\u001b[0;34m(self, prompt, stream)\u001b[0m\n\u001b[1;32m    685\u001b[0m             \u001b[0mself\u001b[0m\u001b[0;34m.\u001b[0m\u001b[0m_parent_ident\u001b[0m\u001b[0;34m,\u001b[0m\u001b[0;34m\u001b[0m\u001b[0;34m\u001b[0m\u001b[0m\n\u001b[1;32m    686\u001b[0m             \u001b[0mself\u001b[0m\u001b[0;34m.\u001b[0m\u001b[0m_parent_header\u001b[0m\u001b[0;34m,\u001b[0m\u001b[0;34m\u001b[0m\u001b[0;34m\u001b[0m\u001b[0m\n\u001b[0;32m--> 687\u001b[0;31m             \u001b[0mpassword\u001b[0m\u001b[0;34m=\u001b[0m\u001b[0;32mTrue\u001b[0m\u001b[0;34m,\u001b[0m\u001b[0;34m\u001b[0m\u001b[0;34m\u001b[0m\u001b[0m\n\u001b[0m\u001b[1;32m    688\u001b[0m         )\n\u001b[1;32m    689\u001b[0m \u001b[0;34m\u001b[0m\u001b[0m\n",
            "\u001b[0;32m/usr/local/lib/python3.6/dist-packages/ipykernel/kernelbase.py\u001b[0m in \u001b[0;36m_input_request\u001b[0;34m(self, prompt, ident, parent, password)\u001b[0m\n\u001b[1;32m    732\u001b[0m             \u001b[0;32mexcept\u001b[0m \u001b[0mKeyboardInterrupt\u001b[0m\u001b[0;34m:\u001b[0m\u001b[0;34m\u001b[0m\u001b[0;34m\u001b[0m\u001b[0m\n\u001b[1;32m    733\u001b[0m                 \u001b[0;31m# re-raise KeyboardInterrupt, to truncate traceback\u001b[0m\u001b[0;34m\u001b[0m\u001b[0;34m\u001b[0m\u001b[0;34m\u001b[0m\u001b[0m\n\u001b[0;32m--> 734\u001b[0;31m                 \u001b[0;32mraise\u001b[0m \u001b[0mKeyboardInterrupt\u001b[0m\u001b[0;34m\u001b[0m\u001b[0;34m\u001b[0m\u001b[0m\n\u001b[0m\u001b[1;32m    735\u001b[0m             \u001b[0;32melse\u001b[0m\u001b[0;34m:\u001b[0m\u001b[0;34m\u001b[0m\u001b[0;34m\u001b[0m\u001b[0m\n\u001b[1;32m    736\u001b[0m                 \u001b[0;32mbreak\u001b[0m\u001b[0;34m\u001b[0m\u001b[0;34m\u001b[0m\u001b[0m\n",
            "\u001b[0;31mKeyboardInterrupt\u001b[0m: "
          ]
        }
      ]
    },
    {
      "cell_type": "code",
      "metadata": {
        "id": "9r1M1jmNL6xs",
        "colab_type": "code",
        "colab": {}
      },
      "source": [
        "import matplotlib\n",
        "import matplotlib.pyplot as plt\n",
        "import os\n",
        "import numpy as np\n",
        "import pandas as pd\n",
        "# 한글출력\n",
        "plt.rc('font', family='NanumBarunGothic')\n",
        "plt.rc('axes', unicode_minus=False)"
      ],
      "execution_count": null,
      "outputs": []
    },
    {
      "cell_type": "code",
      "metadata": {
        "id": "gZHeUb_KNLIi",
        "colab_type": "code",
        "colab": {
          "resources": {
            "http://localhost:8080/nbextensions/google.colab/files.js": {
              "data": "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",
              "ok": true,
              "headers": [
                [
                  "content-type",
                  "application/javascript"
                ]
              ],
              "status": 200,
              "status_text": ""
            }
          },
          "base_uri": "https://localhost:8080/",
          "height": 144
        },
        "outputId": "d13dac10-bee4-40d4-9004-57b5557c57ee"
      },
      "source": [
        "from google.colab import files\n",
        "\n",
        "uploaded = files.upload()\n",
        "\n",
        "for fn in uploaded.keys():\n",
        "  print('User uploaded file \"{name}\" with length {length} bytes'.format(\n",
        "      name=fn, length=len(uploaded[fn])))"
      ],
      "execution_count": null,
      "outputs": [
        {
          "output_type": "display_data",
          "data": {
            "text/html": [
              "\n",
              "     <input type=\"file\" id=\"files-5b8143ab-f0cc-4354-80df-ffc2d567a6dd\" name=\"files[]\" multiple disabled\n",
              "        style=\"border:none\" />\n",
              "     <output id=\"result-5b8143ab-f0cc-4354-80df-ffc2d567a6dd\">\n",
              "      Upload widget is only available when the cell has been executed in the\n",
              "      current browser session. Please rerun this cell to enable.\n",
              "      </output>\n",
              "      <script src=\"/nbextensions/google.colab/files.js\"></script> "
            ],
            "text/plain": [
              "<IPython.core.display.HTML object>"
            ]
          },
          "metadata": {
            "tags": []
          }
        },
        {
          "output_type": "stream",
          "text": [
            "Saving 2019시청률데이터.xlsx to 2019시청률데이터.xlsx\n",
            "Saving 2019실적데이터.xlsx to 2019실적데이터.xlsx\n",
            "User uploaded file \"2019시청률데이터.xlsx\" with length 1819247 bytes\n",
            "User uploaded file \"2019실적데이터.xlsx\" with length 1922656 bytes\n"
          ],
          "name": "stdout"
        }
      ]
    },
    {
      "cell_type": "code",
      "metadata": {
        "id": "c9TW_iySIYlG",
        "colab_type": "code",
        "colab": {}
      },
      "source": [
        "import io\n",
        "sellData = pd.read_excel(uploaded['2019실적데이터.xlsx'],header=1)\n",
        "watchData = pd.read_excel(uploaded['2019시청률데이터.xlsx'],header=1)\n",
        "# App_annie = pd.read_excel(uploaded['ns홈쇼핑앱애니.xlsx'])"
      ],
      "execution_count": null,
      "outputs": []
    },
    {
      "cell_type": "code",
      "metadata": {
        "id": "Czmx_W0cyuH0",
        "colab_type": "code",
        "colab": {}
      },
      "source": [
        "# Weather = pd.read_csv(io.BytesIO(uploaded['기상청정보19-20.csv'])) "
      ],
      "execution_count": null,
      "outputs": []
    },
    {
      "cell_type": "code",
      "metadata": {
        "id": "Vp1CYok7xQYs",
        "colab_type": "code",
        "colab": {
          "base_uri": "https://localhost:8080/",
          "height": 542
        },
        "outputId": "7540ea5b-4be1-497e-be50-084023447cfc"
      },
      "source": [
        "from google.colab import drive\n",
        "drive.mount('/content/drive')"
      ],
      "execution_count": null,
      "outputs": [
        {
          "output_type": "error",
          "ename": "KeyboardInterrupt",
          "evalue": "ignored",
          "traceback": [
            "\u001b[0;31m---------------------------------------------------------------------------\u001b[0m",
            "\u001b[0;31mKeyboardInterrupt\u001b[0m                         Traceback (most recent call last)",
            "\u001b[0;32m/usr/local/lib/python3.6/dist-packages/ipykernel/kernelbase.py\u001b[0m in \u001b[0;36m_input_request\u001b[0;34m(self, prompt, ident, parent, password)\u001b[0m\n\u001b[1;32m    728\u001b[0m             \u001b[0;32mtry\u001b[0m\u001b[0;34m:\u001b[0m\u001b[0;34m\u001b[0m\u001b[0;34m\u001b[0m\u001b[0m\n\u001b[0;32m--> 729\u001b[0;31m                 \u001b[0mident\u001b[0m\u001b[0;34m,\u001b[0m \u001b[0mreply\u001b[0m \u001b[0;34m=\u001b[0m \u001b[0mself\u001b[0m\u001b[0;34m.\u001b[0m\u001b[0msession\u001b[0m\u001b[0;34m.\u001b[0m\u001b[0mrecv\u001b[0m\u001b[0;34m(\u001b[0m\u001b[0mself\u001b[0m\u001b[0;34m.\u001b[0m\u001b[0mstdin_socket\u001b[0m\u001b[0;34m,\u001b[0m \u001b[0;36m0\u001b[0m\u001b[0;34m)\u001b[0m\u001b[0;34m\u001b[0m\u001b[0;34m\u001b[0m\u001b[0m\n\u001b[0m\u001b[1;32m    730\u001b[0m             \u001b[0;32mexcept\u001b[0m \u001b[0mException\u001b[0m\u001b[0;34m:\u001b[0m\u001b[0;34m\u001b[0m\u001b[0;34m\u001b[0m\u001b[0m\n",
            "\u001b[0;32m/usr/local/lib/python3.6/dist-packages/jupyter_client/session.py\u001b[0m in \u001b[0;36mrecv\u001b[0;34m(self, socket, mode, content, copy)\u001b[0m\n\u001b[1;32m    802\u001b[0m         \u001b[0;32mtry\u001b[0m\u001b[0;34m:\u001b[0m\u001b[0;34m\u001b[0m\u001b[0;34m\u001b[0m\u001b[0m\n\u001b[0;32m--> 803\u001b[0;31m             \u001b[0mmsg_list\u001b[0m \u001b[0;34m=\u001b[0m \u001b[0msocket\u001b[0m\u001b[0;34m.\u001b[0m\u001b[0mrecv_multipart\u001b[0m\u001b[0;34m(\u001b[0m\u001b[0mmode\u001b[0m\u001b[0;34m,\u001b[0m \u001b[0mcopy\u001b[0m\u001b[0;34m=\u001b[0m\u001b[0mcopy\u001b[0m\u001b[0;34m)\u001b[0m\u001b[0;34m\u001b[0m\u001b[0;34m\u001b[0m\u001b[0m\n\u001b[0m\u001b[1;32m    804\u001b[0m         \u001b[0;32mexcept\u001b[0m \u001b[0mzmq\u001b[0m\u001b[0;34m.\u001b[0m\u001b[0mZMQError\u001b[0m \u001b[0;32mas\u001b[0m \u001b[0me\u001b[0m\u001b[0;34m:\u001b[0m\u001b[0;34m\u001b[0m\u001b[0;34m\u001b[0m\u001b[0m\n",
            "\u001b[0;32m/usr/local/lib/python3.6/dist-packages/zmq/sugar/socket.py\u001b[0m in \u001b[0;36mrecv_multipart\u001b[0;34m(self, flags, copy, track)\u001b[0m\n\u001b[1;32m    490\u001b[0m         \"\"\"\n\u001b[0;32m--> 491\u001b[0;31m         \u001b[0mparts\u001b[0m \u001b[0;34m=\u001b[0m \u001b[0;34m[\u001b[0m\u001b[0mself\u001b[0m\u001b[0;34m.\u001b[0m\u001b[0mrecv\u001b[0m\u001b[0;34m(\u001b[0m\u001b[0mflags\u001b[0m\u001b[0;34m,\u001b[0m \u001b[0mcopy\u001b[0m\u001b[0;34m=\u001b[0m\u001b[0mcopy\u001b[0m\u001b[0;34m,\u001b[0m \u001b[0mtrack\u001b[0m\u001b[0;34m=\u001b[0m\u001b[0mtrack\u001b[0m\u001b[0;34m)\u001b[0m\u001b[0;34m]\u001b[0m\u001b[0;34m\u001b[0m\u001b[0;34m\u001b[0m\u001b[0m\n\u001b[0m\u001b[1;32m    492\u001b[0m         \u001b[0;31m# have first part already, only loop while more to receive\u001b[0m\u001b[0;34m\u001b[0m\u001b[0;34m\u001b[0m\u001b[0;34m\u001b[0m\u001b[0m\n",
            "\u001b[0;32mzmq/backend/cython/socket.pyx\u001b[0m in \u001b[0;36mzmq.backend.cython.socket.Socket.recv\u001b[0;34m()\u001b[0m\n",
            "\u001b[0;32mzmq/backend/cython/socket.pyx\u001b[0m in \u001b[0;36mzmq.backend.cython.socket.Socket.recv\u001b[0;34m()\u001b[0m\n",
            "\u001b[0;32mzmq/backend/cython/socket.pyx\u001b[0m in \u001b[0;36mzmq.backend.cython.socket._recv_copy\u001b[0;34m()\u001b[0m\n",
            "\u001b[0;32m/usr/local/lib/python3.6/dist-packages/zmq/backend/cython/checkrc.pxd\u001b[0m in \u001b[0;36mzmq.backend.cython.checkrc._check_rc\u001b[0;34m()\u001b[0m\n",
            "\u001b[0;31mKeyboardInterrupt\u001b[0m: ",
            "\nDuring handling of the above exception, another exception occurred:\n",
            "\u001b[0;31mKeyboardInterrupt\u001b[0m                         Traceback (most recent call last)",
            "\u001b[0;32m<ipython-input-5-d5df0069828e>\u001b[0m in \u001b[0;36m<module>\u001b[0;34m()\u001b[0m\n\u001b[1;32m      1\u001b[0m \u001b[0;32mfrom\u001b[0m \u001b[0mgoogle\u001b[0m\u001b[0;34m.\u001b[0m\u001b[0mcolab\u001b[0m \u001b[0;32mimport\u001b[0m \u001b[0mdrive\u001b[0m\u001b[0;34m\u001b[0m\u001b[0;34m\u001b[0m\u001b[0m\n\u001b[0;32m----> 2\u001b[0;31m \u001b[0mdrive\u001b[0m\u001b[0;34m.\u001b[0m\u001b[0mmount\u001b[0m\u001b[0;34m(\u001b[0m\u001b[0;34m'/content/drive'\u001b[0m\u001b[0;34m)\u001b[0m\u001b[0;34m\u001b[0m\u001b[0;34m\u001b[0m\u001b[0m\n\u001b[0m",
            "\u001b[0;32m/usr/local/lib/python3.6/dist-packages/google/colab/drive.py\u001b[0m in \u001b[0;36mmount\u001b[0;34m(mountpoint, force_remount, timeout_ms, use_metadata_server)\u001b[0m\n\u001b[1;32m    240\u001b[0m       \u001b[0mauth_prompt\u001b[0m \u001b[0;34m=\u001b[0m \u001b[0md\u001b[0m\u001b[0;34m.\u001b[0m\u001b[0mmatch\u001b[0m\u001b[0;34m.\u001b[0m\u001b[0mgroup\u001b[0m\u001b[0;34m(\u001b[0m\u001b[0;36m1\u001b[0m\u001b[0;34m)\u001b[0m \u001b[0;34m+\u001b[0m \u001b[0;34m'\\nEnter your authorization code:\\n'\u001b[0m\u001b[0;34m\u001b[0m\u001b[0;34m\u001b[0m\u001b[0m\n\u001b[1;32m    241\u001b[0m       \u001b[0;32mwith\u001b[0m \u001b[0mopen\u001b[0m\u001b[0;34m(\u001b[0m\u001b[0mfifo\u001b[0m\u001b[0;34m,\u001b[0m \u001b[0;34m'w'\u001b[0m\u001b[0;34m)\u001b[0m \u001b[0;32mas\u001b[0m \u001b[0mfifo_file\u001b[0m\u001b[0;34m:\u001b[0m\u001b[0;34m\u001b[0m\u001b[0;34m\u001b[0m\u001b[0m\n\u001b[0;32m--> 242\u001b[0;31m         \u001b[0mfifo_file\u001b[0m\u001b[0;34m.\u001b[0m\u001b[0mwrite\u001b[0m\u001b[0;34m(\u001b[0m\u001b[0m_getpass\u001b[0m\u001b[0;34m.\u001b[0m\u001b[0mgetpass\u001b[0m\u001b[0;34m(\u001b[0m\u001b[0mauth_prompt\u001b[0m\u001b[0;34m)\u001b[0m \u001b[0;34m+\u001b[0m \u001b[0;34m'\\n'\u001b[0m\u001b[0;34m)\u001b[0m\u001b[0;34m\u001b[0m\u001b[0;34m\u001b[0m\u001b[0m\n\u001b[0m\u001b[1;32m    243\u001b[0m       \u001b[0mwrote_to_fifo\u001b[0m \u001b[0;34m=\u001b[0m \u001b[0;32mTrue\u001b[0m\u001b[0;34m\u001b[0m\u001b[0;34m\u001b[0m\u001b[0m\n\u001b[1;32m    244\u001b[0m   \u001b[0;32mif\u001b[0m \u001b[0;32mnot\u001b[0m \u001b[0mwrote_to_fifo\u001b[0m\u001b[0;34m:\u001b[0m\u001b[0;34m\u001b[0m\u001b[0;34m\u001b[0m\u001b[0m\n",
            "\u001b[0;32m/usr/local/lib/python3.6/dist-packages/ipykernel/kernelbase.py\u001b[0m in \u001b[0;36mgetpass\u001b[0;34m(self, prompt, stream)\u001b[0m\n\u001b[1;32m    685\u001b[0m             \u001b[0mself\u001b[0m\u001b[0;34m.\u001b[0m\u001b[0m_parent_ident\u001b[0m\u001b[0;34m,\u001b[0m\u001b[0;34m\u001b[0m\u001b[0;34m\u001b[0m\u001b[0m\n\u001b[1;32m    686\u001b[0m             \u001b[0mself\u001b[0m\u001b[0;34m.\u001b[0m\u001b[0m_parent_header\u001b[0m\u001b[0;34m,\u001b[0m\u001b[0;34m\u001b[0m\u001b[0;34m\u001b[0m\u001b[0m\n\u001b[0;32m--> 687\u001b[0;31m             \u001b[0mpassword\u001b[0m\u001b[0;34m=\u001b[0m\u001b[0;32mTrue\u001b[0m\u001b[0;34m,\u001b[0m\u001b[0;34m\u001b[0m\u001b[0;34m\u001b[0m\u001b[0m\n\u001b[0m\u001b[1;32m    688\u001b[0m         )\n\u001b[1;32m    689\u001b[0m \u001b[0;34m\u001b[0m\u001b[0m\n",
            "\u001b[0;32m/usr/local/lib/python3.6/dist-packages/ipykernel/kernelbase.py\u001b[0m in \u001b[0;36m_input_request\u001b[0;34m(self, prompt, ident, parent, password)\u001b[0m\n\u001b[1;32m    732\u001b[0m             \u001b[0;32mexcept\u001b[0m \u001b[0mKeyboardInterrupt\u001b[0m\u001b[0;34m:\u001b[0m\u001b[0;34m\u001b[0m\u001b[0;34m\u001b[0m\u001b[0m\n\u001b[1;32m    733\u001b[0m                 \u001b[0;31m# re-raise KeyboardInterrupt, to truncate traceback\u001b[0m\u001b[0;34m\u001b[0m\u001b[0;34m\u001b[0m\u001b[0;34m\u001b[0m\u001b[0m\n\u001b[0;32m--> 734\u001b[0;31m                 \u001b[0;32mraise\u001b[0m \u001b[0mKeyboardInterrupt\u001b[0m\u001b[0;34m\u001b[0m\u001b[0;34m\u001b[0m\u001b[0m\n\u001b[0m\u001b[1;32m    735\u001b[0m             \u001b[0;32melse\u001b[0m\u001b[0;34m:\u001b[0m\u001b[0;34m\u001b[0m\u001b[0;34m\u001b[0m\u001b[0m\n\u001b[1;32m    736\u001b[0m                 \u001b[0;32mbreak\u001b[0m\u001b[0;34m\u001b[0m\u001b[0;34m\u001b[0m\u001b[0m\n",
            "\u001b[0;31mKeyboardInterrupt\u001b[0m: "
          ]
        }
      ]
    },
    {
      "cell_type": "markdown",
      "metadata": {
        "id": "n9_H8Qqc7apH",
        "colab_type": "text"
      },
      "source": [
        "# **판매데이터 처리**"
      ]
    },
    {
      "cell_type": "code",
      "metadata": {
        "id": "jfF1kOruIqdm",
        "colab_type": "code",
        "colab": {
          "base_uri": "https://localhost:8080/",
          "height": 645
        },
        "outputId": "edc17708-e54e-4a35-8c75-8e1e1532948a"
      },
      "source": [
        "print(sellData.shape)\n",
        "print(sellData.info())\n",
        "sellData.head(10) # 노출(분) 같은거 귀찮아서 NaN으로 해둔게 많다. 엑셀에서 or 여기서 처리해야 할듯."
      ],
      "execution_count": null,
      "outputs": [
        {
          "output_type": "stream",
          "text": [
            "(38309, 8)\n",
            "<class 'pandas.core.frame.DataFrame'>\n",
            "RangeIndex: 38309 entries, 0 to 38308\n",
            "Data columns (total 8 columns):\n",
            " #   Column  Non-Null Count  Dtype         \n",
            "---  ------  --------------  -----         \n",
            " 0   방송일시    38309 non-null  datetime64[ns]\n",
            " 1   노출(분)   21525 non-null  float64       \n",
            " 2   마더코드    38309 non-null  int64         \n",
            " 3   상품코드    38309 non-null  int64         \n",
            " 4   상품명     38309 non-null  object        \n",
            " 5   상품군     38309 non-null  object        \n",
            " 6   판매단가    38309 non-null  int64         \n",
            " 7   취급액     37372 non-null  float64       \n",
            "dtypes: datetime64[ns](1), float64(2), int64(3), object(2)\n",
            "memory usage: 2.3+ MB\n",
            "None\n"
          ],
          "name": "stdout"
        },
        {
          "output_type": "execute_result",
          "data": {
            "text/html": [
              "<div>\n",
              "<style scoped>\n",
              "    .dataframe tbody tr th:only-of-type {\n",
              "        vertical-align: middle;\n",
              "    }\n",
              "\n",
              "    .dataframe tbody tr th {\n",
              "        vertical-align: top;\n",
              "    }\n",
              "\n",
              "    .dataframe thead th {\n",
              "        text-align: right;\n",
              "    }\n",
              "</style>\n",
              "<table border=\"1\" class=\"dataframe\">\n",
              "  <thead>\n",
              "    <tr style=\"text-align: right;\">\n",
              "      <th></th>\n",
              "      <th>방송일시</th>\n",
              "      <th>노출(분)</th>\n",
              "      <th>마더코드</th>\n",
              "      <th>상품코드</th>\n",
              "      <th>상품명</th>\n",
              "      <th>상품군</th>\n",
              "      <th>판매단가</th>\n",
              "      <th>취급액</th>\n",
              "    </tr>\n",
              "  </thead>\n",
              "  <tbody>\n",
              "    <tr>\n",
              "      <th>0</th>\n",
              "      <td>2019-01-01 06:00:00</td>\n",
              "      <td>20.0</td>\n",
              "      <td>100346</td>\n",
              "      <td>201072</td>\n",
              "      <td>테이트 남성 셀린니트3종</td>\n",
              "      <td>의류</td>\n",
              "      <td>39900</td>\n",
              "      <td>2099000.0</td>\n",
              "    </tr>\n",
              "    <tr>\n",
              "      <th>1</th>\n",
              "      <td>2019-01-01 06:00:00</td>\n",
              "      <td>NaN</td>\n",
              "      <td>100346</td>\n",
              "      <td>201079</td>\n",
              "      <td>테이트 여성 셀린니트3종</td>\n",
              "      <td>의류</td>\n",
              "      <td>39900</td>\n",
              "      <td>4371000.0</td>\n",
              "    </tr>\n",
              "    <tr>\n",
              "      <th>2</th>\n",
              "      <td>2019-01-01 06:20:00</td>\n",
              "      <td>20.0</td>\n",
              "      <td>100346</td>\n",
              "      <td>201072</td>\n",
              "      <td>테이트 남성 셀린니트3종</td>\n",
              "      <td>의류</td>\n",
              "      <td>39900</td>\n",
              "      <td>3262000.0</td>\n",
              "    </tr>\n",
              "    <tr>\n",
              "      <th>3</th>\n",
              "      <td>2019-01-01 06:20:00</td>\n",
              "      <td>NaN</td>\n",
              "      <td>100346</td>\n",
              "      <td>201079</td>\n",
              "      <td>테이트 여성 셀린니트3종</td>\n",
              "      <td>의류</td>\n",
              "      <td>39900</td>\n",
              "      <td>6955000.0</td>\n",
              "    </tr>\n",
              "    <tr>\n",
              "      <th>4</th>\n",
              "      <td>2019-01-01 06:40:00</td>\n",
              "      <td>20.0</td>\n",
              "      <td>100346</td>\n",
              "      <td>201072</td>\n",
              "      <td>테이트 남성 셀린니트3종</td>\n",
              "      <td>의류</td>\n",
              "      <td>39900</td>\n",
              "      <td>6672000.0</td>\n",
              "    </tr>\n",
              "    <tr>\n",
              "      <th>5</th>\n",
              "      <td>2019-01-01 06:40:00</td>\n",
              "      <td>NaN</td>\n",
              "      <td>100346</td>\n",
              "      <td>201079</td>\n",
              "      <td>테이트 여성 셀린니트3종</td>\n",
              "      <td>의류</td>\n",
              "      <td>39900</td>\n",
              "      <td>9337000.0</td>\n",
              "    </tr>\n",
              "    <tr>\n",
              "      <th>6</th>\n",
              "      <td>2019-01-01 07:00:00</td>\n",
              "      <td>20.0</td>\n",
              "      <td>100305</td>\n",
              "      <td>200974</td>\n",
              "      <td>오모떼 레이스 파운데이션 브라</td>\n",
              "      <td>속옷</td>\n",
              "      <td>59000</td>\n",
              "      <td>6819000.0</td>\n",
              "    </tr>\n",
              "    <tr>\n",
              "      <th>7</th>\n",
              "      <td>2019-01-01 07:20:00</td>\n",
              "      <td>20.0</td>\n",
              "      <td>100305</td>\n",
              "      <td>200974</td>\n",
              "      <td>오모떼 레이스 파운데이션 브라</td>\n",
              "      <td>속옷</td>\n",
              "      <td>59000</td>\n",
              "      <td>15689000.0</td>\n",
              "    </tr>\n",
              "    <tr>\n",
              "      <th>8</th>\n",
              "      <td>2019-01-01 07:40:00</td>\n",
              "      <td>20.0</td>\n",
              "      <td>100305</td>\n",
              "      <td>200974</td>\n",
              "      <td>오모떼 레이스 파운데이션 브라</td>\n",
              "      <td>속옷</td>\n",
              "      <td>59000</td>\n",
              "      <td>25370000.0</td>\n",
              "    </tr>\n",
              "    <tr>\n",
              "      <th>9</th>\n",
              "      <td>2019-01-01 08:00:00</td>\n",
              "      <td>20.0</td>\n",
              "      <td>100808</td>\n",
              "      <td>202377</td>\n",
              "      <td>CERINI by PAT 남성 소프트 기모 릴렉스팬츠</td>\n",
              "      <td>의류</td>\n",
              "      <td>59900</td>\n",
              "      <td>16133000.0</td>\n",
              "    </tr>\n",
              "  </tbody>\n",
              "</table>\n",
              "</div>"
            ],
            "text/plain": [
              "                 방송일시  노출(분)    마더코드  ...  상품군   판매단가         취급액\n",
              "0 2019-01-01 06:00:00   20.0  100346  ...   의류  39900   2099000.0\n",
              "1 2019-01-01 06:00:00    NaN  100346  ...   의류  39900   4371000.0\n",
              "2 2019-01-01 06:20:00   20.0  100346  ...   의류  39900   3262000.0\n",
              "3 2019-01-01 06:20:00    NaN  100346  ...   의류  39900   6955000.0\n",
              "4 2019-01-01 06:40:00   20.0  100346  ...   의류  39900   6672000.0\n",
              "5 2019-01-01 06:40:00    NaN  100346  ...   의류  39900   9337000.0\n",
              "6 2019-01-01 07:00:00   20.0  100305  ...   속옷  59000   6819000.0\n",
              "7 2019-01-01 07:20:00   20.0  100305  ...   속옷  59000  15689000.0\n",
              "8 2019-01-01 07:40:00   20.0  100305  ...   속옷  59000  25370000.0\n",
              "9 2019-01-01 08:00:00   20.0  100808  ...   의류  59900  16133000.0\n",
              "\n",
              "[10 rows x 8 columns]"
            ]
          },
          "metadata": {
            "tags": []
          },
          "execution_count": 6
        }
      ]
    },
    {
      "cell_type": "code",
      "metadata": {
        "id": "MbWutedpA86V",
        "colab_type": "code",
        "colab": {
          "base_uri": "https://localhost:8080/",
          "height": 244
        },
        "outputId": "482bd4f9-0d3a-4600-ffcd-d6f019d6496a"
      },
      "source": [
        "sellData['상품군'].value_counts()"
      ],
      "execution_count": 309,
      "outputs": [
        {
          "output_type": "execute_result",
          "data": {
            "text/plain": [
              "주방      6604\n",
              "가전      6479\n",
              "의류      4340\n",
              "속옷      3919\n",
              "잡화      3891\n",
              "농수축     3884\n",
              "생활용품    2877\n",
              "가구      2614\n",
              "이미용     1305\n",
              "무형       937\n",
              "건강기능     790\n",
              "침구       669\n",
              "Name: 상품군, dtype: int64"
            ]
          },
          "metadata": {
            "tags": []
          },
          "execution_count": 309
        }
      ]
    },
    {
      "cell_type": "code",
      "metadata": {
        "id": "TlKG_xqUBj_0",
        "colab_type": "code",
        "colab": {
          "base_uri": "https://localhost:8080/",
          "height": 436
        },
        "outputId": "cfac3123-aa02-4f98-d100-457a8e7516a1"
      },
      "source": [
        "print(watchData.shape)\n",
        "print(watchData.info())\n",
        "watchData.head(5)"
      ],
      "execution_count": null,
      "outputs": [
        {
          "output_type": "stream",
          "text": [
            "(1441, 367)\n",
            "<class 'pandas.core.frame.DataFrame'>\n",
            "RangeIndex: 1441 entries, 0 to 1440\n",
            "Columns: 367 entries, 시간대 to 2019-01-01 to 2019-12-31\n",
            "dtypes: float64(366), object(1)\n",
            "memory usage: 4.0+ MB\n",
            "None\n"
          ],
          "name": "stdout"
        },
        {
          "output_type": "execute_result",
          "data": {
            "text/html": [
              "<div>\n",
              "<style scoped>\n",
              "    .dataframe tbody tr th:only-of-type {\n",
              "        vertical-align: middle;\n",
              "    }\n",
              "\n",
              "    .dataframe tbody tr th {\n",
              "        vertical-align: top;\n",
              "    }\n",
              "\n",
              "    .dataframe thead th {\n",
              "        text-align: right;\n",
              "    }\n",
              "</style>\n",
              "<table border=\"1\" class=\"dataframe\">\n",
              "  <thead>\n",
              "    <tr style=\"text-align: right;\">\n",
              "      <th></th>\n",
              "      <th>시간대</th>\n",
              "      <th>2019-01-01</th>\n",
              "      <th>2019-01-02</th>\n",
              "      <th>2019-01-03</th>\n",
              "      <th>2019-01-04</th>\n",
              "      <th>2019-01-05</th>\n",
              "      <th>2019-01-06</th>\n",
              "      <th>2019-01-07</th>\n",
              "      <th>2019-01-08</th>\n",
              "      <th>2019-01-09</th>\n",
              "      <th>2019-01-10</th>\n",
              "      <th>2019-01-11</th>\n",
              "      <th>2019-01-12</th>\n",
              "      <th>2019-01-13</th>\n",
              "      <th>2019-01-14</th>\n",
              "      <th>2019-01-15</th>\n",
              "      <th>2019-01-16</th>\n",
              "      <th>2019-01-17</th>\n",
              "      <th>2019-01-18</th>\n",
              "      <th>2019-01-19</th>\n",
              "      <th>2019-01-20</th>\n",
              "      <th>2019-01-21</th>\n",
              "      <th>2019-01-22</th>\n",
              "      <th>2019-01-23</th>\n",
              "      <th>2019-01-24</th>\n",
              "      <th>2019-01-25</th>\n",
              "      <th>2019-01-26</th>\n",
              "      <th>2019-01-27</th>\n",
              "      <th>2019-01-28</th>\n",
              "      <th>2019-01-29</th>\n",
              "      <th>2019-01-30</th>\n",
              "      <th>2019-01-31</th>\n",
              "      <th>2019-02-01</th>\n",
              "      <th>2019-02-02</th>\n",
              "      <th>2019-02-03</th>\n",
              "      <th>2019-02-04</th>\n",
              "      <th>2019-02-05</th>\n",
              "      <th>2019-02-06</th>\n",
              "      <th>2019-02-07</th>\n",
              "      <th>2019-02-08</th>\n",
              "      <th>...</th>\n",
              "      <th>2019-11-23</th>\n",
              "      <th>2019-11-24</th>\n",
              "      <th>2019-11-25</th>\n",
              "      <th>2019-11-26</th>\n",
              "      <th>2019-11-27</th>\n",
              "      <th>2019-11-28</th>\n",
              "      <th>2019-11-29</th>\n",
              "      <th>2019-11-30</th>\n",
              "      <th>2019-12-01</th>\n",
              "      <th>2019-12-02</th>\n",
              "      <th>2019-12-03</th>\n",
              "      <th>2019-12-04</th>\n",
              "      <th>2019-12-05</th>\n",
              "      <th>2019-12-06</th>\n",
              "      <th>2019-12-07</th>\n",
              "      <th>2019-12-08</th>\n",
              "      <th>2019-12-09</th>\n",
              "      <th>2019-12-10</th>\n",
              "      <th>2019-12-11</th>\n",
              "      <th>2019-12-12</th>\n",
              "      <th>2019-12-13</th>\n",
              "      <th>2019-12-14</th>\n",
              "      <th>2019-12-15</th>\n",
              "      <th>2019-12-16</th>\n",
              "      <th>2019-12-17</th>\n",
              "      <th>2019-12-18</th>\n",
              "      <th>2019-12-19</th>\n",
              "      <th>2019-12-20</th>\n",
              "      <th>2019-12-21</th>\n",
              "      <th>2019-12-22</th>\n",
              "      <th>2019-12-23</th>\n",
              "      <th>2019-12-24</th>\n",
              "      <th>2019-12-25</th>\n",
              "      <th>2019-12-26</th>\n",
              "      <th>2019-12-27</th>\n",
              "      <th>2019-12-28</th>\n",
              "      <th>2019-12-29</th>\n",
              "      <th>2019-12-30</th>\n",
              "      <th>2019-12-31</th>\n",
              "      <th>2019-01-01 to 2019-12-31</th>\n",
              "    </tr>\n",
              "  </thead>\n",
              "  <tbody>\n",
              "    <tr>\n",
              "      <th>0</th>\n",
              "      <td>02:00</td>\n",
              "      <td>0.0</td>\n",
              "      <td>0.0</td>\n",
              "      <td>0.000</td>\n",
              "      <td>0.0</td>\n",
              "      <td>0.0</td>\n",
              "      <td>0.0</td>\n",
              "      <td>0.0</td>\n",
              "      <td>0.0</td>\n",
              "      <td>0.0</td>\n",
              "      <td>0.000</td>\n",
              "      <td>0.0</td>\n",
              "      <td>0.0</td>\n",
              "      <td>0.0</td>\n",
              "      <td>0.0</td>\n",
              "      <td>0.0</td>\n",
              "      <td>0.0</td>\n",
              "      <td>0.006</td>\n",
              "      <td>0.0</td>\n",
              "      <td>0.0</td>\n",
              "      <td>0.0</td>\n",
              "      <td>0.0</td>\n",
              "      <td>0.0</td>\n",
              "      <td>0.0</td>\n",
              "      <td>0.0</td>\n",
              "      <td>0.0</td>\n",
              "      <td>0.0</td>\n",
              "      <td>0.0</td>\n",
              "      <td>0.0</td>\n",
              "      <td>0.0</td>\n",
              "      <td>0.0</td>\n",
              "      <td>0.0</td>\n",
              "      <td>0.0</td>\n",
              "      <td>0.0</td>\n",
              "      <td>0.0</td>\n",
              "      <td>0.0</td>\n",
              "      <td>0.0</td>\n",
              "      <td>0.0</td>\n",
              "      <td>0.038</td>\n",
              "      <td>0.0</td>\n",
              "      <td>...</td>\n",
              "      <td>0.0</td>\n",
              "      <td>0.0</td>\n",
              "      <td>0.0</td>\n",
              "      <td>0.0</td>\n",
              "      <td>0.0</td>\n",
              "      <td>0.000</td>\n",
              "      <td>0.0</td>\n",
              "      <td>0.0</td>\n",
              "      <td>0.0</td>\n",
              "      <td>0.000</td>\n",
              "      <td>0.048</td>\n",
              "      <td>0.0</td>\n",
              "      <td>0.0</td>\n",
              "      <td>0.0</td>\n",
              "      <td>0.0</td>\n",
              "      <td>0.018</td>\n",
              "      <td>0.000</td>\n",
              "      <td>0.035</td>\n",
              "      <td>0.030</td>\n",
              "      <td>0.016</td>\n",
              "      <td>0.0</td>\n",
              "      <td>0.0</td>\n",
              "      <td>0.0</td>\n",
              "      <td>0.0</td>\n",
              "      <td>0.0</td>\n",
              "      <td>0.0</td>\n",
              "      <td>0.0</td>\n",
              "      <td>0.012</td>\n",
              "      <td>0.0</td>\n",
              "      <td>0.0</td>\n",
              "      <td>0.0</td>\n",
              "      <td>0.0</td>\n",
              "      <td>0.000</td>\n",
              "      <td>0.0</td>\n",
              "      <td>0.0</td>\n",
              "      <td>0.0</td>\n",
              "      <td>0.0</td>\n",
              "      <td>0.0</td>\n",
              "      <td>0.000</td>\n",
              "      <td>0.003</td>\n",
              "    </tr>\n",
              "    <tr>\n",
              "      <th>1</th>\n",
              "      <td>02:01</td>\n",
              "      <td>0.0</td>\n",
              "      <td>0.0</td>\n",
              "      <td>0.000</td>\n",
              "      <td>0.0</td>\n",
              "      <td>0.0</td>\n",
              "      <td>0.0</td>\n",
              "      <td>0.0</td>\n",
              "      <td>0.0</td>\n",
              "      <td>0.0</td>\n",
              "      <td>0.005</td>\n",
              "      <td>0.0</td>\n",
              "      <td>0.0</td>\n",
              "      <td>0.0</td>\n",
              "      <td>0.0</td>\n",
              "      <td>0.0</td>\n",
              "      <td>0.0</td>\n",
              "      <td>0.006</td>\n",
              "      <td>0.0</td>\n",
              "      <td>0.0</td>\n",
              "      <td>0.0</td>\n",
              "      <td>0.0</td>\n",
              "      <td>0.0</td>\n",
              "      <td>0.0</td>\n",
              "      <td>0.0</td>\n",
              "      <td>0.0</td>\n",
              "      <td>0.0</td>\n",
              "      <td>0.0</td>\n",
              "      <td>0.0</td>\n",
              "      <td>0.0</td>\n",
              "      <td>0.0</td>\n",
              "      <td>0.0</td>\n",
              "      <td>0.0</td>\n",
              "      <td>0.0</td>\n",
              "      <td>0.0</td>\n",
              "      <td>0.0</td>\n",
              "      <td>0.0</td>\n",
              "      <td>0.0</td>\n",
              "      <td>0.038</td>\n",
              "      <td>0.0</td>\n",
              "      <td>...</td>\n",
              "      <td>0.0</td>\n",
              "      <td>0.0</td>\n",
              "      <td>0.0</td>\n",
              "      <td>0.0</td>\n",
              "      <td>0.0</td>\n",
              "      <td>0.022</td>\n",
              "      <td>0.0</td>\n",
              "      <td>0.0</td>\n",
              "      <td>0.0</td>\n",
              "      <td>0.000</td>\n",
              "      <td>0.048</td>\n",
              "      <td>0.0</td>\n",
              "      <td>0.0</td>\n",
              "      <td>0.0</td>\n",
              "      <td>0.0</td>\n",
              "      <td>0.018</td>\n",
              "      <td>0.000</td>\n",
              "      <td>0.035</td>\n",
              "      <td>0.030</td>\n",
              "      <td>0.016</td>\n",
              "      <td>0.0</td>\n",
              "      <td>0.0</td>\n",
              "      <td>0.0</td>\n",
              "      <td>0.0</td>\n",
              "      <td>0.0</td>\n",
              "      <td>0.0</td>\n",
              "      <td>0.0</td>\n",
              "      <td>0.012</td>\n",
              "      <td>0.0</td>\n",
              "      <td>0.0</td>\n",
              "      <td>0.0</td>\n",
              "      <td>0.0</td>\n",
              "      <td>0.000</td>\n",
              "      <td>0.0</td>\n",
              "      <td>0.0</td>\n",
              "      <td>0.0</td>\n",
              "      <td>0.0</td>\n",
              "      <td>0.0</td>\n",
              "      <td>0.012</td>\n",
              "      <td>0.003</td>\n",
              "    </tr>\n",
              "    <tr>\n",
              "      <th>2</th>\n",
              "      <td>02:02</td>\n",
              "      <td>0.0</td>\n",
              "      <td>0.0</td>\n",
              "      <td>0.000</td>\n",
              "      <td>0.0</td>\n",
              "      <td>0.0</td>\n",
              "      <td>0.0</td>\n",
              "      <td>0.0</td>\n",
              "      <td>0.0</td>\n",
              "      <td>0.0</td>\n",
              "      <td>0.005</td>\n",
              "      <td>0.0</td>\n",
              "      <td>0.0</td>\n",
              "      <td>0.0</td>\n",
              "      <td>0.0</td>\n",
              "      <td>0.0</td>\n",
              "      <td>0.0</td>\n",
              "      <td>0.006</td>\n",
              "      <td>0.0</td>\n",
              "      <td>0.0</td>\n",
              "      <td>0.0</td>\n",
              "      <td>0.0</td>\n",
              "      <td>0.0</td>\n",
              "      <td>0.0</td>\n",
              "      <td>0.0</td>\n",
              "      <td>0.0</td>\n",
              "      <td>0.0</td>\n",
              "      <td>0.0</td>\n",
              "      <td>0.0</td>\n",
              "      <td>0.0</td>\n",
              "      <td>0.0</td>\n",
              "      <td>0.0</td>\n",
              "      <td>0.0</td>\n",
              "      <td>0.0</td>\n",
              "      <td>0.0</td>\n",
              "      <td>0.0</td>\n",
              "      <td>0.0</td>\n",
              "      <td>0.0</td>\n",
              "      <td>0.038</td>\n",
              "      <td>0.0</td>\n",
              "      <td>...</td>\n",
              "      <td>0.0</td>\n",
              "      <td>0.0</td>\n",
              "      <td>0.0</td>\n",
              "      <td>0.0</td>\n",
              "      <td>0.0</td>\n",
              "      <td>0.022</td>\n",
              "      <td>0.0</td>\n",
              "      <td>0.0</td>\n",
              "      <td>0.0</td>\n",
              "      <td>0.000</td>\n",
              "      <td>0.033</td>\n",
              "      <td>0.0</td>\n",
              "      <td>0.0</td>\n",
              "      <td>0.0</td>\n",
              "      <td>0.0</td>\n",
              "      <td>0.018</td>\n",
              "      <td>0.018</td>\n",
              "      <td>0.035</td>\n",
              "      <td>0.067</td>\n",
              "      <td>0.016</td>\n",
              "      <td>0.0</td>\n",
              "      <td>0.0</td>\n",
              "      <td>0.0</td>\n",
              "      <td>0.0</td>\n",
              "      <td>0.0</td>\n",
              "      <td>0.0</td>\n",
              "      <td>0.0</td>\n",
              "      <td>0.012</td>\n",
              "      <td>0.0</td>\n",
              "      <td>0.0</td>\n",
              "      <td>0.0</td>\n",
              "      <td>0.0</td>\n",
              "      <td>0.000</td>\n",
              "      <td>0.0</td>\n",
              "      <td>0.0</td>\n",
              "      <td>0.0</td>\n",
              "      <td>0.0</td>\n",
              "      <td>0.0</td>\n",
              "      <td>0.000</td>\n",
              "      <td>0.004</td>\n",
              "    </tr>\n",
              "    <tr>\n",
              "      <th>3</th>\n",
              "      <td>02:03</td>\n",
              "      <td>0.0</td>\n",
              "      <td>0.0</td>\n",
              "      <td>0.014</td>\n",
              "      <td>0.0</td>\n",
              "      <td>0.0</td>\n",
              "      <td>0.0</td>\n",
              "      <td>0.0</td>\n",
              "      <td>0.0</td>\n",
              "      <td>0.0</td>\n",
              "      <td>0.005</td>\n",
              "      <td>0.0</td>\n",
              "      <td>0.0</td>\n",
              "      <td>0.0</td>\n",
              "      <td>0.0</td>\n",
              "      <td>0.0</td>\n",
              "      <td>0.0</td>\n",
              "      <td>0.006</td>\n",
              "      <td>0.0</td>\n",
              "      <td>0.0</td>\n",
              "      <td>0.0</td>\n",
              "      <td>0.0</td>\n",
              "      <td>0.0</td>\n",
              "      <td>0.0</td>\n",
              "      <td>0.0</td>\n",
              "      <td>0.0</td>\n",
              "      <td>0.0</td>\n",
              "      <td>0.0</td>\n",
              "      <td>0.0</td>\n",
              "      <td>0.0</td>\n",
              "      <td>0.0</td>\n",
              "      <td>0.0</td>\n",
              "      <td>0.0</td>\n",
              "      <td>0.0</td>\n",
              "      <td>0.0</td>\n",
              "      <td>0.0</td>\n",
              "      <td>0.0</td>\n",
              "      <td>0.0</td>\n",
              "      <td>0.038</td>\n",
              "      <td>0.0</td>\n",
              "      <td>...</td>\n",
              "      <td>0.0</td>\n",
              "      <td>0.0</td>\n",
              "      <td>0.0</td>\n",
              "      <td>0.0</td>\n",
              "      <td>0.0</td>\n",
              "      <td>0.022</td>\n",
              "      <td>0.0</td>\n",
              "      <td>0.0</td>\n",
              "      <td>0.0</td>\n",
              "      <td>0.000</td>\n",
              "      <td>0.033</td>\n",
              "      <td>0.0</td>\n",
              "      <td>0.0</td>\n",
              "      <td>0.0</td>\n",
              "      <td>0.0</td>\n",
              "      <td>0.018</td>\n",
              "      <td>0.018</td>\n",
              "      <td>0.035</td>\n",
              "      <td>0.067</td>\n",
              "      <td>0.016</td>\n",
              "      <td>0.0</td>\n",
              "      <td>0.0</td>\n",
              "      <td>0.0</td>\n",
              "      <td>0.0</td>\n",
              "      <td>0.0</td>\n",
              "      <td>0.0</td>\n",
              "      <td>0.0</td>\n",
              "      <td>0.012</td>\n",
              "      <td>0.0</td>\n",
              "      <td>0.0</td>\n",
              "      <td>0.0</td>\n",
              "      <td>0.0</td>\n",
              "      <td>0.017</td>\n",
              "      <td>0.0</td>\n",
              "      <td>0.0</td>\n",
              "      <td>0.0</td>\n",
              "      <td>0.0</td>\n",
              "      <td>0.0</td>\n",
              "      <td>0.000</td>\n",
              "      <td>0.004</td>\n",
              "    </tr>\n",
              "    <tr>\n",
              "      <th>4</th>\n",
              "      <td>02:04</td>\n",
              "      <td>0.0</td>\n",
              "      <td>0.0</td>\n",
              "      <td>0.000</td>\n",
              "      <td>0.0</td>\n",
              "      <td>0.0</td>\n",
              "      <td>0.0</td>\n",
              "      <td>0.0</td>\n",
              "      <td>0.0</td>\n",
              "      <td>0.0</td>\n",
              "      <td>0.005</td>\n",
              "      <td>0.0</td>\n",
              "      <td>0.0</td>\n",
              "      <td>0.0</td>\n",
              "      <td>0.0</td>\n",
              "      <td>0.0</td>\n",
              "      <td>0.0</td>\n",
              "      <td>0.006</td>\n",
              "      <td>0.0</td>\n",
              "      <td>0.0</td>\n",
              "      <td>0.0</td>\n",
              "      <td>0.0</td>\n",
              "      <td>0.0</td>\n",
              "      <td>0.0</td>\n",
              "      <td>0.0</td>\n",
              "      <td>0.0</td>\n",
              "      <td>0.0</td>\n",
              "      <td>0.0</td>\n",
              "      <td>0.0</td>\n",
              "      <td>0.0</td>\n",
              "      <td>0.0</td>\n",
              "      <td>0.0</td>\n",
              "      <td>0.0</td>\n",
              "      <td>0.0</td>\n",
              "      <td>0.0</td>\n",
              "      <td>0.0</td>\n",
              "      <td>0.0</td>\n",
              "      <td>0.0</td>\n",
              "      <td>0.038</td>\n",
              "      <td>0.0</td>\n",
              "      <td>...</td>\n",
              "      <td>0.0</td>\n",
              "      <td>0.0</td>\n",
              "      <td>0.0</td>\n",
              "      <td>0.0</td>\n",
              "      <td>0.0</td>\n",
              "      <td>0.000</td>\n",
              "      <td>0.0</td>\n",
              "      <td>0.0</td>\n",
              "      <td>0.0</td>\n",
              "      <td>0.012</td>\n",
              "      <td>0.033</td>\n",
              "      <td>0.0</td>\n",
              "      <td>0.0</td>\n",
              "      <td>0.0</td>\n",
              "      <td>0.0</td>\n",
              "      <td>0.018</td>\n",
              "      <td>0.000</td>\n",
              "      <td>0.035</td>\n",
              "      <td>0.067</td>\n",
              "      <td>0.016</td>\n",
              "      <td>0.0</td>\n",
              "      <td>0.0</td>\n",
              "      <td>0.0</td>\n",
              "      <td>0.0</td>\n",
              "      <td>0.0</td>\n",
              "      <td>0.0</td>\n",
              "      <td>0.0</td>\n",
              "      <td>0.012</td>\n",
              "      <td>0.0</td>\n",
              "      <td>0.0</td>\n",
              "      <td>0.0</td>\n",
              "      <td>0.0</td>\n",
              "      <td>0.017</td>\n",
              "      <td>0.0</td>\n",
              "      <td>0.0</td>\n",
              "      <td>0.0</td>\n",
              "      <td>0.0</td>\n",
              "      <td>0.0</td>\n",
              "      <td>0.000</td>\n",
              "      <td>0.004</td>\n",
              "    </tr>\n",
              "  </tbody>\n",
              "</table>\n",
              "<p>5 rows × 367 columns</p>\n",
              "</div>"
            ],
            "text/plain": [
              "     시간대  2019-01-01  ...  2019-12-31  2019-01-01 to 2019-12-31\n",
              "0  02:00         0.0  ...       0.000                     0.003\n",
              "1  02:01         0.0  ...       0.012                     0.003\n",
              "2  02:02         0.0  ...       0.000                     0.004\n",
              "3  02:03         0.0  ...       0.000                     0.004\n",
              "4  02:04         0.0  ...       0.000                     0.004\n",
              "\n",
              "[5 rows x 367 columns]"
            ]
          },
          "metadata": {
            "tags": []
          },
          "execution_count": 7
        }
      ]
    },
    {
      "cell_type": "markdown",
      "metadata": {
        "id": "wYCIhTrBBZE9",
        "colab_type": "text"
      },
      "source": [
        "# 불필요 Data제거 및 결측치 처리"
      ]
    },
    {
      "cell_type": "markdown",
      "metadata": {
        "id": "8rZNivj91U-o",
        "colab_type": "text"
      },
      "source": [
        "# 불필요 데이터(판매실적=0)\n",
        "\n",
        "\n",
        "\n",
        "\n",
        "\n"
      ]
    },
    {
      "cell_type": "code",
      "metadata": {
        "id": "F8F7Rrrf9Z5-",
        "colab_type": "code",
        "colab": {
          "base_uri": "https://localhost:8080/",
          "height": 34
        },
        "outputId": "6a7bd866-5cce-42ad-dac9-83b036042763"
      },
      "source": [
        "sellData.columns"
      ],
      "execution_count": null,
      "outputs": [
        {
          "output_type": "execute_result",
          "data": {
            "text/plain": [
              "Index(['방송일시', '노출(분)', '마더코드', '상품코드', '상품명', '상품군', '판매단가', '취급액'], dtype='object')"
            ]
          },
          "metadata": {
            "tags": []
          },
          "execution_count": 8
        }
      ]
    },
    {
      "cell_type": "code",
      "metadata": {
        "id": "UVhH41x3A39s",
        "colab_type": "code",
        "colab": {
          "base_uri": "https://localhost:8080/",
          "height": 652
        },
        "outputId": "498018b8-0e1b-4667-ef1c-8706e447a46c"
      },
      "source": [
        "print(sellData[(sellData['상품군']=='무형')]) #937개가 무형제품.\n",
        "sellData[(sellData['판매단가']==0)] #상품군 무형인 Data들은 모두 판매단가도 0임 이것들을 지우겠다."
      ],
      "execution_count": null,
      "outputs": [
        {
          "output_type": "stream",
          "text": [
            "                     방송일시      노출(분)    마더코드  ...  상품군 판매단가 취급액\n",
            "2318  2019-01-25 19:00:00  60.000000  100507  ...   무형    0 NaN\n",
            "2845  2019-01-31 18:00:00  60.000000  100507  ...   무형    0 NaN\n",
            "3332  2019-02-05 18:00:00  60.000000  100507  ...   무형    0 NaN\n",
            "6570  2019-03-09 00:00:00  20.000000  100324  ...   무형    0 NaN\n",
            "6571  2019-03-09 00:20:00  20.000000  100324  ...   무형    0 NaN\n",
            "...                   ...        ...     ...  ...  ...  ...  ..\n",
            "38304 2020-01-01 00:20:00  20.000000  100073  ...   무형    0 NaN\n",
            "38305 2020-01-01 00:40:00  20.000000  100073  ...   무형    0 NaN\n",
            "38306 2020-01-01 01:00:00  20.000000  100073  ...   무형    0 NaN\n",
            "38307 2020-01-01 01:20:00  20.000000  100490  ...   무형    0 NaN\n",
            "38308 2020-01-01 01:40:00  17.166667  100490  ...   무형    0 NaN\n",
            "\n",
            "[937 rows x 8 columns]\n"
          ],
          "name": "stdout"
        },
        {
          "output_type": "execute_result",
          "data": {
            "text/html": [
              "<div>\n",
              "<style scoped>\n",
              "    .dataframe tbody tr th:only-of-type {\n",
              "        vertical-align: middle;\n",
              "    }\n",
              "\n",
              "    .dataframe tbody tr th {\n",
              "        vertical-align: top;\n",
              "    }\n",
              "\n",
              "    .dataframe thead th {\n",
              "        text-align: right;\n",
              "    }\n",
              "</style>\n",
              "<table border=\"1\" class=\"dataframe\">\n",
              "  <thead>\n",
              "    <tr style=\"text-align: right;\">\n",
              "      <th></th>\n",
              "      <th>방송일시</th>\n",
              "      <th>노출(분)</th>\n",
              "      <th>마더코드</th>\n",
              "      <th>상품코드</th>\n",
              "      <th>상품명</th>\n",
              "      <th>상품군</th>\n",
              "      <th>판매단가</th>\n",
              "      <th>취급액</th>\n",
              "    </tr>\n",
              "  </thead>\n",
              "  <tbody>\n",
              "    <tr>\n",
              "      <th>2318</th>\n",
              "      <td>2019-01-25 19:00:00</td>\n",
              "      <td>60.000000</td>\n",
              "      <td>100507</td>\n",
              "      <td>201567</td>\n",
              "      <td>TCOM_처브치아보험</td>\n",
              "      <td>무형</td>\n",
              "      <td>0</td>\n",
              "      <td>NaN</td>\n",
              "    </tr>\n",
              "    <tr>\n",
              "      <th>2845</th>\n",
              "      <td>2019-01-31 18:00:00</td>\n",
              "      <td>60.000000</td>\n",
              "      <td>100507</td>\n",
              "      <td>201567</td>\n",
              "      <td>TCOM_처브치아보험</td>\n",
              "      <td>무형</td>\n",
              "      <td>0</td>\n",
              "      <td>NaN</td>\n",
              "    </tr>\n",
              "    <tr>\n",
              "      <th>3332</th>\n",
              "      <td>2019-02-05 18:00:00</td>\n",
              "      <td>60.000000</td>\n",
              "      <td>100507</td>\n",
              "      <td>201567</td>\n",
              "      <td>TCOM_처브치아보험</td>\n",
              "      <td>무형</td>\n",
              "      <td>0</td>\n",
              "      <td>NaN</td>\n",
              "    </tr>\n",
              "    <tr>\n",
              "      <th>6570</th>\n",
              "      <td>2019-03-09 00:00:00</td>\n",
              "      <td>20.000000</td>\n",
              "      <td>100324</td>\n",
              "      <td>201095</td>\n",
              "      <td>온라인투어 동남아 나트랑/빈펄랜드 (190309)</td>\n",
              "      <td>무형</td>\n",
              "      <td>0</td>\n",
              "      <td>NaN</td>\n",
              "    </tr>\n",
              "    <tr>\n",
              "      <th>6571</th>\n",
              "      <td>2019-03-09 00:20:00</td>\n",
              "      <td>20.000000</td>\n",
              "      <td>100324</td>\n",
              "      <td>201095</td>\n",
              "      <td>온라인투어 동남아 나트랑/빈펄랜드 (190309)</td>\n",
              "      <td>무형</td>\n",
              "      <td>0</td>\n",
              "      <td>NaN</td>\n",
              "    </tr>\n",
              "    <tr>\n",
              "      <th>...</th>\n",
              "      <td>...</td>\n",
              "      <td>...</td>\n",
              "      <td>...</td>\n",
              "      <td>...</td>\n",
              "      <td>...</td>\n",
              "      <td>...</td>\n",
              "      <td>...</td>\n",
              "      <td>...</td>\n",
              "    </tr>\n",
              "    <tr>\n",
              "      <th>38304</th>\n",
              "      <td>2020-01-01 00:20:00</td>\n",
              "      <td>20.000000</td>\n",
              "      <td>100073</td>\n",
              "      <td>200196</td>\n",
              "      <td>삼성화재 행복한파트너 주택화재보험(1912)</td>\n",
              "      <td>무형</td>\n",
              "      <td>0</td>\n",
              "      <td>NaN</td>\n",
              "    </tr>\n",
              "    <tr>\n",
              "      <th>38305</th>\n",
              "      <td>2020-01-01 00:40:00</td>\n",
              "      <td>20.000000</td>\n",
              "      <td>100073</td>\n",
              "      <td>200196</td>\n",
              "      <td>삼성화재 행복한파트너 주택화재보험(1912)</td>\n",
              "      <td>무형</td>\n",
              "      <td>0</td>\n",
              "      <td>NaN</td>\n",
              "    </tr>\n",
              "    <tr>\n",
              "      <th>38306</th>\n",
              "      <td>2020-01-01 01:00:00</td>\n",
              "      <td>20.000000</td>\n",
              "      <td>100073</td>\n",
              "      <td>200196</td>\n",
              "      <td>삼성화재 행복한파트너 주택화재보험(1912)</td>\n",
              "      <td>무형</td>\n",
              "      <td>0</td>\n",
              "      <td>NaN</td>\n",
              "    </tr>\n",
              "    <tr>\n",
              "      <th>38307</th>\n",
              "      <td>2020-01-01 01:20:00</td>\n",
              "      <td>20.000000</td>\n",
              "      <td>100490</td>\n",
              "      <td>201478</td>\n",
              "      <td>더케이 예다함 상조서비스(티포트)</td>\n",
              "      <td>무형</td>\n",
              "      <td>0</td>\n",
              "      <td>NaN</td>\n",
              "    </tr>\n",
              "    <tr>\n",
              "      <th>38308</th>\n",
              "      <td>2020-01-01 01:40:00</td>\n",
              "      <td>17.166667</td>\n",
              "      <td>100490</td>\n",
              "      <td>201478</td>\n",
              "      <td>더케이 예다함 상조서비스(티포트)</td>\n",
              "      <td>무형</td>\n",
              "      <td>0</td>\n",
              "      <td>NaN</td>\n",
              "    </tr>\n",
              "  </tbody>\n",
              "</table>\n",
              "<p>937 rows × 8 columns</p>\n",
              "</div>"
            ],
            "text/plain": [
              "                     방송일시      노출(분)    마더코드  ...  상품군 판매단가 취급액\n",
              "2318  2019-01-25 19:00:00  60.000000  100507  ...   무형    0 NaN\n",
              "2845  2019-01-31 18:00:00  60.000000  100507  ...   무형    0 NaN\n",
              "3332  2019-02-05 18:00:00  60.000000  100507  ...   무형    0 NaN\n",
              "6570  2019-03-09 00:00:00  20.000000  100324  ...   무형    0 NaN\n",
              "6571  2019-03-09 00:20:00  20.000000  100324  ...   무형    0 NaN\n",
              "...                   ...        ...     ...  ...  ...  ...  ..\n",
              "38304 2020-01-01 00:20:00  20.000000  100073  ...   무형    0 NaN\n",
              "38305 2020-01-01 00:40:00  20.000000  100073  ...   무형    0 NaN\n",
              "38306 2020-01-01 01:00:00  20.000000  100073  ...   무형    0 NaN\n",
              "38307 2020-01-01 01:20:00  20.000000  100490  ...   무형    0 NaN\n",
              "38308 2020-01-01 01:40:00  17.166667  100490  ...   무형    0 NaN\n",
              "\n",
              "[937 rows x 8 columns]"
            ]
          },
          "metadata": {
            "tags": []
          },
          "execution_count": 9
        }
      ]
    },
    {
      "cell_type": "code",
      "metadata": {
        "id": "QtnlJG7qIqiJ",
        "colab_type": "code",
        "colab": {
          "base_uri": "https://localhost:8080/",
          "height": 407
        },
        "outputId": "e446bb12-a5de-4d8d-bd0d-dad3c12562b3"
      },
      "source": [
        "Selling = sellData[sellData['판매단가']!=0]\n",
        "Selling"
      ],
      "execution_count": null,
      "outputs": [
        {
          "output_type": "execute_result",
          "data": {
            "text/html": [
              "<div>\n",
              "<style scoped>\n",
              "    .dataframe tbody tr th:only-of-type {\n",
              "        vertical-align: middle;\n",
              "    }\n",
              "\n",
              "    .dataframe tbody tr th {\n",
              "        vertical-align: top;\n",
              "    }\n",
              "\n",
              "    .dataframe thead th {\n",
              "        text-align: right;\n",
              "    }\n",
              "</style>\n",
              "<table border=\"1\" class=\"dataframe\">\n",
              "  <thead>\n",
              "    <tr style=\"text-align: right;\">\n",
              "      <th></th>\n",
              "      <th>방송일시</th>\n",
              "      <th>노출(분)</th>\n",
              "      <th>마더코드</th>\n",
              "      <th>상품코드</th>\n",
              "      <th>상품명</th>\n",
              "      <th>상품군</th>\n",
              "      <th>판매단가</th>\n",
              "      <th>취급액</th>\n",
              "    </tr>\n",
              "  </thead>\n",
              "  <tbody>\n",
              "    <tr>\n",
              "      <th>0</th>\n",
              "      <td>2019-01-01 06:00:00</td>\n",
              "      <td>20.0</td>\n",
              "      <td>100346</td>\n",
              "      <td>201072</td>\n",
              "      <td>테이트 남성 셀린니트3종</td>\n",
              "      <td>의류</td>\n",
              "      <td>39900</td>\n",
              "      <td>2099000.0</td>\n",
              "    </tr>\n",
              "    <tr>\n",
              "      <th>1</th>\n",
              "      <td>2019-01-01 06:00:00</td>\n",
              "      <td>NaN</td>\n",
              "      <td>100346</td>\n",
              "      <td>201079</td>\n",
              "      <td>테이트 여성 셀린니트3종</td>\n",
              "      <td>의류</td>\n",
              "      <td>39900</td>\n",
              "      <td>4371000.0</td>\n",
              "    </tr>\n",
              "    <tr>\n",
              "      <th>2</th>\n",
              "      <td>2019-01-01 06:20:00</td>\n",
              "      <td>20.0</td>\n",
              "      <td>100346</td>\n",
              "      <td>201072</td>\n",
              "      <td>테이트 남성 셀린니트3종</td>\n",
              "      <td>의류</td>\n",
              "      <td>39900</td>\n",
              "      <td>3262000.0</td>\n",
              "    </tr>\n",
              "    <tr>\n",
              "      <th>3</th>\n",
              "      <td>2019-01-01 06:20:00</td>\n",
              "      <td>NaN</td>\n",
              "      <td>100346</td>\n",
              "      <td>201079</td>\n",
              "      <td>테이트 여성 셀린니트3종</td>\n",
              "      <td>의류</td>\n",
              "      <td>39900</td>\n",
              "      <td>6955000.0</td>\n",
              "    </tr>\n",
              "    <tr>\n",
              "      <th>4</th>\n",
              "      <td>2019-01-01 06:40:00</td>\n",
              "      <td>20.0</td>\n",
              "      <td>100346</td>\n",
              "      <td>201072</td>\n",
              "      <td>테이트 남성 셀린니트3종</td>\n",
              "      <td>의류</td>\n",
              "      <td>39900</td>\n",
              "      <td>6672000.0</td>\n",
              "    </tr>\n",
              "    <tr>\n",
              "      <th>...</th>\n",
              "      <td>...</td>\n",
              "      <td>...</td>\n",
              "      <td>...</td>\n",
              "      <td>...</td>\n",
              "      <td>...</td>\n",
              "      <td>...</td>\n",
              "      <td>...</td>\n",
              "      <td>...</td>\n",
              "    </tr>\n",
              "    <tr>\n",
              "      <th>38299</th>\n",
              "      <td>2019-12-31 23:40:00</td>\n",
              "      <td>NaN</td>\n",
              "      <td>100448</td>\n",
              "      <td>201391</td>\n",
              "      <td>일시불쿠첸압력밥솥 6인용</td>\n",
              "      <td>주방</td>\n",
              "      <td>148000</td>\n",
              "      <td>10157000.0</td>\n",
              "    </tr>\n",
              "    <tr>\n",
              "      <th>38300</th>\n",
              "      <td>2020-01-01 00:00:00</td>\n",
              "      <td>20.0</td>\n",
              "      <td>100448</td>\n",
              "      <td>201383</td>\n",
              "      <td>무이자쿠첸압력밥솥 10인용</td>\n",
              "      <td>주방</td>\n",
              "      <td>178000</td>\n",
              "      <td>50929000.0</td>\n",
              "    </tr>\n",
              "    <tr>\n",
              "      <th>38301</th>\n",
              "      <td>2020-01-01 00:00:00</td>\n",
              "      <td>NaN</td>\n",
              "      <td>100448</td>\n",
              "      <td>201390</td>\n",
              "      <td>일시불쿠첸압력밥솥 10인용</td>\n",
              "      <td>주방</td>\n",
              "      <td>168000</td>\n",
              "      <td>104392000.0</td>\n",
              "    </tr>\n",
              "    <tr>\n",
              "      <th>38302</th>\n",
              "      <td>2020-01-01 00:00:00</td>\n",
              "      <td>NaN</td>\n",
              "      <td>100448</td>\n",
              "      <td>201384</td>\n",
              "      <td>무이자쿠첸압력밥솥 6인용</td>\n",
              "      <td>주방</td>\n",
              "      <td>158000</td>\n",
              "      <td>13765000.0</td>\n",
              "    </tr>\n",
              "    <tr>\n",
              "      <th>38303</th>\n",
              "      <td>2020-01-01 00:00:00</td>\n",
              "      <td>NaN</td>\n",
              "      <td>100448</td>\n",
              "      <td>201391</td>\n",
              "      <td>일시불쿠첸압력밥솥 6인용</td>\n",
              "      <td>주방</td>\n",
              "      <td>148000</td>\n",
              "      <td>46608000.0</td>\n",
              "    </tr>\n",
              "  </tbody>\n",
              "</table>\n",
              "<p>37372 rows × 8 columns</p>\n",
              "</div>"
            ],
            "text/plain": [
              "                     방송일시  노출(분)    마더코드  ...  상품군    판매단가          취급액\n",
              "0     2019-01-01 06:00:00   20.0  100346  ...   의류   39900    2099000.0\n",
              "1     2019-01-01 06:00:00    NaN  100346  ...   의류   39900    4371000.0\n",
              "2     2019-01-01 06:20:00   20.0  100346  ...   의류   39900    3262000.0\n",
              "3     2019-01-01 06:20:00    NaN  100346  ...   의류   39900    6955000.0\n",
              "4     2019-01-01 06:40:00   20.0  100346  ...   의류   39900    6672000.0\n",
              "...                   ...    ...     ...  ...  ...     ...          ...\n",
              "38299 2019-12-31 23:40:00    NaN  100448  ...   주방  148000   10157000.0\n",
              "38300 2020-01-01 00:00:00   20.0  100448  ...   주방  178000   50929000.0\n",
              "38301 2020-01-01 00:00:00    NaN  100448  ...   주방  168000  104392000.0\n",
              "38302 2020-01-01 00:00:00    NaN  100448  ...   주방  158000   13765000.0\n",
              "38303 2020-01-01 00:00:00    NaN  100448  ...   주방  148000   46608000.0\n",
              "\n",
              "[37372 rows x 8 columns]"
            ]
          },
          "metadata": {
            "tags": []
          },
          "execution_count": 10
        }
      ]
    },
    {
      "cell_type": "code",
      "metadata": {
        "id": "XtCf81xOMqB9",
        "colab_type": "code",
        "colab": {}
      },
      "source": [
        "from datetime import datetime,timedelta"
      ],
      "execution_count": null,
      "outputs": []
    },
    {
      "cell_type": "markdown",
      "metadata": {
        "id": "eI1iF-wI1qAH",
        "colab_type": "text"
      },
      "source": [
        "# 결측치( 노출('분) )"
      ]
    },
    {
      "cell_type": "code",
      "metadata": {
        "id": "3GFKg_66Iqpx",
        "colab_type": "code",
        "colab": {}
      },
      "source": [
        "testsell = Selling.copy() #testsell에서 노출(분) 채우는 실험을 해보겠음.\n",
        "Time_NaN_Index = testsell[testsell['노출(분)'].isnull()].index # 노출(분)이 채워지지 않은놈들의 인덱스"
      ],
      "execution_count": null,
      "outputs": []
    },
    {
      "cell_type": "code",
      "metadata": {
        "id": "4BTtyTs1Laph",
        "colab_type": "code",
        "colab": {
          "base_uri": "https://localhost:8080/",
          "height": 494
        },
        "outputId": "80c51dac-f797-4160-d1d3-b44250faf5ac"
      },
      "source": [
        "#노출(분) 채우는규칙? (같은 마더코드의) 같은 시간대인 놈의 노출(분)으로 채우면 될 듯.\n",
        "#근데 한 시간대에 여러 마더코드가 있지 않으니.. 그냥 같은 시간대에 방송된 다른 notnull 노출(분)값을 넣자.\n",
        "groupmax = testsell[\"노출(분)\"].groupby(testsell['방송일시']).max()\n",
        "\n",
        "# groupmax.index는 방송일시가 들어있다.\n",
        "# Time_NaN_BroadTime에도 방송일시가 들어있다\n",
        "# Time_NaN_Index엔 노출(분) Null인 인덱스(주소)가 들어있다.\n",
        "# groupmax엔 방송일시별로 노출(분)이 들어있다.\n",
        "\n",
        "for i in Time_NaN_Index:\n",
        "  testsell['노출(분)'][i] = groupmax[testsell['방송일시'][i]]\n",
        "testsell[348:] # 성공적으로 결측치를 대체했다."
      ],
      "execution_count": null,
      "outputs": [
        {
          "output_type": "stream",
          "text": [
            "/usr/local/lib/python3.6/dist-packages/ipykernel_launcher.py:11: SettingWithCopyWarning: \n",
            "A value is trying to be set on a copy of a slice from a DataFrame\n",
            "\n",
            "See the caveats in the documentation: https://pandas.pydata.org/pandas-docs/stable/user_guide/indexing.html#returning-a-view-versus-a-copy\n",
            "  # This is added back by InteractiveShellApp.init_path()\n"
          ],
          "name": "stderr"
        },
        {
          "output_type": "execute_result",
          "data": {
            "text/html": [
              "<div>\n",
              "<style scoped>\n",
              "    .dataframe tbody tr th:only-of-type {\n",
              "        vertical-align: middle;\n",
              "    }\n",
              "\n",
              "    .dataframe tbody tr th {\n",
              "        vertical-align: top;\n",
              "    }\n",
              "\n",
              "    .dataframe thead th {\n",
              "        text-align: right;\n",
              "    }\n",
              "</style>\n",
              "<table border=\"1\" class=\"dataframe\">\n",
              "  <thead>\n",
              "    <tr style=\"text-align: right;\">\n",
              "      <th></th>\n",
              "      <th>방송일시</th>\n",
              "      <th>노출(분)</th>\n",
              "      <th>마더코드</th>\n",
              "      <th>상품코드</th>\n",
              "      <th>상품명</th>\n",
              "      <th>상품군</th>\n",
              "      <th>판매단가</th>\n",
              "      <th>취급액</th>\n",
              "    </tr>\n",
              "  </thead>\n",
              "  <tbody>\n",
              "    <tr>\n",
              "      <th>348</th>\n",
              "      <td>2019-01-05 01:20:00</td>\n",
              "      <td>20.0</td>\n",
              "      <td>100293</td>\n",
              "      <td>200949</td>\n",
              "      <td>무이자[가이거] 제니스시계 주얼리세트</td>\n",
              "      <td>잡화</td>\n",
              "      <td>139000</td>\n",
              "      <td>15561000.0</td>\n",
              "    </tr>\n",
              "    <tr>\n",
              "      <th>349</th>\n",
              "      <td>2019-01-05 01:40:00</td>\n",
              "      <td>17.1</td>\n",
              "      <td>100293</td>\n",
              "      <td>200952</td>\n",
              "      <td>일시불[가이거] 제니스시계 주얼리세트</td>\n",
              "      <td>잡화</td>\n",
              "      <td>129000</td>\n",
              "      <td>20633000.0</td>\n",
              "    </tr>\n",
              "    <tr>\n",
              "      <th>350</th>\n",
              "      <td>2019-01-05 01:40:00</td>\n",
              "      <td>17.1</td>\n",
              "      <td>100293</td>\n",
              "      <td>200949</td>\n",
              "      <td>무이자[가이거] 제니스시계 주얼리세트</td>\n",
              "      <td>잡화</td>\n",
              "      <td>139000</td>\n",
              "      <td>8495000.0</td>\n",
              "    </tr>\n",
              "    <tr>\n",
              "      <th>351</th>\n",
              "      <td>2019-01-05 06:00:00</td>\n",
              "      <td>20.0</td>\n",
              "      <td>100267</td>\n",
              "      <td>200883</td>\n",
              "      <td>스칼프솔루션 트리트먼트 패키지</td>\n",
              "      <td>이미용</td>\n",
              "      <td>50900</td>\n",
              "      <td>4976000.0</td>\n",
              "    </tr>\n",
              "    <tr>\n",
              "      <th>352</th>\n",
              "      <td>2019-01-05 06:20:00</td>\n",
              "      <td>20.0</td>\n",
              "      <td>100267</td>\n",
              "      <td>200883</td>\n",
              "      <td>스칼프솔루션 트리트먼트 패키지</td>\n",
              "      <td>이미용</td>\n",
              "      <td>50900</td>\n",
              "      <td>11784000.0</td>\n",
              "    </tr>\n",
              "    <tr>\n",
              "      <th>...</th>\n",
              "      <td>...</td>\n",
              "      <td>...</td>\n",
              "      <td>...</td>\n",
              "      <td>...</td>\n",
              "      <td>...</td>\n",
              "      <td>...</td>\n",
              "      <td>...</td>\n",
              "      <td>...</td>\n",
              "    </tr>\n",
              "    <tr>\n",
              "      <th>38299</th>\n",
              "      <td>2019-12-31 23:40:00</td>\n",
              "      <td>20.0</td>\n",
              "      <td>100448</td>\n",
              "      <td>201391</td>\n",
              "      <td>일시불쿠첸압력밥솥 6인용</td>\n",
              "      <td>주방</td>\n",
              "      <td>148000</td>\n",
              "      <td>10157000.0</td>\n",
              "    </tr>\n",
              "    <tr>\n",
              "      <th>38300</th>\n",
              "      <td>2020-01-01 00:00:00</td>\n",
              "      <td>20.0</td>\n",
              "      <td>100448</td>\n",
              "      <td>201383</td>\n",
              "      <td>무이자쿠첸압력밥솥 10인용</td>\n",
              "      <td>주방</td>\n",
              "      <td>178000</td>\n",
              "      <td>50929000.0</td>\n",
              "    </tr>\n",
              "    <tr>\n",
              "      <th>38301</th>\n",
              "      <td>2020-01-01 00:00:00</td>\n",
              "      <td>20.0</td>\n",
              "      <td>100448</td>\n",
              "      <td>201390</td>\n",
              "      <td>일시불쿠첸압력밥솥 10인용</td>\n",
              "      <td>주방</td>\n",
              "      <td>168000</td>\n",
              "      <td>104392000.0</td>\n",
              "    </tr>\n",
              "    <tr>\n",
              "      <th>38302</th>\n",
              "      <td>2020-01-01 00:00:00</td>\n",
              "      <td>20.0</td>\n",
              "      <td>100448</td>\n",
              "      <td>201384</td>\n",
              "      <td>무이자쿠첸압력밥솥 6인용</td>\n",
              "      <td>주방</td>\n",
              "      <td>158000</td>\n",
              "      <td>13765000.0</td>\n",
              "    </tr>\n",
              "    <tr>\n",
              "      <th>38303</th>\n",
              "      <td>2020-01-01 00:00:00</td>\n",
              "      <td>20.0</td>\n",
              "      <td>100448</td>\n",
              "      <td>201391</td>\n",
              "      <td>일시불쿠첸압력밥솥 6인용</td>\n",
              "      <td>주방</td>\n",
              "      <td>148000</td>\n",
              "      <td>46608000.0</td>\n",
              "    </tr>\n",
              "  </tbody>\n",
              "</table>\n",
              "<p>37024 rows × 8 columns</p>\n",
              "</div>"
            ],
            "text/plain": [
              "                     방송일시  노출(분)    마더코드  ...  상품군    판매단가          취급액\n",
              "348   2019-01-05 01:20:00   20.0  100293  ...   잡화  139000   15561000.0\n",
              "349   2019-01-05 01:40:00   17.1  100293  ...   잡화  129000   20633000.0\n",
              "350   2019-01-05 01:40:00   17.1  100293  ...   잡화  139000    8495000.0\n",
              "351   2019-01-05 06:00:00   20.0  100267  ...  이미용   50900    4976000.0\n",
              "352   2019-01-05 06:20:00   20.0  100267  ...  이미용   50900   11784000.0\n",
              "...                   ...    ...     ...  ...  ...     ...          ...\n",
              "38299 2019-12-31 23:40:00   20.0  100448  ...   주방  148000   10157000.0\n",
              "38300 2020-01-01 00:00:00   20.0  100448  ...   주방  178000   50929000.0\n",
              "38301 2020-01-01 00:00:00   20.0  100448  ...   주방  168000  104392000.0\n",
              "38302 2020-01-01 00:00:00   20.0  100448  ...   주방  158000   13765000.0\n",
              "38303 2020-01-01 00:00:00   20.0  100448  ...   주방  148000   46608000.0\n",
              "\n",
              "[37024 rows x 8 columns]"
            ]
          },
          "metadata": {
            "tags": []
          },
          "execution_count": 13
        }
      ]
    },
    {
      "cell_type": "code",
      "metadata": {
        "id": "-IYnZFRe2Agm",
        "colab_type": "code",
        "colab": {
          "base_uri": "https://localhost:8080/",
          "height": 279
        },
        "outputId": "6b6a4623-c2f8-4a0b-ebc1-faa7487007a1"
      },
      "source": [
        "Selling = testsell\n",
        "del(testsell)\n",
        "Selling.info()"
      ],
      "execution_count": null,
      "outputs": [
        {
          "output_type": "stream",
          "text": [
            "<class 'pandas.core.frame.DataFrame'>\n",
            "Int64Index: 37372 entries, 0 to 38303\n",
            "Data columns (total 8 columns):\n",
            " #   Column  Non-Null Count  Dtype         \n",
            "---  ------  --------------  -----         \n",
            " 0   방송일시    37372 non-null  datetime64[ns]\n",
            " 1   노출(분)   37372 non-null  float64       \n",
            " 2   마더코드    37372 non-null  int64         \n",
            " 3   상품코드    37372 non-null  int64         \n",
            " 4   상품명     37372 non-null  object        \n",
            " 5   상품군     37372 non-null  object        \n",
            " 6   판매단가    37372 non-null  int64         \n",
            " 7   취급액     37372 non-null  float64       \n",
            "dtypes: datetime64[ns](1), float64(2), int64(3), object(2)\n",
            "memory usage: 3.8+ MB\n"
          ],
          "name": "stdout"
        }
      ]
    },
    {
      "cell_type": "markdown",
      "metadata": {
        "id": "bTnbarXi4Jo1",
        "colab_type": "text"
      },
      "source": [
        "# 실적데이터 전체 기본분석(EDA)"
      ]
    },
    {
      "cell_type": "code",
      "metadata": {
        "id": "wJZa4RvD4JMW",
        "colab_type": "code",
        "colab": {
          "base_uri": "https://localhost:8080/",
          "height": 215
        },
        "outputId": "e6d1d462-a4b3-4aec-e4e6-5e2d10e37fa3"
      },
      "source": [
        "#날짜데이터 분리\n",
        "Selling[\"방송일시_년도\"] = Selling[\"방송일시\"].dt.year\n",
        "Selling[\"방송일시_월\"] = Selling[\"방송일시\"].dt.month\n",
        "Selling[\"방송일시_일\"] = Selling[\"방송일시\"].dt.day\n",
        "Selling[\"방송일시_시\"] = Selling[\"방송일시\"].dt.hour\n",
        "Selling[\"방송일시_분\"] = Selling[\"방송일시\"].dt.minute\n",
        "Selling[\"방송일시_초\"] = Selling[\"방송일시\"].dt.second\n",
        "Selling[\"방송일시_요일\"] = Selling[\"방송일시\"].dt.dayofweek\n",
        "print(Selling.shape)\n",
        "Selling[[\"방송일시\", \"방송일시_년도\",\"방송일시_월\",\"방송일시_일\",\"방송일시_시\",\"방송일시_분\",\"방송일시_초\",\"방송일시_요일\"]].head() #0-월요일 ~ 6-일요일"
      ],
      "execution_count": null,
      "outputs": [
        {
          "output_type": "stream",
          "text": [
            "(37372, 15)\n"
          ],
          "name": "stdout"
        },
        {
          "output_type": "execute_result",
          "data": {
            "text/html": [
              "<div>\n",
              "<style scoped>\n",
              "    .dataframe tbody tr th:only-of-type {\n",
              "        vertical-align: middle;\n",
              "    }\n",
              "\n",
              "    .dataframe tbody tr th {\n",
              "        vertical-align: top;\n",
              "    }\n",
              "\n",
              "    .dataframe thead th {\n",
              "        text-align: right;\n",
              "    }\n",
              "</style>\n",
              "<table border=\"1\" class=\"dataframe\">\n",
              "  <thead>\n",
              "    <tr style=\"text-align: right;\">\n",
              "      <th></th>\n",
              "      <th>방송일시</th>\n",
              "      <th>방송일시_년도</th>\n",
              "      <th>방송일시_월</th>\n",
              "      <th>방송일시_일</th>\n",
              "      <th>방송일시_시</th>\n",
              "      <th>방송일시_분</th>\n",
              "      <th>방송일시_초</th>\n",
              "      <th>방송일시_요일</th>\n",
              "    </tr>\n",
              "  </thead>\n",
              "  <tbody>\n",
              "    <tr>\n",
              "      <th>0</th>\n",
              "      <td>2019-01-01 06:00:00</td>\n",
              "      <td>2019</td>\n",
              "      <td>1</td>\n",
              "      <td>1</td>\n",
              "      <td>6</td>\n",
              "      <td>0</td>\n",
              "      <td>0</td>\n",
              "      <td>1</td>\n",
              "    </tr>\n",
              "    <tr>\n",
              "      <th>1</th>\n",
              "      <td>2019-01-01 06:00:00</td>\n",
              "      <td>2019</td>\n",
              "      <td>1</td>\n",
              "      <td>1</td>\n",
              "      <td>6</td>\n",
              "      <td>0</td>\n",
              "      <td>0</td>\n",
              "      <td>1</td>\n",
              "    </tr>\n",
              "    <tr>\n",
              "      <th>2</th>\n",
              "      <td>2019-01-01 06:20:00</td>\n",
              "      <td>2019</td>\n",
              "      <td>1</td>\n",
              "      <td>1</td>\n",
              "      <td>6</td>\n",
              "      <td>20</td>\n",
              "      <td>0</td>\n",
              "      <td>1</td>\n",
              "    </tr>\n",
              "    <tr>\n",
              "      <th>3</th>\n",
              "      <td>2019-01-01 06:20:00</td>\n",
              "      <td>2019</td>\n",
              "      <td>1</td>\n",
              "      <td>1</td>\n",
              "      <td>6</td>\n",
              "      <td>20</td>\n",
              "      <td>0</td>\n",
              "      <td>1</td>\n",
              "    </tr>\n",
              "    <tr>\n",
              "      <th>4</th>\n",
              "      <td>2019-01-01 06:40:00</td>\n",
              "      <td>2019</td>\n",
              "      <td>1</td>\n",
              "      <td>1</td>\n",
              "      <td>6</td>\n",
              "      <td>40</td>\n",
              "      <td>0</td>\n",
              "      <td>1</td>\n",
              "    </tr>\n",
              "  </tbody>\n",
              "</table>\n",
              "</div>"
            ],
            "text/plain": [
              "                 방송일시  방송일시_년도  방송일시_월  방송일시_일  방송일시_시  방송일시_분  방송일시_초  방송일시_요일\n",
              "0 2019-01-01 06:00:00     2019       1       1       6       0       0        1\n",
              "1 2019-01-01 06:00:00     2019       1       1       6       0       0        1\n",
              "2 2019-01-01 06:20:00     2019       1       1       6      20       0        1\n",
              "3 2019-01-01 06:20:00     2019       1       1       6      20       0        1\n",
              "4 2019-01-01 06:40:00     2019       1       1       6      40       0        1"
            ]
          },
          "metadata": {
            "tags": []
          },
          "execution_count": 15
        }
      ]
    },
    {
      "cell_type": "code",
      "metadata": {
        "id": "Ruzl4IyTBe7T",
        "colab_type": "code",
        "colab": {
          "base_uri": "https://localhost:8080/",
          "height": 122
        },
        "outputId": "cc8c4a47-394d-47c2-b148-6e2f755c1e1b"
      },
      "source": [
        "#파생변수 생성1 - 주문량\n",
        "Selling['주문량']= Selling['취급액']/Selling['판매단가']\n",
        "Selling['주문량'].head()"
      ],
      "execution_count": null,
      "outputs": [
        {
          "output_type": "execute_result",
          "data": {
            "text/plain": [
              "0     52.606516\n",
              "1    109.548872\n",
              "2     81.754386\n",
              "3    174.310777\n",
              "4    167.218045\n",
              "Name: 주문량, dtype: float64"
            ]
          },
          "metadata": {
            "tags": []
          },
          "execution_count": 16
        }
      ]
    },
    {
      "cell_type": "code",
      "metadata": {
        "id": "laUBvt5aVE87",
        "colab_type": "code",
        "colab": {
          "base_uri": "https://localhost:8080/",
          "height": 367
        },
        "outputId": "7232916a-accc-4a07-f40e-27977deb7b9a"
      },
      "source": [
        "#파생변수 생성2 - 계절\n",
        "# 계절 열 생성\n",
        "Selling[\"계절\"] = \"\"\n",
        "Selling.head()\n",
        "\n",
        "for i in Selling.index:\n",
        "  if 3 <= Selling['방송일시_월'][i] <= 5:\n",
        "    Selling['계절'][i] = 1\n",
        "  elif 6<= Selling['방송일시_월'][i] <= 8:\n",
        "    Selling['계절'][i] = 2\n",
        "  elif 9<= Selling['방송일시_월'][i] <= 11:\n",
        "    Selling['계절'][i] = 3\n",
        "  else:\n",
        "    Selling[\"계절\"][i] = 4 "
      ],
      "execution_count": null,
      "outputs": [
        {
          "output_type": "stream",
          "text": [
            "/usr/local/lib/python3.6/dist-packages/ipykernel_launcher.py:14: SettingWithCopyWarning: \n",
            "A value is trying to be set on a copy of a slice from a DataFrame\n",
            "\n",
            "See the caveats in the documentation: https://pandas.pydata.org/pandas-docs/stable/user_guide/indexing.html#returning-a-view-versus-a-copy\n",
            "  \n",
            "/usr/local/lib/python3.6/dist-packages/ipykernel_launcher.py:8: SettingWithCopyWarning: \n",
            "A value is trying to be set on a copy of a slice from a DataFrame\n",
            "\n",
            "See the caveats in the documentation: https://pandas.pydata.org/pandas-docs/stable/user_guide/indexing.html#returning-a-view-versus-a-copy\n",
            "  \n",
            "/usr/local/lib/python3.6/dist-packages/ipykernel_launcher.py:10: SettingWithCopyWarning: \n",
            "A value is trying to be set on a copy of a slice from a DataFrame\n",
            "\n",
            "See the caveats in the documentation: https://pandas.pydata.org/pandas-docs/stable/user_guide/indexing.html#returning-a-view-versus-a-copy\n",
            "  # Remove the CWD from sys.path while we load stuff.\n",
            "/usr/local/lib/python3.6/dist-packages/ipykernel_launcher.py:12: SettingWithCopyWarning: \n",
            "A value is trying to be set on a copy of a slice from a DataFrame\n",
            "\n",
            "See the caveats in the documentation: https://pandas.pydata.org/pandas-docs/stable/user_guide/indexing.html#returning-a-view-versus-a-copy\n",
            "  if sys.path[0] == '':\n"
          ],
          "name": "stderr"
        }
      ]
    },
    {
      "cell_type": "markdown",
      "metadata": {
        "id": "fJXeb33DETNh",
        "colab_type": "text"
      },
      "source": [
        "# **시각화**"
      ]
    },
    {
      "cell_type": "code",
      "metadata": {
        "id": "391P5mrh6ET9",
        "colab_type": "code",
        "colab": {
          "base_uri": "https://localhost:8080/",
          "height": 72
        },
        "outputId": "90a847f8-ae4b-4bf5-d72f-ebdf26fef583"
      },
      "source": [
        "import seaborn as sns"
      ],
      "execution_count": null,
      "outputs": [
        {
          "output_type": "stream",
          "text": [
            "/usr/local/lib/python3.6/dist-packages/statsmodels/tools/_testing.py:19: FutureWarning: pandas.util.testing is deprecated. Use the functions in the public API at pandas.testing instead.\n",
            "  import pandas.util.testing as tm\n"
          ],
          "name": "stderr"
        }
      ]
    },
    {
      "cell_type": "code",
      "metadata": {
        "id": "W-wIYU356EYC",
        "colab_type": "code",
        "colab": {
          "base_uri": "https://localhost:8080/",
          "height": 857
        },
        "outputId": "94adcebc-c721-4981-c87c-444d0528e9b1"
      },
      "source": [
        "sns.pointplot(data=Selling,x=\"방송일시_월\",y=\"주문량\") #방송월별 주문량평균 그래프\n",
        "# Selling.groupby('주문량)['방송일시_월'].mean() 이 결과와 동일"
      ],
      "execution_count": null,
      "outputs": [
        {
          "output_type": "execute_result",
          "data": {
            "text/plain": [
              "<matplotlib.axes._subplots.AxesSubplot at 0x7fa43cc42518>"
            ]
          },
          "metadata": {
            "tags": []
          },
          "execution_count": 19
        },
        {
          "output_type": "stream",
          "text": [
            "findfont: Font family ['NanumBarunGothic'] not found. Falling back to DejaVu Sans.\n",
            "/usr/local/lib/python3.6/dist-packages/matplotlib/backends/backend_agg.py:214: RuntimeWarning: Glyph 48169 missing from current font.\n",
            "  font.set_text(s, 0.0, flags=flags)\n",
            "/usr/local/lib/python3.6/dist-packages/matplotlib/backends/backend_agg.py:214: RuntimeWarning: Glyph 49569 missing from current font.\n",
            "  font.set_text(s, 0.0, flags=flags)\n",
            "/usr/local/lib/python3.6/dist-packages/matplotlib/backends/backend_agg.py:214: RuntimeWarning: Glyph 51068 missing from current font.\n",
            "  font.set_text(s, 0.0, flags=flags)\n",
            "/usr/local/lib/python3.6/dist-packages/matplotlib/backends/backend_agg.py:214: RuntimeWarning: Glyph 49884 missing from current font.\n",
            "  font.set_text(s, 0.0, flags=flags)\n",
            "/usr/local/lib/python3.6/dist-packages/matplotlib/backends/backend_agg.py:214: RuntimeWarning: Glyph 50900 missing from current font.\n",
            "  font.set_text(s, 0.0, flags=flags)\n",
            "/usr/local/lib/python3.6/dist-packages/matplotlib/backends/backend_agg.py:183: RuntimeWarning: Glyph 48169 missing from current font.\n",
            "  font.set_text(s, 0, flags=flags)\n",
            "/usr/local/lib/python3.6/dist-packages/matplotlib/backends/backend_agg.py:183: RuntimeWarning: Glyph 49569 missing from current font.\n",
            "  font.set_text(s, 0, flags=flags)\n",
            "/usr/local/lib/python3.6/dist-packages/matplotlib/backends/backend_agg.py:183: RuntimeWarning: Glyph 51068 missing from current font.\n",
            "  font.set_text(s, 0, flags=flags)\n",
            "/usr/local/lib/python3.6/dist-packages/matplotlib/backends/backend_agg.py:183: RuntimeWarning: Glyph 49884 missing from current font.\n",
            "  font.set_text(s, 0, flags=flags)\n",
            "/usr/local/lib/python3.6/dist-packages/matplotlib/backends/backend_agg.py:183: RuntimeWarning: Glyph 50900 missing from current font.\n",
            "  font.set_text(s, 0, flags=flags)\n",
            "/usr/local/lib/python3.6/dist-packages/matplotlib/backends/backend_agg.py:214: RuntimeWarning: Glyph 51452 missing from current font.\n",
            "  font.set_text(s, 0.0, flags=flags)\n",
            "/usr/local/lib/python3.6/dist-packages/matplotlib/backends/backend_agg.py:214: RuntimeWarning: Glyph 47928 missing from current font.\n",
            "  font.set_text(s, 0.0, flags=flags)\n",
            "/usr/local/lib/python3.6/dist-packages/matplotlib/backends/backend_agg.py:214: RuntimeWarning: Glyph 47049 missing from current font.\n",
            "  font.set_text(s, 0.0, flags=flags)\n",
            "/usr/local/lib/python3.6/dist-packages/matplotlib/backends/backend_agg.py:183: RuntimeWarning: Glyph 51452 missing from current font.\n",
            "  font.set_text(s, 0, flags=flags)\n",
            "/usr/local/lib/python3.6/dist-packages/matplotlib/backends/backend_agg.py:183: RuntimeWarning: Glyph 47928 missing from current font.\n",
            "  font.set_text(s, 0, flags=flags)\n",
            "/usr/local/lib/python3.6/dist-packages/matplotlib/backends/backend_agg.py:183: RuntimeWarning: Glyph 47049 missing from current font.\n",
            "  font.set_text(s, 0, flags=flags)\n"
          ],
          "name": "stderr"
        },
        {
          "output_type": "display_data",
          "data": {
            "image/png": "[encoded data removed]",
            "text/plain": [
              "<Figure size 432x288 with 1 Axes>"
            ]
          },
          "metadata": {
            "tags": [],
            "needs_background": "light"
          }
        }
      ]
    },
    {
      "cell_type": "code",
      "metadata": {
        "id": "2eRH9g036Eed",
        "colab_type": "code",
        "colab": {
          "base_uri": "https://localhost:8080/",
          "height": 1000
        },
        "outputId": "54f68e3b-b712-425b-9c60-a94f947349d9"
      },
      "source": [
        "sns.pointplot(data=Selling,x=\"계절\",y=\"주문량\") #계절별 주문량 그래프 3(가을)에 제일 많고 1(봄)에 제일 적다.\n",
        "sns.barplot(data=Selling,x=\"계절\",y=\"주문량\")"
      ],
      "execution_count": 551,
      "outputs": [
        {
          "output_type": "execute_result",
          "data": {
            "text/plain": [
              "<matplotlib.axes._subplots.AxesSubplot at 0x7fa4258ea198>"
            ]
          },
          "metadata": {
            "tags": []
          },
          "execution_count": 551
        },
        {
          "output_type": "stream",
          "text": [
            "/usr/local/lib/python3.6/dist-packages/matplotlib/backends/backend_agg.py:214: RuntimeWarning: Glyph 44228 missing from current font.\n",
            "  font.set_text(s, 0.0, flags=flags)\n",
            "/usr/local/lib/python3.6/dist-packages/matplotlib/backends/backend_agg.py:214: RuntimeWarning: Glyph 51208 missing from current font.\n",
            "  font.set_text(s, 0.0, flags=flags)\n",
            "/usr/local/lib/python3.6/dist-packages/matplotlib/backends/backend_agg.py:183: RuntimeWarning: Glyph 44228 missing from current font.\n",
            "  font.set_text(s, 0, flags=flags)\n",
            "/usr/local/lib/python3.6/dist-packages/matplotlib/backends/backend_agg.py:183: RuntimeWarning: Glyph 51208 missing from current font.\n",
            "  font.set_text(s, 0, flags=flags)\n",
            "/usr/local/lib/python3.6/dist-packages/matplotlib/backends/backend_agg.py:214: RuntimeWarning: Glyph 51452 missing from current font.\n",
            "  font.set_text(s, 0.0, flags=flags)\n",
            "/usr/local/lib/python3.6/dist-packages/matplotlib/backends/backend_agg.py:214: RuntimeWarning: Glyph 47928 missing from current font.\n",
            "  font.set_text(s, 0.0, flags=flags)\n",
            "/usr/local/lib/python3.6/dist-packages/matplotlib/backends/backend_agg.py:214: RuntimeWarning: Glyph 47049 missing from current font.\n",
            "  font.set_text(s, 0.0, flags=flags)\n",
            "/usr/local/lib/python3.6/dist-packages/matplotlib/backends/backend_agg.py:183: RuntimeWarning: Glyph 51452 missing from current font.\n",
            "  font.set_text(s, 0, flags=flags)\n",
            "/usr/local/lib/python3.6/dist-packages/matplotlib/backends/backend_agg.py:183: RuntimeWarning: Glyph 47928 missing from current font.\n",
            "  font.set_text(s, 0, flags=flags)\n",
            "/usr/local/lib/python3.6/dist-packages/matplotlib/backends/backend_agg.py:183: RuntimeWarning: Glyph 47049 missing from current font.\n",
            "  font.set_text(s, 0, flags=flags)\n"
          ],
          "name": "stderr"
        },
        {
          "output_type": "display_data",
          "data": {
            "image/png": "[encoded data removed]",
            "text/plain": [
              "<Figure size 1440x1080 with 1 Axes>"
            ]
          },
          "metadata": {
            "tags": [],
            "needs_background": "light"
          }
        }
      ]
    },
    {
      "cell_type": "code",
      "metadata": {
        "id": "6uTcJ2_u6EcP",
        "colab_type": "code",
        "colab": {
          "base_uri": "https://localhost:8080/",
          "height": 282
        },
        "outputId": "a1d6169d-18f0-4144-c83f-38936e51028f"
      },
      "source": [
        " # 요일별 취급액 합계 시각화\n",
        "plt.plot(Selling.groupby(\"방송일시_요일\")[\"주문량\"].sum()/Selling.groupby(\"방송일시_요일\")[\"주문량\"].count())"
      ],
      "execution_count": null,
      "outputs": [
        {
          "output_type": "execute_result",
          "data": {
            "text/plain": [
              "[<matplotlib.lines.Line2D at 0x7fa43c723160>]"
            ]
          },
          "metadata": {
            "tags": []
          },
          "execution_count": 21
        },
        {
          "output_type": "display_data",
          "data": {
            "image/png": "[encoded data removed]",
            "text/plain": [
              "<Figure size 432x288 with 1 Axes>"
            ]
          },
          "metadata": {
            "tags": [],
            "needs_background": "light"
          }
        }
      ]
    },
    {
      "cell_type": "code",
      "metadata": {
        "id": "mHOMNrZn6EQW",
        "colab_type": "code",
        "colab": {
          "base_uri": "https://localhost:8080/",
          "height": 174
        },
        "outputId": "fc6c059a-23ff-450a-c3f1-9a5038031493"
      },
      "source": [
        "(Selling.groupby(\"방송일시_요일\")[\"주문량\"].sum()/Selling.groupby(\"방송일시_요일\")[\"주문량\"].count()).describe()"
      ],
      "execution_count": null,
      "outputs": [
        {
          "output_type": "execute_result",
          "data": {
            "text/plain": [
              "count      7.000000\n",
              "mean     298.018723\n",
              "std       16.500974\n",
              "min      277.245528\n",
              "25%      289.038046\n",
              "50%      296.041565\n",
              "75%      304.025353\n",
              "max      326.717170\n",
              "Name: 주문량, dtype: float64"
            ]
          },
          "metadata": {
            "tags": []
          },
          "execution_count": 22
        }
      ]
    },
    {
      "cell_type": "markdown",
      "metadata": {
        "id": "FSHSZrC77l1x",
        "colab_type": "text"
      },
      "source": [
        "# **시청률데이터 처리**"
      ]
    },
    {
      "cell_type": "code",
      "metadata": {
        "id": "4tDTU_4A7pTN",
        "colab_type": "code",
        "colab": {}
      },
      "source": [
        "# 실적에 대한 정의를 확실히 하고... 본질적으로 우리가 예측하는것이 어느시점에 발생하는 행위인지 정의해야 될듯.\n",
        "# 시청률 집계방식-> 8시2분에 10%라면, 그 이전에 시청하던 시청자수를 집계해서 얻은 수치임(내가 아는바에 의하면)\n",
        "# 실적이 발생하는 시점? 결제가 발생해서 실제로 수익이 난 시점! 시청률 발생시점, 집계시점, 실적시점이 다 서로 다를 수 있을거 같음.\n",
        "# 근데 우리가 예측할건 분당 실적이다... 어떤 시점의 어느 행위를 예측하는가? 어떻게 실적을 분별로 예측할까."
      ],
      "execution_count": null,
      "outputs": []
    },
    {
      "cell_type": "code",
      "metadata": {
        "id": "tjpfkFEh7pL_",
        "colab_type": "code",
        "colab": {}
      },
      "source": [
        "# 날씨 앱애니(유지비율) 공휴일 \n",
        "# "
      ],
      "execution_count": null,
      "outputs": []
    },
    {
      "cell_type": "markdown",
      "metadata": {
        "id": "UDY1cYB63r98",
        "colab_type": "text"
      },
      "source": [
        "# 상품군별 분리 및 분석\n",
        "\n",
        "---\n",
        "\n",
        "\n",
        "1.   주방\n",
        "2.   가전\n",
        "3.   의류\n",
        "4.   속옷\n",
        "5.   잡화\n",
        "6.   농수축\n",
        "7.   생활용품\n",
        "8.   가구\n",
        "9.   이미용\n",
        "10.  건강기능\n",
        "11.  침구\n",
        "\n",
        "\n"
      ]
    },
    {
      "cell_type": "code",
      "metadata": {
        "id": "2gRNXCtR3khg",
        "colab_type": "code",
        "colab": {
          "base_uri": "https://localhost:8080/",
          "height": 227
        },
        "outputId": "925841c2-2c7e-42ed-a5d4-f52af9a0901f"
      },
      "source": [
        "Selling['상품군'].value_counts()"
      ],
      "execution_count": null,
      "outputs": [
        {
          "output_type": "execute_result",
          "data": {
            "text/plain": [
              "주방      6604\n",
              "가전      6479\n",
              "의류      4340\n",
              "속옷      3919\n",
              "잡화      3891\n",
              "농수축     3884\n",
              "생활용품    2877\n",
              "가구      2614\n",
              "이미용     1305\n",
              "건강기능     790\n",
              "침구       669\n",
              "Name: 상품군, dtype: int64"
            ]
          },
          "metadata": {
            "tags": []
          },
          "execution_count": 25
        }
      ]
    },
    {
      "cell_type": "code",
      "metadata": {
        "id": "NmO7SReTzIEy",
        "colab_type": "code",
        "colab": {}
      },
      "source": [
        "data = Selling.copy()\n",
        "# 세환님 코드\n",
        "funiture=[]#가구\n",
        "HomeAppliances=[]#가전\n",
        "Hearth=[]#건강기능\n",
        "Agriculture=[]#농수축\n",
        "Intangible=[]#무형\n",
        "Householdgood=[]#생활용품\n",
        "innerwear=[]#속옷\n",
        "cloths=[]#의류\n",
        "beauty=[]#미용\n",
        "stuff=[]#잡화\n",
        "kitchen=[]#주방\n",
        "bedding=[]#침구\n",
        "\n",
        "for i in range(len(data)):\n",
        "    if data['상품군'].iloc[i] == \"의류\" :\n",
        "        cloths.append(data['취급액'].iloc[i]/data['판매단가'].iloc[i])\n",
        "    elif data['상품군'].iloc[i] == \"가구\" :\n",
        "        funiture.append(data['취급액'].iloc[i]/data['판매단가'].iloc[i])\n",
        "    elif data['상품군'].iloc[i] == \"가전\" :\n",
        "        HomeAppliances.append(data['취급액'].iloc[i]/data['판매단가'].iloc[i])\n",
        "    elif data['상품군'].iloc[i] == \"건강기능\" :\n",
        "        Hearth.append(data['취급액'].iloc[i]/data['판매단가'].iloc[i])\n",
        "    elif data['상품군'].iloc[i] == \"농수축\" :\n",
        "        Agriculture.append(data['취급액'].iloc[i]/data['판매단가'].iloc[i])\n",
        "    elif data['상품군'].iloc[i] == \"무형\" :\n",
        "        Intangible.append(data['취급액'].iloc[i]/data['판매단가'].iloc[i])\n",
        "    elif data['상품군'].iloc[i] == \"생활용품\" :\n",
        "        Householdgood.append(data['취급액'].iloc[i]/data['판매단가'].iloc[i])\n",
        "    elif data['상품군'].iloc[i] == \"속옷\" :\n",
        "        innerwear.append(data['취급액'].iloc[i]/data['판매단가'].iloc[i])\n",
        "    elif data['상품군'].iloc[i] == \"이미용\" :\n",
        "        beauty.append(data['취급액'].iloc[i]/data['판매단가'].iloc[i])\n",
        "    elif data['상품군'].iloc[i] == \"잡화\" :\n",
        "        stuff.append(data['취급액'].iloc[i]/data['판매단가'].iloc[i])\n",
        "    elif data['상품군'].iloc[i] == \"주방\" :\n",
        "        kitchen.append(data['취급액'].iloc[i]/data['판매단가'].iloc[i])\n",
        "    elif data['상품군'].iloc[i] == \"침구\" :\n",
        "        bedding.append(data['취급액'].iloc[i]/data['판매단가'].iloc[i])"
      ],
      "execution_count": null,
      "outputs": []
    },
    {
      "cell_type": "code",
      "metadata": {
        "id": "_mOakXtFzgnP",
        "colab_type": "code",
        "colab": {
          "base_uri": "https://localhost:8080/",
          "height": 282
        },
        "outputId": "0c35081e-2c7d-4e83-bda8-64dc448b63bd"
      },
      "source": [
        "plt.plot(funiture) #가구"
      ],
      "execution_count": null,
      "outputs": [
        {
          "output_type": "execute_result",
          "data": {
            "text/plain": [
              "[<matplotlib.lines.Line2D at 0x7fa43cb43198>]"
            ]
          },
          "metadata": {
            "tags": []
          },
          "execution_count": 27
        },
        {
          "output_type": "display_data",
          "data": {
            "image/png": "[encoded data removed]",
            "text/plain": [
              "<Figure size 432x288 with 1 Axes>"
            ]
          },
          "metadata": {
            "tags": [],
            "needs_background": "light"
          }
        }
      ]
    },
    {
      "cell_type": "code",
      "metadata": {
        "id": "fN7nSM_Logy_",
        "colab_type": "code",
        "colab": {}
      },
      "source": [
        "funiture"
      ],
      "execution_count": null,
      "outputs": []
    },
    {
      "cell_type": "code",
      "metadata": {
        "id": "eThF_GbT2dk-",
        "colab_type": "code",
        "colab": {}
      },
      "source": [
        "data_Mother_grouped = data.groupby('마더코드')\n",
        "MoMCodeGroup = data_Mother_grouped.sum()['주문량'] "
      ],
      "execution_count": null,
      "outputs": []
    },
    {
      "cell_type": "code",
      "metadata": {
        "id": "nGBHk7im2goH",
        "colab_type": "code",
        "colab": {
          "base_uri": "https://localhost:8080/",
          "height": 282
        },
        "outputId": "47e618fb-907e-4282-ac55-5e37664d76a3"
      },
      "source": [
        "plt.plot(MoMCodeGroup)"
      ],
      "execution_count": null,
      "outputs": [
        {
          "output_type": "execute_result",
          "data": {
            "text/plain": [
              "[<matplotlib.lines.Line2D at 0x7fa43cad7eb8>]"
            ]
          },
          "metadata": {
            "tags": []
          },
          "execution_count": 30
        },
        {
          "output_type": "display_data",
          "data": {
            "image/png": "[encoded data removed]",
            "text/plain": [
              "<Figure size 432x288 with 1 Axes>"
            ]
          },
          "metadata": {
            "tags": [],
            "needs_background": "light"
          }
        }
      ]
    },
    {
      "cell_type": "code",
      "metadata": {
        "id": "UeE8_cF02jpS",
        "colab_type": "code",
        "colab": {}
      },
      "source": [
        "data_Multi_grouped = data.groupby(['마더코드','상품군'])\n",
        "MultiGroup = data_Multi_grouped['주문량'].sum()"
      ],
      "execution_count": null,
      "outputs": []
    },
    {
      "cell_type": "code",
      "metadata": {
        "id": "mMnDy2QO21X3",
        "colab_type": "code",
        "colab": {}
      },
      "source": [
        "Furni_by_MoM = MultiGroup[:,'가구']\n",
        "cloths_by_MoM = MultiGroup[:,'의류']\n",
        "HomeAppliances_by_MoM = MultiGroup[:,'가전']\n",
        "Hearth_by_MoM = MultiGroup[:,'건강기능']\n",
        "Agriculture_by_MoM = MultiGroup[:,'농수축']\n",
        "Intangible_by_MoM = MultiGroup[:,'가전']\n",
        "Householdgood_by_MoM = MultiGroup[:,'생활용품']\n",
        "innerwear_by_MoM = MultiGroup[:,'속옷']\n",
        "beauty_by_MoM = MultiGroup[:,'이미용']\n",
        "stuff_by_MoM = MultiGroup[:,'잡화']\n",
        "kitchen_by_MoM = MultiGroup[:,'주방']\n",
        "bedding_by_MoM = MultiGroup[:,'침구']"
      ],
      "execution_count": null,
      "outputs": []
    },
    {
      "cell_type": "code",
      "metadata": {
        "id": "Jwb7265e_Lg7",
        "colab_type": "code",
        "colab": {
          "base_uri": "https://localhost:8080/",
          "height": 883
        },
        "outputId": "e526adb6-2b4c-41d0-d4b9-ed78c2e4a00b"
      },
      "source": [
        "%matplotlib inline\n",
        "plt.rcParams['figure.figsize'] = (20,15)\n",
        "\n",
        "\n",
        "plt.subplot2grid((4,3),(0,0)); plt.plot(Furni_by_MoM)\n",
        "plt.subplot2grid((4,3),(0,1)); plt.plot(cloths_by_MoM)\n",
        "plt.subplot2grid((4,3),(0,2)); plt.plot(HomeAppliances_by_MoM)\n",
        "plt.subplot2grid((4,3),(1,0)); plt.plot(Hearth_by_MoM)\n",
        "plt.subplot2grid((4,3),(1,1)); plt.plot(Agriculture_by_MoM)\n",
        "plt.subplot2grid((4,3),(1,2)); plt.plot(Intangible_by_MoM)\n",
        "plt.subplot2grid((4,3),(2,0)); plt.plot(Householdgood_by_MoM)\n",
        "plt.subplot2grid((4,3),(2,1)); plt.plot(innerwear_by_MoM)\n",
        "plt.subplot2grid((4,3),(2,2)); plt.plot(beauty_by_MoM)\n",
        "plt.subplot2grid((4,3),(3,0)); plt.plot(stuff_by_MoM)\n",
        "plt.subplot2grid((4,3),(3,1)); plt.plot(kitchen_by_MoM)\n",
        "plt.subplot2grid((4,3),(3,2)); plt.plot(bedding_by_MoM)"
      ],
      "execution_count": 550,
      "outputs": [
        {
          "output_type": "execute_result",
          "data": {
            "text/plain": [
              "[<matplotlib.lines.Line2D at 0x7fa423d135c0>]"
            ]
          },
          "metadata": {
            "tags": []
          },
          "execution_count": 550
        },
        {
          "output_type": "display_data",
          "data": {
            "image/png": "[encoded data removed]",
            "text/plain": [
              "<Figure size 1440x1080 with 12 Axes>"
            ]
          },
          "metadata": {
            "tags": [],
            "needs_background": "light"
          }
        }
      ]
    },
    {
      "cell_type": "code",
      "metadata": {
        "id": "7oc3hfGG9e-a",
        "colab_type": "code",
        "colab": {
          "base_uri": "https://localhost:8080/",
          "height": 612
        },
        "outputId": "b9a741ad-2472-4c24-aac7-56b22601105e"
      },
      "source": [
        "plt.plot(Furni_by_MoM)"
      ],
      "execution_count": null,
      "outputs": [
        {
          "output_type": "execute_result",
          "data": {
            "text/plain": [
              "[<matplotlib.lines.Line2D at 0x7fa42928d4e0>]"
            ]
          },
          "metadata": {
            "tags": []
          },
          "execution_count": 34
        },
        {
          "output_type": "display_data",
          "data": {
            "image/png": "[encoded data removed]",
            "text/plain": [
              "<Figure size 2160x1080 with 1 Axes>"
            ]
          },
          "metadata": {
            "tags": [],
            "needs_background": "light"
          }
        }
      ]
    },
    {
      "cell_type": "markdown",
      "metadata": {
        "id": "kJVtYYh_5_FD",
        "colab_type": "text"
      },
      "source": [
        "# 1.주방용품"
      ]
    },
    {
      "cell_type": "code",
      "metadata": {
        "id": "r1AcLlvG5-fH",
        "colab_type": "code",
        "colab": {
          "base_uri": "https://localhost:8080/",
          "height": 752
        },
        "outputId": "dd045312-e105-4287-9645-7ef298bb7e41"
      },
      "source": [
        "Selling_Kitchen = Selling[Selling['상품군']=='주방']\n",
        "print(Selling_Kitchen.info())\n",
        "Selling_Kitchen.head()"
      ],
      "execution_count": null,
      "outputs": [
        {
          "output_type": "stream",
          "text": [
            "<class 'pandas.core.frame.DataFrame'>\n",
            "Int64Index: 6604 entries, 20 to 38303\n",
            "Data columns (total 17 columns):\n",
            " #   Column   Non-Null Count  Dtype         \n",
            "---  ------   --------------  -----         \n",
            " 0   방송일시     6604 non-null   datetime64[ns]\n",
            " 1   노출(분)    6604 non-null   float64       \n",
            " 2   마더코드     6604 non-null   int64         \n",
            " 3   상품코드     6604 non-null   int64         \n",
            " 4   상품명      6604 non-null   object        \n",
            " 5   상품군      6604 non-null   object        \n",
            " 6   판매단가     6604 non-null   int64         \n",
            " 7   취급액      6604 non-null   float64       \n",
            " 8   방송일시_년도  6604 non-null   int64         \n",
            " 9   방송일시_월   6604 non-null   int64         \n",
            " 10  방송일시_일   6604 non-null   int64         \n",
            " 11  방송일시_시   6604 non-null   int64         \n",
            " 12  방송일시_분   6604 non-null   int64         \n",
            " 13  방송일시_초   6604 non-null   int64         \n",
            " 14  방송일시_요일  6604 non-null   int64         \n",
            " 15  주문량      6604 non-null   float64       \n",
            " 16  계절       6604 non-null   object        \n",
            "dtypes: datetime64[ns](1), float64(3), int64(10), object(3)\n",
            "memory usage: 928.7+ KB\n",
            "None\n"
          ],
          "name": "stdout"
        },
        {
          "output_type": "execute_result",
          "data": {
            "text/html": [
              "<div>\n",
              "<style scoped>\n",
              "    .dataframe tbody tr th:only-of-type {\n",
              "        vertical-align: middle;\n",
              "    }\n",
              "\n",
              "    .dataframe tbody tr th {\n",
              "        vertical-align: top;\n",
              "    }\n",
              "\n",
              "    .dataframe thead th {\n",
              "        text-align: right;\n",
              "    }\n",
              "</style>\n",
              "<table border=\"1\" class=\"dataframe\">\n",
              "  <thead>\n",
              "    <tr style=\"text-align: right;\">\n",
              "      <th></th>\n",
              "      <th>방송일시</th>\n",
              "      <th>노출(분)</th>\n",
              "      <th>마더코드</th>\n",
              "      <th>상품코드</th>\n",
              "      <th>상품명</th>\n",
              "      <th>상품군</th>\n",
              "      <th>판매단가</th>\n",
              "      <th>취급액</th>\n",
              "      <th>방송일시_년도</th>\n",
              "      <th>방송일시_월</th>\n",
              "      <th>방송일시_일</th>\n",
              "      <th>방송일시_시</th>\n",
              "      <th>방송일시_분</th>\n",
              "      <th>방송일시_초</th>\n",
              "      <th>방송일시_요일</th>\n",
              "      <th>주문량</th>\n",
              "      <th>계절</th>\n",
              "    </tr>\n",
              "  </thead>\n",
              "  <tbody>\n",
              "    <tr>\n",
              "      <th>20</th>\n",
              "      <td>2019-01-01 12:00:00</td>\n",
              "      <td>20.0</td>\n",
              "      <td>100088</td>\n",
              "      <td>200236</td>\n",
              "      <td>에코라믹 통주물 스톤 냄비세트</td>\n",
              "      <td>주방</td>\n",
              "      <td>60900</td>\n",
              "      <td>33823000.0</td>\n",
              "      <td>2019</td>\n",
              "      <td>1</td>\n",
              "      <td>1</td>\n",
              "      <td>12</td>\n",
              "      <td>0</td>\n",
              "      <td>0</td>\n",
              "      <td>1</td>\n",
              "      <td>555.385878</td>\n",
              "      <td>4</td>\n",
              "    </tr>\n",
              "    <tr>\n",
              "      <th>21</th>\n",
              "      <td>2019-01-01 12:20:00</td>\n",
              "      <td>20.0</td>\n",
              "      <td>100088</td>\n",
              "      <td>200236</td>\n",
              "      <td>에코라믹 통주물 스톤 냄비세트</td>\n",
              "      <td>주방</td>\n",
              "      <td>60900</td>\n",
              "      <td>59083000.0</td>\n",
              "      <td>2019</td>\n",
              "      <td>1</td>\n",
              "      <td>1</td>\n",
              "      <td>12</td>\n",
              "      <td>20</td>\n",
              "      <td>0</td>\n",
              "      <td>1</td>\n",
              "      <td>970.164204</td>\n",
              "      <td>4</td>\n",
              "    </tr>\n",
              "    <tr>\n",
              "      <th>22</th>\n",
              "      <td>2019-01-01 12:40:00</td>\n",
              "      <td>20.0</td>\n",
              "      <td>100088</td>\n",
              "      <td>200236</td>\n",
              "      <td>에코라믹 통주물 스톤 냄비세트</td>\n",
              "      <td>주방</td>\n",
              "      <td>60900</td>\n",
              "      <td>99235000.0</td>\n",
              "      <td>2019</td>\n",
              "      <td>1</td>\n",
              "      <td>1</td>\n",
              "      <td>12</td>\n",
              "      <td>40</td>\n",
              "      <td>0</td>\n",
              "      <td>1</td>\n",
              "      <td>1629.474548</td>\n",
              "      <td>4</td>\n",
              "    </tr>\n",
              "    <tr>\n",
              "      <th>79</th>\n",
              "      <td>2019-01-02 10:00:00</td>\n",
              "      <td>20.0</td>\n",
              "      <td>100448</td>\n",
              "      <td>202098</td>\n",
              "      <td>일시불 쿠첸 풀스텐 압력밥솥 10인용 (A1)</td>\n",
              "      <td>주방</td>\n",
              "      <td>158000</td>\n",
              "      <td>7239000.0</td>\n",
              "      <td>2019</td>\n",
              "      <td>1</td>\n",
              "      <td>2</td>\n",
              "      <td>10</td>\n",
              "      <td>0</td>\n",
              "      <td>0</td>\n",
              "      <td>2</td>\n",
              "      <td>45.816456</td>\n",
              "      <td>4</td>\n",
              "    </tr>\n",
              "    <tr>\n",
              "      <th>80</th>\n",
              "      <td>2019-01-02 10:00:00</td>\n",
              "      <td>20.0</td>\n",
              "      <td>100448</td>\n",
              "      <td>202093</td>\n",
              "      <td>무이자 쿠첸 풀스텐 압력밥솥 10인용(A1)</td>\n",
              "      <td>주방</td>\n",
              "      <td>168000</td>\n",
              "      <td>8951000.0</td>\n",
              "      <td>2019</td>\n",
              "      <td>1</td>\n",
              "      <td>2</td>\n",
              "      <td>10</td>\n",
              "      <td>0</td>\n",
              "      <td>0</td>\n",
              "      <td>2</td>\n",
              "      <td>53.279762</td>\n",
              "      <td>4</td>\n",
              "    </tr>\n",
              "  </tbody>\n",
              "</table>\n",
              "</div>"
            ],
            "text/plain": [
              "                  방송일시  노출(분)    마더코드    상품코드  ... 방송일시_초 방송일시_요일          주문량  계절\n",
              "20 2019-01-01 12:00:00   20.0  100088  200236  ...      0       1   555.385878   4\n",
              "21 2019-01-01 12:20:00   20.0  100088  200236  ...      0       1   970.164204   4\n",
              "22 2019-01-01 12:40:00   20.0  100088  200236  ...      0       1  1629.474548   4\n",
              "79 2019-01-02 10:00:00   20.0  100448  202098  ...      0       2    45.816456   4\n",
              "80 2019-01-02 10:00:00   20.0  100448  202093  ...      0       2    53.279762   4\n",
              "\n",
              "[5 rows x 17 columns]"
            ]
          },
          "metadata": {
            "tags": []
          },
          "execution_count": 35
        }
      ]
    },
    {
      "cell_type": "code",
      "metadata": {
        "id": "-6xcnxBZ4rwy",
        "colab_type": "code",
        "colab": {}
      },
      "source": [
        ""
      ],
      "execution_count": null,
      "outputs": []
    },
    {
      "cell_type": "markdown",
      "metadata": {
        "id": "c6aq0Dj92TO2",
        "colab_type": "text"
      },
      "source": [
        "# 외부데이터 수입(강수량, 앱애니)\n"
      ]
    },
    {
      "cell_type": "code",
      "metadata": {
        "id": "2YrddeJx2WQR",
        "colab_type": "code",
        "colab": {
          "base_uri": "https://localhost:8080/",
          "height": 402
        },
        "outputId": "4958f0e8-2715-4fbd-cbae-2e570ce62969"
      },
      "source": [
        "naver = pd.read_csv('/content/naver_datalab_shoppingInsight_category_data_20200812193025.csv')"
      ],
      "execution_count": null,
      "outputs": [
        {
          "output_type": "error",
          "ename": "FileNotFoundError",
          "evalue": "ignored",
          "traceback": [
            "\u001b[0;31m---------------------------------------------------------------------------\u001b[0m",
            "\u001b[0;31mFileNotFoundError\u001b[0m                         Traceback (most recent call last)",
            "\u001b[0;32m<ipython-input-36-d4554bc590f6>\u001b[0m in \u001b[0;36m<module>\u001b[0;34m()\u001b[0m\n\u001b[0;32m----> 1\u001b[0;31m \u001b[0mnaver\u001b[0m \u001b[0;34m=\u001b[0m \u001b[0mpd\u001b[0m\u001b[0;34m.\u001b[0m\u001b[0mread_csv\u001b[0m\u001b[0;34m(\u001b[0m\u001b[0;34m'/content/naver_datalab_shoppingInsight_category_data_20200812193025.csv'\u001b[0m\u001b[0;34m)\u001b[0m\u001b[0;34m\u001b[0m\u001b[0;34m\u001b[0m\u001b[0m\n\u001b[0m",
            "\u001b[0;32m/usr/local/lib/python3.6/dist-packages/pandas/io/parsers.py\u001b[0m in \u001b[0;36mparser_f\u001b[0;34m(filepath_or_buffer, sep, delimiter, header, names, index_col, usecols, squeeze, prefix, mangle_dupe_cols, dtype, engine, converters, true_values, false_values, skipinitialspace, skiprows, skipfooter, nrows, na_values, keep_default_na, na_filter, verbose, skip_blank_lines, parse_dates, infer_datetime_format, keep_date_col, date_parser, dayfirst, cache_dates, iterator, chunksize, compression, thousands, decimal, lineterminator, quotechar, quoting, doublequote, escapechar, comment, encoding, dialect, error_bad_lines, warn_bad_lines, delim_whitespace, low_memory, memory_map, float_precision)\u001b[0m\n\u001b[1;32m    674\u001b[0m         )\n\u001b[1;32m    675\u001b[0m \u001b[0;34m\u001b[0m\u001b[0m\n\u001b[0;32m--> 676\u001b[0;31m         \u001b[0;32mreturn\u001b[0m \u001b[0m_read\u001b[0m\u001b[0;34m(\u001b[0m\u001b[0mfilepath_or_buffer\u001b[0m\u001b[0;34m,\u001b[0m \u001b[0mkwds\u001b[0m\u001b[0;34m)\u001b[0m\u001b[0;34m\u001b[0m\u001b[0;34m\u001b[0m\u001b[0m\n\u001b[0m\u001b[1;32m    677\u001b[0m \u001b[0;34m\u001b[0m\u001b[0m\n\u001b[1;32m    678\u001b[0m     \u001b[0mparser_f\u001b[0m\u001b[0;34m.\u001b[0m\u001b[0m__name__\u001b[0m \u001b[0;34m=\u001b[0m \u001b[0mname\u001b[0m\u001b[0;34m\u001b[0m\u001b[0;34m\u001b[0m\u001b[0m\n",
            "\u001b[0;32m/usr/local/lib/python3.6/dist-packages/pandas/io/parsers.py\u001b[0m in \u001b[0;36m_read\u001b[0;34m(filepath_or_buffer, kwds)\u001b[0m\n\u001b[1;32m    446\u001b[0m \u001b[0;34m\u001b[0m\u001b[0m\n\u001b[1;32m    447\u001b[0m     \u001b[0;31m# Create the parser.\u001b[0m\u001b[0;34m\u001b[0m\u001b[0;34m\u001b[0m\u001b[0;34m\u001b[0m\u001b[0m\n\u001b[0;32m--> 448\u001b[0;31m     \u001b[0mparser\u001b[0m \u001b[0;34m=\u001b[0m \u001b[0mTextFileReader\u001b[0m\u001b[0;34m(\u001b[0m\u001b[0mfp_or_buf\u001b[0m\u001b[0;34m,\u001b[0m \u001b[0;34m**\u001b[0m\u001b[0mkwds\u001b[0m\u001b[0;34m)\u001b[0m\u001b[0;34m\u001b[0m\u001b[0;34m\u001b[0m\u001b[0m\n\u001b[0m\u001b[1;32m    449\u001b[0m \u001b[0;34m\u001b[0m\u001b[0m\n\u001b[1;32m    450\u001b[0m     \u001b[0;32mif\u001b[0m \u001b[0mchunksize\u001b[0m \u001b[0;32mor\u001b[0m \u001b[0miterator\u001b[0m\u001b[0;34m:\u001b[0m\u001b[0;34m\u001b[0m\u001b[0;34m\u001b[0m\u001b[0m\n",
            "\u001b[0;32m/usr/local/lib/python3.6/dist-packages/pandas/io/parsers.py\u001b[0m in \u001b[0;36m__init__\u001b[0;34m(self, f, engine, **kwds)\u001b[0m\n\u001b[1;32m    878\u001b[0m             \u001b[0mself\u001b[0m\u001b[0;34m.\u001b[0m\u001b[0moptions\u001b[0m\u001b[0;34m[\u001b[0m\u001b[0;34m\"has_index_names\"\u001b[0m\u001b[0;34m]\u001b[0m \u001b[0;34m=\u001b[0m \u001b[0mkwds\u001b[0m\u001b[0;34m[\u001b[0m\u001b[0;34m\"has_index_names\"\u001b[0m\u001b[0;34m]\u001b[0m\u001b[0;34m\u001b[0m\u001b[0;34m\u001b[0m\u001b[0m\n\u001b[1;32m    879\u001b[0m \u001b[0;34m\u001b[0m\u001b[0m\n\u001b[0;32m--> 880\u001b[0;31m         \u001b[0mself\u001b[0m\u001b[0;34m.\u001b[0m\u001b[0m_make_engine\u001b[0m\u001b[0;34m(\u001b[0m\u001b[0mself\u001b[0m\u001b[0;34m.\u001b[0m\u001b[0mengine\u001b[0m\u001b[0;34m)\u001b[0m\u001b[0;34m\u001b[0m\u001b[0;34m\u001b[0m\u001b[0m\n\u001b[0m\u001b[1;32m    881\u001b[0m \u001b[0;34m\u001b[0m\u001b[0m\n\u001b[1;32m    882\u001b[0m     \u001b[0;32mdef\u001b[0m \u001b[0mclose\u001b[0m\u001b[0;34m(\u001b[0m\u001b[0mself\u001b[0m\u001b[0;34m)\u001b[0m\u001b[0;34m:\u001b[0m\u001b[0;34m\u001b[0m\u001b[0;34m\u001b[0m\u001b[0m\n",
            "\u001b[0;32m/usr/local/lib/python3.6/dist-packages/pandas/io/parsers.py\u001b[0m in \u001b[0;36m_make_engine\u001b[0;34m(self, engine)\u001b[0m\n\u001b[1;32m   1112\u001b[0m     \u001b[0;32mdef\u001b[0m \u001b[0m_make_engine\u001b[0m\u001b[0;34m(\u001b[0m\u001b[0mself\u001b[0m\u001b[0;34m,\u001b[0m \u001b[0mengine\u001b[0m\u001b[0;34m=\u001b[0m\u001b[0;34m\"c\"\u001b[0m\u001b[0;34m)\u001b[0m\u001b[0;34m:\u001b[0m\u001b[0;34m\u001b[0m\u001b[0;34m\u001b[0m\u001b[0m\n\u001b[1;32m   1113\u001b[0m         \u001b[0;32mif\u001b[0m \u001b[0mengine\u001b[0m \u001b[0;34m==\u001b[0m \u001b[0;34m\"c\"\u001b[0m\u001b[0;34m:\u001b[0m\u001b[0;34m\u001b[0m\u001b[0;34m\u001b[0m\u001b[0m\n\u001b[0;32m-> 1114\u001b[0;31m             \u001b[0mself\u001b[0m\u001b[0;34m.\u001b[0m\u001b[0m_engine\u001b[0m \u001b[0;34m=\u001b[0m \u001b[0mCParserWrapper\u001b[0m\u001b[0;34m(\u001b[0m\u001b[0mself\u001b[0m\u001b[0;34m.\u001b[0m\u001b[0mf\u001b[0m\u001b[0;34m,\u001b[0m \u001b[0;34m**\u001b[0m\u001b[0mself\u001b[0m\u001b[0;34m.\u001b[0m\u001b[0moptions\u001b[0m\u001b[0;34m)\u001b[0m\u001b[0;34m\u001b[0m\u001b[0;34m\u001b[0m\u001b[0m\n\u001b[0m\u001b[1;32m   1115\u001b[0m         \u001b[0;32melse\u001b[0m\u001b[0;34m:\u001b[0m\u001b[0;34m\u001b[0m\u001b[0;34m\u001b[0m\u001b[0m\n\u001b[1;32m   1116\u001b[0m             \u001b[0;32mif\u001b[0m \u001b[0mengine\u001b[0m \u001b[0;34m==\u001b[0m \u001b[0;34m\"python\"\u001b[0m\u001b[0;34m:\u001b[0m\u001b[0;34m\u001b[0m\u001b[0;34m\u001b[0m\u001b[0m\n",
            "\u001b[0;32m/usr/local/lib/python3.6/dist-packages/pandas/io/parsers.py\u001b[0m in \u001b[0;36m__init__\u001b[0;34m(self, src, **kwds)\u001b[0m\n\u001b[1;32m   1889\u001b[0m         \u001b[0mkwds\u001b[0m\u001b[0;34m[\u001b[0m\u001b[0;34m\"usecols\"\u001b[0m\u001b[0;34m]\u001b[0m \u001b[0;34m=\u001b[0m \u001b[0mself\u001b[0m\u001b[0;34m.\u001b[0m\u001b[0musecols\u001b[0m\u001b[0;34m\u001b[0m\u001b[0;34m\u001b[0m\u001b[0m\n\u001b[1;32m   1890\u001b[0m \u001b[0;34m\u001b[0m\u001b[0m\n\u001b[0;32m-> 1891\u001b[0;31m         \u001b[0mself\u001b[0m\u001b[0;34m.\u001b[0m\u001b[0m_reader\u001b[0m \u001b[0;34m=\u001b[0m \u001b[0mparsers\u001b[0m\u001b[0;34m.\u001b[0m\u001b[0mTextReader\u001b[0m\u001b[0;34m(\u001b[0m\u001b[0msrc\u001b[0m\u001b[0;34m,\u001b[0m \u001b[0;34m**\u001b[0m\u001b[0mkwds\u001b[0m\u001b[0;34m)\u001b[0m\u001b[0;34m\u001b[0m\u001b[0;34m\u001b[0m\u001b[0m\n\u001b[0m\u001b[1;32m   1892\u001b[0m         \u001b[0mself\u001b[0m\u001b[0;34m.\u001b[0m\u001b[0munnamed_cols\u001b[0m \u001b[0;34m=\u001b[0m \u001b[0mself\u001b[0m\u001b[0;34m.\u001b[0m\u001b[0m_reader\u001b[0m\u001b[0;34m.\u001b[0m\u001b[0munnamed_cols\u001b[0m\u001b[0;34m\u001b[0m\u001b[0;34m\u001b[0m\u001b[0m\n\u001b[1;32m   1893\u001b[0m \u001b[0;34m\u001b[0m\u001b[0m\n",
            "\u001b[0;32mpandas/_libs/parsers.pyx\u001b[0m in \u001b[0;36mpandas._libs.parsers.TextReader.__cinit__\u001b[0;34m()\u001b[0m\n",
            "\u001b[0;32mpandas/_libs/parsers.pyx\u001b[0m in \u001b[0;36mpandas._libs.parsers.TextReader._setup_parser_source\u001b[0;34m()\u001b[0m\n",
            "\u001b[0;31mFileNotFoundError\u001b[0m: [Errno 2] File /content/naver_datalab_shoppingInsight_category_data_20200812193025.csv does not exist: '/content/naver_datalab_shoppingInsight_category_data_20200812193025.csv'"
          ]
        }
      ]
    },
    {
      "cell_type": "markdown",
      "metadata": {
        "id": "8cbybxTimCfo",
        "colab_type": "text"
      },
      "source": [
        "# 성은님 코드"
      ]
    },
    {
      "cell_type": "code",
      "metadata": {
        "id": "2YIF5eTzmCHO",
        "colab_type": "code",
        "colab": {}
      },
      "source": [
        "import datetime as dt\n",
        "New_data = Selling.copy()\n",
        "New_data['DATE'] = New_data['방송일시'].map(lambda x: 10000*x.to_pydatetime().year + 100*x.to_pydatetime().month + x.to_pydatetime().day)"
      ],
      "execution_count": null,
      "outputs": []
    },
    {
      "cell_type": "code",
      "metadata": {
        "id": "mA3l4yE_2AWL",
        "colab_type": "code",
        "colab": {
          "base_uri": "https://localhost:8080/",
          "height": 470
        },
        "outputId": "3063ecba-814e-47d5-bfe0-6870f7c316cd"
      },
      "source": [
        "grouped_day_item = New_data.groupby(['상품군','DATE']).sum()\n",
        "grouped_day_item"
      ],
      "execution_count": null,
      "outputs": [
        {
          "output_type": "execute_result",
          "data": {
            "text/html": [
              "<div>\n",
              "<style scoped>\n",
              "    .dataframe tbody tr th:only-of-type {\n",
              "        vertical-align: middle;\n",
              "    }\n",
              "\n",
              "    .dataframe tbody tr th {\n",
              "        vertical-align: top;\n",
              "    }\n",
              "\n",
              "    .dataframe thead th {\n",
              "        text-align: right;\n",
              "    }\n",
              "</style>\n",
              "<table border=\"1\" class=\"dataframe\">\n",
              "  <thead>\n",
              "    <tr style=\"text-align: right;\">\n",
              "      <th></th>\n",
              "      <th></th>\n",
              "      <th>노출(분)</th>\n",
              "      <th>마더코드</th>\n",
              "      <th>상품코드</th>\n",
              "      <th>판매단가</th>\n",
              "      <th>취급액</th>\n",
              "      <th>방송일시_년도</th>\n",
              "      <th>방송일시_월</th>\n",
              "      <th>방송일시_일</th>\n",
              "      <th>방송일시_시</th>\n",
              "      <th>방송일시_분</th>\n",
              "      <th>방송일시_초</th>\n",
              "      <th>방송일시_요일</th>\n",
              "      <th>주문량</th>\n",
              "    </tr>\n",
              "    <tr>\n",
              "      <th>상품군</th>\n",
              "      <th>DATE</th>\n",
              "      <th></th>\n",
              "      <th></th>\n",
              "      <th></th>\n",
              "      <th></th>\n",
              "      <th></th>\n",
              "      <th></th>\n",
              "      <th></th>\n",
              "      <th></th>\n",
              "      <th></th>\n",
              "      <th></th>\n",
              "      <th></th>\n",
              "      <th></th>\n",
              "      <th></th>\n",
              "    </tr>\n",
              "  </thead>\n",
              "  <tbody>\n",
              "    <tr>\n",
              "      <th rowspan=\"5\" valign=\"top\">가구</th>\n",
              "      <th>20190201</th>\n",
              "      <td>180.0</td>\n",
              "      <td>901845</td>\n",
              "      <td>1806588</td>\n",
              "      <td>5382000</td>\n",
              "      <td>169247000.0</td>\n",
              "      <td>18171</td>\n",
              "      <td>18</td>\n",
              "      <td>9</td>\n",
              "      <td>198</td>\n",
              "      <td>180</td>\n",
              "      <td>0</td>\n",
              "      <td>36</td>\n",
              "      <td>285.268734</td>\n",
              "    </tr>\n",
              "    <tr>\n",
              "      <th>20190204</th>\n",
              "      <td>180.0</td>\n",
              "      <td>901845</td>\n",
              "      <td>1806588</td>\n",
              "      <td>5382000</td>\n",
              "      <td>150677000.0</td>\n",
              "      <td>18171</td>\n",
              "      <td>18</td>\n",
              "      <td>36</td>\n",
              "      <td>180</td>\n",
              "      <td>180</td>\n",
              "      <td>0</td>\n",
              "      <td>0</td>\n",
              "      <td>253.090929</td>\n",
              "    </tr>\n",
              "    <tr>\n",
              "      <th>20190206</th>\n",
              "      <td>180.0</td>\n",
              "      <td>901845</td>\n",
              "      <td>1806588</td>\n",
              "      <td>5382000</td>\n",
              "      <td>178832000.0</td>\n",
              "      <td>18171</td>\n",
              "      <td>18</td>\n",
              "      <td>54</td>\n",
              "      <td>207</td>\n",
              "      <td>180</td>\n",
              "      <td>0</td>\n",
              "      <td>18</td>\n",
              "      <td>303.985646</td>\n",
              "    </tr>\n",
              "    <tr>\n",
              "      <th>20190208</th>\n",
              "      <td>180.0</td>\n",
              "      <td>901845</td>\n",
              "      <td>1806588</td>\n",
              "      <td>5382000</td>\n",
              "      <td>217876000.0</td>\n",
              "      <td>18171</td>\n",
              "      <td>18</td>\n",
              "      <td>72</td>\n",
              "      <td>189</td>\n",
              "      <td>180</td>\n",
              "      <td>0</td>\n",
              "      <td>36</td>\n",
              "      <td>373.762817</td>\n",
              "    </tr>\n",
              "    <tr>\n",
              "      <th>20190212</th>\n",
              "      <td>360.0</td>\n",
              "      <td>1809000</td>\n",
              "      <td>3627108</td>\n",
              "      <td>10332000</td>\n",
              "      <td>164555000.0</td>\n",
              "      <td>36342</td>\n",
              "      <td>36</td>\n",
              "      <td>216</td>\n",
              "      <td>414</td>\n",
              "      <td>360</td>\n",
              "      <td>0</td>\n",
              "      <td>18</td>\n",
              "      <td>295.710771</td>\n",
              "    </tr>\n",
              "    <tr>\n",
              "      <th>...</th>\n",
              "      <th>...</th>\n",
              "      <td>...</td>\n",
              "      <td>...</td>\n",
              "      <td>...</td>\n",
              "      <td>...</td>\n",
              "      <td>...</td>\n",
              "      <td>...</td>\n",
              "      <td>...</td>\n",
              "      <td>...</td>\n",
              "      <td>...</td>\n",
              "      <td>...</td>\n",
              "      <td>...</td>\n",
              "      <td>...</td>\n",
              "      <td>...</td>\n",
              "    </tr>\n",
              "    <tr>\n",
              "      <th rowspan=\"5\" valign=\"top\">침구</th>\n",
              "      <th>20191111</th>\n",
              "      <td>240.0</td>\n",
              "      <td>1201716</td>\n",
              "      <td>2404746</td>\n",
              "      <td>898800</td>\n",
              "      <td>96350000.0</td>\n",
              "      <td>24228</td>\n",
              "      <td>132</td>\n",
              "      <td>132</td>\n",
              "      <td>172</td>\n",
              "      <td>240</td>\n",
              "      <td>0</td>\n",
              "      <td>0</td>\n",
              "      <td>1324.517211</td>\n",
              "    </tr>\n",
              "    <tr>\n",
              "      <th>20191113</th>\n",
              "      <td>240.0</td>\n",
              "      <td>1201716</td>\n",
              "      <td>2404746</td>\n",
              "      <td>898800</td>\n",
              "      <td>108818000.0</td>\n",
              "      <td>24228</td>\n",
              "      <td>132</td>\n",
              "      <td>156</td>\n",
              "      <td>160</td>\n",
              "      <td>240</td>\n",
              "      <td>0</td>\n",
              "      <td>24</td>\n",
              "      <td>1512.708542</td>\n",
              "    </tr>\n",
              "    <tr>\n",
              "      <th>20191119</th>\n",
              "      <td>240.0</td>\n",
              "      <td>1201716</td>\n",
              "      <td>2404746</td>\n",
              "      <td>898800</td>\n",
              "      <td>110848000.0</td>\n",
              "      <td>24228</td>\n",
              "      <td>132</td>\n",
              "      <td>228</td>\n",
              "      <td>160</td>\n",
              "      <td>240</td>\n",
              "      <td>0</td>\n",
              "      <td>12</td>\n",
              "      <td>1525.351548</td>\n",
              "    </tr>\n",
              "    <tr>\n",
              "      <th>20191121</th>\n",
              "      <td>240.0</td>\n",
              "      <td>1201716</td>\n",
              "      <td>2404746</td>\n",
              "      <td>898800</td>\n",
              "      <td>122006000.0</td>\n",
              "      <td>24228</td>\n",
              "      <td>132</td>\n",
              "      <td>252</td>\n",
              "      <td>148</td>\n",
              "      <td>240</td>\n",
              "      <td>0</td>\n",
              "      <td>36</td>\n",
              "      <td>1637.059339</td>\n",
              "    </tr>\n",
              "    <tr>\n",
              "      <th>20191124</th>\n",
              "      <td>240.0</td>\n",
              "      <td>1201716</td>\n",
              "      <td>2404746</td>\n",
              "      <td>898800</td>\n",
              "      <td>108289000.0</td>\n",
              "      <td>24228</td>\n",
              "      <td>132</td>\n",
              "      <td>288</td>\n",
              "      <td>148</td>\n",
              "      <td>240</td>\n",
              "      <td>0</td>\n",
              "      <td>72</td>\n",
              "      <td>1500.644634</td>\n",
              "    </tr>\n",
              "  </tbody>\n",
              "</table>\n",
              "<p>2984 rows × 13 columns</p>\n",
              "</div>"
            ],
            "text/plain": [
              "              노출(분)     마더코드     상품코드  ...  방송일시_초  방송일시_요일          주문량\n",
              "상품군 DATE                               ...                              \n",
              "가구  20190201  180.0   901845  1806588  ...       0       36   285.268734\n",
              "    20190204  180.0   901845  1806588  ...       0        0   253.090929\n",
              "    20190206  180.0   901845  1806588  ...       0       18   303.985646\n",
              "    20190208  180.0   901845  1806588  ...       0       36   373.762817\n",
              "    20190212  360.0  1809000  3627108  ...       0       18   295.710771\n",
              "...             ...      ...      ...  ...     ...      ...          ...\n",
              "침구  20191111  240.0  1201716  2404746  ...       0        0  1324.517211\n",
              "    20191113  240.0  1201716  2404746  ...       0       24  1512.708542\n",
              "    20191119  240.0  1201716  2404746  ...       0       12  1525.351548\n",
              "    20191121  240.0  1201716  2404746  ...       0       36  1637.059339\n",
              "    20191124  240.0  1201716  2404746  ...       0       72  1500.644634\n",
              "\n",
              "[2984 rows x 13 columns]"
            ]
          },
          "metadata": {
            "tags": []
          },
          "execution_count": 38
        }
      ]
    },
    {
      "cell_type": "code",
      "metadata": {
        "id": "WxYO_FBMmgh0",
        "colab_type": "code",
        "colab": {}
      },
      "source": [
        "grouped_day_item = grouped_day_item['취급액']/grouped_day_item['판매단가']\n",
        "grouped_day_item = pd.DataFrame(grouped_day_item)"
      ],
      "execution_count": null,
      "outputs": []
    },
    {
      "cell_type": "code",
      "metadata": {
        "id": "qH165IiZmgk3",
        "colab_type": "code",
        "colab": {
          "base_uri": "https://localhost:8080/",
          "height": 437
        },
        "outputId": "b4252f3a-f2c1-48a5-e7ca-0e2aa5ddc912"
      },
      "source": [
        "grouped_day_item"
      ],
      "execution_count": null,
      "outputs": [
        {
          "output_type": "execute_result",
          "data": {
            "text/html": [
              "<div>\n",
              "<style scoped>\n",
              "    .dataframe tbody tr th:only-of-type {\n",
              "        vertical-align: middle;\n",
              "    }\n",
              "\n",
              "    .dataframe tbody tr th {\n",
              "        vertical-align: top;\n",
              "    }\n",
              "\n",
              "    .dataframe thead th {\n",
              "        text-align: right;\n",
              "    }\n",
              "</style>\n",
              "<table border=\"1\" class=\"dataframe\">\n",
              "  <thead>\n",
              "    <tr style=\"text-align: right;\">\n",
              "      <th></th>\n",
              "      <th></th>\n",
              "      <th>0</th>\n",
              "    </tr>\n",
              "    <tr>\n",
              "      <th>상품군</th>\n",
              "      <th>DATE</th>\n",
              "      <th></th>\n",
              "    </tr>\n",
              "  </thead>\n",
              "  <tbody>\n",
              "    <tr>\n",
              "      <th rowspan=\"5\" valign=\"top\">가구</th>\n",
              "      <th>20190201</th>\n",
              "      <td>31.446860</td>\n",
              "    </tr>\n",
              "    <tr>\n",
              "      <th>20190204</th>\n",
              "      <td>27.996470</td>\n",
              "    </tr>\n",
              "    <tr>\n",
              "      <th>20190206</th>\n",
              "      <td>33.227796</td>\n",
              "    </tr>\n",
              "    <tr>\n",
              "      <th>20190208</th>\n",
              "      <td>40.482349</td>\n",
              "    </tr>\n",
              "    <tr>\n",
              "      <th>20190212</th>\n",
              "      <td>15.926732</td>\n",
              "    </tr>\n",
              "    <tr>\n",
              "      <th>...</th>\n",
              "      <th>...</th>\n",
              "      <td>...</td>\n",
              "    </tr>\n",
              "    <tr>\n",
              "      <th rowspan=\"5\" valign=\"top\">침구</th>\n",
              "      <th>20191111</th>\n",
              "      <td>107.198487</td>\n",
              "    </tr>\n",
              "    <tr>\n",
              "      <th>20191113</th>\n",
              "      <td>121.070316</td>\n",
              "    </tr>\n",
              "    <tr>\n",
              "      <th>20191119</th>\n",
              "      <td>123.328883</td>\n",
              "    </tr>\n",
              "    <tr>\n",
              "      <th>20191121</th>\n",
              "      <td>135.743213</td>\n",
              "    </tr>\n",
              "    <tr>\n",
              "      <th>20191124</th>\n",
              "      <td>120.481753</td>\n",
              "    </tr>\n",
              "  </tbody>\n",
              "</table>\n",
              "<p>2984 rows × 1 columns</p>\n",
              "</div>"
            ],
            "text/plain": [
              "                       0\n",
              "상품군 DATE                \n",
              "가구  20190201   31.446860\n",
              "    20190204   27.996470\n",
              "    20190206   33.227796\n",
              "    20190208   40.482349\n",
              "    20190212   15.926732\n",
              "...                  ...\n",
              "침구  20191111  107.198487\n",
              "    20191113  121.070316\n",
              "    20191119  123.328883\n",
              "    20191121  135.743213\n",
              "    20191124  120.481753\n",
              "\n",
              "[2984 rows x 1 columns]"
            ]
          },
          "metadata": {
            "tags": []
          },
          "execution_count": 40
        }
      ]
    },
    {
      "cell_type": "code",
      "metadata": {
        "id": "3qJJO5SGmgeN",
        "colab_type": "code",
        "colab": {
          "base_uri": "https://localhost:8080/",
          "height": 622
        },
        "outputId": "fea96c17-3589-40c6-b609-13df58b3c734"
      },
      "source": [
        "%matplotlib inline\n",
        "plt.rcParams['figure.figsize'] = (20,10)\n",
        "\n",
        "plt.plot(grouped_day_item.xs('가구')[0])"
      ],
      "execution_count": null,
      "outputs": [
        {
          "output_type": "execute_result",
          "data": {
            "text/plain": [
              "[<matplotlib.lines.Line2D at 0x7fa4294bbeb8>]"
            ]
          },
          "metadata": {
            "tags": []
          },
          "execution_count": 41
        },
        {
          "output_type": "display_data",
          "data": {
            "image/png": "[encoded data removed]",
            "text/plain": [
              "<Figure size 1440x720 with 1 Axes>"
            ]
          },
          "metadata": {
            "tags": [],
            "needs_background": "light"
          }
        }
      ]
    },
    {
      "cell_type": "code",
      "metadata": {
        "id": "S2TWDuOfp0AN",
        "colab_type": "code",
        "colab": {
          "base_uri": "https://localhost:8080/",
          "height": 622
        },
        "outputId": "90d327c2-59f8-49c8-b2a3-c6b97c5640ac"
      },
      "source": [
        "plt.plot(grouped_day_item.xs('의류')[0])"
      ],
      "execution_count": null,
      "outputs": [
        {
          "output_type": "execute_result",
          "data": {
            "text/plain": [
              "[<matplotlib.lines.Line2D at 0x7fa429302da0>]"
            ]
          },
          "metadata": {
            "tags": []
          },
          "execution_count": 42
        },
        {
          "output_type": "display_data",
          "data": {
            "image/png": "[encoded data removed]",
            "text/plain": [
              "<Figure size 1440x720 with 1 Axes>"
            ]
          },
          "metadata": {
            "tags": [],
            "needs_background": "light"
          }
        }
      ]
    },
    {
      "cell_type": "code",
      "metadata": {
        "id": "hLmYd-Wip9gM",
        "colab_type": "code",
        "colab": {
          "base_uri": "https://localhost:8080/",
          "height": 221
        },
        "outputId": "780066ea-ccf3-46e9-ed96-d867db01ac20"
      },
      "source": [
        "X2 = grouped_day_item.xs('의류').values\n",
        "print(len(X2))\n",
        "len(naver)"
      ],
      "execution_count": null,
      "outputs": [
        {
          "output_type": "stream",
          "text": [
            "355\n"
          ],
          "name": "stdout"
        },
        {
          "output_type": "error",
          "ename": "NameError",
          "evalue": "ignored",
          "traceback": [
            "\u001b[0;31m---------------------------------------------------------------------------\u001b[0m",
            "\u001b[0;31mNameError\u001b[0m                                 Traceback (most recent call last)",
            "\u001b[0;32m<ipython-input-44-740ad462d149>\u001b[0m in \u001b[0;36m<module>\u001b[0;34m()\u001b[0m\n\u001b[1;32m      1\u001b[0m \u001b[0mX2\u001b[0m \u001b[0;34m=\u001b[0m \u001b[0mgrouped_day_item\u001b[0m\u001b[0;34m.\u001b[0m\u001b[0mxs\u001b[0m\u001b[0;34m(\u001b[0m\u001b[0;34m'의류'\u001b[0m\u001b[0;34m)\u001b[0m\u001b[0;34m.\u001b[0m\u001b[0mvalues\u001b[0m\u001b[0;34m\u001b[0m\u001b[0;34m\u001b[0m\u001b[0m\n\u001b[1;32m      2\u001b[0m \u001b[0mprint\u001b[0m\u001b[0;34m(\u001b[0m\u001b[0mlen\u001b[0m\u001b[0;34m(\u001b[0m\u001b[0mX2\u001b[0m\u001b[0;34m)\u001b[0m\u001b[0;34m)\u001b[0m\u001b[0;34m\u001b[0m\u001b[0;34m\u001b[0m\u001b[0m\n\u001b[0;32m----> 3\u001b[0;31m \u001b[0mlen\u001b[0m\u001b[0;34m(\u001b[0m\u001b[0mnaver\u001b[0m\u001b[0;34m)\u001b[0m\u001b[0;34m\u001b[0m\u001b[0;34m\u001b[0m\u001b[0m\n\u001b[0m",
            "\u001b[0;31mNameError\u001b[0m: name 'naver' is not defined"
          ]
        }
      ]
    },
    {
      "cell_type": "code",
      "metadata": {
        "id": "5ciMUs-AqLt4",
        "colab_type": "code",
        "colab": {
          "base_uri": "https://localhost:8080/",
          "height": 122
        },
        "outputId": "d8bfb67e-66c5-42f3-d2c6-356f76696886"
      },
      "source": [
        "grouped_day_item.xs('의류').index"
      ],
      "execution_count": null,
      "outputs": [
        {
          "output_type": "execute_result",
          "data": {
            "text/plain": [
              "Int64Index([20190101, 20190102, 20190103, 20190104, 20190105, 20190106,\n",
              "            20190107, 20190108, 20190109, 20190110,\n",
              "            ...\n",
              "            20191222, 20191223, 20191224, 20191225, 20191226, 20191227,\n",
              "            20191228, 20191229, 20191230, 20191231],\n",
              "           dtype='int64', name='DATE', length=355)"
            ]
          },
          "metadata": {
            "tags": []
          },
          "execution_count": 45
        }
      ]
    },
    {
      "cell_type": "code",
      "metadata": {
        "id": "wy9N-Zz4tWt0",
        "colab_type": "code",
        "colab": {}
      },
      "source": [
        "Missing=['2019-01-31','2019-02-23','2019-06-27','2019-09-03','2019-09-06',\n",
        "         '2019-09-09','2019-09-10','2019-10-21','2019-10-30','2019-11-15']"
      ],
      "execution_count": null,
      "outputs": []
    },
    {
      "cell_type": "code",
      "metadata": {
        "id": "hLlVC7ELtim6",
        "colab_type": "code",
        "colab": {}
      },
      "source": [
        "for i in grouped_day_item.xs('의류').index:\n",
        "  print(i)"
      ],
      "execution_count": null,
      "outputs": []
    },
    {
      "cell_type": "code",
      "metadata": {
        "id": "cBAkiv_H3FK9",
        "colab_type": "code",
        "colab": {
          "base_uri": "https://localhost:8080/",
          "height": 203
        },
        "outputId": "f5222b48-324d-43fe-8f16-1a810cf5e5ac"
      },
      "source": [
        "s1 = naver['날짜']\n",
        "s2 = pd.Series(Missing)\n",
        "real_sell_date = np.setdiff1d(s1,s2) #naver카드사날짜중, Ns결측날짜만 제거해서 다시 저장"
      ],
      "execution_count": null,
      "outputs": [
        {
          "output_type": "error",
          "ename": "NameError",
          "evalue": "ignored",
          "traceback": [
            "\u001b[0;31m---------------------------------------------------------------------------\u001b[0m",
            "\u001b[0;31mNameError\u001b[0m                                 Traceback (most recent call last)",
            "\u001b[0;32m<ipython-input-48-e90d40a6af13>\u001b[0m in \u001b[0;36m<module>\u001b[0;34m()\u001b[0m\n\u001b[0;32m----> 1\u001b[0;31m \u001b[0ms1\u001b[0m \u001b[0;34m=\u001b[0m \u001b[0mnaver\u001b[0m\u001b[0;34m[\u001b[0m\u001b[0;34m'날짜'\u001b[0m\u001b[0;34m]\u001b[0m\u001b[0;34m\u001b[0m\u001b[0;34m\u001b[0m\u001b[0m\n\u001b[0m\u001b[1;32m      2\u001b[0m \u001b[0ms2\u001b[0m \u001b[0;34m=\u001b[0m \u001b[0mpd\u001b[0m\u001b[0;34m.\u001b[0m\u001b[0mSeries\u001b[0m\u001b[0;34m(\u001b[0m\u001b[0mMissing\u001b[0m\u001b[0;34m)\u001b[0m\u001b[0;34m\u001b[0m\u001b[0;34m\u001b[0m\u001b[0m\n\u001b[1;32m      3\u001b[0m \u001b[0mreal_sell_date\u001b[0m \u001b[0;34m=\u001b[0m \u001b[0mnp\u001b[0m\u001b[0;34m.\u001b[0m\u001b[0msetdiff1d\u001b[0m\u001b[0;34m(\u001b[0m\u001b[0ms1\u001b[0m\u001b[0;34m,\u001b[0m\u001b[0ms2\u001b[0m\u001b[0;34m)\u001b[0m \u001b[0;31m#naver카드사날짜중, Ns결측날짜만 제거해서 다시 저장\u001b[0m\u001b[0;34m\u001b[0m\u001b[0;34m\u001b[0m\u001b[0m\n",
            "\u001b[0;31mNameError\u001b[0m: name 'naver' is not defined"
          ]
        }
      ]
    },
    {
      "cell_type": "code",
      "metadata": {
        "id": "vNevDknE4-fd",
        "colab_type": "code",
        "colab": {}
      },
      "source": [
        "len(real_sell_date)"
      ],
      "execution_count": null,
      "outputs": []
    },
    {
      "cell_type": "code",
      "metadata": {
        "id": "pcNLMO7U5FjK",
        "colab_type": "code",
        "colab": {}
      },
      "source": [
        "naver['날짜'].isin(real_sell_date) # real_sell_date에 해당되는 날짜만 boolean으로 뽑아보겠음."
      ],
      "execution_count": null,
      "outputs": []
    },
    {
      "cell_type": "code",
      "metadata": {
        "id": "DqAf4Mgy6FTV",
        "colab_type": "code",
        "colab": {}
      },
      "source": [
        "naver[naver['날짜'].isin(real_sell_date)]"
      ],
      "execution_count": null,
      "outputs": []
    },
    {
      "cell_type": "markdown",
      "metadata": {
        "id": "vDZGfgIxOlOn",
        "colab_type": "text"
      },
      "source": [
        "# Validation Set 찾기"
      ]
    },
    {
      "cell_type": "code",
      "metadata": {
        "id": "GLHka3i8Op2n",
        "colab_type": "code",
        "colab": {}
      },
      "source": [
        "data = pd.read_excel('2020평가데이터.xlsx',header=1)"
      ],
      "execution_count": 467,
      "outputs": []
    },
    {
      "cell_type": "code",
      "metadata": {
        "id": "VSQerLznPO8s",
        "colab_type": "code",
        "colab": {
          "base_uri": "https://localhost:8080/",
          "height": 179
        },
        "outputId": "6de3b337-35af-4304-8733-69c1fa466b11"
      },
      "source": [
        "# 평가데이터 전처리\n",
        "from datetime import datetime,timedelta\n",
        "\n",
        "data = data[data['판매단가']!=0]\n",
        "\n",
        "Data_Time_NaN_Index = data[data['노출(분)'].isnull()].index # 노출(분)이 채워지지 않은놈들의 인덱스\n",
        "data_groupmax = data[\"노출(분)\"].groupby(data['방송일시']).max()\n",
        "for i in Data_Time_NaN_Index:\n",
        "  data['노출(분)'][i] = data_groupmax[data['방송일시'][i]]\n",
        "data[348:] # 성공적으로 결측치를 대체했다.\n",
        "\n",
        "#파생변수 생성1 - 주문량\n",
        "data['주문량']= data['취급액']/data['판매단가']\n",
        "data['주문량'].head()\n",
        "\n",
        "#파생변수 생성2 - 계절\n",
        "# 계절 열 생성\n",
        "data[\"계절\"] = \"\"\n",
        "data.head()\n",
        "\n",
        "#날짜데이터 분리\n",
        "data[\"방송일시_년도\"] = data[\"방송일시\"].dt.year\n",
        "data[\"방송일시_월\"] = data[\"방송일시\"].dt.month\n",
        "data[\"방송일시_일\"] = data[\"방송일시\"].dt.day\n",
        "data[\"방송일시_시\"] = data[\"방송일시\"].dt.hour\n",
        "data[\"방송일시_분\"] = data[\"방송일시\"].dt.minute\n",
        "data[\"방송일시_초\"] = data[\"방송일시\"].dt.second\n",
        "data[\"방송일시_요일\"] = data[\"방송일시\"].dt.dayofweek\n",
        "\n",
        "for i in data.index:\n",
        "  if 3 <= data['방송일시_월'][i] <= 5:\n",
        "    data['계절'][i] = 1\n",
        "  elif 6<= data['방송일시_월'][i] <= 8:\n",
        "    data['계절'][i] = 2\n",
        "  elif 9<= data['방송일시_월'][i] <= 11:\n",
        "    data['계절'][i] = 3\n",
        "  else:\n",
        "    data[\"계절\"][i] = 4 "
      ],
      "execution_count": 469,
      "outputs": [
        {
          "output_type": "stream",
          "text": [
            "/usr/local/lib/python3.6/dist-packages/ipykernel_launcher.py:9: SettingWithCopyWarning: \n",
            "A value is trying to be set on a copy of a slice from a DataFrame\n",
            "\n",
            "See the caveats in the documentation: https://pandas.pydata.org/pandas-docs/stable/user_guide/indexing.html#returning-a-view-versus-a-copy\n",
            "  if __name__ == '__main__':\n",
            "/usr/local/lib/python3.6/dist-packages/ipykernel_launcher.py:34: SettingWithCopyWarning: \n",
            "A value is trying to be set on a copy of a slice from a DataFrame\n",
            "\n",
            "See the caveats in the documentation: https://pandas.pydata.org/pandas-docs/stable/user_guide/indexing.html#returning-a-view-versus-a-copy\n"
          ],
          "name": "stderr"
        }
      ]
    },
    {
      "cell_type": "markdown",
      "metadata": {
        "id": "a0xtIUFIY18Y",
        "colab_type": "text"
      },
      "source": [
        "# 마더코드 유사도 비교"
      ]
    },
    {
      "cell_type": "code",
      "metadata": {
        "id": "XWz7zPjVSg78",
        "colab_type": "code",
        "colab": {}
      },
      "source": [
        "Train_Mothercode = Selling['마더코드']\n",
        "Test_Mothercode = data['마더코드']"
      ],
      "execution_count": 481,
      "outputs": []
    },
    {
      "cell_type": "code",
      "metadata": {
        "id": "7bpji7ZVcHQG",
        "colab_type": "code",
        "colab": {
          "base_uri": "https://localhost:8080/",
          "height": 233
        },
        "outputId": "7af8bfc9-8dad-4b1b-ca2f-453828fdf5ba"
      },
      "source": [
        ""
      ],
      "execution_count": 518,
      "outputs": [
        {
          "output_type": "execute_result",
          "data": {
            "text/plain": [
              "0        False\n",
              "1        False\n",
              "2        False\n",
              "3        False\n",
              "4        False\n",
              "         ...  \n",
              "38299     True\n",
              "38300     True\n",
              "38301     True\n",
              "38302     True\n",
              "38303     True\n",
              "Name: 방송일시, Length: 37372, dtype: bool"
            ]
          },
          "metadata": {
            "tags": []
          },
          "execution_count": 518
        }
      ]
    },
    {
      "cell_type": "code",
      "metadata": {
        "id": "nxZTWU4yY6Wr",
        "colab_type": "code",
        "colab": {}
      },
      "source": [
        "def prepare_data(data, year, month): #데이터프레임, 원하는 년도,월을 넣어서 쪼갬\n",
        "    mask = (data['방송일시_년도'] == year) & (data['방송일시_월'] == month)\n",
        "    prepared = data.loc[mask,]\n",
        "    print(f'Dataframe {year}_{month}_ratio created.')\n",
        "    return prepared\n",
        "\n",
        "def prepare_data2(data,startdate,enddate): #데이터프레임\n",
        "    mask = (data['방송일시']>=startdate) & (data['방송일시']<=enddate)\n",
        "    prepared = data.loc[mask,]\n",
        "    #print('Dataframe created.')\n",
        "    return prepared\n",
        "\n",
        "def Mother_Similar(code1):\n",
        "  score = sum(Test_Mothercode.isin(code1))/len(Test_Mothercode)\n",
        "  print(score)"
      ],
      "execution_count": 536,
      "outputs": []
    },
    {
      "cell_type": "code",
      "metadata": {
        "id": "1BlMB8YIbYoN",
        "colab_type": "code",
        "colab": {
          "base_uri": "https://localhost:8080/",
          "height": 53
        },
        "outputId": "351e2196-69ac-49f0-fc65-60506fc8aa26"
      },
      "source": [
        "Some_Data = prepare_data2(Selling,'2019-07-10','2019-09-10')\n",
        "Some_Mothercode = Some_Data['마더코드']\n",
        "Mother_Similar = sum(Test_Mothercode.isin(Some_Mothercode))/len(Test_Mothercode)\n",
        "print(Mother_Similar)"
      ],
      "execution_count": 523,
      "outputs": [
        {
          "output_type": "stream",
          "text": [
            "Dataframe created.\n",
            "0.4687039764359352\n"
          ],
          "name": "stdout"
        }
      ]
    },
    {
      "cell_type": "code",
      "metadata": {
        "id": "y8uWFdzbd1Mx",
        "colab_type": "code",
        "colab": {
          "base_uri": "https://localhost:8080/",
          "height": 233
        },
        "outputId": "197d5288-23b5-4862-cdca-fdb39c59b0de"
      },
      "source": [
        "for i,j in (#7,8월에 대해\n",
        "            ['2019-07-10','2019-09-10'],['2019-06-20','2019-08-31'],\n",
        "            ['2019-07-20','2019-09-20'],['2019-06-10','2019-08-31'],\n",
        "            ['2019-07-01','2019-08-20'],['2019-07-10','2019-08-31'],\n",
        "            ['2019-07-01','2019-08-10'],['2019-07-20','2019-08-31'],\n",
        "            ['2019-06-20','2019-09-10'],['2019-06-10','2019-09-20'],\n",
        "            #6,7월에 대해\n",
        "            ['2019-06-10','2019-08-10'],['2019-05-20','2019-07-30'],\n",
        "            ['2019-06-20','2019-08-20'],['2019-05-10','2019-07-30'],\n",
        "            ['2019-06-01','2019-07-20'],['2019-06-10','2019-07-30'],\n",
        "            ['2019-06-01','2019-07-10'],['2019-06-20','2019-07-30'],\n",
        "            ['2019-05-20','2019-08-10'],['2019-05-10','2019-08-20']\n",
        "            #):\n",
        "            #1등날짜(06-20, 08-31) +-5\n",
        "            ['2019-06-20','2019-09-05'],['2019-06-20','2019-08-26'],\n",
        "            ['2019-06-15','2019-08-31'],['2019-06-05','2019-08-31'],\n",
        "            ['2019-06-15','2019-09-05'],['2019-06-10', '2019-09-05']\n",
        "            ):\n",
        "  Some_Data = prepare_data2(Selling,i,j)\n",
        "  print(i,j)\n",
        "  Mother_Similar(Some_Data['마더코드'])"
      ],
      "execution_count": 548,
      "outputs": [
        {
          "output_type": "stream",
          "text": [
            "2019-06-20 2019-09-05\n",
            "0.4414580265095729\n",
            "2019-06-20 2019-08-26\n",
            "0.420839469808542\n",
            "2019-06-15 2019-08-31\n",
            "0.4525036818851252\n",
            "2019-06-05 2019-08-31\n",
            "0.4525036818851252\n",
            "2019-06-15 2019-09-05\n",
            "0.45471281296023564\n",
            "2019-06-10 2019-09-05\n",
            "0.45471281296023564\n"
          ],
          "name": "stdout"
        }
      ]
    },
    {
      "cell_type": "code",
      "metadata": {
        "id": "OKMl6k3tY6a2",
        "colab_type": "code",
        "colab": {
          "base_uri": "https://localhost:8080/",
          "height": 665
        },
        "outputId": "0212a38f-9f50-4a54-9920-648e55fd40e5"
      },
      "source": [
        "for i in range(12):\n",
        "  Selling_month = prepare_data(Selling,2019,i+1)\n",
        "  Some_Mothercode = Selling_month['마더코드']\n",
        "  print(i+1,\"_Mothercode\\t\")\n",
        "  Mother_Similar = sum(Test_Mothercode.isin(Some_Mothercode))/len(Test_Mothercode)\n",
        "  print(Mother_Similar)"
      ],
      "execution_count": 484,
      "outputs": [
        {
          "output_type": "stream",
          "text": [
            "Dataframe 2019_1_ratio created.\n",
            "1 _Mothercode\t\n",
            "0.20839469808541974\n",
            "Dataframe 2019_2_ratio created.\n",
            "2 _Mothercode\t\n",
            "0.21391752577319587\n",
            "Dataframe 2019_3_ratio created.\n",
            "3 _Mothercode\t\n",
            "0.28829160530191456\n",
            "Dataframe 2019_4_ratio created.\n",
            "4 _Mothercode\t\n",
            "0.29491899852724596\n",
            "Dataframe 2019_5_ratio created.\n",
            "5 _Mothercode\t\n",
            "0.3229013254786451\n",
            "Dataframe 2019_6_ratio created.\n",
            "6 _Mothercode\t\n",
            "0.3015463917525773\n",
            "Dataframe 2019_7_ratio created.\n",
            "7 _Mothercode\t\n",
            "0.38181148748159055\n",
            "Dataframe 2019_8_ratio created.\n",
            "8 _Mothercode\t\n",
            "0.36892488954344627\n",
            "Dataframe 2019_9_ratio created.\n",
            "9 _Mothercode\t\n",
            "0.33505154639175255\n",
            "Dataframe 2019_10_ratio created.\n",
            "10 _Mothercode\t\n",
            "0.3317378497790869\n",
            "Dataframe 2019_11_ratio created.\n",
            "11 _Mothercode\t\n",
            "0.35162002945508103\n",
            "Dataframe 2019_12_ratio created.\n",
            "12 _Mothercode\t\n",
            "0.3634020618556701\n"
          ],
          "name": "stdout"
        }
      ]
    },
    {
      "cell_type": "code",
      "metadata": {
        "id": "oOzVff8DYAAm",
        "colab_type": "code",
        "colab": {}
      },
      "source": [
        "Some_Mothercode = Selling_month_1['마더코드']"
      ],
      "execution_count": 477,
      "outputs": []
    },
    {
      "cell_type": "code",
      "metadata": {
        "id": "egxI7PGgSjZr",
        "colab_type": "code",
        "colab": {
          "base_uri": "https://localhost:8080/",
          "height": 34
        },
        "outputId": "fc1288aa-2fdd-435d-9810-0e2e93b53dba"
      },
      "source": [
        "sum(Test_Mothercode.isin(Some_Mothercode))/len(Test_Mothercode)"
      ],
      "execution_count": 483,
      "outputs": [
        {
          "output_type": "execute_result",
          "data": {
            "text/plain": [
              "0.20839469808541974"
            ]
          },
          "metadata": {
            "tags": []
          },
          "execution_count": 483
        }
      ]
    },
    {
      "cell_type": "code",
      "metadata": {
        "id": "aA_YiLFW6JG7",
        "colab_type": "code",
        "colab": {
          "base_uri": "https://localhost:8080/",
          "height": 227
        },
        "outputId": "c1ad9e55-a9ca-4470-f82f-aab3aadeca28"
      },
      "source": [
        "Selling['상품군'].value_counts()"
      ],
      "execution_count": 50,
      "outputs": [
        {
          "output_type": "execute_result",
          "data": {
            "text/plain": [
              "주방      6604\n",
              "가전      6479\n",
              "의류      4340\n",
              "속옷      3919\n",
              "잡화      3891\n",
              "농수축     3884\n",
              "생활용품    2877\n",
              "가구      2614\n",
              "이미용     1305\n",
              "건강기능     790\n",
              "침구       669\n",
              "Name: 상품군, dtype: int64"
            ]
          },
          "metadata": {
            "tags": []
          },
          "execution_count": 50
        }
      ]
    },
    {
      "cell_type": "code",
      "metadata": {
        "id": "Be9f0kZuSE4P",
        "colab_type": "code",
        "colab": {
          "base_uri": "https://localhost:8080/",
          "height": 437
        },
        "outputId": "0eef2bec-4b02-49cd-acc4-96d53c7776db"
      },
      "source": [
        "Selling.info()"
      ],
      "execution_count": 64,
      "outputs": [
        {
          "output_type": "stream",
          "text": [
            "<class 'pandas.core.frame.DataFrame'>\n",
            "Int64Index: 37372 entries, 0 to 38303\n",
            "Data columns (total 17 columns):\n",
            " #   Column   Non-Null Count  Dtype         \n",
            "---  ------   --------------  -----         \n",
            " 0   방송일시     37372 non-null  datetime64[ns]\n",
            " 1   노출(분)    37372 non-null  float64       \n",
            " 2   마더코드     37372 non-null  int64         \n",
            " 3   상품코드     37372 non-null  int64         \n",
            " 4   상품명      37372 non-null  object        \n",
            " 5   상품군      37372 non-null  object        \n",
            " 6   판매단가     37372 non-null  int64         \n",
            " 7   취급액      37372 non-null  float64       \n",
            " 8   방송일시_년도  37372 non-null  int64         \n",
            " 9   방송일시_월   37372 non-null  int64         \n",
            " 10  방송일시_일   37372 non-null  int64         \n",
            " 11  방송일시_시   37372 non-null  int64         \n",
            " 12  방송일시_분   37372 non-null  int64         \n",
            " 13  방송일시_초   37372 non-null  int64         \n",
            " 14  방송일시_요일  37372 non-null  int64         \n",
            " 15  주문량      37372 non-null  float64       \n",
            " 16  계절       37372 non-null  object        \n",
            "dtypes: datetime64[ns](1), float64(3), int64(10), object(3)\n",
            "memory usage: 6.4+ MB\n"
          ],
          "name": "stdout"
        }
      ]
    },
    {
      "cell_type": "code",
      "metadata": {
        "id": "A0hw5gWZW-Am",
        "colab_type": "code",
        "colab": {
          "base_uri": "https://localhost:8080/",
          "height": 52
        },
        "outputId": "386a636f-4310-4b43-80bd-69d4832c8cda"
      },
      "source": [
        "Selling_month_1 = Selling[Selling['방송일시_월']==1][Selling['방송일시_년도']==2019]"
      ],
      "execution_count": 80,
      "outputs": [
        {
          "output_type": "stream",
          "text": [
            "/usr/local/lib/python3.6/dist-packages/ipykernel_launcher.py:1: UserWarning: Boolean Series key will be reindexed to match DataFrame index.\n",
            "  \"\"\"Entry point for launching an IPython kernel.\n"
          ],
          "name": "stderr"
        }
      ]
    },
    {
      "cell_type": "code",
      "metadata": {
        "id": "1FjLF7k5ZaUf",
        "colab_type": "code",
        "colab": {
          "base_uri": "https://localhost:8080/",
          "height": 34
        },
        "outputId": "cfa44290-bce4-47d7-b5fd-e65d931baecd"
      },
      "source": [
        "Selling['상품군'].value_counts()['주방']"
      ],
      "execution_count": 485,
      "outputs": [
        {
          "output_type": "execute_result",
          "data": {
            "text/plain": [
              "6604"
            ]
          },
          "metadata": {
            "tags": []
          },
          "execution_count": 485
        }
      ]
    },
    {
      "cell_type": "markdown",
      "metadata": {
        "id": "7O7PRwr6WZbd",
        "colab_type": "text"
      },
      "source": [
        "# 기간 범주평가"
      ]
    },
    {
      "cell_type": "code",
      "metadata": {
        "id": "yyL0YduCinqh",
        "colab_type": "code",
        "colab": {
          "base_uri": "https://localhost:8080/",
          "height": 227
        },
        "outputId": "d0c101d2-0219-4adb-a2d2-7eace5964654"
      },
      "source": [
        ""
      ],
      "execution_count": 305,
      "outputs": [
        {
          "output_type": "execute_result",
          "data": {
            "text/plain": [
              "주방      6604\n",
              "가전      6479\n",
              "의류      4340\n",
              "속옷      3919\n",
              "잡화      3891\n",
              "농수축     3884\n",
              "생활용품    2877\n",
              "가구      2614\n",
              "이미용     1305\n",
              "건강기능     790\n",
              "침구       669\n",
              "Name: 상품군, dtype: int64"
            ]
          },
          "metadata": {
            "tags": []
          },
          "execution_count": 305
        }
      ]
    },
    {
      "cell_type": "code",
      "metadata": {
        "id": "OcZDMkA3i2ah",
        "colab_type": "code",
        "colab": {}
      },
      "source": [
        "test_ratio_data = pd.read_excel(\"compare_testset_dist.xlsx\")"
      ],
      "execution_count": 176,
      "outputs": []
    },
    {
      "cell_type": "code",
      "metadata": {
        "id": "ZiJXnYdSFbAf",
        "colab_type": "code",
        "colab": {
          "base_uri": "https://localhost:8080/",
          "height": 192
        },
        "outputId": "bf1afa74-b748-4047-94cb-e4b0d5dff5b1"
      },
      "source": [
        "Selling_month['상품군'].value_counts()/len(Selling_month)"
      ],
      "execution_count": 383,
      "outputs": [
        {
          "output_type": "execute_result",
          "data": {
            "text/plain": [
              "주방      0.257908\n",
              "가전      0.198123\n",
              "농수축     0.159194\n",
              "속옷      0.135210\n",
              "의류      0.129301\n",
              "잡화      0.037192\n",
              "이미용     0.032325\n",
              "생활용품    0.028849\n",
              "건강기능    0.021898\n",
              "Name: 상품군, dtype: float64"
            ]
          },
          "metadata": {
            "tags": []
          },
          "execution_count": 383
        }
      ]
    },
    {
      "cell_type": "code",
      "metadata": {
        "id": "euDOtwDQGzXH",
        "colab_type": "code",
        "colab": {}
      },
      "source": [
        "array1= Selling_month_1['상품군'].value_counts()/len(Selling_month_1)"
      ],
      "execution_count": 487,
      "outputs": []
    },
    {
      "cell_type": "code",
      "metadata": {
        "id": "liWQN2oHIbAA",
        "colab_type": "code",
        "colab": {
          "base_uri": "https://localhost:8080/",
          "height": 227
        },
        "outputId": "c502e7fd-7eab-445b-e817-5703c546f702"
      },
      "source": [
        "#array1['가구']=0\n",
        "#array1['침구']=0\n",
        "array1"
      ],
      "execution_count": 507,
      "outputs": [
        {
          "output_type": "execute_result",
          "data": {
            "text/plain": [
              "주방      0.257908\n",
              "가전      0.198123\n",
              "농수축     0.159194\n",
              "속옷      0.135210\n",
              "의류      0.129301\n",
              "잡화      0.037192\n",
              "이미용     0.032325\n",
              "생활용품    0.028849\n",
              "건강기능    0.021898\n",
              "가구      0.000000\n",
              "침구      0.000000\n",
              "Name: 상품군, dtype: float64"
            ]
          },
          "metadata": {
            "tags": []
          },
          "execution_count": 507
        }
      ]
    },
    {
      "cell_type": "code",
      "metadata": {
        "id": "69kxL9tc1ztg",
        "colab_type": "code",
        "colab": {
          "base_uri": "https://localhost:8080/",
          "height": 402
        },
        "outputId": "f3e48e3e-976b-494c-ac5b-1188da9af77d"
      },
      "source": [
        "print(test_ratio_data['카테고리'])\n",
        "Selling_month_1['상품군'].value_counts()/len(Selling_month_1)"
      ],
      "execution_count": 357,
      "outputs": [
        {
          "output_type": "stream",
          "text": [
            "0      의류 \n",
            "1      속옷 \n",
            "2     이미용 \n",
            "3       주방\n",
            "4      농수축\n",
            "6       가전\n",
            "7     생활용품\n",
            "8       가구\n",
            "9       잡화\n",
            "10    건강기능\n",
            "11      침구\n",
            "Name: 카테고리, dtype: object\n"
          ],
          "name": "stdout"
        },
        {
          "output_type": "execute_result",
          "data": {
            "text/plain": [
              "주방      0.257908\n",
              "가전      0.198123\n",
              "농수축     0.159194\n",
              "속옷      0.135210\n",
              "의류      0.129301\n",
              "잡화      0.037192\n",
              "이미용     0.032325\n",
              "생활용품    0.028849\n",
              "건강기능    0.021898\n",
              "Name: 상품군, dtype: float64"
            ]
          },
          "metadata": {
            "tags": []
          },
          "execution_count": 357
        }
      ]
    },
    {
      "cell_type": "code",
      "metadata": {
        "id": "YGpVWT0SFBhj",
        "colab_type": "code",
        "colab": {}
      },
      "source": [
        "Selling_month_1['상품군'].value_counts()/len(Selling_month_1)"
      ],
      "execution_count": null,
      "outputs": []
    },
    {
      "cell_type": "markdown",
      "metadata": {
        "id": "QmWEq14XYxJS",
        "colab_type": "text"
      },
      "source": [
        "#여러 함수 정의"
      ]
    },
    {
      "cell_type": "code",
      "metadata": {
        "id": "_x716hWhhPrT",
        "colab_type": "code",
        "colab": {}
      },
      "source": [
        "def prepare_data(data, year, month): #데이터프레임, 원하는 년도,월을 넣어서 쪼갬\n",
        "    mask = (data['방송일시_년도'] == year) & (data['방송일시_월'] == month)\n",
        "    prepared = data.loc[mask,]\n",
        "    print(f'Dataframe {year}_{month}_ratio created.')\n",
        "    return prepared"
      ],
      "execution_count": 419,
      "outputs": []
    },
    {
      "cell_type": "code",
      "metadata": {
        "id": "kOcXyNe3KGh9",
        "colab_type": "code",
        "colab": {}
      },
      "source": [
        "print(test_ratio_data['비율'])\n",
        "array1"
      ],
      "execution_count": null,
      "outputs": []
    },
    {
      "cell_type": "code",
      "metadata": {
        "id": "5FnNSYe0KbKy",
        "colab_type": "code",
        "colab": {
          "base_uri": "https://localhost:8080/",
          "height": 52
        },
        "outputId": "fc2290f8-abe0-4e68-b6e2-785515cea765"
      },
      "source": [
        "test_ratio_data[test_ratio_data['카테고리']==i]['비율']-Selling_month['상품군'][Selling_month['상품군']==i].value_counts()/len(Selling_month)"
      ],
      "execution_count": 427,
      "outputs": [
        {
          "output_type": "execute_result",
          "data": {
            "text/plain": [
              "의류    372\n",
              "Name: 상품군, dtype: int64"
            ]
          },
          "metadata": {
            "tags": []
          },
          "execution_count": 427
        }
      ]
    },
    {
      "cell_type": "code",
      "metadata": {
        "id": "j1fh1d9r4pSX",
        "colab_type": "code",
        "colab": {}
      },
      "source": [
        "def How_Ratio(some_data): #some_data= 비교를 원하는 기간의 데이터 프레임 #time=비교할 시점\n",
        "   return some_data['상품군'].value_counts().fillna(0)/len(some_data)"
      ],
      "execution_count": 488,
      "outputs": []
    },
    {
      "cell_type": "code",
      "metadata": {
        "id": "nVeTfpOeEAMi",
        "colab_type": "code",
        "colab": {}
      },
      "source": [
        "Selling_month_1['상품군'].value_counts().fillna(0)"
      ],
      "execution_count": null,
      "outputs": []
    },
    {
      "cell_type": "code",
      "metadata": {
        "id": "_GY-eVoi-LfO",
        "colab_type": "code",
        "colab": {}
      },
      "source": [
        "print(test_ratio_data['비율'])\n",
        "How_Ratio(Selling_month_1).fillna(0)"
      ],
      "execution_count": null,
      "outputs": []
    },
    {
      "cell_type": "code",
      "metadata": {
        "id": "1Fv79VIeMNov",
        "colab_type": "code",
        "colab": {
          "base_uri": "https://localhost:8080/",
          "height": 209
        },
        "outputId": "054e4ccf-7a86-4225-c8fe-0353a19a2b77"
      },
      "source": [
        "for i in test_ratio_data['카테고리']:\n",
        "  print(i)"
      ],
      "execution_count": 443,
      "outputs": [
        {
          "output_type": "stream",
          "text": [
            "의류 \n",
            "속옷 \n",
            "이미용 \n",
            "주방\n",
            "농수축\n",
            "가전\n",
            "생활용품\n",
            "가구\n",
            "잡화\n",
            "건강기능\n",
            "침구\n"
          ],
          "name": "stdout"
        }
      ]
    },
    {
      "cell_type": "code",
      "metadata": {
        "id": "noz0FdsdcPxJ",
        "colab_type": "code",
        "colab": {
          "base_uri": "https://localhost:8080/",
          "height": 209
        },
        "outputId": "10496533-25d4-49f7-adfb-80a5754c0bd6"
      },
      "source": [
        "from sklearn.metrics import mean_absolute_error\n",
        "j=0\n",
        "total=0\n",
        "for i in test_ratio_data['카테고리']:\n",
        "  Selling_month = prepare_data(Selling,2019,j+1)\n",
        "  part=test_ratio_data[test_ratio_data['카테고리']==i]['비율']-Selling_month['상품군'][Selling_month['상품군']==i].value_counts()/len(Selling_month)\n",
        "  total += part\n",
        "  j=j+1"
      ],
      "execution_count": 489,
      "outputs": [
        {
          "output_type": "stream",
          "text": [
            "Dataframe 2019_1_ratio created.\n",
            "Dataframe 2019_2_ratio created.\n",
            "Dataframe 2019_3_ratio created.\n",
            "Dataframe 2019_4_ratio created.\n",
            "Dataframe 2019_5_ratio created.\n",
            "Dataframe 2019_6_ratio created.\n",
            "Dataframe 2019_7_ratio created.\n",
            "Dataframe 2019_8_ratio created.\n",
            "Dataframe 2019_9_ratio created.\n",
            "Dataframe 2019_10_ratio created.\n",
            "Dataframe 2019_11_ratio created.\n"
          ],
          "name": "stdout"
        }
      ]
    },
    {
      "cell_type": "code",
      "metadata": {
        "id": "yP9BhrBSSQEV",
        "colab_type": "code",
        "colab": {
          "base_uri": "https://localhost:8080/",
          "height": 192
        },
        "outputId": "a6a91b08-792c-4560-cb0f-456808ad2d7b"
      },
      "source": [
        "array1"
      ],
      "execution_count": 505,
      "outputs": [
        {
          "output_type": "execute_result",
          "data": {
            "text/plain": [
              "주방      0.257908\n",
              "가전      0.198123\n",
              "농수축     0.159194\n",
              "속옷      0.135210\n",
              "의류      0.129301\n",
              "잡화      0.037192\n",
              "이미용     0.032325\n",
              "생활용품    0.028849\n",
              "건강기능    0.021898\n",
              "Name: 상품군, dtype: float64"
            ]
          },
          "metadata": {
            "tags": []
          },
          "execution_count": 505
        }
      ]
    },
    {
      "cell_type": "code",
      "metadata": {
        "id": "lcTy0CcmWdDT",
        "colab_type": "code",
        "colab": {
          "base_uri": "https://localhost:8080/",
          "height": 52
        },
        "outputId": "83648a19-3dd9-414b-bd7f-91a4267cef0b"
      },
      "source": [
        "#test_ratio_data[test_ratio_data['카테고리']=='가구']['비율']\n",
        "#Selling_month['상품군'][Selling_month['상품군']=='가구'].value_counts()"
      ],
      "execution_count": 465,
      "outputs": [
        {
          "output_type": "execute_result",
          "data": {
            "text/plain": [
              "0   NaN\n",
              "dtype: float64"
            ]
          },
          "metadata": {
            "tags": []
          },
          "execution_count": 465
        }
      ]
    },
    {
      "cell_type": "code",
      "metadata": {
        "id": "hXpJOXgfS_SI",
        "colab_type": "code",
        "colab": {}
      },
      "source": [
        "import scipy.stats as sc\n",
        "def kld(n):\n",
        "  kld_ = np.zeros(n, n)\n",
        "  for i in range(0, n):\n",
        "    for j in range(0, n):\n",
        "      if(i != j):\n",
        "        kld_[i, j] = sc.entropy(distributions[i, :], distributions[j, :])"
      ],
      "execution_count": 69,
      "outputs": []
    }
  ]
}